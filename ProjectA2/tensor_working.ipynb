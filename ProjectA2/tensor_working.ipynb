{
 "cells": [
  {
   "metadata": {},
   "cell_type": "markdown",
   "source": [
    "## Using Torch \n",
    "#### As i am training my model in my Mac book (AIR) ... AIR .!! With over 150 combination to run and also stochastically, machines starts to heat up really quickly, to avoid that I have used torch so that i can use GPU to train the model"
   ],
   "id": "203c997873df3e8"
  },
  {
   "cell_type": "code",
   "id": "initial_id",
   "metadata": {
    "collapsed": true,
    "ExecuteTime": {
     "end_time": "2025-02-04T02:13:35.466346Z",
     "start_time": "2025-02-04T02:13:33.546556Z"
    }
   },
   "source": [
    "from itertools import combinations, product\n",
    "import sys\n",
    "import os\n",
    "import joblib\n",
    "\n",
    "## for visualization\n",
    "import matplotlib.pyplot as plt\n",
    "import seaborn as sns\n",
    "\n",
    "import mlflow\n",
    "\n",
    "##sklearn\n",
    "from sklearn.datasets import make_regression\n",
    "from sklearn.preprocessing import StandardScaler, OneHotEncoder, MinMaxScaler, FunctionTransformer\n",
    "from sklearn.compose import ColumnTransformer\n",
    "from sklearn.pipeline import Pipeline\n",
    "from sklearn.model_selection import train_test_split, KFold\n",
    "\n",
    "##For data manipulation\n",
    "import torch\n",
    "import numpy as np\n",
    "import pandas as pd\n",
    "\n",
    "from sklearn.metrics import mean_squared_error, r2_score, mean_absolute_error"
   ],
   "outputs": [],
   "execution_count": 3
  },
  {
   "metadata": {
    "ExecuteTime": {
     "end_time": "2025-02-04T02:13:36.083707Z",
     "start_time": "2025-02-04T02:13:36.081906Z"
    }
   },
   "cell_type": "code",
   "source": [
    "## to get name of the class while looping through many combination\n",
    "def str_to_class(classname):\n",
    "    return getattr(sys.modules[__name__], classname)"
   ],
   "id": "d570d1e48ad62252",
   "outputs": [],
   "execution_count": 4
  },
  {
   "metadata": {
    "ExecuteTime": {
     "end_time": "2025-01-31T19:00:17.365154Z",
     "start_time": "2025-01-31T19:00:17.362390Z"
    }
   },
   "cell_type": "code",
   "source": [
    "data = make_regression(n_samples=500, n_features=8, random_state=42, noise=0.3)\n",
    "X, y = data[0], data[1]"
   ],
   "id": "7ecec3cf0dcfcbc8",
   "outputs": [],
   "execution_count": 15
  },
  {
   "metadata": {
    "ExecuteTime": {
     "end_time": "2025-01-31T19:00:18.403540Z",
     "start_time": "2025-01-31T19:00:18.400285Z"
    }
   },
   "cell_type": "code",
   "source": [
    "X[:, 0] = np.sin(X[:, 0])  # Sine wave transformation\n",
    "X[:, 1] = np.log1p(np.abs(X[:, 1]))  # Log transformation (log1p avoids log(0) issue)\n",
    "X[:, 2] = X[:, 2] ** 2  # Squared transformation\n",
    "X[:, 3] = np.exp(X[:, 3] / 10) "
   ],
   "id": "7f13501f2ae6f4de",
   "outputs": [],
   "execution_count": 16
  },
  {
   "metadata": {
    "ExecuteTime": {
     "end_time": "2025-02-01T08:56:22.014472Z",
     "start_time": "2025-02-01T08:56:22.010091Z"
    }
   },
   "cell_type": "code",
   "source": "x_train, x_test, y_train, y_test = train_test_split(X, y, test_size=0.2, random_state=42)",
   "id": "ceb7738707c2705f",
   "outputs": [],
   "execution_count": 255
  },
  {
   "metadata": {},
   "cell_type": "code",
   "outputs": [],
   "execution_count": null,
   "source": "np.random.normal()",
   "id": "ecc8088214069648"
  },
  {
   "metadata": {
    "ExecuteTime": {
     "end_time": "2025-02-04T10:47:31.240875Z",
     "start_time": "2025-02-04T10:47:31.238792Z"
    }
   },
   "cell_type": "code",
   "source": [
    "green_shades = [\n",
    "    \"#0B3D02\",  # Very Dark Green\n",
    "    \"#0D5F00\",  # Dark Emerald Green\n",
    "    \"#145A32\",  # Deep Jungle Green\n",
    "    \"#166D25\",  # Rich Green\n",
    "    \"#1B8A3B\",  # Medium Dark Green\n",
    "    \"#1D8348\",  # Forest Green\n",
    "    \"#229954\",  # Medium Green\n",
    "    \"#27AE60\",  # Emerald Green\n",
    "    \"#2ECC71\",  # Soft Green\n",
    "    \"#34D058\",  # Vibrant Green\n",
    "    \"#39D27F\",  # Bright Lime Green\n",
    "    \"#3AE87D\",  # Fresh Green\n",
    "    \"#42F59E\",  # Mint Green\n",
    "    \"#58D68D\",  # Light Green\n",
    "    \"#5BE395\",  # Light Emerald\n",
    "    \"#70EF9C\",  # Pastel Green\n",
    "    \"#82E0AA\",  # Soft Pastel Green\n",
    "    \"#A9DFBF\",  # Pale Mint Green\n",
    "    \"#C8F7C5\",  # Very Light Green\n",
    "    \"#D5F5E3\"   # Almost White Green\n",
    "]"
   ],
   "id": "85f3f04fd98fb5a",
   "outputs": [],
   "execution_count": 206
  },
  {
   "metadata": {},
   "cell_type": "markdown",
   "source": "## Creating a Custom Class for regression ",
   "id": "134b0fbd2da87bd9"
  },
  {
   "metadata": {
    "ExecuteTime": {
     "end_time": "2025-02-04T17:27:10.834675Z",
     "start_time": "2025-02-04T17:27:10.814142Z"
    }
   },
   "cell_type": "code",
   "source": [
    "class TorchRegression:\n",
    "    \n",
    "    def __init__(self, regularization:float = None, lr:float=0.01, method:str = 'mini_batch', weight_init:str = 'zeros', batch_size:int = 64, n_epochs:int =150, momentum:float=None, poly_degree:int=None, cv:int=5, use_gpu:bool=False, log_transform: bool = False, use_mlflow:bool=False):\n",
    "        self.lr = lr ##learning rate\n",
    "        self.method = method ##for type of descent\n",
    "        self.weight_init = weight_init ## for weight initialization like normal, xavier and so on\n",
    "        self.batch_size = batch_size ## incase of mini_batch \n",
    "        self.n_epochs = n_epochs\n",
    "        self.regularization = regularization ## we have two type ridge and lasso \n",
    "        self.momentum = momentum ##for faster convergence to global minima and also useful for avoiding local minima\n",
    "        self.use_mlflow = use_mlflow\n",
    "        self.poly_degree = poly_degree \n",
    "        self.cv = cv ##kfold split\n",
    "        self.weight_decay = 1e-5\n",
    "        self.device = torch.device(\"mps\" if use_gpu and torch.backends.mps.is_available() else \"cpu\")\n",
    "        self.log_transform = log_transform\n",
    "        self.prev_step =  0\n",
    "        \n",
    "        valid_method = ['mini_batch', 'stochastic', 'batch']\n",
    "        valid_weight = ['normal', 'xavier', 'zeros']\n",
    "        \n",
    "        if self.method not in valid_method:\n",
    "            raise ValueError(f'method must be in {valid_method}')\n",
    "        if self.weight_init not in valid_weight:\n",
    "            raise ValueError(f'weight_init must be in {valid_weight}')\n",
    "        \n",
    "    def fit(self, X, y):\n",
    "    \n",
    "        if isinstance(X, pd.DataFrame) or isinstance(X, pd.Series):\n",
    "            X = X.astype(np.float32).values\n",
    "        if isinstance(y, pd.DataFrame) or isinstance(y, pd.Series):\n",
    "            y = y.astype(np.float32).values\n",
    "    \n",
    "        # Convert to PyTorch Tensors\n",
    "        X = torch.tensor(X, dtype=torch.float32, device=self.device)\n",
    "        y = torch.tensor(y, dtype=torch.float32, device=self.device)\n",
    "        \n",
    "        # Apply Log Transform to y (if enabled)\n",
    "        if self.log_transform:\n",
    "            y = torch.log1p(y)\n",
    "    \n",
    "        # Apply Polynomial Features (if enabled)\n",
    "        if self.poly_degree is not None:\n",
    "            X = self._polynomial_features(X)\n",
    "            \n",
    "        intercept = torch.ones((X.shape[0], 1), dtype=torch.float32, device=self.device)\n",
    "        X = torch.cat((intercept, X), dim=1) \n",
    "            \n",
    "        patience = 4\n",
    "        epoch_without_improvement = 0\n",
    "        self.kfold_train_accuracy_list = []\n",
    "        self.kfold_train_loss_list = []\n",
    "    \n",
    "        cv = KFold(n_splits=self.cv, shuffle=True, random_state=42)\n",
    "        y_np = y.cpu().numpy().flatten() \n",
    "        print(y_np.shape)\n",
    "        print(X.shape)\n",
    "        \n",
    "        for fold, (train_idx, val_idx) in enumerate(cv.split(X.cpu().numpy())):\n",
    "            \n",
    "            # Initialize Weights\n",
    "            self.W = self.weight_initializer(X)\n",
    "            \n",
    "            x_train_cross = X[train_idx]\n",
    "            y_train_cross = torch.tensor(y_np[train_idx], dtype=torch.float32, device=self.device) \n",
    "            x_val_cross = X[val_idx]\n",
    "            y_val_cross = torch.tensor(y_np[val_idx], dtype=torch.float32, device=self.device)\n",
    "    \n",
    "            self.old_loss = torch.tensor(float('inf'), device=self.device)  \n",
    "            \n",
    "            if self.use_mlflow:\n",
    "                run = mlflow.start_run(run_name=f\"Fold-{fold}\", nested=True)\n",
    "                params = {\"method\": self.method, \"lr\": self.lr, \"reg\": type(self).__name__}\n",
    "                mlflow.log_params(params=params)\n",
    "    \n",
    "            for epoch in range(self.n_epochs):\n",
    "                perm_idx = torch.randperm(x_train_cross.shape[0])\n",
    "                x_train_cross = x_train_cross[perm_idx]\n",
    "                y_train_cross = y_train_cross[perm_idx]\n",
    "    \n",
    "                if self.method == 'mini_batch':\n",
    "                    for i in range(0, len(x_train_cross), self.batch_size):\n",
    "                        batch_X = x_train_cross[i:i+self.batch_size]\n",
    "                        batch_y = y_train_cross[i:i+self.batch_size]\n",
    "                        train_loss, train_accuracy = self._train(batch_X, batch_y)\n",
    "                        \n",
    "                elif self.method == 'stochastic':\n",
    "                    for i in range(x_train_cross.shape[0]):\n",
    "                        batch_X = x_train_cross[i].unsqueeze(0)\n",
    "                        batch_y = y_train_cross[i].unsqueeze(0)\n",
    "                        train_loss, train_accuracy = self._train(batch_X, batch_y)\n",
    "\n",
    "                else:\n",
    "                    train_loss, train_accuracy = self._train(x_train_cross, y_train_cross)\n",
    "    \n",
    "                self.kfold_train_accuracy_list.append(train_accuracy)\n",
    "                self.kfold_train_loss_list.append(train_loss)\n",
    "    \n",
    "                train_loss_tensor = torch.tensor(self.kfold_train_loss_list, dtype=torch.float32, device=self.device).clone().detach()\n",
    "                train_accuracy_tensor = torch.tensor(self.kfold_train_accuracy_list, dtype=torch.float32, device=self.device).clone().detach()\n",
    "    \n",
    "                y_hat_val = self._predict(x_val_cross, is_train=True)\n",
    "                val_loss, val_accuracy = self.mse(y_val_cross, y_hat_val), self.r2_score(y_val_cross, y_hat_val)\n",
    "                \n",
    "                if self.use_mlflow:\n",
    "                    mlflow.log_metric(key=\"val_loss\", value=val_loss.item(), step=epoch)\n",
    "                    mlflow.log_metric(key=\"val_r2\", value=val_accuracy.item(), step=epoch)\n",
    "                \n",
    "                if torch.allclose(self.old_loss, val_loss.clone().detach(), atol=1e-3):\n",
    "                    epoch_without_improvement += 1 \n",
    "                    if epoch_without_improvement >= patience: \n",
    "                        print('early stopping')\n",
    "                        break\n",
    "                else: \n",
    "                    epoch_without_improvement = 0\n",
    "    \n",
    "                self.old_loss = val_loss\n",
    "    \n",
    "            print(f\"{fold} --> train_loss: {torch.mean(train_loss_tensor):.3f} | train_accuracy: {torch.mean(train_accuracy_tensor) :.4f} | val_loss: {val_loss:.4f} | val_accuracy: {val_accuracy:.4f}\")\n",
    "            \n",
    "            if self.use_mlflow:\n",
    "                mlflow.end_run()\n",
    "                                    \n",
    "    def _predict(self, X, is_train=False):\n",
    "      \n",
    "        if isinstance(X, (pd.DataFrame, pd.Series)):\n",
    "            X = X.astype(np.float32).values\n",
    "        elif isinstance(X, np.ndarray): \n",
    "            X = torch.tensor(X, dtype=torch.float32, device=self.device)\n",
    "        \n",
    "        ##applying polynomial for test data     \n",
    "        if not is_train and self.poly_degree is not None:\n",
    "            X = self._polynomial_features(X)\n",
    "        \n",
    "        # Add intercept term (bias) to X if missing\n",
    "        if X.shape[1] == self.W.shape[0] - 1:  # Check if bias is missing\n",
    "            intercept = torch.ones((X.shape[0], 1), dtype=torch.float32, device=self.device)\n",
    "            X = torch.cat((intercept, X), dim=1)\n",
    "    \n",
    "        if X.shape[1] != self.W.shape[0]:  \n",
    "            print(X.shape, self.W.shape)\n",
    "            raise ValueError(f\"Mismatch: X has {X.shape[1]} features, but W has {self.W.shape[0]}.\")\n",
    "\n",
    "        return X @ self.W\n",
    "    \n",
    "    def _train(self, X, y):\n",
    "        y_hat = self._predict(X ,is_train=True)\n",
    "        m = X.shape[0]\n",
    "        \n",
    "        grad = (1/m) * X.T @ (y_hat-y) \n",
    "        \n",
    "        grad += self.weight_decay * self.W\n",
    "\n",
    "        if self.momentum is not None:\n",
    "            if not hasattr(self, 'velocity'):\n",
    "                self.velocity = torch.zeros_like(self.W)\n",
    "            self.velocity = self.momentum * self.velocity - self.lr * grad\n",
    "            self.W = self.W + self.velocity\n",
    "        else:\n",
    "            self.W = self.W - self.lr * grad\n",
    "       \n",
    "        #torch.nn.utils.clip_grad_norm_(self.W, max_norm=5.0)  # Clip gradients\n",
    "        # Check for NaN or Inf values\n",
    "        if torch.isnan(self.W).any() or torch.isinf(self.W).any():\n",
    "            print(\"Warning: NaN or Inf detected in weights!\")\n",
    "            self.W = torch.where(torch.isnan(self.W) | torch.isinf(self.W), torch.randn_like(self.W) * 0.01, self.W)\n",
    "    \n",
    "        return self.mse(y, y_hat), self.r2_score(y, y_hat)\n",
    "    \n",
    "    def mse(self, ytrue, ypred): ## for mean square error\n",
    "        return (torch.sum((ypred - ytrue) ** 2)) / ytrue.shape[0]\n",
    "    \n",
    "    def r2_score(self, ytrue, ypred):\n",
    "        \n",
    "        rss = torch.sum((ytrue - ypred) ** 2)\n",
    "        tss = torch.sum((ytrue - torch.mean(ytrue)) ** 2)\n",
    "        return 1 - (rss / tss)\n",
    "\n",
    "    def weight_initializer(self, X):\n",
    "        if self.weight_init == 'zeros':\n",
    "            return torch.zeros(X.shape[1], device=self.device, dtype=torch.float32)\n",
    "        elif self.weight_init == 'xavier':\n",
    "            limit = (1 / torch.sqrt(torch.tensor(X.shape[1], dtype=torch.float32, device=self.device)))\n",
    "            return torch.empty(X.shape[1], device=self.device, dtype=torch.float32).uniform_(-limit, limit) \n",
    "        else:  # Default: Normal Distribution\n",
    "            return torch.randn(X.shape[1], dtype=torch.float32, device=self.device) * 0.01\n",
    "        \n",
    "    def _polynomial_features(self, X): ## raising the features to higher power \n",
    "        \n",
    "        X = X.to(self.device)\n",
    "        if self.poly_degree is None:\n",
    "            return X \n",
    "       \n",
    "        n_samples, n_features = X.shape\n",
    "        poly_features = [X]\n",
    "          \n",
    "        for degree in range(2, self.poly_degree + 1):\n",
    "            poly_features.append(X**degree)\n",
    "        \n",
    "        # Interactions with terms (X1 * X2, X1*X3 and so on)\n",
    "        if self.poly_degree == 2:\n",
    "            interaction_terms = [torch.prod( X[:, torch.tensor(combo, device=self.device)], axis=1) for combo in combinations(range(n_features), 2)  ]\n",
    "            return torch.column_stack(poly_features+interaction_terms)\n",
    "        \n",
    "        return torch.cat(poly_features, dim=1)\n",
    "    \n",
    "    def _coef(self):\n",
    "        return self.W[1:]  #remind that theta is (w0, w1, w2, w3, w4.....wn)\n",
    "                               #w0 is the bias or the intercept\n",
    "                               #w1....wn are the weights / coefficients / theta\n",
    "    def _bias(self):\n",
    "        return self.W[0]\n",
    "    \n",
    "    def plot_feature_importance(self, feature_names=None):\n",
    "        \n",
    "        if isinstance(self.W, torch.Tensor):\n",
    "            feature_importance = self.W.detach().cpu().numpy()\n",
    "        else: feature_importance = self.W\n",
    "        \n",
    "        num_feature = len(feature_importance)\n",
    "        if feature_names is None:\n",
    "            feature_names = [f'Feature {i+1}' for i in range(num_feature)]\n",
    "        \n",
    "        expanded_feature_names = self.get_expanded_feature_names(feature_names)\n",
    "\n",
    "    \n",
    "        feature_weight_dict = {name.split(\"^\")[0]: 0 for name in expanded_feature_names}\n",
    "\n",
    "        for name, weight in zip(expanded_feature_names, feature_importance):\n",
    "            base_feature = name.split(\"^\")[0]  # Extract base feature name\n",
    "            feature_weight_dict[base_feature] += abs(weight)  # Sum absolute importance\n",
    "\n",
    "    \n",
    "        sorted_features = sorted(feature_weight_dict.items(), key=lambda x: x[1], reverse=True)\n",
    "        coefs_df = pd.DataFrame(sorted_features, columns=[\"Feature\", \"Importance\"])\n",
    "    \n",
    "        max_importance = coefs_df[\"Importance\"].max()\n",
    "        min_importance = coefs_df[\"Importance\"].min()\n",
    "        \n",
    "        if max_importance > min_importance:  \n",
    "            normalized_importance = (coefs_df[\"Importance\"] - min_importance) / (max_importance - min_importance)\n",
    "            color_indices = (normalized_importance * (len(green_shades) - 1)).astype(int)\n",
    "        else:\n",
    "            color_indices = [len(green_shades) // 2] * len(coefs_df)  # Default middle shade if importance is constant\n",
    "\n",
    "        colors = [green_shades[idx] for idx in color_indices]\n",
    "        \n",
    "        plt.figure(figsize=(12, 6))\n",
    "        ax = sns.barplot(x=coefs_df[\"Importance\"], y=coefs_df[\"Feature\"], palette=colors,) \n",
    "    \n",
    "        max_importance = max(np.abs(coefs_df[\"Importance\"]))\n",
    "        ##adding data label with positioning\n",
    "        for index, value in enumerate(coefs_df[\"Importance\"]):\n",
    "            label = f\"{value:.4f}\"\n",
    "            if abs(value) < 0.05 * max_importance:  # If bar is **too short**\n",
    "                ax.text(value + (0.05 * max_importance), index, label, \n",
    "                    va='center', ha='left', fontsize=12, color='black', fontweight='bold')  \n",
    "            else:\n",
    "                ax.text(value * 0.95, index, label, \n",
    "                    va='center', ha='right' if value > 0 else 'left', fontsize=12, color='white', fontweight='bold')  \n",
    "\n",
    "        # Add labels and title\n",
    "        plt.xlabel('Feature Importance', fontsize=14)\n",
    "        plt.ylabel('Features', fontsize=14)\n",
    "        plt.title('Feature Importance Plot', fontsize=16)\n",
    "        plt.grid(axis='x', linestyle='--', alpha=0.6)\n",
    "    \n",
    "        # Show the plot\n",
    "        plt.show()\n",
    "    \n",
    "    def get_expanded_feature_names(self, feature_names):\n",
    "        \n",
    "        if self.poly_degree is None or self.poly_degree == 1:\n",
    "            return feature_names  # No transformation, return as is\n",
    "    \n",
    "        expanded_feature_names = []\n",
    "        \n",
    "        # Generate polynomial feature names (x, x^2, x^3, ...)\n",
    "        for degree in range(1, self.poly_degree + 1):\n",
    "            expanded_feature_names.extend([f\"{col}^{degree}\" for col in feature_names])\n",
    "    \n",
    "        return expanded_feature_names"
   ],
   "id": "c73a75b4d039288b",
   "outputs": [],
   "execution_count": 351
  },
  {
   "metadata": {
    "ExecuteTime": {
     "end_time": "2025-02-04T15:49:00.379062Z",
     "start_time": "2025-02-04T15:49:00.375857Z"
    }
   },
   "cell_type": "code",
   "source": [
    "class l1_Penalty:\n",
    "    \n",
    "    def __init__(self, l):\n",
    "        self.l = l \n",
    "    \n",
    "    def __call__(self, *args, **kwargs):\n",
    "        return self.l * torch.sum(torch.abs(args[0]))\n",
    "    \n",
    "    def derivation(self, W, *args):\n",
    "        return self.l * torch.sign(W)\n",
    "    \n",
    "class l2_Penalty:\n",
    "    \n",
    "    def __init__(self, l):\n",
    "        self.l = l\n",
    "    \n",
    "    def __call__(self, *args):\n",
    "        return self.l * torch.sum(torch.square(args[0]))\n",
    "    \n",
    "    def derivation(self, *args):\n",
    "        return self.l * 2 * args[0]\n",
    "    \n",
    "class LassoRegression(TorchRegression):\n",
    "    \n",
    "    def __init__(self,l=0.1, **kwargs):\n",
    "        super().__init__(regularization=l1_Penalty(l=l), **kwargs)\n",
    "        \n",
    "class RidgeRegression(TorchRegression):\n",
    "    \n",
    "    def __init__(self,l=0.1, **kwargs):\n",
    "        super().__init__(regularization=l2_Penalty(l=l), **kwargs)\n"
   ],
   "id": "1301bdced0c324ab",
   "outputs": [],
   "execution_count": 332
  },
  {
   "metadata": {
    "ExecuteTime": {
     "end_time": "2025-02-01T21:32:56.469629Z",
     "start_time": "2025-02-01T21:32:56.467921Z"
    }
   },
   "cell_type": "code",
   "source": "\n",
   "id": "c6bed7e07952820",
   "outputs": [],
   "execution_count": 988
  },
  {
   "metadata": {},
   "cell_type": "markdown",
   "source": "## Building data set",
   "id": "94f76aaa4d47ac2f"
  },
  {
   "metadata": {
    "ExecuteTime": {
     "end_time": "2025-02-04T15:49:03.251742Z",
     "start_time": "2025-02-04T15:49:03.243437Z"
    }
   },
   "cell_type": "code",
   "source": [
    "\n",
    "df = pd.read_csv('Out_287.csv')\n",
    "if 'Unnamed: 0' in df.columns:\n",
    "    df.drop('Unnamed: 0', axis=1, inplace=True)"
   ],
   "id": "78252ffba052cd38",
   "outputs": [],
   "execution_count": 333
  },
  {
   "metadata": {
    "ExecuteTime": {
     "end_time": "2025-02-04T15:49:03.647743Z",
     "start_time": "2025-02-04T15:49:03.645150Z"
    }
   },
   "cell_type": "code",
   "source": "Xdata, ydata = df.loc[:, df.columns != 'selling_price'], df['selling_price']",
   "id": "5f1fb53502084933",
   "outputs": [],
   "execution_count": 334
  },
  {
   "metadata": {
    "ExecuteTime": {
     "end_time": "2025-02-04T15:49:04.119110Z",
     "start_time": "2025-02-04T15:49:04.114872Z"
    }
   },
   "cell_type": "code",
   "source": [
    "Xtrain, Xtest, ytrain, ytest = train_test_split(Xdata, ydata, test_size=0.2, random_state=42)\n",
    "Xtrain[['fuel', 'seller_type', 'transmission']] = Xtrain[['fuel', 'seller_type', 'transmission']].astype(str)\n",
    "Xtest[['fuel', 'seller_type', 'transmission']] = Xtest[['fuel', 'seller_type', 'transmission']].astype(str)"
   ],
   "id": "12bda78e45280923",
   "outputs": [],
   "execution_count": 335
  },
  {
   "metadata": {
    "ExecuteTime": {
     "end_time": "2025-02-04T15:49:05.382432Z",
     "start_time": "2025-02-04T15:49:05.380490Z"
    }
   },
   "cell_type": "code",
   "source": "num_col = df.select_dtypes(include='number').columns.tolist()",
   "id": "9a2cb9ae856aaf51",
   "outputs": [],
   "execution_count": 336
  },
  {
   "metadata": {},
   "cell_type": "code",
   "source": [
    "for col in num_col:\n",
    "    sns.displot(x=col, data=df, kde=True, color='green')\n",
    "    plt.show()\n",
    "## Key take away from understanding this numerical feature distribution plot \n",
    "# as Regression model is based on euclidean distance for calculating the gradient, outliers, skewness greatly alters model predicting capabilities \n",
    "## Better to understand the data and transform it according to its distribution \n",
    "##year --> left skewness --> power to 2 transform\n",
    "## kms_driven --> right skew --> log transform \n",
    "##max_power --> slight right skew --> log "
   ],
   "id": "c67c54ebc020734a",
   "outputs": [],
   "execution_count": null
  },
  {
   "metadata": {
    "ExecuteTime": {
     "end_time": "2025-02-04T15:49:07.844727Z",
     "start_time": "2025-02-04T15:49:07.836953Z"
    }
   },
   "cell_type": "code",
   "source": [
    "##Target encoding \n",
    "brand_means = Xtrain.join(ytrain).groupby('brand')['selling_price'].mean()\n",
    "\n",
    "Xtrain['brand_encoded'] = Xtrain['brand'].map(brand_means)\n",
    "Xtest['brand_encoded'] = Xtest['brand'].map(brand_means)\n",
    "\n",
    "Xtest['brand_encoded'] = Xtest['brand_encoded'].fillna(brand_means.mean())\n",
    "\n",
    "##Drop the brand column\n",
    "Xtrain = Xtrain.drop(columns=['brand'])\n",
    "Xtest = Xtest.drop(columns=['brand'])\n",
    "\n",
    "\n",
    "## Defining columns for transformation\n",
    "final_cat_col = ['fuel', 'seller_type','transmission']\n",
    "final_num_col = ['km_driven','mileage','engine','max_power', 'year','seats','owner', 'brand_encoded']\n",
    "\n",
    "log_transformer = FunctionTransformer(lambda x: np.log1p(np.abs(x)) if isinstance(x, (np.ndarray, pd.DataFrame)) else x)\n",
    "\n",
    "# Define Preprocessor Pipeline\n",
    "preprocessor = ColumnTransformer(transformers=[\n",
    "    ('cat', OneHotEncoder(handle_unknown='ignore', sparse_output=False, drop='first'), final_cat_col),  # OneHot Encoding for categorical\n",
    "    ('log_transform', Pipeline(steps=[\n",
    "        ('log', FunctionTransformer(np.vectorize(np.log1p))),  # Ensures proper transformation\n",
    "        ('scaler', MinMaxScaler())  \n",
    "    ]), ['km_driven', 'max_power', 'engine']),  # Apply only to numerical columns\n",
    "    ('std_scaler', StandardScaler(), ['year', 'mileage', 'seats', 'owner', 'brand_encoded'])  \n",
    "], remainder='drop')\n",
    "\n"
   ],
   "id": "29e1102b843d7728",
   "outputs": [],
   "execution_count": 337
  },
  {
   "metadata": {
    "ExecuteTime": {
     "end_time": "2025-02-04T15:49:08.923455Z",
     "start_time": "2025-02-04T15:49:08.920420Z"
    }
   },
   "cell_type": "code",
   "source": "Xtrain_transformed",
   "id": "ee78b23433914148",
   "outputs": [
    {
     "data": {
      "text/plain": [
       "array([[ 0.    ,  1.    ,  0.    , ...,  1.5474, -0.6824,  0.2682],\n",
       "       [ 1.    ,  1.    ,  0.    , ..., -0.4557,  0.6783, -0.371 ],\n",
       "       [ 0.    ,  1.    ,  0.    , ...,  0.5459, -0.6824,  0.2682],\n",
       "       ...,\n",
       "       [ 0.    ,  1.    ,  0.    , ..., -0.4557, -0.6824, -0.371 ],\n",
       "       [ 1.    ,  1.    ,  0.    , ..., -0.4557, -0.6824, -0.371 ],\n",
       "       [ 0.    ,  1.    ,  0.    , ...,  3.5505, -0.6824,  0.2682]],\n",
       "      shape=(5330, 12))"
      ]
     },
     "execution_count": 338,
     "metadata": {},
     "output_type": "execute_result"
    }
   ],
   "execution_count": 338
  },
  {
   "metadata": {},
   "cell_type": "markdown",
   "source": "## Preprocessing ",
   "id": "860e4151046dde43"
  },
  {
   "metadata": {
    "ExecuteTime": {
     "end_time": "2025-02-04T15:49:14.522851Z",
     "start_time": "2025-02-04T15:49:14.503447Z"
    }
   },
   "cell_type": "code",
   "source": [
    "\n",
    "Xtrain_transformed = preprocessor.fit_transform(Xtrain) ##training data being transformed"
   ],
   "id": "5165ba5a3e6d6d93",
   "outputs": [],
   "execution_count": 339
  },
  {
   "metadata": {
    "ExecuteTime": {
     "end_time": "2025-02-04T15:49:15.228551Z",
     "start_time": "2025-02-04T15:49:15.220918Z"
    }
   },
   "cell_type": "code",
   "source": "xtest_transformed = preprocessor.transform(Xtest) ##test data as well",
   "id": "4c5de8c9c0d06457",
   "outputs": [],
   "execution_count": 340
  },
  {
   "metadata": {
    "ExecuteTime": {
     "end_time": "2025-02-04T15:49:16.443674Z",
     "start_time": "2025-02-04T15:49:16.441255Z"
    }
   },
   "cell_type": "code",
   "source": [
    "# One-Hot Encoded Feature Names\n",
    "ohe_feature_names = preprocessor.named_transformers_['cat'].get_feature_names_out(final_cat_col)\n",
    "\n",
    "# Log Transformed & Scaled Feature Names\n",
    "log_scaled_feature_names = ['km_driven', 'max_power', 'engine']\n",
    "\n",
    "# Standard Scaled Features\n",
    "scaled_feature_names = ['year', 'mileage', 'seats', 'owner', 'brand_encoded']\n",
    "\n",
    "# Combine All Feature Names\n",
    "transformed_feature_names = np.concatenate([ohe_feature_names, log_scaled_feature_names, scaled_feature_names])\n",
    "\n",
    "print(\"Transformed Feature Names:\", transformed_feature_names)\n"
   ],
   "id": "622c1eeb84ffda5b",
   "outputs": [
    {
     "name": "stdout",
     "output_type": "stream",
     "text": [
      "Transformed Feature Names: ['fuel_Petrol' 'seller_type_Individual' 'seller_type_Trustmark Dealer'\n",
      " 'transmission_Manual' 'km_driven' 'max_power' 'engine' 'year' 'mileage'\n",
      " 'seats' 'owner' 'brand_encoded']\n"
     ]
    }
   ],
   "execution_count": 341
  },
  {
   "metadata": {},
   "cell_type": "markdown",
   "source": "## CV search using Mlflow to register ",
   "id": "a9b02f44c7162a3b"
  },
  {
   "metadata": {
    "ExecuteTime": {
     "end_time": "2025-02-02T11:13:10.522373Z",
     "start_time": "2025-02-02T11:13:10.520257Z"
    }
   },
   "cell_type": "code",
   "source": "os.environ[\"LOGNAME\"] = \"st124783_darth_binit\"",
   "id": "f8c850e423a569db",
   "outputs": [],
   "execution_count": 1041
  },
  {
   "metadata": {
    "ExecuteTime": {
     "end_time": "2025-02-02T11:09:31.360844Z",
     "start_time": "2025-02-02T11:09:31.066012Z"
    }
   },
   "cell_type": "code",
   "source": [
    "mlflow.set_tracking_uri(\"http://127.0.0.1:5001\")\n",
    "mlflow.set_experiment(\"A2_st124783_Chaky_car\")"
   ],
   "id": "8f0cb30d1e978890",
   "outputs": [
    {
     "name": "stderr",
     "output_type": "stream",
     "text": [
      "2025/02/02 18:09:31 INFO mlflow.tracking.fluent: Experiment with name 'A2_st124783_Chaky_car' does not exist. Creating a new experiment.\n"
     ]
    },
    {
     "data": {
      "text/plain": [
       "<Experiment: artifact_location='mlflow-artifacts:/1', creation_time=1738494571351, experiment_id='1', last_update_time=1738494571351, lifecycle_stage='active', name='A2_st124783_Chaky_car', tags={}>"
      ]
     },
     "execution_count": 1040,
     "metadata": {},
     "output_type": "execute_result"
    }
   ],
   "execution_count": 1040
  },
  {
   "metadata": {
    "ExecuteTime": {
     "end_time": "2025-02-03T09:00:27.213236Z",
     "start_time": "2025-02-03T09:00:27.202571Z"
    }
   },
   "cell_type": "code",
   "source": "",
   "id": "6a41b6212d28e9e9",
   "outputs": [
    {
     "ename": "NameError",
     "evalue": "name 'Xtrain' is not defined",
     "output_type": "error",
     "traceback": [
      "\u001B[0;31m---------------------------------------------------------------------------\u001B[0m",
      "\u001B[0;31mNameError\u001B[0m                                 Traceback (most recent call last)",
      "Cell \u001B[0;32mIn[7], line 1\u001B[0m\n\u001B[0;32m----> 1\u001B[0m \u001B[43mXtrain\u001B[49m\n",
      "\u001B[0;31mNameError\u001B[0m: name 'Xtrain' is not defined"
     ]
    }
   ],
   "execution_count": 7
  },
  {
   "metadata": {
    "ExecuteTime": {
     "end_time": "2025-02-02T21:51:41.170833Z",
     "start_time": "2025-02-02T18:49:21.628015Z"
    }
   },
   "cell_type": "code",
   "source": [
    "regs = [\"TorchRegression\", \"RidgeRegression\", \"LassoRegression\"]\n",
    "lr = [0.01, 0.001, 0.0001]\n",
    "weights = ['zeros', 'xavier']\n",
    "methods = [\"normal\",\"stochastic\", \"mini_batch\"]\n",
    "momentum = [None, 0.8]\n",
    "degrees = [None, 2]  # Polynomial degrees\n",
    "\n",
    "# Initialize best models for tracking\n",
    "best_model_r2, best_r2 = None, float('-inf')\n",
    "best_model_mse, best_mse = None, float('inf')\n",
    "\n",
    "def run_experiment(reg, method, poly_degree, weight, momentum, lr, use_gpu, cv, log_transform, use_mlflow):\n",
    "    \"\"\"Runs an ML experiment, logs results in MLflow, and tracks best models.\"\"\"\n",
    "    global best_model_r2, best_r2, best_model_mse, best_mse  # Track best models\n",
    "\n",
    "    poly_msg = \"Polynomial\" if poly_degree is not None else \"Linear\"\n",
    "    momentum_msg = \"Momentum is used\" if momentum is not None else \"Momentum is not used\"\n",
    "\n",
    "    params = {\n",
    "        \"method\": method, \"lr\": lr, \"weight_init\": weight, \"poly_degree\": poly_degree,\n",
    "        \"momentum\": momentum, \"use_gpu\": use_gpu, \"cv\": cv, \"log_transform\": log_transform, \"use_mlflow\": use_mlflow}\n",
    "\n",
    "    print(f\" Running {reg} | {method} | {poly_msg} | {weight} | {momentum_msg} | LR: {lr}\")\n",
    "\n",
    "    # Get Model Class\n",
    "    type_of_regression = str_to_class(reg)    \n",
    "    model = type_of_regression(**params)\n",
    "\n",
    "    with mlflow.start_run(run_name=f\"method-{method}-lr-{lr}-reg-{reg}-poly-{poly_msg}-momentum-{momentum_msg}-weight-{weight}\", nested=True):\n",
    "\n",
    "        # Train model\n",
    "        model.fit(Xtrain_transformed, ytrain)\n",
    "\n",
    "        # Predictions\n",
    "        y_pred = model._predict(xtest_transformed)\n",
    "        \n",
    "        ytest_tensor = torch.tensor(ytest.values, dtype=torch.float32, device=model.device) \n",
    "        # Compute metrics (convert torch tensors to scalars)\n",
    "        test_loss = model.mse(torch.log1p(ytest_tensor), y_pred).item()  # Convert Tensor → Scalar\n",
    "        test_r2 = model.r2_score(torch.log1p(ytest_tensor), y_pred).item()  # Convert Tensor → Scalar\n",
    "\n",
    "        # Log hyperparameters & metrics\n",
    "        mlflow.log_params(params)  \n",
    "        mlflow.log_metrics({\"test_mse\": test_loss, \"test_r2\": test_r2})\n",
    "\n",
    "        # Save Model Signature\n",
    "        signature = mlflow.models.infer_signature(Xtrain_transformed, model._predict(Xtrain_transformed))\n",
    "        mlflow.sklearn.log_model(model, artifact_path='model', signature=signature)\n",
    "\n",
    "        print(f\"✅ Fold: {method} | Model: {reg} | MSE: {test_loss:.4f} | R²: {test_r2:.4f}\")\n",
    "\n",
    "        # Track the Best Model Based on MSE (LOWER IS BETTER)\n",
    "        if test_loss < best_mse:\n",
    "            best_mse = test_loss\n",
    "            best_model_mse = model\n",
    "\n",
    "        # Track the Best Model Based on R² Score (HIGHER IS BETTER)\n",
    "        if test_r2 > best_r2:\n",
    "            best_r2 = test_r2\n",
    "            best_model_r2 = model\n",
    "\n",
    "# Iterate over all hyperparameter combinations\n",
    "combinations_ = product(regs, methods, degrees, weights, momentum, lr)\n",
    "\n",
    "# Run all experiments\n",
    "for reg, method, poly_degree, weight, momentum, lr in combinations_:\n",
    "    run_experiment(reg, method, poly_degree, weight, momentum, lr, cv=5, log_transform=True, use_gpu=False, use_mlflow=True)\n",
    "\n",
    "#Final Results: Best Models Based on MSE & R² Score\n",
    "print(f\"Best Model by R² Score: {best_model_r2} with R² Score: {best_r2:.4f}\")\n",
    "print(f\"Best Model by MSE: {best_model_mse} with MSE: {best_mse:.4f}\")\n",
    "\n",
    "mlflow.end_run()"
   ],
   "id": "30bb119176c74009",
   "outputs": [
    {
     "name": "stdout",
     "output_type": "stream",
     "text": [
      " Running TorchRegression | normal | Linear | zeros | Momentum is not used | LR: 0.01\n",
      "(5330,)\n",
      "torch.Size([5330, 12])\n",
      "0 --> train_loss: 25.103 | train_accuracy: -44.8813 | val_loss: 4.1249 | val_accuracy: -6.2114\n",
      "🏃 View run Fold-0 at: http://127.0.0.1:5001/#/experiments/1/runs/4b80f73acc2e484ea7c8d5b0e2287d00\n",
      "🧪 View experiment at: http://127.0.0.1:5001/#/experiments/1\n",
      "1 --> train_loss: 14.387 | train_accuracy: -25.2231 | val_loss: 3.1305 | val_accuracy: -4.9746\n",
      "🏃 View run Fold-1 at: http://127.0.0.1:5001/#/experiments/1/runs/95b884b489894708a27a600ed2ab66ce\n",
      "🧪 View experiment at: http://127.0.0.1:5001/#/experiments/1\n",
      "2 --> train_loss: 10.686 | train_accuracy: -18.4626 | val_loss: 3.1644 | val_accuracy: -4.7748\n",
      "🏃 View run Fold-2 at: http://127.0.0.1:5001/#/experiments/1/runs/a288d78522eb42b289a2520259f27ac7\n",
      "🧪 View experiment at: http://127.0.0.1:5001/#/experiments/1\n",
      "3 --> train_loss: 8.781 | train_accuracy: -14.9851 | val_loss: 2.9805 | val_accuracy: -4.4058\n",
      "🏃 View run Fold-3 at: http://127.0.0.1:5001/#/experiments/1/runs/f7263e6697ea408995a98f78a374bb81\n",
      "🧪 View experiment at: http://127.0.0.1:5001/#/experiments/1\n"
     ]
    },
    {
     "name": "stderr",
     "output_type": "stream",
     "text": [
      "2025/02/03 01:49:25 WARNING mlflow.models.signature: Failed to infer schema for outputs. Setting schema to `Schema([ColSpec(type=AnyType())]` as default. To see the full traceback, set logging level to DEBUG.\n",
      "2025/02/03 01:49:25 WARNING mlflow.sklearn: Model was missing function: predict. Not logging python_function flavor!\n"
     ]
    },
    {
     "name": "stdout",
     "output_type": "stream",
     "text": [
      "4 --> train_loss: 7.594 | train_accuracy: -12.8246 | val_loss: 2.9618 | val_accuracy: -4.2489\n",
      "🏃 View run Fold-4 at: http://127.0.0.1:5001/#/experiments/1/runs/37cf39d2f89d4817b7faccd712273c3c\n",
      "🧪 View experiment at: http://127.0.0.1:5001/#/experiments/1\n",
      "✅ Fold: normal | Model: TorchRegression | MSE: 2.8436 | R²: -3.8656\n",
      "🏃 View run method-normal-lr-0.01-reg-TorchRegression-poly-Linear-momentum-Momentum is not used-weight-zeros at: http://127.0.0.1:5001/#/experiments/1/runs/151d0a1ca6574132a83e8645837b857d\n",
      "🧪 View experiment at: http://127.0.0.1:5001/#/experiments/1\n",
      " Running TorchRegression | normal | Linear | zeros | Momentum is not used | LR: 0.001\n",
      "(5330,)\n",
      "torch.Size([5330, 12])\n",
      "0 --> train_loss: 116.909 | train_accuracy: -212.6753 | val_loss: 78.5731 | val_accuracy: -136.3663\n",
      "🏃 View run Fold-0 at: http://127.0.0.1:5001/#/experiments/1/runs/96de4e6ee7fe407fb6d2f930ae5cc81d\n",
      "🧪 View experiment at: http://127.0.0.1:5001/#/experiments/1\n",
      "1 --> train_loss: 86.311 | train_accuracy: -155.6662 | val_loss: 37.8489 | val_accuracy: -71.2341\n",
      "🏃 View run Fold-1 at: http://127.0.0.1:5001/#/experiments/1/runs/c701e785ddaa437cb5a6a9fc5e4db770\n",
      "🧪 View experiment at: http://127.0.0.1:5001/#/experiments/1\n",
      "2 --> train_loss: 66.835 | train_accuracy: -120.2534 | val_loss: 19.7225 | val_accuracy: -34.9925\n",
      "🏃 View run Fold-2 at: http://127.0.0.1:5001/#/experiments/1/runs/cbc0bea753bd4c1bb7b7e7bd06f5aabe\n",
      "🧪 View experiment at: http://127.0.0.1:5001/#/experiments/1\n",
      "3 --> train_loss: 53.937 | train_accuracy: -96.8402 | val_loss: 10.9681 | val_accuracy: -18.8932\n",
      "🏃 View run Fold-3 at: http://127.0.0.1:5001/#/experiments/1/runs/ccdb2dcb085347fe819bba21f975ac61\n",
      "🧪 View experiment at: http://127.0.0.1:5001/#/experiments/1\n"
     ]
    },
    {
     "name": "stderr",
     "output_type": "stream",
     "text": [
      "2025/02/03 01:49:33 WARNING mlflow.models.signature: Failed to infer schema for outputs. Setting schema to `Schema([ColSpec(type=AnyType())]` as default. To see the full traceback, set logging level to DEBUG.\n"
     ]
    },
    {
     "name": "stdout",
     "output_type": "stream",
     "text": [
      "4 --> train_loss: 44.976 | train_accuracy: -80.5987 | val_loss: 7.9691 | val_accuracy: -13.1230\n",
      "🏃 View run Fold-4 at: http://127.0.0.1:5001/#/experiments/1/runs/2fb346c3b9134a5fb9774bb1226b5b56\n",
      "🧪 View experiment at: http://127.0.0.1:5001/#/experiments/1\n"
     ]
    },
    {
     "name": "stderr",
     "output_type": "stream",
     "text": [
      "2025/02/03 01:49:34 WARNING mlflow.sklearn: Model was missing function: predict. Not logging python_function flavor!\n"
     ]
    },
    {
     "name": "stdout",
     "output_type": "stream",
     "text": [
      "✅ Fold: normal | Model: TorchRegression | MSE: 7.6891 | R²: -12.1566\n",
      "🏃 View run method-normal-lr-0.001-reg-TorchRegression-poly-Linear-momentum-Momentum is not used-weight-zeros at: http://127.0.0.1:5001/#/experiments/1/runs/04e49dc1b0f44d7fbf38b6dbf964facd\n",
      "🧪 View experiment at: http://127.0.0.1:5001/#/experiments/1\n",
      " Running TorchRegression | normal | Linear | zeros | Momentum is not used | LR: 0.0001\n",
      "(5330,)\n",
      "torch.Size([5330, 12])\n",
      "0 --> train_loss: 160.598 | train_accuracy: -292.5249 | val_loss: 154.6803 | val_accuracy: -269.4214\n",
      "🏃 View run Fold-0 at: http://127.0.0.1:5001/#/experiments/1/runs/b5a8c5ec76124445b72fcab4955b182b\n",
      "🧪 View experiment at: http://127.0.0.1:5001/#/experiments/1\n",
      "1 --> train_loss: 154.644 | train_accuracy: -278.7488 | val_loss: 143.4313 | val_accuracy: -272.7367\n",
      "🏃 View run Fold-1 at: http://127.0.0.1:5001/#/experiments/1/runs/5553017ab8b340da934a142c8a6967c6\n",
      "🧪 View experiment at: http://127.0.0.1:5001/#/experiments/1\n",
      "2 --> train_loss: 149.080 | train_accuracy: -268.6613 | val_loss: 132.0657 | val_accuracy: -240.0129\n",
      "🏃 View run Fold-2 at: http://127.0.0.1:5001/#/experiments/1/runs/c78467befefb4baebbe6106967da03a5\n",
      "🧪 View experiment at: http://127.0.0.1:5001/#/experiments/1\n",
      "3 --> train_loss: 143.750 | train_accuracy: -259.0756 | val_loss: 122.6273 | val_accuracy: -221.4139\n",
      "🏃 View run Fold-3 at: http://127.0.0.1:5001/#/experiments/1/runs/8573e46a343d408abe083ddc5eb6eaf0\n",
      "🧪 View experiment at: http://127.0.0.1:5001/#/experiments/1\n"
     ]
    },
    {
     "name": "stderr",
     "output_type": "stream",
     "text": [
      "2025/02/03 01:49:40 WARNING mlflow.models.signature: Failed to infer schema for outputs. Setting schema to `Schema([ColSpec(type=AnyType())]` as default. To see the full traceback, set logging level to DEBUG.\n",
      "2025/02/03 01:49:40 WARNING mlflow.sklearn: Model was missing function: predict. Not logging python_function flavor!\n"
     ]
    },
    {
     "name": "stdout",
     "output_type": "stream",
     "text": [
      "4 --> train_loss: 138.654 | train_accuracy: -250.1417 | val_loss: 114.2337 | val_accuracy: -201.4480\n",
      "🏃 View run Fold-4 at: http://127.0.0.1:5001/#/experiments/1/runs/a5bea9aed4cb47f298add688438e4b51\n",
      "🧪 View experiment at: http://127.0.0.1:5001/#/experiments/1\n",
      "✅ Fold: normal | Model: TorchRegression | MSE: 113.4844 | R²: -193.1787\n",
      "🏃 View run method-normal-lr-0.0001-reg-TorchRegression-poly-Linear-momentum-Momentum is not used-weight-zeros at: http://127.0.0.1:5001/#/experiments/1/runs/8169a66877d74c54a7c04aba69d053e4\n",
      "🧪 View experiment at: http://127.0.0.1:5001/#/experiments/1\n",
      " Running TorchRegression | normal | Linear | zeros | Momentum is used | LR: 0.01\n",
      "(5330,)\n",
      "torch.Size([5330, 12])\n",
      "0 --> train_loss: 84.006 | train_accuracy: -152.5381 | val_loss: 38.1465 | val_accuracy: -65.6901\n",
      "🏃 View run Fold-0 at: http://127.0.0.1:5001/#/experiments/1/runs/27231ecf4b7c4342baea040d84df2e45\n",
      "🧪 View experiment at: http://127.0.0.1:5001/#/experiments/1\n",
      "1 --> train_loss: 52.809 | train_accuracy: -95.0990 | val_loss: 11.2485 | val_accuracy: -20.4675\n",
      "🏃 View run Fold-1 at: http://127.0.0.1:5001/#/experiments/1/runs/19709e98480a47f191d45698bf36a82d\n",
      "🧪 View experiment at: http://127.0.0.1:5001/#/experiments/1\n",
      "2 --> train_loss: 37.879 | train_accuracy: -67.8991 | val_loss: 5.6936 | val_accuracy: -9.3906\n",
      "🏃 View run Fold-2 at: http://127.0.0.1:5001/#/experiments/1/runs/763323b1770049c9afa5696bae102cee\n",
      "🧪 View experiment at: http://127.0.0.1:5001/#/experiments/1\n",
      "3 --> train_loss: 29.641 | train_accuracy: -52.9052 | val_loss: 4.1502 | val_accuracy: -6.5273\n",
      "🏃 View run Fold-3 at: http://127.0.0.1:5001/#/experiments/1/runs/e9286ea4731e459dbc78f16f66fe9bde\n",
      "🧪 View experiment at: http://127.0.0.1:5001/#/experiments/1\n"
     ]
    },
    {
     "name": "stderr",
     "output_type": "stream",
     "text": [
      "2025/02/03 01:49:47 WARNING mlflow.models.signature: Failed to infer schema for outputs. Setting schema to `Schema([ColSpec(type=AnyType())]` as default. To see the full traceback, set logging level to DEBUG.\n",
      "2025/02/03 01:49:47 WARNING mlflow.sklearn: Model was missing function: predict. Not logging python_function flavor!\n"
     ]
    },
    {
     "name": "stdout",
     "output_type": "stream",
     "text": [
      "4 --> train_loss: 24.515 | train_accuracy: -43.5850 | val_loss: 4.1011 | val_accuracy: -6.2680\n",
      "🏃 View run Fold-4 at: http://127.0.0.1:5001/#/experiments/1/runs/a2e8319e53084ca98221e49fb1d7d7dc\n",
      "🧪 View experiment at: http://127.0.0.1:5001/#/experiments/1\n",
      "✅ Fold: normal | Model: TorchRegression | MSE: 3.9812 | R²: -5.8121\n",
      "🏃 View run method-normal-lr-0.01-reg-TorchRegression-poly-Linear-momentum-Momentum is used-weight-zeros at: http://127.0.0.1:5001/#/experiments/1/runs/435525408660434fb0e52a8dc95c0e4a\n",
      "🧪 View experiment at: http://127.0.0.1:5001/#/experiments/1\n",
      " Running TorchRegression | normal | Linear | zeros | Momentum is used | LR: 0.001\n",
      "(5330,)\n",
      "torch.Size([5330, 12])\n",
      "0 --> train_loss: 154.089 | train_accuracy: -280.6279 | val_loss: 142.7771 | val_accuracy: -248.6115\n",
      "🏃 View run Fold-0 at: http://127.0.0.1:5001/#/experiments/1/runs/16b3f9a712b24b0a9086f28c1a2fb802\n",
      "🧪 View experiment at: http://127.0.0.1:5001/#/experiments/1\n",
      "1 --> train_loss: 143.168 | train_accuracy: -258.0951 | val_loss: 122.6441 | val_accuracy: -233.0646\n",
      "🏃 View run Fold-1 at: http://127.0.0.1:5001/#/experiments/1/runs/4c36b4f5154c4482a37a650fdf31cb88\n",
      "🧪 View experiment at: http://127.0.0.1:5001/#/experiments/1\n",
      "2 --> train_loss: 133.378 | train_accuracy: -240.3304 | val_loss: 104.8421 | val_accuracy: -190.3313\n",
      "🏃 View run Fold-2 at: http://127.0.0.1:5001/#/experiments/1/runs/97567bcb3c2c4e6bb8c7780aead8c3b9\n",
      "🧪 View experiment at: http://127.0.0.1:5001/#/experiments/1\n",
      "3 --> train_loss: 124.509 | train_accuracy: -224.3130 | val_loss: 90.1426 | val_accuracy: -162.4951\n",
      "🏃 View run Fold-3 at: http://127.0.0.1:5001/#/experiments/1/runs/6ff745ffffe0410985d82b1e7198b2c1\n",
      "🧪 View experiment at: http://127.0.0.1:5001/#/experiments/1\n"
     ]
    },
    {
     "name": "stderr",
     "output_type": "stream",
     "text": [
      "2025/02/03 01:49:54 WARNING mlflow.models.signature: Failed to infer schema for outputs. Setting schema to `Schema([ColSpec(type=AnyType())]` as default. To see the full traceback, set logging level to DEBUG.\n",
      "2025/02/03 01:49:54 WARNING mlflow.sklearn: Model was missing function: predict. Not logging python_function flavor!\n"
     ]
    },
    {
     "name": "stdout",
     "output_type": "stream",
     "text": [
      "4 --> train_loss: 116.425 | train_accuracy: -209.8799 | val_loss: 78.6334 | val_accuracy: -138.3563\n",
      "🏃 View run Fold-4 at: http://127.0.0.1:5001/#/experiments/1/runs/f6a5f3c71f0f473f9abf01481f4dc7c9\n",
      "🧪 View experiment at: http://127.0.0.1:5001/#/experiments/1\n",
      "✅ Fold: normal | Model: TorchRegression | MSE: 77.8547 | R²: -132.2141\n",
      "🏃 View run method-normal-lr-0.001-reg-TorchRegression-poly-Linear-momentum-Momentum is used-weight-zeros at: http://127.0.0.1:5001/#/experiments/1/runs/bcfaa28e93294a51b2a1da6b64db39c0\n",
      "🧪 View experiment at: http://127.0.0.1:5001/#/experiments/1\n",
      " Running TorchRegression | normal | Linear | zeros | Momentum is used | LR: 0.0001\n",
      "(5330,)\n",
      "torch.Size([5330, 12])\n",
      "0 --> train_loss: 165.482 | train_accuracy: -301.4521 | val_loss: 164.3796 | val_accuracy: -286.3783\n",
      "🏃 View run Fold-0 at: http://127.0.0.1:5001/#/experiments/1/runs/386143b82fbd41f1aab7e7c6c113a563\n",
      "🧪 View experiment at: http://127.0.0.1:5001/#/experiments/1\n",
      "1 --> train_loss: 164.184 | train_accuracy: -295.9089 | val_loss: 162.1557 | val_accuracy: -308.4719\n",
      "🏃 View run Fold-1 at: http://127.0.0.1:5001/#/experiments/1/runs/0da69a048aa64f11a489e30f7468d3f9\n",
      "🧪 View experiment at: http://127.0.0.1:5001/#/experiments/1\n",
      "2 --> train_loss: 163.010 | train_accuracy: -293.7912 | val_loss: 158.6449 | val_accuracy: -288.5184\n",
      "🏃 View run Fold-2 at: http://127.0.0.1:5001/#/experiments/1/runs/848de06916064164bf10819eb87a29f2\n",
      "🧪 View experiment at: http://127.0.0.1:5001/#/experiments/1\n",
      "3 --> train_loss: 161.771 | train_accuracy: -291.6369 | val_loss: 156.8717 | val_accuracy: -283.5244\n",
      "🏃 View run Fold-3 at: http://127.0.0.1:5001/#/experiments/1/runs/1d720639609946169fd40b45c77125c8\n",
      "🧪 View experiment at: http://127.0.0.1:5001/#/experiments/1\n"
     ]
    },
    {
     "name": "stderr",
     "output_type": "stream",
     "text": [
      "2025/02/03 01:50:00 WARNING mlflow.models.signature: Failed to infer schema for outputs. Setting schema to `Schema([ColSpec(type=AnyType())]` as default. To see the full traceback, set logging level to DEBUG.\n",
      "2025/02/03 01:50:00 WARNING mlflow.sklearn: Model was missing function: predict. Not logging python_function flavor!\n"
     ]
    },
    {
     "name": "stdout",
     "output_type": "stream",
     "text": [
      "4 --> train_loss: 160.545 | train_accuracy: -289.8025 | val_loss: 154.5064 | val_accuracy: -272.8204\n",
      "🏃 View run Fold-4 at: http://127.0.0.1:5001/#/experiments/1/runs/45b4eb126f4f49f385ea8cf100281972\n",
      "🧪 View experiment at: http://127.0.0.1:5001/#/experiments/1\n",
      "✅ Fold: normal | Model: TorchRegression | MSE: 153.8616 | R²: -262.2665\n",
      "🏃 View run method-normal-lr-0.0001-reg-TorchRegression-poly-Linear-momentum-Momentum is used-weight-zeros at: http://127.0.0.1:5001/#/experiments/1/runs/b8d71b01899d4cdb840a35094d52e1a1\n",
      "🧪 View experiment at: http://127.0.0.1:5001/#/experiments/1\n",
      " Running TorchRegression | normal | Linear | xavier | Momentum is not used | LR: 0.01\n",
      "(5330,)\n",
      "torch.Size([5330, 12])\n",
      "0 --> train_loss: 24.593 | train_accuracy: -43.9480 | val_loss: 4.5610 | val_accuracy: -6.9738\n",
      "🏃 View run Fold-0 at: http://127.0.0.1:5001/#/experiments/1/runs/caeb26b42fab43448e72f25f7e22b07c\n",
      "🧪 View experiment at: http://127.0.0.1:5001/#/experiments/1\n",
      "1 --> train_loss: 14.327 | train_accuracy: -25.1064 | val_loss: 3.3847 | val_accuracy: -5.4596\n",
      "🏃 View run Fold-1 at: http://127.0.0.1:5001/#/experiments/1/runs/dcddd65a740542ab93a4a7eeab176e49\n",
      "🧪 View experiment at: http://127.0.0.1:5001/#/experiments/1\n",
      "2 --> train_loss: 10.740 | train_accuracy: -18.5539 | val_loss: 3.3699 | val_accuracy: -5.1500\n",
      "🏃 View run Fold-2 at: http://127.0.0.1:5001/#/experiments/1/runs/a7c1ac47aa3f416ea1adf3c71424f75d\n",
      "🧪 View experiment at: http://127.0.0.1:5001/#/experiments/1\n",
      "3 --> train_loss: 8.876 | train_accuracy: -15.1515 | val_loss: 3.2838 | val_accuracy: -4.9560\n",
      "🏃 View run Fold-3 at: http://127.0.0.1:5001/#/experiments/1/runs/84afdc5df67a4a7cb9685d8565b279a6\n",
      "🧪 View experiment at: http://127.0.0.1:5001/#/experiments/1\n"
     ]
    },
    {
     "name": "stderr",
     "output_type": "stream",
     "text": [
      "2025/02/03 01:50:07 WARNING mlflow.models.signature: Failed to infer schema for outputs. Setting schema to `Schema([ColSpec(type=AnyType())]` as default. To see the full traceback, set logging level to DEBUG.\n",
      "2025/02/03 01:50:07 WARNING mlflow.sklearn: Model was missing function: predict. Not logging python_function flavor!\n"
     ]
    },
    {
     "name": "stdout",
     "output_type": "stream",
     "text": [
      "4 --> train_loss: 7.711 | train_accuracy: -13.0332 | val_loss: 3.2285 | val_accuracy: -4.7216\n",
      "🏃 View run Fold-4 at: http://127.0.0.1:5001/#/experiments/1/runs/8125b2c2d3ce4a6386eeb923a13b9744\n",
      "🧪 View experiment at: http://127.0.0.1:5001/#/experiments/1\n",
      "✅ Fold: normal | Model: TorchRegression | MSE: 3.0712 | R²: -4.2549\n",
      "🏃 View run method-normal-lr-0.01-reg-TorchRegression-poly-Linear-momentum-Momentum is not used-weight-xavier at: http://127.0.0.1:5001/#/experiments/1/runs/5a25c93d145b4d1ca4952a5f23e79c8f\n",
      "🧪 View experiment at: http://127.0.0.1:5001/#/experiments/1\n",
      " Running TorchRegression | normal | Linear | xavier | Momentum is not used | LR: 0.001\n",
      "(5330,)\n",
      "torch.Size([5330, 12])\n",
      "0 --> train_loss: 138.493 | train_accuracy: -252.1228 | val_loss: 92.7734 | val_accuracy: -161.1920\n",
      "🏃 View run Fold-0 at: http://127.0.0.1:5001/#/experiments/1/runs/a42a2dbd2cc34dbe81d33dcb49d08399\n",
      "🧪 View experiment at: http://127.0.0.1:5001/#/experiments/1\n",
      "1 --> train_loss: 102.295 | train_accuracy: -184.6784 | val_loss: 44.0336 | val_accuracy: -83.0375\n",
      "🏃 View run Fold-1 at: http://127.0.0.1:5001/#/experiments/1/runs/153013e55ea543238bc342c3a04ac00f\n",
      "🧪 View experiment at: http://127.0.0.1:5001/#/experiments/1\n",
      "2 --> train_loss: 79.192 | train_accuracy: -142.6700 | val_loss: 22.7252 | val_accuracy: -40.4722\n",
      "🏃 View run Fold-2 at: http://127.0.0.1:5001/#/experiments/1/runs/52a7641a1f884abfb6ce0d36c7187d11\n",
      "🧪 View experiment at: http://127.0.0.1:5001/#/experiments/1\n",
      "3 --> train_loss: 63.842 | train_accuracy: -114.8067 | val_loss: 12.9464 | val_accuracy: -22.4814\n",
      "🏃 View run Fold-3 at: http://127.0.0.1:5001/#/experiments/1/runs/7bcaf2b913b74c52b2106de9d5f8c145\n",
      "🧪 View experiment at: http://127.0.0.1:5001/#/experiments/1\n"
     ]
    },
    {
     "name": "stderr",
     "output_type": "stream",
     "text": [
      "2025/02/03 01:50:14 WARNING mlflow.models.signature: Failed to infer schema for outputs. Setting schema to `Schema([ColSpec(type=AnyType())]` as default. To see the full traceback, set logging level to DEBUG.\n",
      "2025/02/03 01:50:14 WARNING mlflow.sklearn: Model was missing function: predict. Not logging python_function flavor!\n"
     ]
    },
    {
     "name": "stdout",
     "output_type": "stream",
     "text": [
      "4 --> train_loss: 53.172 | train_accuracy: -95.4669 | val_loss: 9.5248 | val_accuracy: -15.8800\n",
      "🏃 View run Fold-4 at: http://127.0.0.1:5001/#/experiments/1/runs/a0371fc903844c859cff3d2755cc0292\n",
      "🧪 View experiment at: http://127.0.0.1:5001/#/experiments/1\n",
      "✅ Fold: normal | Model: TorchRegression | MSE: 8.9079 | R²: -14.2419\n",
      "🏃 View run method-normal-lr-0.001-reg-TorchRegression-poly-Linear-momentum-Momentum is not used-weight-xavier at: http://127.0.0.1:5001/#/experiments/1/runs/c77c907ba5db49b4a2543552f0666138\n",
      "🧪 View experiment at: http://127.0.0.1:5001/#/experiments/1\n",
      " Running TorchRegression | normal | Linear | xavier | Momentum is not used | LR: 0.0001\n",
      "(5330,)\n",
      "torch.Size([5330, 12])\n",
      "0 --> train_loss: 185.707 | train_accuracy: -338.4167 | val_loss: 178.6221 | val_accuracy: -311.2778\n",
      "🏃 View run Fold-0 at: http://127.0.0.1:5001/#/experiments/1/runs/1c59932adc834c02ace33432b8de3490\n",
      "🧪 View experiment at: http://127.0.0.1:5001/#/experiments/1\n",
      "1 --> train_loss: 179.141 | train_accuracy: -323.0586 | val_loss: 163.5921 | val_accuracy: -311.2131\n",
      "🏃 View run Fold-1 at: http://127.0.0.1:5001/#/experiments/1/runs/114bad29e64a4501b0f24cbf6dd0b801\n",
      "🧪 View experiment at: http://127.0.0.1:5001/#/experiments/1\n",
      "2 --> train_loss: 172.779 | train_accuracy: -311.5237 | val_loss: 151.2779 | val_accuracy: -275.0741\n",
      "🏃 View run Fold-2 at: http://127.0.0.1:5001/#/experiments/1/runs/cd05273031f24afd9ba634001221d142\n",
      "🧪 View experiment at: http://127.0.0.1:5001/#/experiments/1\n",
      "3 --> train_loss: 166.528 | train_accuracy: -300.2835 | val_loss: 142.7421 | val_accuracy: -257.8969\n",
      "🏃 View run Fold-3 at: http://127.0.0.1:5001/#/experiments/1/runs/10e75aecce6840dc87cb314b972a8a17\n",
      "🧪 View experiment at: http://127.0.0.1:5001/#/experiments/1\n"
     ]
    },
    {
     "name": "stderr",
     "output_type": "stream",
     "text": [
      "2025/02/03 01:50:20 WARNING mlflow.models.signature: Failed to infer schema for outputs. Setting schema to `Schema([ColSpec(type=AnyType())]` as default. To see the full traceback, set logging level to DEBUG.\n",
      "2025/02/03 01:50:20 WARNING mlflow.sklearn: Model was missing function: predict. Not logging python_function flavor!\n"
     ]
    },
    {
     "name": "stdout",
     "output_type": "stream",
     "text": [
      "4 --> train_loss: 160.483 | train_accuracy: -289.6749 | val_loss: 135.5627 | val_accuracy: -239.2478\n",
      "🏃 View run Fold-4 at: http://127.0.0.1:5001/#/experiments/1/runs/bf89923c1ccf43fd88687f0cc5a89903\n",
      "🧪 View experiment at: http://127.0.0.1:5001/#/experiments/1\n",
      "✅ Fold: normal | Model: TorchRegression | MSE: 132.0155 | R²: -224.8864\n",
      "🏃 View run method-normal-lr-0.0001-reg-TorchRegression-poly-Linear-momentum-Momentum is not used-weight-xavier at: http://127.0.0.1:5001/#/experiments/1/runs/9345ee95f7ba481f97c6715b724c319b\n",
      "🧪 View experiment at: http://127.0.0.1:5001/#/experiments/1\n",
      " Running TorchRegression | normal | Linear | xavier | Momentum is used | LR: 0.01\n",
      "(5330,)\n",
      "torch.Size([5330, 12])\n",
      "0 --> train_loss: 102.960 | train_accuracy: -187.1803 | val_loss: 46.0010 | val_accuracy: -79.4218\n",
      "🏃 View run Fold-0 at: http://127.0.0.1:5001/#/experiments/1/runs/f44e856ec27240d695d3fcba8c679b44\n",
      "🧪 View experiment at: http://127.0.0.1:5001/#/experiments/1\n",
      "1 --> train_loss: 64.322 | train_accuracy: -116.0613 | val_loss: 12.9794 | val_accuracy: -23.7710\n",
      "🏃 View run Fold-1 at: http://127.0.0.1:5001/#/experiments/1/runs/632462328ddd460d9ea0bcf7c4d88f3c\n",
      "🧪 View experiment at: http://127.0.0.1:5001/#/experiments/1\n",
      "2 --> train_loss: 45.854 | train_accuracy: -82.4171 | val_loss: 6.2149 | val_accuracy: -10.3419\n",
      "🏃 View run Fold-2 at: http://127.0.0.1:5001/#/experiments/1/runs/200e6edfb407445b985ae79fc53c9eac\n",
      "🧪 View experiment at: http://127.0.0.1:5001/#/experiments/1\n",
      "3 --> train_loss: 35.674 | train_accuracy: -63.8869 | val_loss: 4.5148 | val_accuracy: -7.1887\n",
      "🏃 View run Fold-3 at: http://127.0.0.1:5001/#/experiments/1/runs/964f993118dd4a128a0827147bd3a412\n",
      "🧪 View experiment at: http://127.0.0.1:5001/#/experiments/1\n"
     ]
    },
    {
     "name": "stderr",
     "output_type": "stream",
     "text": [
      "2025/02/03 01:50:27 WARNING mlflow.models.signature: Failed to infer schema for outputs. Setting schema to `Schema([ColSpec(type=AnyType())]` as default. To see the full traceback, set logging level to DEBUG.\n",
      "2025/02/03 01:50:27 WARNING mlflow.sklearn: Model was missing function: predict. Not logging python_function flavor!\n"
     ]
    },
    {
     "name": "stdout",
     "output_type": "stream",
     "text": [
      "4 --> train_loss: 29.365 | train_accuracy: -52.4125 | val_loss: 4.2698 | val_accuracy: -6.5671\n",
      "🏃 View run Fold-4 at: http://127.0.0.1:5001/#/experiments/1/runs/3ab377b9f8434ad88c513953e1ac3797\n",
      "🧪 View experiment at: http://127.0.0.1:5001/#/experiments/1\n",
      "✅ Fold: normal | Model: TorchRegression | MSE: 4.1221 | R²: -6.0532\n",
      "🏃 View run method-normal-lr-0.01-reg-TorchRegression-poly-Linear-momentum-Momentum is used-weight-xavier at: http://127.0.0.1:5001/#/experiments/1/runs/64ceabaaff9849f1896012011a762e89\n",
      "🧪 View experiment at: http://127.0.0.1:5001/#/experiments/1\n",
      " Running TorchRegression | normal | Linear | xavier | Momentum is used | LR: 0.001\n",
      "(5330,)\n",
      "torch.Size([5330, 12])\n",
      "0 --> train_loss: 171.820 | train_accuracy: -313.0356 | val_loss: 157.3085 | val_accuracy: -274.0163\n",
      "🏃 View run Fold-0 at: http://127.0.0.1:5001/#/experiments/1/runs/26be7057263948dda6da3984fe137085\n",
      "🧪 View experiment at: http://127.0.0.1:5001/#/experiments/1\n",
      "1 --> train_loss: 159.468 | train_accuracy: -287.5963 | val_loss: 135.6935 | val_accuracy: -257.9691\n",
      "🏃 View run Fold-1 at: http://127.0.0.1:5001/#/experiments/1/runs/4c7d0e993892462db0331c204dd343ef\n",
      "🧪 View experiment at: http://127.0.0.1:5001/#/experiments/1\n",
      "2 --> train_loss: 148.347 | train_accuracy: -267.4173 | val_loss: 117.2713 | val_accuracy: -213.0138\n",
      "🏃 View run Fold-2 at: http://127.0.0.1:5001/#/experiments/1/runs/e3ad33159c474e8cbc287031ce6ebb2d\n",
      "🧪 View experiment at: http://127.0.0.1:5001/#/experiments/1\n",
      "3 --> train_loss: 138.412 | train_accuracy: -249.4747 | val_loss: 99.8812 | val_accuracy: -180.1584\n",
      "🏃 View run Fold-3 at: http://127.0.0.1:5001/#/experiments/1/runs/57a5ed4552cc4588b9dace40ae81d3dd\n",
      "🧪 View experiment at: http://127.0.0.1:5001/#/experiments/1\n"
     ]
    },
    {
     "name": "stderr",
     "output_type": "stream",
     "text": [
      "2025/02/03 01:50:34 WARNING mlflow.models.signature: Failed to infer schema for outputs. Setting schema to `Schema([ColSpec(type=AnyType())]` as default. To see the full traceback, set logging level to DEBUG.\n",
      "2025/02/03 01:50:34 WARNING mlflow.sklearn: Model was missing function: predict. Not logging python_function flavor!\n"
     ]
    },
    {
     "name": "stdout",
     "output_type": "stream",
     "text": [
      "4 --> train_loss: 129.330 | train_accuracy: -233.2552 | val_loss: 87.7477 | val_accuracy: -154.5089\n",
      "🏃 View run Fold-4 at: http://127.0.0.1:5001/#/experiments/1/runs/caf6f3e0c5bd4cbca81508d98a347f67\n",
      "🧪 View experiment at: http://127.0.0.1:5001/#/experiments/1\n",
      "✅ Fold: normal | Model: TorchRegression | MSE: 87.7279 | R²: -149.1076\n",
      "🏃 View run method-normal-lr-0.001-reg-TorchRegression-poly-Linear-momentum-Momentum is used-weight-xavier at: http://127.0.0.1:5001/#/experiments/1/runs/c382e087cd5d4f6883029c1e8fffd624\n",
      "🧪 View experiment at: http://127.0.0.1:5001/#/experiments/1\n",
      " Running TorchRegression | normal | Linear | xavier | Momentum is used | LR: 0.0001\n",
      "(5330,)\n",
      "torch.Size([5330, 12])\n",
      "0 --> train_loss: 219.802 | train_accuracy: -400.7321 | val_loss: 219.5546 | val_accuracy: -382.8385\n",
      "🏃 View run Fold-0 at: http://127.0.0.1:5001/#/experiments/1/runs/2d3725e51f53479f9dab5495eaf45089\n",
      "🧪 View experiment at: http://127.0.0.1:5001/#/experiments/1\n",
      "1 --> train_loss: 218.278 | train_accuracy: -393.7285 | val_loss: 215.4413 | val_accuracy: -410.1667\n",
      "🏃 View run Fold-1 at: http://127.0.0.1:5001/#/experiments/1/runs/3054f6119418431fb816ec80666bdeb7\n",
      "🧪 View experiment at: http://127.0.0.1:5001/#/experiments/1\n",
      "2 --> train_loss: 216.950 | train_accuracy: -391.3347 | val_loss: 209.2253 | val_accuracy: -380.8250\n",
      "🏃 View run Fold-2 at: http://127.0.0.1:5001/#/experiments/1/runs/e8f75ca38e0243d887354be62d350ee8\n",
      "🧪 View experiment at: http://127.0.0.1:5001/#/experiments/1\n",
      "3 --> train_loss: 215.227 | train_accuracy: -388.3347 | val_loss: 210.3480 | val_accuracy: -380.5165\n",
      "🏃 View run Fold-3 at: http://127.0.0.1:5001/#/experiments/1/runs/f0217aab73154554bebe34281812081c\n",
      "🧪 View experiment at: http://127.0.0.1:5001/#/experiments/1\n"
     ]
    },
    {
     "name": "stderr",
     "output_type": "stream",
     "text": [
      "2025/02/03 01:50:40 WARNING mlflow.models.signature: Failed to infer schema for outputs. Setting schema to `Schema([ColSpec(type=AnyType())]` as default. To see the full traceback, set logging level to DEBUG.\n",
      "2025/02/03 01:50:40 WARNING mlflow.sklearn: Model was missing function: predict. Not logging python_function flavor!\n"
     ]
    },
    {
     "name": "stdout",
     "output_type": "stream",
     "text": [
      "4 --> train_loss: 213.649 | train_accuracy: -385.9898 | val_loss: 205.7074 | val_accuracy: -363.5602\n",
      "🏃 View run Fold-4 at: http://127.0.0.1:5001/#/experiments/1/runs/9c5d89dae2a74235b8ee84fcf4bb7036\n",
      "🧪 View experiment at: http://127.0.0.1:5001/#/experiments/1\n",
      "✅ Fold: normal | Model: TorchRegression | MSE: 200.6702 | R²: -342.3587\n",
      "🏃 View run method-normal-lr-0.0001-reg-TorchRegression-poly-Linear-momentum-Momentum is used-weight-xavier at: http://127.0.0.1:5001/#/experiments/1/runs/25eec13767754157bcab9c87131cd4c8\n",
      "🧪 View experiment at: http://127.0.0.1:5001/#/experiments/1\n",
      " Running TorchRegression | normal | Polynomial | zeros | Momentum is not used | LR: 0.01\n",
      "(5330,)\n",
      "torch.Size([5330, 90])\n",
      "0 --> train_loss: 11.729 | train_accuracy: -20.4377 | val_loss: 5.1951 | val_accuracy: -8.0824\n",
      "🏃 View run Fold-0 at: http://127.0.0.1:5001/#/experiments/1/runs/6d70710f456a44239f72c9d65304c001\n",
      "🧪 View experiment at: http://127.0.0.1:5001/#/experiments/1\n",
      "1 --> train_loss: 7.976 | train_accuracy: -13.4957 | val_loss: 3.2696 | val_accuracy: -5.2400\n",
      "🏃 View run Fold-1 at: http://127.0.0.1:5001/#/experiments/1/runs/28e6caf26ea1431a85ce837b1e9446ea\n",
      "🧪 View experiment at: http://127.0.0.1:5001/#/experiments/1\n",
      "2 --> train_loss: 6.411 | train_accuracy: -10.6416 | val_loss: 2.8128 | val_accuracy: -4.1332\n",
      "🏃 View run Fold-2 at: http://127.0.0.1:5001/#/experiments/1/runs/6f3ae572946848eab10533e752a189d5\n",
      "🧪 View experiment at: http://127.0.0.1:5001/#/experiments/1\n",
      "3 --> train_loss: 5.477 | train_accuracy: -8.9413 | val_loss: 2.6093 | val_accuracy: -3.7325\n",
      "🏃 View run Fold-3 at: http://127.0.0.1:5001/#/experiments/1/runs/7e20504e24ef4d99b9e65375590b4a17\n",
      "🧪 View experiment at: http://127.0.0.1:5001/#/experiments/1\n"
     ]
    },
    {
     "name": "stderr",
     "output_type": "stream",
     "text": [
      "2025/02/03 01:50:47 WARNING mlflow.models.signature: Failed to infer schema for outputs. Setting schema to `Schema([ColSpec(type=AnyType())]` as default. To see the full traceback, set logging level to DEBUG.\n",
      "2025/02/03 01:50:47 WARNING mlflow.sklearn: Model was missing function: predict. Not logging python_function flavor!\n"
     ]
    },
    {
     "name": "stdout",
     "output_type": "stream",
     "text": [
      "4 --> train_loss: 4.837 | train_accuracy: -7.7823 | val_loss: 2.4738 | val_accuracy: -3.3841\n",
      "🏃 View run Fold-4 at: http://127.0.0.1:5001/#/experiments/1/runs/bcd76a4cd9194431bf17548ebaa85025\n",
      "🧪 View experiment at: http://127.0.0.1:5001/#/experiments/1\n",
      "✅ Fold: normal | Model: TorchRegression | MSE: 2.1961 | R²: -2.7577\n",
      "🏃 View run method-normal-lr-0.01-reg-TorchRegression-poly-Polynomial-momentum-Momentum is not used-weight-zeros at: http://127.0.0.1:5001/#/experiments/1/runs/b10518ffc0e34d49a3c86f7cc8cb8ef1\n",
      "🧪 View experiment at: http://127.0.0.1:5001/#/experiments/1\n",
      " Running TorchRegression | normal | Polynomial | zeros | Momentum is not used | LR: 0.001\n",
      "(5330,)\n",
      "torch.Size([5330, 90])\n",
      "0 --> train_loss: 55.123 | train_accuracy: -99.7486 | val_loss: 17.7057 | val_accuracy: -29.9541\n",
      "🏃 View run Fold-0 at: http://127.0.0.1:5001/#/experiments/1/runs/400c1b422b3c445ebf4bbc1dc3a182ce\n",
      "🧪 View experiment at: http://127.0.0.1:5001/#/experiments/1\n",
      "1 --> train_loss: 34.048 | train_accuracy: -60.9768 | val_loss: 8.1522 | val_accuracy: -14.5584\n",
      "🏃 View run Fold-1 at: http://127.0.0.1:5001/#/experiments/1/runs/fdcef838290943adbc0aee95f512faee\n",
      "🧪 View experiment at: http://127.0.0.1:5001/#/experiments/1\n",
      "2 --> train_loss: 25.445 | train_accuracy: -45.2853 | val_loss: 7.1919 | val_accuracy: -12.1248\n",
      "🏃 View run Fold-2 at: http://127.0.0.1:5001/#/experiments/1/runs/031a8031f74648e993575e813eaafce5\n",
      "🧪 View experiment at: http://127.0.0.1:5001/#/experiments/1\n",
      "3 --> train_loss: 20.800 | train_accuracy: -36.8217 | val_loss: 6.5355 | val_accuracy: -10.8537\n",
      "🏃 View run Fold-3 at: http://127.0.0.1:5001/#/experiments/1/runs/23c7f0108706442dad3de37ebb1978c0\n",
      "🧪 View experiment at: http://127.0.0.1:5001/#/experiments/1\n"
     ]
    },
    {
     "name": "stderr",
     "output_type": "stream",
     "text": [
      "2025/02/03 01:50:54 WARNING mlflow.models.signature: Failed to infer schema for outputs. Setting schema to `Schema([ColSpec(type=AnyType())]` as default. To see the full traceback, set logging level to DEBUG.\n",
      "2025/02/03 01:50:54 WARNING mlflow.sklearn: Model was missing function: predict. Not logging python_function flavor!\n"
     ]
    },
    {
     "name": "stdout",
     "output_type": "stream",
     "text": [
      "4 --> train_loss: 17.841 | train_accuracy: -31.4440 | val_loss: 6.9486 | val_accuracy: -11.3145\n",
      "🏃 View run Fold-4 at: http://127.0.0.1:5001/#/experiments/1/runs/bce156f0086c49ba8c363d2bdead0720\n",
      "🧪 View experiment at: http://127.0.0.1:5001/#/experiments/1\n",
      "✅ Fold: normal | Model: TorchRegression | MSE: 5.8245 | R²: -8.9660\n",
      "🏃 View run method-normal-lr-0.001-reg-TorchRegression-poly-Polynomial-momentum-Momentum is not used-weight-zeros at: http://127.0.0.1:5001/#/experiments/1/runs/aaa0d3f5a7da4d48bae3e27574f2192f\n",
      "🧪 View experiment at: http://127.0.0.1:5001/#/experiments/1\n",
      " Running TorchRegression | normal | Polynomial | zeros | Momentum is not used | LR: 0.0001\n",
      "(5330,)\n",
      "torch.Size([5330, 90])\n",
      "0 --> train_loss: 139.279 | train_accuracy: -253.5597 | val_loss: 116.2590 | val_accuracy: -202.2510\n",
      "🏃 View run Fold-0 at: http://127.0.0.1:5001/#/experiments/1/runs/96414838275e48b781cf93ba7b5c9d72\n",
      "🧪 View experiment at: http://127.0.0.1:5001/#/experiments/1\n",
      "1 --> train_loss: 119.063 | train_accuracy: -214.6874 | val_loss: 85.4743 | val_accuracy: -162.1265\n",
      "🏃 View run Fold-1 at: http://127.0.0.1:5001/#/experiments/1/runs/eb141728231341a2a562c1d5046a86eb\n",
      "🧪 View experiment at: http://127.0.0.1:5001/#/experiments/1\n",
      "2 --> train_loss: 103.892 | train_accuracy: -187.1292 | val_loss: 64.0800 | val_accuracy: -115.9425\n",
      "🏃 View run Fold-2 at: http://127.0.0.1:5001/#/experiments/1/runs/6dc5b15dac79450a874bd0eb365dddbc\n",
      "🧪 View experiment at: http://127.0.0.1:5001/#/experiments/1\n",
      "3 --> train_loss: 92.087 | train_accuracy: -165.7494 | val_loss: 49.3471 | val_accuracy: -88.5027\n",
      "🏃 View run Fold-3 at: http://127.0.0.1:5001/#/experiments/1/runs/fb776cd6d57f459985b296aab323d222\n",
      "🧪 View experiment at: http://127.0.0.1:5001/#/experiments/1\n"
     ]
    },
    {
     "name": "stderr",
     "output_type": "stream",
     "text": [
      "2025/02/03 01:51:01 WARNING mlflow.models.signature: Failed to infer schema for outputs. Setting schema to `Schema([ColSpec(type=AnyType())]` as default. To see the full traceback, set logging level to DEBUG.\n",
      "2025/02/03 01:51:01 WARNING mlflow.sklearn: Model was missing function: predict. Not logging python_function flavor!\n"
     ]
    },
    {
     "name": "stdout",
     "output_type": "stream",
     "text": [
      "4 --> train_loss: 82.542 | train_accuracy: -148.5593 | val_loss: 41.6527 | val_accuracy: -72.8181\n",
      "🏃 View run Fold-4 at: http://127.0.0.1:5001/#/experiments/1/runs/91743c901127495ba439458f7f632bcb\n",
      "🧪 View experiment at: http://127.0.0.1:5001/#/experiments/1\n",
      "✅ Fold: normal | Model: TorchRegression | MSE: 39.1979 | R²: -66.0700\n",
      "🏃 View run method-normal-lr-0.0001-reg-TorchRegression-poly-Polynomial-momentum-Momentum is not used-weight-zeros at: http://127.0.0.1:5001/#/experiments/1/runs/9871ace0247b449abdef6d2c00d7c0dd\n",
      "🧪 View experiment at: http://127.0.0.1:5001/#/experiments/1\n",
      " Running TorchRegression | normal | Polynomial | zeros | Momentum is used | LR: 0.01\n",
      "(5330,)\n",
      "torch.Size([5330, 90])\n",
      "0 --> train_loss: 32.070 | train_accuracy: -57.6152 | val_loss: 9.2359 | val_accuracy: -15.1468\n",
      "🏃 View run Fold-0 at: http://127.0.0.1:5001/#/experiments/1/runs/33eb888b6a1a48fbae13e6af17452151\n",
      "🧪 View experiment at: http://127.0.0.1:5001/#/experiments/1\n",
      "1 --> train_loss: 19.919 | train_accuracy: -35.2546 | val_loss: 5.5750 | val_accuracy: -9.6399\n",
      "🏃 View run Fold-1 at: http://127.0.0.1:5001/#/experiments/1/runs/8ebc2981d19f429c981254bc1de80605\n",
      "🧪 View experiment at: http://127.0.0.1:5001/#/experiments/1\n",
      "2 --> train_loss: 15.284 | train_accuracy: -26.7947 | val_loss: 5.3739 | val_accuracy: -8.8071\n",
      "🏃 View run Fold-2 at: http://127.0.0.1:5001/#/experiments/1/runs/1ff52d413e3f487d913eadd36121521d\n",
      "🧪 View experiment at: http://127.0.0.1:5001/#/experiments/1\n",
      "3 --> train_loss: 12.788 | train_accuracy: -22.2457 | val_loss: 5.1041 | val_accuracy: -8.2575\n",
      "🏃 View run Fold-3 at: http://127.0.0.1:5001/#/experiments/1/runs/9bd354f14958432b86df9fc8c645d85c\n",
      "🧪 View experiment at: http://127.0.0.1:5001/#/experiments/1\n"
     ]
    },
    {
     "name": "stderr",
     "output_type": "stream",
     "text": [
      "2025/02/03 01:51:08 WARNING mlflow.models.signature: Failed to infer schema for outputs. Setting schema to `Schema([ColSpec(type=AnyType())]` as default. To see the full traceback, set logging level to DEBUG.\n",
      "2025/02/03 01:51:08 WARNING mlflow.sklearn: Model was missing function: predict. Not logging python_function flavor!\n"
     ]
    },
    {
     "name": "stdout",
     "output_type": "stream",
     "text": [
      "4 --> train_loss: 11.182 | train_accuracy: -19.3297 | val_loss: 5.3036 | val_accuracy: -8.3992\n",
      "🏃 View run Fold-4 at: http://127.0.0.1:5001/#/experiments/1/runs/da7671d8d82b4514a9903866db40850b\n",
      "🧪 View experiment at: http://127.0.0.1:5001/#/experiments/1\n",
      "✅ Fold: normal | Model: TorchRegression | MSE: 4.7206 | R²: -7.0773\n",
      "🏃 View run method-normal-lr-0.01-reg-TorchRegression-poly-Polynomial-momentum-Momentum is used-weight-zeros at: http://127.0.0.1:5001/#/experiments/1/runs/054c79423a3048989ebed4178cdedab7\n",
      "🧪 View experiment at: http://127.0.0.1:5001/#/experiments/1\n",
      " Running TorchRegression | normal | Polynomial | zeros | Momentum is used | LR: 0.001\n",
      "(5330,)\n",
      "torch.Size([5330, 90])\n",
      "0 --> train_loss: 117.542 | train_accuracy: -213.8312 | val_loss: 83.8238 | val_accuracy: -145.5457\n",
      "🏃 View run Fold-0 at: http://127.0.0.1:5001/#/experiments/1/runs/2edd2888d7dd48268f797ea0bc86b6c4\n",
      "🧪 View experiment at: http://127.0.0.1:5001/#/experiments/1\n",
      "1 --> train_loss: 91.079 | train_accuracy: -164.2076 | val_loss: 49.7646 | val_accuracy: -93.9751\n",
      "🏃 View run Fold-1 at: http://127.0.0.1:5001/#/experiments/1/runs/60b4b99dca4e4a778ad2d21dbc088e7c\n",
      "🧪 View experiment at: http://127.0.0.1:5001/#/experiments/1\n",
      "2 --> train_loss: 74.235 | train_accuracy: -133.5809 | val_loss: 33.1266 | val_accuracy: -59.4544\n",
      "🏃 View run Fold-2 at: http://127.0.0.1:5001/#/experiments/1/runs/a1f4335b2e9d4bb788624eeff9d259f3\n",
      "🧪 View experiment at: http://127.0.0.1:5001/#/experiments/1\n",
      "3 --> train_loss: 62.706 | train_accuracy: -112.6634 | val_loss: 23.9008 | val_accuracy: -42.3499\n",
      "🏃 View run Fold-3 at: http://127.0.0.1:5001/#/experiments/1/runs/17921d144a4740f795fe327f255e2b8f\n",
      "🧪 View experiment at: http://127.0.0.1:5001/#/experiments/1\n"
     ]
    },
    {
     "name": "stderr",
     "output_type": "stream",
     "text": [
      "2025/02/03 01:51:15 WARNING mlflow.models.signature: Failed to infer schema for outputs. Setting schema to `Schema([ColSpec(type=AnyType())]` as default. To see the full traceback, set logging level to DEBUG.\n",
      "2025/02/03 01:51:15 WARNING mlflow.sklearn: Model was missing function: predict. Not logging python_function flavor!\n"
     ]
    },
    {
     "name": "stdout",
     "output_type": "stream",
     "text": [
      "4 --> train_loss: 54.264 | train_accuracy: -97.3974 | val_loss: 21.1253 | val_accuracy: -36.4389\n",
      "🏃 View run Fold-4 at: http://127.0.0.1:5001/#/experiments/1/runs/405b99b1fec042ae991f277b49e253a3\n",
      "🧪 View experiment at: http://127.0.0.1:5001/#/experiments/1\n",
      "✅ Fold: normal | Model: TorchRegression | MSE: 17.7806 | R²: -29.4237\n",
      "🏃 View run method-normal-lr-0.001-reg-TorchRegression-poly-Polynomial-momentum-Momentum is used-weight-zeros at: http://127.0.0.1:5001/#/experiments/1/runs/7eae7889356e47af8f039e5f65c6d3da\n",
      "🧪 View experiment at: http://127.0.0.1:5001/#/experiments/1\n",
      " Running TorchRegression | normal | Polynomial | zeros | Momentum is used | LR: 0.0001\n",
      "(5330,)\n",
      "torch.Size([5330, 90])\n",
      "0 --> train_loss: 160.193 | train_accuracy: -291.7843 | val_loss: 154.3694 | val_accuracy: -268.8779\n",
      "🏃 View run Fold-0 at: http://127.0.0.1:5001/#/experiments/1/runs/ee1fa49ae0d74d309ddfe78f614bcbc6\n",
      "🧪 View experiment at: http://127.0.0.1:5001/#/experiments/1\n",
      "1 --> train_loss: 154.214 | train_accuracy: -277.9728 | val_loss: 144.0798 | val_accuracy: -273.9743\n",
      "🏃 View run Fold-1 at: http://127.0.0.1:5001/#/experiments/1/runs/bad960a07adf49cfa446968b80759626\n",
      "🧪 View experiment at: http://127.0.0.1:5001/#/experiments/1\n",
      "2 --> train_loss: 148.783 | train_accuracy: -268.1230 | val_loss: 133.0027 | val_accuracy: -241.7228\n",
      "🏃 View run Fold-2 at: http://127.0.0.1:5001/#/experiments/1/runs/51d450b2a76d4a428b2d5d8e068919fb\n",
      "🧪 View experiment at: http://127.0.0.1:5001/#/experiments/1\n",
      "3 --> train_loss: 143.718 | train_accuracy: -259.0193 | val_loss: 123.4868 | val_accuracy: -222.9729\n",
      "🏃 View run Fold-3 at: http://127.0.0.1:5001/#/experiments/1/runs/8fedac60c2194e8db9653f5be6662319\n",
      "🧪 View experiment at: http://127.0.0.1:5001/#/experiments/1\n"
     ]
    },
    {
     "name": "stderr",
     "output_type": "stream",
     "text": [
      "2025/02/03 01:51:22 WARNING mlflow.models.signature: Failed to infer schema for outputs. Setting schema to `Schema([ColSpec(type=AnyType())]` as default. To see the full traceback, set logging level to DEBUG.\n",
      "2025/02/03 01:51:22 WARNING mlflow.sklearn: Model was missing function: predict. Not logging python_function flavor!\n"
     ]
    },
    {
     "name": "stdout",
     "output_type": "stream",
     "text": [
      "4 --> train_loss: 139.005 | train_accuracy: -250.7806 | val_loss: 114.4815 | val_accuracy: -201.8872\n",
      "🏃 View run Fold-4 at: http://127.0.0.1:5001/#/experiments/1/runs/afd1c0a6faef469ab81cc51a0be599cd\n",
      "🧪 View experiment at: http://127.0.0.1:5001/#/experiments/1\n",
      "✅ Fold: normal | Model: TorchRegression | MSE: 115.6943 | R²: -196.9600\n",
      "🏃 View run method-normal-lr-0.0001-reg-TorchRegression-poly-Polynomial-momentum-Momentum is used-weight-zeros at: http://127.0.0.1:5001/#/experiments/1/runs/647eda0a273b4cdebb702fc4b426d081\n",
      "🧪 View experiment at: http://127.0.0.1:5001/#/experiments/1\n",
      " Running TorchRegression | normal | Polynomial | xavier | Momentum is not used | LR: 0.01\n",
      "(5330,)\n",
      "torch.Size([5330, 90])\n",
      "0 --> train_loss: 13.188 | train_accuracy: -23.1034 | val_loss: 5.5766 | val_accuracy: -8.7494\n",
      "🏃 View run Fold-0 at: http://127.0.0.1:5001/#/experiments/1/runs/88bebc84cc914dce90e6472b03bc5b8d\n",
      "🧪 View experiment at: http://127.0.0.1:5001/#/experiments/1\n",
      "1 --> train_loss: 8.818 | train_accuracy: -15.0299 | val_loss: 3.4520 | val_accuracy: -5.5882\n",
      "🏃 View run Fold-1 at: http://127.0.0.1:5001/#/experiments/1/runs/d2853e52f0154053803a36f3f7daa47c\n",
      "🧪 View experiment at: http://127.0.0.1:5001/#/experiments/1\n",
      "2 --> train_loss: 7.018 | train_accuracy: -11.7467 | val_loss: 2.8813 | val_accuracy: -4.2581\n",
      "🏃 View run Fold-2 at: http://127.0.0.1:5001/#/experiments/1/runs/a95231b410cc49c98183a44ad50513bd\n",
      "🧪 View experiment at: http://127.0.0.1:5001/#/experiments/1\n",
      "3 --> train_loss: 5.952 | train_accuracy: -9.8068 | val_loss: 2.6380 | val_accuracy: -3.7847\n",
      "🏃 View run Fold-3 at: http://127.0.0.1:5001/#/experiments/1/runs/4c4afcc9af9d458f823d77f3175dd736\n",
      "🧪 View experiment at: http://127.0.0.1:5001/#/experiments/1\n"
     ]
    },
    {
     "name": "stderr",
     "output_type": "stream",
     "text": [
      "2025/02/03 01:51:29 WARNING mlflow.models.signature: Failed to infer schema for outputs. Setting schema to `Schema([ColSpec(type=AnyType())]` as default. To see the full traceback, set logging level to DEBUG.\n",
      "2025/02/03 01:51:29 WARNING mlflow.sklearn: Model was missing function: predict. Not logging python_function flavor!\n"
     ]
    },
    {
     "name": "stdout",
     "output_type": "stream",
     "text": [
      "4 --> train_loss: 5.224 | train_accuracy: -8.4885 | val_loss: 2.5366 | val_accuracy: -3.4954\n",
      "🏃 View run Fold-4 at: http://127.0.0.1:5001/#/experiments/1/runs/77b3f3f3ae244b109114ca5cf9d0981f\n",
      "🧪 View experiment at: http://127.0.0.1:5001/#/experiments/1\n",
      "✅ Fold: normal | Model: TorchRegression | MSE: 2.2172 | R²: -2.7937\n",
      "🏃 View run method-normal-lr-0.01-reg-TorchRegression-poly-Polynomial-momentum-Momentum is not used-weight-xavier at: http://127.0.0.1:5001/#/experiments/1/runs/bfbaa5c8fd8f478a82d80084e6dd34ce\n",
      "🧪 View experiment at: http://127.0.0.1:5001/#/experiments/1\n",
      " Running TorchRegression | normal | Polynomial | xavier | Momentum is not used | LR: 0.001\n",
      "(5330,)\n",
      "torch.Size([5330, 90])\n",
      "0 --> train_loss: 67.249 | train_accuracy: -121.9118 | val_loss: 21.3103 | val_accuracy: -36.2560\n",
      "🏃 View run Fold-0 at: http://127.0.0.1:5001/#/experiments/1/runs/5166a8b4b99b489db112c38e214686bc\n",
      "🧪 View experiment at: http://127.0.0.1:5001/#/experiments/1\n",
      "1 --> train_loss: 41.345 | train_accuracy: -74.2656 | val_loss: 9.4966 | val_accuracy: -17.1242\n",
      "🏃 View run Fold-1 at: http://127.0.0.1:5001/#/experiments/1/runs/4d384ca00ea04db1a1cbbc4b20821287\n",
      "🧪 View experiment at: http://127.0.0.1:5001/#/experiments/1\n",
      "2 --> train_loss: 30.689 | train_accuracy: -54.8293 | val_loss: 8.2258 | val_accuracy: -14.0116\n",
      "🏃 View run Fold-2 at: http://127.0.0.1:5001/#/experiments/1/runs/28a0f473dad54b508afd9e260c562452\n",
      "🧪 View experiment at: http://127.0.0.1:5001/#/experiments/1\n",
      "3 --> train_loss: 24.929 | train_accuracy: -44.3340 | val_loss: 7.2199 | val_accuracy: -12.0950\n",
      "🏃 View run Fold-3 at: http://127.0.0.1:5001/#/experiments/1/runs/73e1903e1d51436c9e2ea01078d69e81\n",
      "🧪 View experiment at: http://127.0.0.1:5001/#/experiments/1\n"
     ]
    },
    {
     "name": "stderr",
     "output_type": "stream",
     "text": [
      "2025/02/03 01:51:36 WARNING mlflow.models.signature: Failed to infer schema for outputs. Setting schema to `Schema([ColSpec(type=AnyType())]` as default. To see the full traceback, set logging level to DEBUG.\n",
      "2025/02/03 01:51:36 WARNING mlflow.sklearn: Model was missing function: predict. Not logging python_function flavor!\n"
     ]
    },
    {
     "name": "stdout",
     "output_type": "stream",
     "text": [
      "4 --> train_loss: 21.257 | train_accuracy: -37.6605 | val_loss: 7.6312 | val_accuracy: -12.5242\n",
      "🏃 View run Fold-4 at: http://127.0.0.1:5001/#/experiments/1/runs/c02fc58a57bc4e34b2e715deaee519b2\n",
      "🧪 View experiment at: http://127.0.0.1:5001/#/experiments/1\n",
      "✅ Fold: normal | Model: TorchRegression | MSE: 6.2676 | R²: -9.7242\n",
      "🏃 View run method-normal-lr-0.001-reg-TorchRegression-poly-Polynomial-momentum-Momentum is not used-weight-xavier at: http://127.0.0.1:5001/#/experiments/1/runs/c5dfbf3e24f74115b04d704f3ee74ea7\n",
      "🧪 View experiment at: http://127.0.0.1:5001/#/experiments/1\n",
      " Running TorchRegression | normal | Polynomial | xavier | Momentum is not used | LR: 0.0001\n",
      "(5330,)\n",
      "torch.Size([5330, 90])\n",
      "0 --> train_loss: 189.547 | train_accuracy: -345.4357 | val_loss: 157.3813 | val_accuracy: -274.1435\n",
      "🏃 View run Fold-0 at: http://127.0.0.1:5001/#/experiments/1/runs/a6bed3d5cbfe4ee58397ac891389078e\n",
      "🧪 View experiment at: http://127.0.0.1:5001/#/experiments/1\n",
      "1 --> train_loss: 161.253 | train_accuracy: -291.1358 | val_loss: 113.5009 | val_accuracy: -215.6149\n",
      "🏃 View run Fold-1 at: http://127.0.0.1:5001/#/experiments/1/runs/ea50dab3d43b48e3aa043c255223ed4f\n",
      "🧪 View experiment at: http://127.0.0.1:5001/#/experiments/1\n",
      "2 --> train_loss: 139.934 | train_accuracy: -252.4092 | val_loss: 83.9069 | val_accuracy: -152.1256\n",
      "🏃 View run Fold-2 at: http://127.0.0.1:5001/#/experiments/1/runs/b95d822784444eceb04493b5b8b7ecfc\n",
      "🧪 View experiment at: http://127.0.0.1:5001/#/experiments/1\n",
      "3 --> train_loss: 123.347 | train_accuracy: -222.3650 | val_loss: 63.7841 | val_accuracy: -114.6878\n",
      "🏃 View run Fold-3 at: http://127.0.0.1:5001/#/experiments/1/runs/ecbaf4bfcd8d4a8f821debd4505be014\n",
      "🧪 View experiment at: http://127.0.0.1:5001/#/experiments/1\n"
     ]
    },
    {
     "name": "stderr",
     "output_type": "stream",
     "text": [
      "2025/02/03 01:51:43 WARNING mlflow.models.signature: Failed to infer schema for outputs. Setting schema to `Schema([ColSpec(type=AnyType())]` as default. To see the full traceback, set logging level to DEBUG.\n",
      "2025/02/03 01:51:43 WARNING mlflow.sklearn: Model was missing function: predict. Not logging python_function flavor!\n"
     ]
    },
    {
     "name": "stdout",
     "output_type": "stream",
     "text": [
      "4 --> train_loss: 110.063 | train_accuracy: -198.4283 | val_loss: 51.5366 | val_accuracy: -90.3345\n",
      "🏃 View run Fold-4 at: http://127.0.0.1:5001/#/experiments/1/runs/777caa22129748d0840b88b1c2ca483e\n",
      "🧪 View experiment at: http://127.0.0.1:5001/#/experiments/1\n",
      "✅ Fold: normal | Model: TorchRegression | MSE: 50.0233 | R²: -84.5928\n",
      "🏃 View run method-normal-lr-0.0001-reg-TorchRegression-poly-Polynomial-momentum-Momentum is not used-weight-xavier at: http://127.0.0.1:5001/#/experiments/1/runs/f8c936c733304149988b7827e00865b3\n",
      "🧪 View experiment at: http://127.0.0.1:5001/#/experiments/1\n",
      " Running TorchRegression | normal | Polynomial | xavier | Momentum is used | LR: 0.01\n",
      "(5330,)\n",
      "torch.Size([5330, 90])\n",
      "0 --> train_loss: 36.533 | train_accuracy: -65.7706 | val_loss: 10.4688 | val_accuracy: -17.3022\n",
      "🏃 View run Fold-0 at: http://127.0.0.1:5001/#/experiments/1/runs/a7e89569e7dc42eda2d35a1e41eba8bd\n",
      "🧪 View experiment at: http://127.0.0.1:5001/#/experiments/1\n",
      "1 --> train_loss: 22.764 | train_accuracy: -40.4299 | val_loss: 6.5629 | val_accuracy: -11.5252\n",
      "🏃 View run Fold-1 at: http://127.0.0.1:5001/#/experiments/1/runs/cacda633c8574386a55409b75e288455\n",
      "🧪 View experiment at: http://127.0.0.1:5001/#/experiments/1\n",
      "2 --> train_loss: 17.506 | train_accuracy: -30.8346 | val_loss: 6.2354 | val_accuracy: -10.3793\n",
      "🏃 View run Fold-2 at: http://127.0.0.1:5001/#/experiments/1/runs/22400f0aea864d939741abb0a4d0ad18\n",
      "🧪 View experiment at: http://127.0.0.1:5001/#/experiments/1\n",
      "3 --> train_loss: 14.665 | train_accuracy: -25.6558 | val_loss: 5.8094 | val_accuracy: -9.5368\n",
      "🏃 View run Fold-3 at: http://127.0.0.1:5001/#/experiments/1/runs/a124820a720d4cb6a8a32d6a19bc1885\n",
      "🧪 View experiment at: http://127.0.0.1:5001/#/experiments/1\n"
     ]
    },
    {
     "name": "stderr",
     "output_type": "stream",
     "text": [
      "2025/02/03 01:51:51 WARNING mlflow.models.signature: Failed to infer schema for outputs. Setting schema to `Schema([ColSpec(type=AnyType())]` as default. To see the full traceback, set logging level to DEBUG.\n",
      "2025/02/03 01:51:51 WARNING mlflow.sklearn: Model was missing function: predict. Not logging python_function flavor!\n"
     ]
    },
    {
     "name": "stdout",
     "output_type": "stream",
     "text": [
      "4 --> train_loss: 12.820 | train_accuracy: -22.3060 | val_loss: 6.2030 | val_accuracy: -9.9931\n",
      "🏃 View run Fold-4 at: http://127.0.0.1:5001/#/experiments/1/runs/8b5c56f13b8f4a44a81b2a7a524de4d0\n",
      "🧪 View experiment at: http://127.0.0.1:5001/#/experiments/1\n",
      "✅ Fold: normal | Model: TorchRegression | MSE: 5.3026 | R²: -8.0731\n",
      "🏃 View run method-normal-lr-0.01-reg-TorchRegression-poly-Polynomial-momentum-Momentum is used-weight-xavier at: http://127.0.0.1:5001/#/experiments/1/runs/1f88970cae144b3995518a735d097eb9\n",
      "🧪 View experiment at: http://127.0.0.1:5001/#/experiments/1\n",
      " Running TorchRegression | normal | Polynomial | xavier | Momentum is used | LR: 0.001\n",
      "(5330,)\n",
      "torch.Size([5330, 90])\n",
      "0 --> train_loss: 141.531 | train_accuracy: -257.6771 | val_loss: 98.2452 | val_accuracy: -170.7582\n",
      "🏃 View run Fold-0 at: http://127.0.0.1:5001/#/experiments/1/runs/75fe8b5ec09846899bf67b6bd3a43397\n",
      "🧪 View experiment at: http://127.0.0.1:5001/#/experiments/1\n",
      "1 --> train_loss: 108.316 | train_accuracy: -195.5086 | val_loss: 57.3528 | val_accuracy: -108.4571\n",
      "🏃 View run Fold-1 at: http://127.0.0.1:5001/#/experiments/1/runs/0cafb352247c4030a8771426ffb91821\n",
      "🧪 View experiment at: http://127.0.0.1:5001/#/experiments/1\n",
      "2 --> train_loss: 87.693 | train_accuracy: -158.0045 | val_loss: 38.0593 | val_accuracy: -68.4562\n",
      "🏃 View run Fold-2 at: http://127.0.0.1:5001/#/experiments/1/runs/ed79080867394e7d9ef32fadb466ea0a\n",
      "🧪 View experiment at: http://127.0.0.1:5001/#/experiments/1\n",
      "3 --> train_loss: 73.837 | train_accuracy: -132.8593 | val_loss: 27.7543 | val_accuracy: -49.3391\n",
      "🏃 View run Fold-3 at: http://127.0.0.1:5001/#/experiments/1/runs/3665df82601a45cc835e5f077ddfa2b9\n",
      "🧪 View experiment at: http://127.0.0.1:5001/#/experiments/1\n"
     ]
    },
    {
     "name": "stderr",
     "output_type": "stream",
     "text": [
      "2025/02/03 01:51:59 WARNING mlflow.models.signature: Failed to infer schema for outputs. Setting schema to `Schema([ColSpec(type=AnyType())]` as default. To see the full traceback, set logging level to DEBUG.\n",
      "2025/02/03 01:51:59 WARNING mlflow.sklearn: Model was missing function: predict. Not logging python_function flavor!\n"
     ]
    },
    {
     "name": "stdout",
     "output_type": "stream",
     "text": [
      "4 --> train_loss: 63.830 | train_accuracy: -114.7577 | val_loss: 24.8748 | val_accuracy: -43.0837\n",
      "🏃 View run Fold-4 at: http://127.0.0.1:5001/#/experiments/1/runs/f2cb096e8fea44e8a4b2cb62a939ff30\n",
      "🧪 View experiment at: http://127.0.0.1:5001/#/experiments/1\n",
      "✅ Fold: normal | Model: TorchRegression | MSE: 20.0506 | R²: -33.3077\n",
      "🏃 View run method-normal-lr-0.001-reg-TorchRegression-poly-Polynomial-momentum-Momentum is used-weight-xavier at: http://127.0.0.1:5001/#/experiments/1/runs/daa3a03200af42308a43ec8e1bac8686\n",
      "🧪 View experiment at: http://127.0.0.1:5001/#/experiments/1\n",
      " Running TorchRegression | normal | Polynomial | xavier | Momentum is used | LR: 0.0001\n",
      "(5330,)\n",
      "torch.Size([5330, 90])\n",
      "0 --> train_loss: 215.266 | train_accuracy: -392.4418 | val_loss: 206.2320 | val_accuracy: -359.5473\n",
      "🏃 View run Fold-0 at: http://127.0.0.1:5001/#/experiments/1/runs/250e81544b734cdb89fcf66af64a9035\n",
      "🧪 View experiment at: http://127.0.0.1:5001/#/experiments/1\n",
      "1 --> train_loss: 206.774 | train_accuracy: -373.0629 | val_loss: 187.6143 | val_accuracy: -357.0591\n",
      "🏃 View run Fold-1 at: http://127.0.0.1:5001/#/experiments/1/runs/601da28a14a548bcbdaea0d0ffd21189\n",
      "🧪 View experiment at: http://127.0.0.1:5001/#/experiments/1\n",
      "2 --> train_loss: 198.489 | train_accuracy: -358.0394 | val_loss: 175.2631 | val_accuracy: -318.8459\n",
      "🏃 View run Fold-2 at: http://127.0.0.1:5001/#/experiments/1/runs/d16fa6d8adfc4f429c32a38804df6aca\n",
      "🧪 View experiment at: http://127.0.0.1:5001/#/experiments/1\n",
      "3 --> train_loss: 190.796 | train_accuracy: -344.1977 | val_loss: 162.6875 | val_accuracy: -294.0728\n",
      "🏃 View run Fold-3 at: http://127.0.0.1:5001/#/experiments/1/runs/6d1cca73711c45d5934fac671f4827d8\n",
      "🧪 View experiment at: http://127.0.0.1:5001/#/experiments/1\n"
     ]
    },
    {
     "name": "stderr",
     "output_type": "stream",
     "text": [
      "2025/02/03 01:52:08 WARNING mlflow.models.signature: Failed to infer schema for outputs. Setting schema to `Schema([ColSpec(type=AnyType())]` as default. To see the full traceback, set logging level to DEBUG.\n",
      "2025/02/03 01:52:08 WARNING mlflow.sklearn: Model was missing function: predict. Not logging python_function flavor!\n"
     ]
    },
    {
     "name": "stdout",
     "output_type": "stream",
     "text": [
      "4 --> train_loss: 183.807 | train_accuracy: -331.9270 | val_loss: 147.8438 | val_accuracy: -261.0127\n",
      "🏃 View run Fold-4 at: http://127.0.0.1:5001/#/experiments/1/runs/e250d681a3044d44a06ecb90a0031387\n",
      "🧪 View experiment at: http://127.0.0.1:5001/#/experiments/1\n",
      "✅ Fold: normal | Model: TorchRegression | MSE: 149.4226 | R²: -254.6711\n",
      "🏃 View run method-normal-lr-0.0001-reg-TorchRegression-poly-Polynomial-momentum-Momentum is used-weight-xavier at: http://127.0.0.1:5001/#/experiments/1/runs/15a9b12fcc2d455683d6dbc0702f3c32\n",
      "🧪 View experiment at: http://127.0.0.1:5001/#/experiments/1\n",
      " Running TorchRegression | stochastic | Linear | zeros | Momentum is not used | LR: 0.01\n",
      "(5330,)\n",
      "torch.Size([5330, 12])\n",
      "0 --> train_loss: 1.569 | train_accuracy: -inf | val_loss: 1.6394 | val_accuracy: -1.8661\n",
      "🏃 View run Fold-0 at: http://127.0.0.1:5001/#/experiments/1/runs/90186fa802c44f4d9eef4ac72995be94\n",
      "🧪 View experiment at: http://127.0.0.1:5001/#/experiments/1\n",
      "1 --> train_loss: 1.851 | train_accuracy: -inf | val_loss: 1.5005 | val_accuracy: -1.8637\n",
      "🏃 View run Fold-1 at: http://127.0.0.1:5001/#/experiments/1/runs/0d8cdd82f8af4ce9bd0c6815fa57f3fe\n",
      "🧪 View experiment at: http://127.0.0.1:5001/#/experiments/1\n",
      "2 --> train_loss: 1.736 | train_accuracy: -inf | val_loss: 1.5058 | val_accuracy: -1.7480\n",
      "🏃 View run Fold-2 at: http://127.0.0.1:5001/#/experiments/1/runs/52d27375eb0647cba4047e107ace0ef2\n",
      "🧪 View experiment at: http://127.0.0.1:5001/#/experiments/1\n",
      "3 --> train_loss: 1.627 | train_accuracy: -inf | val_loss: 1.4631 | val_accuracy: -1.6537\n",
      "🏃 View run Fold-3 at: http://127.0.0.1:5001/#/experiments/1/runs/45c3bd5682324f4d8d02141a1baf0504\n",
      "🧪 View experiment at: http://127.0.0.1:5001/#/experiments/1\n"
     ]
    },
    {
     "name": "stderr",
     "output_type": "stream",
     "text": [
      "2025/02/03 01:54:07 WARNING mlflow.models.signature: Failed to infer schema for outputs. Setting schema to `Schema([ColSpec(type=AnyType())]` as default. To see the full traceback, set logging level to DEBUG.\n",
      "2025/02/03 01:54:07 WARNING mlflow.sklearn: Model was missing function: predict. Not logging python_function flavor!\n"
     ]
    },
    {
     "name": "stdout",
     "output_type": "stream",
     "text": [
      "4 --> train_loss: 1.570 | train_accuracy: -inf | val_loss: 1.6949 | val_accuracy: -2.0037\n",
      "🏃 View run Fold-4 at: http://127.0.0.1:5001/#/experiments/1/runs/0bceed6783b54d0eada1173cb5942bb2\n",
      "🧪 View experiment at: http://127.0.0.1:5001/#/experiments/1\n",
      "✅ Fold: stochastic | Model: TorchRegression | MSE: 1.5715 | R²: -1.6890\n",
      "🏃 View run method-stochastic-lr-0.01-reg-TorchRegression-poly-Linear-momentum-Momentum is not used-weight-zeros at: http://127.0.0.1:5001/#/experiments/1/runs/bb0f0d8ac2284ae7afcdd0e82b7b0219\n",
      "🧪 View experiment at: http://127.0.0.1:5001/#/experiments/1\n",
      " Running TorchRegression | stochastic | Linear | zeros | Momentum is not used | LR: 0.001\n",
      "(5330,)\n",
      "torch.Size([5330, 12])\n",
      "0 --> train_loss: 1.930 | train_accuracy: -inf | val_loss: 1.5561 | val_accuracy: -1.7204\n",
      "🏃 View run Fold-0 at: http://127.0.0.1:5001/#/experiments/1/runs/af4a5fa6933b4509b312b5465e77ba1d\n",
      "🧪 View experiment at: http://127.0.0.1:5001/#/experiments/1\n",
      "1 --> train_loss: 1.730 | train_accuracy: -inf | val_loss: 1.4355 | val_accuracy: -1.7396\n",
      "🏃 View run Fold-1 at: http://127.0.0.1:5001/#/experiments/1/runs/682f62caaa464e5c80ef08441b266d8b\n",
      "🧪 View experiment at: http://127.0.0.1:5001/#/experiments/1\n",
      "2 --> train_loss: 1.581 | train_accuracy: -inf | val_loss: 1.4533 | val_accuracy: -1.6522\n",
      "🏃 View run Fold-2 at: http://127.0.0.1:5001/#/experiments/1/runs/24a733dfb1ca495c8e2ad2367a798648\n",
      "🧪 View experiment at: http://127.0.0.1:5001/#/experiments/1\n",
      "3 --> train_loss: 1.528 | train_accuracy: -inf | val_loss: 1.4543 | val_accuracy: -1.6377\n",
      "🏃 View run Fold-3 at: http://127.0.0.1:5001/#/experiments/1/runs/0f1fdafdedb2472b941b8f65200317db\n",
      "🧪 View experiment at: http://127.0.0.1:5001/#/experiments/1\n"
     ]
    },
    {
     "name": "stderr",
     "output_type": "stream",
     "text": [
      "2025/02/03 01:56:08 WARNING mlflow.models.signature: Failed to infer schema for outputs. Setting schema to `Schema([ColSpec(type=AnyType())]` as default. To see the full traceback, set logging level to DEBUG.\n",
      "2025/02/03 01:56:08 WARNING mlflow.sklearn: Model was missing function: predict. Not logging python_function flavor!\n"
     ]
    },
    {
     "name": "stdout",
     "output_type": "stream",
     "text": [
      "4 --> train_loss: 1.543 | train_accuracy: -inf | val_loss: 1.6349 | val_accuracy: -1.8974\n",
      "🏃 View run Fold-4 at: http://127.0.0.1:5001/#/experiments/1/runs/9bb87c145e5242978cb73b04871c2b13\n",
      "🧪 View experiment at: http://127.0.0.1:5001/#/experiments/1\n",
      "✅ Fold: stochastic | Model: TorchRegression | MSE: 1.5201 | R²: -1.6011\n",
      "🏃 View run method-stochastic-lr-0.001-reg-TorchRegression-poly-Linear-momentum-Momentum is not used-weight-zeros at: http://127.0.0.1:5001/#/experiments/1/runs/7d1862f11831411a8d90b14ed81be4c9\n",
      "🧪 View experiment at: http://127.0.0.1:5001/#/experiments/1\n",
      " Running TorchRegression | stochastic | Linear | zeros | Momentum is not used | LR: 0.0001\n",
      "(5330,)\n",
      "torch.Size([5330, 12])\n",
      "0 --> train_loss: 2.857 | train_accuracy: -inf | val_loss: 1.5547 | val_accuracy: -1.7180\n",
      "🏃 View run Fold-0 at: http://127.0.0.1:5001/#/experiments/1/runs/787f487fb13e4ec99a74e0bcf215656e\n",
      "🧪 View experiment at: http://127.0.0.1:5001/#/experiments/1\n",
      "1 --> train_loss: 2.003 | train_accuracy: -inf | val_loss: 1.4417 | val_accuracy: -1.7514\n",
      "🏃 View run Fold-1 at: http://127.0.0.1:5001/#/experiments/1/runs/7e2d8eb216ff49218590b7b91a1accee\n",
      "🧪 View experiment at: http://127.0.0.1:5001/#/experiments/1\n",
      "2 --> train_loss: 1.792 | train_accuracy: -inf | val_loss: 1.4486 | val_accuracy: -1.6437\n",
      "🏃 View run Fold-2 at: http://127.0.0.1:5001/#/experiments/1/runs/0bc09e0bbdc640d39f130cea6373b50e\n",
      "🧪 View experiment at: http://127.0.0.1:5001/#/experiments/1\n",
      "3 --> train_loss: 1.721 | train_accuracy: -inf | val_loss: 1.4597 | val_accuracy: -1.6475\n",
      "🏃 View run Fold-3 at: http://127.0.0.1:5001/#/experiments/1/runs/69c36e146d614e9f829093e135afb99b\n",
      "🧪 View experiment at: http://127.0.0.1:5001/#/experiments/1\n"
     ]
    },
    {
     "name": "stderr",
     "output_type": "stream",
     "text": [
      "2025/02/03 01:58:03 WARNING mlflow.models.signature: Failed to infer schema for outputs. Setting schema to `Schema([ColSpec(type=AnyType())]` as default. To see the full traceback, set logging level to DEBUG.\n",
      "2025/02/03 01:58:03 WARNING mlflow.sklearn: Model was missing function: predict. Not logging python_function flavor!\n"
     ]
    },
    {
     "name": "stdout",
     "output_type": "stream",
     "text": [
      "4 --> train_loss: 1.674 | train_accuracy: -inf | val_loss: 1.6280 | val_accuracy: -1.8852\n",
      "🏃 View run Fold-4 at: http://127.0.0.1:5001/#/experiments/1/runs/a483698c45d940839a265e375e7f42c2\n",
      "🧪 View experiment at: http://127.0.0.1:5001/#/experiments/1\n",
      "✅ Fold: stochastic | Model: TorchRegression | MSE: 1.5183 | R²: -1.5978\n",
      "🏃 View run method-stochastic-lr-0.0001-reg-TorchRegression-poly-Linear-momentum-Momentum is not used-weight-zeros at: http://127.0.0.1:5001/#/experiments/1/runs/77f2382506c54babb5277cd26b59062d\n",
      "🧪 View experiment at: http://127.0.0.1:5001/#/experiments/1\n",
      " Running TorchRegression | stochastic | Linear | zeros | Momentum is used | LR: 0.01\n",
      "(5330,)\n",
      "torch.Size([5330, 12])\n",
      "0 --> train_loss: 1.378 | train_accuracy: -inf | val_loss: 1.5672 | val_accuracy: -1.7399\n",
      "🏃 View run Fold-0 at: http://127.0.0.1:5001/#/experiments/1/runs/529dbad5830245e282a348234e7ece41\n",
      "🧪 View experiment at: http://127.0.0.1:5001/#/experiments/1\n",
      "1 --> train_loss: 1.563 | train_accuracy: -inf | val_loss: 1.4725 | val_accuracy: -1.8102\n",
      "🏃 View run Fold-1 at: http://127.0.0.1:5001/#/experiments/1/runs/122a440dbad241668417479fd1f7b031\n",
      "🧪 View experiment at: http://127.0.0.1:5001/#/experiments/1\n",
      "2 --> train_loss: 1.596 | train_accuracy: -inf | val_loss: 1.4771 | val_accuracy: -1.6956\n",
      "🏃 View run Fold-2 at: http://127.0.0.1:5001/#/experiments/1/runs/db36dd3a2f6b4813bdf5ffbf0a54d76a\n",
      "🧪 View experiment at: http://127.0.0.1:5001/#/experiments/1\n",
      "3 --> train_loss: 1.533 | train_accuracy: -inf | val_loss: 1.4651 | val_accuracy: -1.6573\n",
      "🏃 View run Fold-3 at: http://127.0.0.1:5001/#/experiments/1/runs/4391a7f67b164308b5927afd4a02aa2a\n",
      "🧪 View experiment at: http://127.0.0.1:5001/#/experiments/1\n"
     ]
    },
    {
     "name": "stderr",
     "output_type": "stream",
     "text": [
      "2025/02/03 02:00:10 WARNING mlflow.models.signature: Failed to infer schema for outputs. Setting schema to `Schema([ColSpec(type=AnyType())]` as default. To see the full traceback, set logging level to DEBUG.\n",
      "2025/02/03 02:00:10 WARNING mlflow.sklearn: Model was missing function: predict. Not logging python_function flavor!\n"
     ]
    },
    {
     "name": "stdout",
     "output_type": "stream",
     "text": [
      "4 --> train_loss: 1.559 | train_accuracy: -inf | val_loss: 1.6334 | val_accuracy: -1.8947\n",
      "🏃 View run Fold-4 at: http://127.0.0.1:5001/#/experiments/1/runs/0964921bda4c4b70abb15e99f293c56c\n",
      "🧪 View experiment at: http://127.0.0.1:5001/#/experiments/1\n",
      "✅ Fold: stochastic | Model: TorchRegression | MSE: 1.5112 | R²: -1.5857\n",
      "🏃 View run method-stochastic-lr-0.01-reg-TorchRegression-poly-Linear-momentum-Momentum is used-weight-zeros at: http://127.0.0.1:5001/#/experiments/1/runs/f6a801bdcb5e4182804f850e0e4ef66b\n",
      "🧪 View experiment at: http://127.0.0.1:5001/#/experiments/1\n",
      " Running TorchRegression | stochastic | Linear | zeros | Momentum is used | LR: 0.001\n",
      "(5330,)\n",
      "torch.Size([5330, 12])\n",
      "0 --> train_loss: 1.463 | train_accuracy: -inf | val_loss: 1.5444 | val_accuracy: -1.7000\n",
      "🏃 View run Fold-0 at: http://127.0.0.1:5001/#/experiments/1/runs/46471615554544a2be5413028e5ad0e9\n",
      "🧪 View experiment at: http://127.0.0.1:5001/#/experiments/1\n",
      "1 --> train_loss: 1.503 | train_accuracy: -inf | val_loss: 1.4370 | val_accuracy: -1.7424\n",
      "🏃 View run Fold-1 at: http://127.0.0.1:5001/#/experiments/1/runs/b6dce322fad44c4d96269227500df74e\n",
      "🧪 View experiment at: http://127.0.0.1:5001/#/experiments/1\n",
      "2 --> train_loss: 1.470 | train_accuracy: -inf | val_loss: 1.4468 | val_accuracy: -1.6404\n",
      "🏃 View run Fold-2 at: http://127.0.0.1:5001/#/experiments/1/runs/6d3a21de3c7c4c5487b147ef5ef17907\n",
      "🧪 View experiment at: http://127.0.0.1:5001/#/experiments/1\n",
      "3 --> train_loss: 1.363 | train_accuracy: -inf | val_loss: 1.4553 | val_accuracy: -1.6396\n",
      "🏃 View run Fold-3 at: http://127.0.0.1:5001/#/experiments/1/runs/90e274a27c344703a46dba79555cd20c\n",
      "🧪 View experiment at: http://127.0.0.1:5001/#/experiments/1\n"
     ]
    },
    {
     "name": "stderr",
     "output_type": "stream",
     "text": [
      "2025/02/03 02:02:19 WARNING mlflow.models.signature: Failed to infer schema for outputs. Setting schema to `Schema([ColSpec(type=AnyType())]` as default. To see the full traceback, set logging level to DEBUG.\n",
      "2025/02/03 02:02:19 WARNING mlflow.sklearn: Model was missing function: predict. Not logging python_function flavor!\n"
     ]
    },
    {
     "name": "stdout",
     "output_type": "stream",
     "text": [
      "4 --> train_loss: 1.324 | train_accuracy: -inf | val_loss: 1.6274 | val_accuracy: -1.8841\n",
      "🏃 View run Fold-4 at: http://127.0.0.1:5001/#/experiments/1/runs/3029558b226f413297d70daf6ef00c0b\n",
      "🧪 View experiment at: http://127.0.0.1:5001/#/experiments/1\n",
      "✅ Fold: stochastic | Model: TorchRegression | MSE: 1.5165 | R²: -1.5948\n",
      "🏃 View run method-stochastic-lr-0.001-reg-TorchRegression-poly-Linear-momentum-Momentum is used-weight-zeros at: http://127.0.0.1:5001/#/experiments/1/runs/768886ffab5d45709e3032d116035327\n",
      "🧪 View experiment at: http://127.0.0.1:5001/#/experiments/1\n",
      " Running TorchRegression | stochastic | Linear | zeros | Momentum is used | LR: 0.0001\n",
      "(5330,)\n",
      "torch.Size([5330, 12])\n",
      "0 --> train_loss: 6.109 | train_accuracy: -inf | val_loss: 2.4398 | val_accuracy: -3.2654\n",
      "🏃 View run Fold-0 at: http://127.0.0.1:5001/#/experiments/1/runs/c2090400a5ad4959bb5e4f64a47b16ab\n",
      "🧪 View experiment at: http://127.0.0.1:5001/#/experiments/1\n",
      "1 --> train_loss: 4.095 | train_accuracy: -inf | val_loss: 1.7440 | val_accuracy: -2.3285\n",
      "🏃 View run Fold-1 at: http://127.0.0.1:5001/#/experiments/1/runs/1db300251a854c73a0e2c1db55338676\n",
      "🧪 View experiment at: http://127.0.0.1:5001/#/experiments/1\n",
      "2 --> train_loss: 3.256 | train_accuracy: -inf | val_loss: 1.5959 | val_accuracy: -1.9125\n",
      "🏃 View run Fold-2 at: http://127.0.0.1:5001/#/experiments/1/runs/4f1af93340ca48399825585f2ae30d6a\n",
      "🧪 View experiment at: http://127.0.0.1:5001/#/experiments/1\n",
      "3 --> train_loss: 2.843 | train_accuracy: -inf | val_loss: 1.5610 | val_accuracy: -1.8313\n",
      "🏃 View run Fold-3 at: http://127.0.0.1:5001/#/experiments/1/runs/c81ad6f8544b43a68b8d4e2a1ab7b896\n",
      "🧪 View experiment at: http://127.0.0.1:5001/#/experiments/1\n"
     ]
    },
    {
     "name": "stderr",
     "output_type": "stream",
     "text": [
      "2025/02/03 02:04:27 WARNING mlflow.models.signature: Failed to infer schema for outputs. Setting schema to `Schema([ColSpec(type=AnyType())]` as default. To see the full traceback, set logging level to DEBUG.\n",
      "2025/02/03 02:04:27 WARNING mlflow.sklearn: Model was missing function: predict. Not logging python_function flavor!\n"
     ]
    },
    {
     "name": "stdout",
     "output_type": "stream",
     "text": [
      "4 --> train_loss: 2.645 | train_accuracy: -inf | val_loss: 1.6489 | val_accuracy: -1.9223\n",
      "🏃 View run Fold-4 at: http://127.0.0.1:5001/#/experiments/1/runs/a14f1c774611421d8a2f00c08b9fbb00\n",
      "🧪 View experiment at: http://127.0.0.1:5001/#/experiments/1\n",
      "✅ Fold: stochastic | Model: TorchRegression | MSE: 1.5620 | R²: -1.6727\n",
      "🏃 View run method-stochastic-lr-0.0001-reg-TorchRegression-poly-Linear-momentum-Momentum is used-weight-zeros at: http://127.0.0.1:5001/#/experiments/1/runs/948ba65ea50f429e856574ab634d4aff\n",
      "🧪 View experiment at: http://127.0.0.1:5001/#/experiments/1\n",
      " Running TorchRegression | stochastic | Linear | xavier | Momentum is not used | LR: 0.01\n",
      "(5330,)\n",
      "torch.Size([5330, 12])\n",
      "0 --> train_loss: 1.474 | train_accuracy: -inf | val_loss: 1.5991 | val_accuracy: -1.7956\n",
      "🏃 View run Fold-0 at: http://127.0.0.1:5001/#/experiments/1/runs/a78efb006f6d4459b19d39b9fdb99330\n",
      "🧪 View experiment at: http://127.0.0.1:5001/#/experiments/1\n",
      "1 --> train_loss: 1.456 | train_accuracy: -inf | val_loss: 1.5065 | val_accuracy: -1.8751\n",
      "🏃 View run Fold-1 at: http://127.0.0.1:5001/#/experiments/1/runs/09bf7b6cdc2b4a66b22794a0335cc7f2\n",
      "🧪 View experiment at: http://127.0.0.1:5001/#/experiments/1\n",
      "2 --> train_loss: 1.481 | train_accuracy: -inf | val_loss: 1.5867 | val_accuracy: -1.8957\n",
      "🏃 View run Fold-2 at: http://127.0.0.1:5001/#/experiments/1/runs/7894c83e41464d2fb3bb3c0a6193b2c1\n",
      "🧪 View experiment at: http://127.0.0.1:5001/#/experiments/1\n",
      "3 --> train_loss: 1.554 | train_accuracy: -inf | val_loss: 1.5861 | val_accuracy: -1.8767\n",
      "🏃 View run Fold-3 at: http://127.0.0.1:5001/#/experiments/1/runs/8399a1ed85644936bd4f210eb2989392\n",
      "🧪 View experiment at: http://127.0.0.1:5001/#/experiments/1\n"
     ]
    },
    {
     "name": "stderr",
     "output_type": "stream",
     "text": [
      "2025/02/03 02:06:24 WARNING mlflow.models.signature: Failed to infer schema for outputs. Setting schema to `Schema([ColSpec(type=AnyType())]` as default. To see the full traceback, set logging level to DEBUG.\n",
      "2025/02/03 02:06:24 WARNING mlflow.sklearn: Model was missing function: predict. Not logging python_function flavor!\n"
     ]
    },
    {
     "name": "stdout",
     "output_type": "stream",
     "text": [
      "4 --> train_loss: 1.538 | train_accuracy: -inf | val_loss: 1.6508 | val_accuracy: -1.9255\n",
      "🏃 View run Fold-4 at: http://127.0.0.1:5001/#/experiments/1/runs/f39b72a8f09c4da6a9441f7abc7ead8d\n",
      "🧪 View experiment at: http://127.0.0.1:5001/#/experiments/1\n",
      "✅ Fold: stochastic | Model: TorchRegression | MSE: 1.5336 | R²: -1.6240\n",
      "🏃 View run method-stochastic-lr-0.01-reg-TorchRegression-poly-Linear-momentum-Momentum is not used-weight-xavier at: http://127.0.0.1:5001/#/experiments/1/runs/35ac89025a8844d0a89f2248d5b97bf8\n",
      "🧪 View experiment at: http://127.0.0.1:5001/#/experiments/1\n",
      " Running TorchRegression | stochastic | Linear | xavier | Momentum is not used | LR: 0.001\n",
      "(5330,)\n",
      "torch.Size([5330, 12])\n",
      "0 --> train_loss: 1.695 | train_accuracy: -inf | val_loss: 1.5588 | val_accuracy: -1.7251\n",
      "🏃 View run Fold-0 at: http://127.0.0.1:5001/#/experiments/1/runs/fb0c9bfa71ef4ad9bc4eb156a16c6a11\n",
      "🧪 View experiment at: http://127.0.0.1:5001/#/experiments/1\n",
      "1 --> train_loss: 1.659 | train_accuracy: -inf | val_loss: 1.4401 | val_accuracy: -1.7483\n",
      "🏃 View run Fold-1 at: http://127.0.0.1:5001/#/experiments/1/runs/10a947451ee04988930fc7169ea0646e\n",
      "🧪 View experiment at: http://127.0.0.1:5001/#/experiments/1\n",
      "2 --> train_loss: 1.668 | train_accuracy: -inf | val_loss: 1.4500 | val_accuracy: -1.6462\n",
      "🏃 View run Fold-2 at: http://127.0.0.1:5001/#/experiments/1/runs/357517abf6d64bba965e661eccd959ab\n",
      "🧪 View experiment at: http://127.0.0.1:5001/#/experiments/1\n",
      "3 --> train_loss: 1.616 | train_accuracy: -inf | val_loss: 1.4485 | val_accuracy: -1.6271\n",
      "🏃 View run Fold-3 at: http://127.0.0.1:5001/#/experiments/1/runs/38b5abdcf20448b3a0a41ce92f42efdf\n",
      "🧪 View experiment at: http://127.0.0.1:5001/#/experiments/1\n"
     ]
    },
    {
     "name": "stderr",
     "output_type": "stream",
     "text": [
      "2025/02/03 02:08:23 WARNING mlflow.models.signature: Failed to infer schema for outputs. Setting schema to `Schema([ColSpec(type=AnyType())]` as default. To see the full traceback, set logging level to DEBUG.\n",
      "2025/02/03 02:08:23 WARNING mlflow.sklearn: Model was missing function: predict. Not logging python_function flavor!\n"
     ]
    },
    {
     "name": "stdout",
     "output_type": "stream",
     "text": [
      "4 --> train_loss: 1.650 | train_accuracy: -inf | val_loss: 1.6322 | val_accuracy: -1.8927\n",
      "🏃 View run Fold-4 at: http://127.0.0.1:5001/#/experiments/1/runs/61657028137346edae0052036ac37136\n",
      "🧪 View experiment at: http://127.0.0.1:5001/#/experiments/1\n",
      "✅ Fold: stochastic | Model: TorchRegression | MSE: 1.5169 | R²: -1.5955\n",
      "🏃 View run method-stochastic-lr-0.001-reg-TorchRegression-poly-Linear-momentum-Momentum is not used-weight-xavier at: http://127.0.0.1:5001/#/experiments/1/runs/e949a0f6002a4623990dfacf7e67a41f\n",
      "🧪 View experiment at: http://127.0.0.1:5001/#/experiments/1\n",
      " Running TorchRegression | stochastic | Linear | xavier | Momentum is not used | LR: 0.0001\n",
      "(5330,)\n",
      "torch.Size([5330, 12])\n",
      "0 --> train_loss: 2.323 | train_accuracy: -inf | val_loss: 1.5650 | val_accuracy: -1.7360\n",
      "🏃 View run Fold-0 at: http://127.0.0.1:5001/#/experiments/1/runs/86b6e92102f148d4b4e2fb91a71a88e1\n",
      "🧪 View experiment at: http://127.0.0.1:5001/#/experiments/1\n",
      "1 --> train_loss: 2.127 | train_accuracy: -inf | val_loss: 1.4487 | val_accuracy: -1.7648\n",
      "🏃 View run Fold-1 at: http://127.0.0.1:5001/#/experiments/1/runs/e339604074ff4aeb9324e8a125385083\n",
      "🧪 View experiment at: http://127.0.0.1:5001/#/experiments/1\n",
      "2 --> train_loss: 1.960 | train_accuracy: -inf | val_loss: 1.4473 | val_accuracy: -1.6413\n",
      "🏃 View run Fold-2 at: http://127.0.0.1:5001/#/experiments/1/runs/0d466c68b9a54dc9b3595e45838818ad\n",
      "🧪 View experiment at: http://127.0.0.1:5001/#/experiments/1\n",
      "3 --> train_loss: 1.814 | train_accuracy: -inf | val_loss: 1.4587 | val_accuracy: -1.6457\n",
      "🏃 View run Fold-3 at: http://127.0.0.1:5001/#/experiments/1/runs/b254662cdc914acb98564fe3ec744712\n",
      "🧪 View experiment at: http://127.0.0.1:5001/#/experiments/1\n"
     ]
    },
    {
     "name": "stderr",
     "output_type": "stream",
     "text": [
      "2025/02/03 02:10:21 WARNING mlflow.models.signature: Failed to infer schema for outputs. Setting schema to `Schema([ColSpec(type=AnyType())]` as default. To see the full traceback, set logging level to DEBUG.\n",
      "2025/02/03 02:10:21 WARNING mlflow.sklearn: Model was missing function: predict. Not logging python_function flavor!\n"
     ]
    },
    {
     "name": "stdout",
     "output_type": "stream",
     "text": [
      "4 --> train_loss: 1.741 | train_accuracy: -inf | val_loss: 1.6283 | val_accuracy: -1.8857\n",
      "🏃 View run Fold-4 at: http://127.0.0.1:5001/#/experiments/1/runs/b29acbf528664dc29e56f3b387dbb15e\n",
      "🧪 View experiment at: http://127.0.0.1:5001/#/experiments/1\n",
      "✅ Fold: stochastic | Model: TorchRegression | MSE: 1.5199 | R²: -1.6007\n",
      "🏃 View run method-stochastic-lr-0.0001-reg-TorchRegression-poly-Linear-momentum-Momentum is not used-weight-xavier at: http://127.0.0.1:5001/#/experiments/1/runs/b9cf4a05773243e1887c82118dd5dfe8\n",
      "🧪 View experiment at: http://127.0.0.1:5001/#/experiments/1\n",
      " Running TorchRegression | stochastic | Linear | xavier | Momentum is used | LR: 0.01\n",
      "(5330,)\n",
      "torch.Size([5330, 12])\n",
      "0 --> train_loss: 1.714 | train_accuracy: -inf | val_loss: 1.5561 | val_accuracy: -1.7204\n",
      "🏃 View run Fold-0 at: http://127.0.0.1:5001/#/experiments/1/runs/fb95c9e58db04ac68d9d9ef0e40ea31a\n",
      "🧪 View experiment at: http://127.0.0.1:5001/#/experiments/1\n",
      "1 --> train_loss: 2.113 | train_accuracy: -inf | val_loss: 1.4426 | val_accuracy: -1.7532\n",
      "🏃 View run Fold-1 at: http://127.0.0.1:5001/#/experiments/1/runs/10c11150fd9b4bfea395acc2f1e41ff7\n",
      "🧪 View experiment at: http://127.0.0.1:5001/#/experiments/1\n",
      "2 --> train_loss: 1.864 | train_accuracy: -inf | val_loss: 1.4894 | val_accuracy: -1.7181\n",
      "🏃 View run Fold-2 at: http://127.0.0.1:5001/#/experiments/1/runs/6130c5cdfb2a4f2f8dc51a9167aca5c0\n",
      "🧪 View experiment at: http://127.0.0.1:5001/#/experiments/1\n",
      "3 --> train_loss: 1.731 | train_accuracy: -inf | val_loss: 1.4587 | val_accuracy: -1.6456\n",
      "🏃 View run Fold-3 at: http://127.0.0.1:5001/#/experiments/1/runs/68a0bc011c4e4d71a9204112b9d9cae6\n",
      "🧪 View experiment at: http://127.0.0.1:5001/#/experiments/1\n"
     ]
    },
    {
     "name": "stderr",
     "output_type": "stream",
     "text": [
      "2025/02/03 02:12:28 WARNING mlflow.models.signature: Failed to infer schema for outputs. Setting schema to `Schema([ColSpec(type=AnyType())]` as default. To see the full traceback, set logging level to DEBUG.\n",
      "2025/02/03 02:12:28 WARNING mlflow.sklearn: Model was missing function: predict. Not logging python_function flavor!\n"
     ]
    },
    {
     "name": "stdout",
     "output_type": "stream",
     "text": [
      "4 --> train_loss: 1.703 | train_accuracy: -inf | val_loss: 1.6292 | val_accuracy: -1.8872\n",
      "🏃 View run Fold-4 at: http://127.0.0.1:5001/#/experiments/1/runs/94dfeb8b959249148d4e1ca8a734c0b3\n",
      "🧪 View experiment at: http://127.0.0.1:5001/#/experiments/1\n",
      "✅ Fold: stochastic | Model: TorchRegression | MSE: 1.5137 | R²: -1.5901\n",
      "🏃 View run method-stochastic-lr-0.01-reg-TorchRegression-poly-Linear-momentum-Momentum is used-weight-xavier at: http://127.0.0.1:5001/#/experiments/1/runs/76b9656b5b8745a782d790699094a55d\n",
      "🧪 View experiment at: http://127.0.0.1:5001/#/experiments/1\n",
      " Running TorchRegression | stochastic | Linear | xavier | Momentum is used | LR: 0.001\n",
      "(5330,)\n",
      "torch.Size([5330, 12])\n",
      "0 --> train_loss: 1.960 | train_accuracy: -inf | val_loss: 1.5460 | val_accuracy: -1.7027\n",
      "🏃 View run Fold-0 at: http://127.0.0.1:5001/#/experiments/1/runs/9d9d494a80a6483ba387862050fc50ea\n",
      "🧪 View experiment at: http://127.0.0.1:5001/#/experiments/1\n",
      "1 --> train_loss: 1.729 | train_accuracy: -inf | val_loss: 1.4390 | val_accuracy: -1.7463\n",
      "🏃 View run Fold-1 at: http://127.0.0.1:5001/#/experiments/1/runs/80d4b7ba10d74ca4b3ae4ba4234c0419\n",
      "🧪 View experiment at: http://127.0.0.1:5001/#/experiments/1\n",
      "2 --> train_loss: 1.849 | train_accuracy: -inf | val_loss: 1.4463 | val_accuracy: -1.6393\n",
      "🏃 View run Fold-2 at: http://127.0.0.1:5001/#/experiments/1/runs/428a9b641e6040c29d12d9a6f7e12dd6\n",
      "🧪 View experiment at: http://127.0.0.1:5001/#/experiments/1\n",
      "3 --> train_loss: 1.732 | train_accuracy: -inf | val_loss: 1.4529 | val_accuracy: -1.6352\n",
      "🏃 View run Fold-3 at: http://127.0.0.1:5001/#/experiments/1/runs/24a50d9e85ea443b85cdb6eb9151c482\n",
      "🧪 View experiment at: http://127.0.0.1:5001/#/experiments/1\n"
     ]
    },
    {
     "name": "stderr",
     "output_type": "stream",
     "text": [
      "2025/02/03 02:14:37 WARNING mlflow.models.signature: Failed to infer schema for outputs. Setting schema to `Schema([ColSpec(type=AnyType())]` as default. To see the full traceback, set logging level to DEBUG.\n",
      "2025/02/03 02:14:37 WARNING mlflow.sklearn: Model was missing function: predict. Not logging python_function flavor!\n"
     ]
    },
    {
     "name": "stdout",
     "output_type": "stream",
     "text": [
      "4 --> train_loss: 1.689 | train_accuracy: -inf | val_loss: 1.6283 | val_accuracy: -1.8857\n",
      "🏃 View run Fold-4 at: http://127.0.0.1:5001/#/experiments/1/runs/23546d1fb4fe457497cc034d5004c03a\n",
      "🧪 View experiment at: http://127.0.0.1:5001/#/experiments/1\n",
      "✅ Fold: stochastic | Model: TorchRegression | MSE: 1.5140 | R²: -1.5906\n",
      "🏃 View run method-stochastic-lr-0.001-reg-TorchRegression-poly-Linear-momentum-Momentum is used-weight-xavier at: http://127.0.0.1:5001/#/experiments/1/runs/74b66cd3f436424382e92a8b60bbff3e\n",
      "🧪 View experiment at: http://127.0.0.1:5001/#/experiments/1\n",
      " Running TorchRegression | stochastic | Linear | xavier | Momentum is used | LR: 0.0001\n",
      "(5330,)\n",
      "torch.Size([5330, 12])\n",
      "0 --> train_loss: 4.626 | train_accuracy: -inf | val_loss: 2.1966 | val_accuracy: -2.8402\n",
      "🏃 View run Fold-0 at: http://127.0.0.1:5001/#/experiments/1/runs/e783e9d485f34e0bb6fe4f9c6e02c673\n",
      "🧪 View experiment at: http://127.0.0.1:5001/#/experiments/1\n",
      "1 --> train_loss: 3.273 | train_accuracy: -inf | val_loss: 1.6866 | val_accuracy: -2.2189\n",
      "🏃 View run Fold-1 at: http://127.0.0.1:5001/#/experiments/1/runs/875958d30cef45ccb8459b2f94881a6c\n",
      "🧪 View experiment at: http://127.0.0.1:5001/#/experiments/1\n",
      "2 --> train_loss: 2.713 | train_accuracy: -inf | val_loss: 1.5628 | val_accuracy: -1.8521\n",
      "🏃 View run Fold-2 at: http://127.0.0.1:5001/#/experiments/1/runs/0ab1ea0104114977ab23cc028f493876\n",
      "🧪 View experiment at: http://127.0.0.1:5001/#/experiments/1\n",
      "3 --> train_loss: 2.467 | train_accuracy: -inf | val_loss: 1.5592 | val_accuracy: -1.8280\n",
      "🏃 View run Fold-3 at: http://127.0.0.1:5001/#/experiments/1/runs/6f8c33d541584838be07b8297cd6b0e9\n",
      "🧪 View experiment at: http://127.0.0.1:5001/#/experiments/1\n"
     ]
    },
    {
     "name": "stderr",
     "output_type": "stream",
     "text": [
      "2025/02/03 02:16:45 WARNING mlflow.models.signature: Failed to infer schema for outputs. Setting schema to `Schema([ColSpec(type=AnyType())]` as default. To see the full traceback, set logging level to DEBUG.\n",
      "2025/02/03 02:16:45 WARNING mlflow.sklearn: Model was missing function: predict. Not logging python_function flavor!\n"
     ]
    },
    {
     "name": "stdout",
     "output_type": "stream",
     "text": [
      "4 --> train_loss: 2.229 | train_accuracy: -inf | val_loss: 1.6600 | val_accuracy: -1.9418\n",
      "🏃 View run Fold-4 at: http://127.0.0.1:5001/#/experiments/1/runs/647a311416bc497ba49359626e088786\n",
      "🧪 View experiment at: http://127.0.0.1:5001/#/experiments/1\n",
      "✅ Fold: stochastic | Model: TorchRegression | MSE: 1.5640 | R²: -1.6761\n",
      "🏃 View run method-stochastic-lr-0.0001-reg-TorchRegression-poly-Linear-momentum-Momentum is used-weight-xavier at: http://127.0.0.1:5001/#/experiments/1/runs/80b58a086e064b46b6268454dbbc0ac3\n",
      "🧪 View experiment at: http://127.0.0.1:5001/#/experiments/1\n",
      " Running TorchRegression | stochastic | Polynomial | zeros | Momentum is not used | LR: 0.01\n",
      "(5330,)\n",
      "torch.Size([5330, 90])\n",
      "0 --> train_loss: 5923.731 | train_accuracy: -inf | val_loss: 3581.2053 | val_accuracy: -6259.8789\n",
      "🏃 View run Fold-0 at: http://127.0.0.1:5001/#/experiments/1/runs/10f3c4a539794edba25eda408688e7fd\n",
      "🧪 View experiment at: http://127.0.0.1:5001/#/experiments/1\n",
      "1 --> train_loss: 7033.303 | train_accuracy: -inf | val_loss: 2603.7354 | val_accuracy: -4968.1924\n",
      "🏃 View run Fold-1 at: http://127.0.0.1:5001/#/experiments/1/runs/f2f37a9f3f50441f9dca63009c95dd49\n",
      "🧪 View experiment at: http://127.0.0.1:5001/#/experiments/1\n",
      "2 --> train_loss: 5375.163 | train_accuracy: -inf | val_loss: 2047.0312 | val_accuracy: -3734.7224\n",
      "🏃 View run Fold-2 at: http://127.0.0.1:5001/#/experiments/1/runs/1d56a75cbd534814b18aff6bb8956305\n",
      "🧪 View experiment at: http://127.0.0.1:5001/#/experiments/1\n",
      "3 --> train_loss: 5116.836 | train_accuracy: -inf | val_loss: 11097.0898 | val_accuracy: -20126.2285\n",
      "🏃 View run Fold-3 at: http://127.0.0.1:5001/#/experiments/1/runs/0e842918cdb24cc592f5c48097e0a9f3\n",
      "🧪 View experiment at: http://127.0.0.1:5001/#/experiments/1\n"
     ]
    },
    {
     "name": "stderr",
     "output_type": "stream",
     "text": [
      "2025/02/03 02:18:43 WARNING mlflow.models.signature: Failed to infer schema for outputs. Setting schema to `Schema([ColSpec(type=AnyType())]` as default. To see the full traceback, set logging level to DEBUG.\n",
      "2025/02/03 02:18:43 WARNING mlflow.sklearn: Model was missing function: predict. Not logging python_function flavor!\n"
     ]
    },
    {
     "name": "stdout",
     "output_type": "stream",
     "text": [
      "4 --> train_loss: 4456.902 | train_accuracy: -inf | val_loss: 7714.1680 | val_accuracy: -13670.2559\n",
      "🏃 View run Fold-4 at: http://127.0.0.1:5001/#/experiments/1/runs/5837e3a8b46748338bd2c45b86e1a82d\n",
      "🧪 View experiment at: http://127.0.0.1:5001/#/experiments/1\n",
      "✅ Fold: stochastic | Model: TorchRegression | MSE: 3852.5100 | R²: -6590.8760\n",
      "🏃 View run method-stochastic-lr-0.01-reg-TorchRegression-poly-Polynomial-momentum-Momentum is not used-weight-zeros at: http://127.0.0.1:5001/#/experiments/1/runs/ac8f847be3014762bca8e901b048d368\n",
      "🧪 View experiment at: http://127.0.0.1:5001/#/experiments/1\n",
      " Running TorchRegression | stochastic | Polynomial | zeros | Momentum is not used | LR: 0.001\n",
      "(5330,)\n",
      "torch.Size([5330, 90])\n",
      "0 --> train_loss: 756.034 | train_accuracy: -inf | val_loss: 305.6358 | val_accuracy: -533.3310\n",
      "🏃 View run Fold-0 at: http://127.0.0.1:5001/#/experiments/1/runs/71d7f699644645e382b18dc388310fce\n",
      "🧪 View experiment at: http://127.0.0.1:5001/#/experiments/1\n",
      "1 --> train_loss: 1424.301 | train_accuracy: -inf | val_loss: 96.0785 | val_accuracy: -182.3645\n",
      "🏃 View run Fold-1 at: http://127.0.0.1:5001/#/experiments/1/runs/c91fb6d5b65f4e9d8501bca08f12a8ac\n",
      "🧪 View experiment at: http://127.0.0.1:5001/#/experiments/1\n",
      "2 --> train_loss: 1071.236 | train_accuracy: -inf | val_loss: 2041.2988 | val_accuracy: -3724.2610\n",
      "🏃 View run Fold-2 at: http://127.0.0.1:5001/#/experiments/1/runs/bdc31f7b3dce48c28c951357c1c2e46e\n",
      "🧪 View experiment at: http://127.0.0.1:5001/#/experiments/1\n",
      "3 --> train_loss: 811.539 | train_accuracy: -inf | val_loss: 121.9283 | val_accuracy: -220.1461\n",
      "🏃 View run Fold-3 at: http://127.0.0.1:5001/#/experiments/1/runs/32ac59afb4a74e20b6bc30d420b30c0b\n",
      "🧪 View experiment at: http://127.0.0.1:5001/#/experiments/1\n"
     ]
    },
    {
     "name": "stderr",
     "output_type": "stream",
     "text": [
      "2025/02/03 02:20:43 WARNING mlflow.models.signature: Failed to infer schema for outputs. Setting schema to `Schema([ColSpec(type=AnyType())]` as default. To see the full traceback, set logging level to DEBUG.\n",
      "2025/02/03 02:20:43 WARNING mlflow.sklearn: Model was missing function: predict. Not logging python_function flavor!\n"
     ]
    },
    {
     "name": "stdout",
     "output_type": "stream",
     "text": [
      "4 --> train_loss: 650.064 | train_accuracy: -inf | val_loss: 5.4679 | val_accuracy: -8.6903\n",
      "🏃 View run Fold-4 at: http://127.0.0.1:5001/#/experiments/1/runs/997adfefb7924853a86d1575952f4695\n",
      "🧪 View experiment at: http://127.0.0.1:5001/#/experiments/1\n",
      "✅ Fold: stochastic | Model: TorchRegression | MSE: 0.6866 | R²: -0.1748\n",
      "🏃 View run method-stochastic-lr-0.001-reg-TorchRegression-poly-Polynomial-momentum-Momentum is not used-weight-zeros at: http://127.0.0.1:5001/#/experiments/1/runs/527d6119f8174bf5bb46442bdb0f24ea\n",
      "🧪 View experiment at: http://127.0.0.1:5001/#/experiments/1\n",
      " Running TorchRegression | stochastic | Polynomial | zeros | Momentum is not used | LR: 0.0001\n",
      "(5330,)\n",
      "torch.Size([5330, 90])\n",
      "0 --> train_loss: 2.282 | train_accuracy: -inf | val_loss: 0.7059 | val_accuracy: -0.2341\n",
      "🏃 View run Fold-0 at: http://127.0.0.1:5001/#/experiments/1/runs/ed031e5b90c94244b75905626c267d2c\n",
      "🧪 View experiment at: http://127.0.0.1:5001/#/experiments/1\n",
      "1 --> train_loss: 1.390 | train_accuracy: -inf | val_loss: 0.3494 | val_accuracy: 0.3331\n",
      "🏃 View run Fold-1 at: http://127.0.0.1:5001/#/experiments/1/runs/2ed55607b2fb4a0ca26ff34c9aff835e\n",
      "🧪 View experiment at: http://127.0.0.1:5001/#/experiments/1\n",
      "2 --> train_loss: 1.042 | train_accuracy: -inf | val_loss: 0.2898 | val_accuracy: 0.4711\n",
      "🏃 View run Fold-2 at: http://127.0.0.1:5001/#/experiments/1/runs/a3c52175e8724fc9baa9180590da021e\n",
      "🧪 View experiment at: http://127.0.0.1:5001/#/experiments/1\n",
      "3 --> train_loss: 0.834 | train_accuracy: -inf | val_loss: 0.2484 | val_accuracy: 0.5494\n",
      "🏃 View run Fold-3 at: http://127.0.0.1:5001/#/experiments/1/runs/213672d1cf32499babdd5432dd9a3042\n",
      "🧪 View experiment at: http://127.0.0.1:5001/#/experiments/1\n"
     ]
    },
    {
     "name": "stderr",
     "output_type": "stream",
     "text": [
      "2025/02/03 02:22:44 WARNING mlflow.models.signature: Failed to infer schema for outputs. Setting schema to `Schema([ColSpec(type=AnyType())]` as default. To see the full traceback, set logging level to DEBUG.\n",
      "2025/02/03 02:22:44 WARNING mlflow.sklearn: Model was missing function: predict. Not logging python_function flavor!\n"
     ]
    },
    {
     "name": "stdout",
     "output_type": "stream",
     "text": [
      "4 --> train_loss: 0.717 | train_accuracy: -inf | val_loss: 0.2426 | val_accuracy: 0.5700\n",
      "🏃 View run Fold-4 at: http://127.0.0.1:5001/#/experiments/1/runs/3b0263c300564aae97df700174fd307e\n",
      "🧪 View experiment at: http://127.0.0.1:5001/#/experiments/1\n",
      "✅ Fold: stochastic | Model: TorchRegression | MSE: 0.1907 | R²: 0.6736\n",
      "🏃 View run method-stochastic-lr-0.0001-reg-TorchRegression-poly-Polynomial-momentum-Momentum is not used-weight-zeros at: http://127.0.0.1:5001/#/experiments/1/runs/b5b5cf94d9794cf8bbc38087b6b12718\n",
      "🧪 View experiment at: http://127.0.0.1:5001/#/experiments/1\n",
      " Running TorchRegression | stochastic | Polynomial | zeros | Momentum is used | LR: 0.01\n",
      "(5330,)\n",
      "torch.Size([5330, 90])\n",
      "0 --> train_loss: 2929.810 | train_accuracy: -inf | val_loss: 3157.8530 | val_accuracy: -5519.7490\n",
      "🏃 View run Fold-0 at: http://127.0.0.1:5001/#/experiments/1/runs/5e88807b009f4c3eb0410cd5a90130f1\n",
      "🧪 View experiment at: http://127.0.0.1:5001/#/experiments/1\n",
      "1 --> train_loss: 2992.590 | train_accuracy: -inf | val_loss: 4845.6089 | val_accuracy: -9246.7754\n",
      "🏃 View run Fold-1 at: http://127.0.0.1:5001/#/experiments/1/runs/402f1bc6450149bdbd060100f55421c8\n",
      "🧪 View experiment at: http://127.0.0.1:5001/#/experiments/1\n",
      "2 --> train_loss: 4473.225 | train_accuracy: -inf | val_loss: 5032.7485 | val_accuracy: -9183.4971\n",
      "🏃 View run Fold-2 at: http://127.0.0.1:5001/#/experiments/1/runs/d410e5de8e1b491f931a3975aa976066\n",
      "🧪 View experiment at: http://127.0.0.1:5001/#/experiments/1\n",
      "3 --> train_loss: 4229.555 | train_accuracy: -inf | val_loss: 10724.4971 | val_accuracy: -19450.4414\n",
      "🏃 View run Fold-3 at: http://127.0.0.1:5001/#/experiments/1/runs/091b6c13cbf0401f99790cecfbbbd282\n",
      "🧪 View experiment at: http://127.0.0.1:5001/#/experiments/1\n"
     ]
    },
    {
     "name": "stderr",
     "output_type": "stream",
     "text": [
      "2025/02/03 02:24:55 WARNING mlflow.models.signature: Failed to infer schema for outputs. Setting schema to `Schema([ColSpec(type=AnyType())]` as default. To see the full traceback, set logging level to DEBUG.\n",
      "2025/02/03 02:24:55 WARNING mlflow.sklearn: Model was missing function: predict. Not logging python_function flavor!\n"
     ]
    },
    {
     "name": "stdout",
     "output_type": "stream",
     "text": [
      "4 --> train_loss: 3894.465 | train_accuracy: -inf | val_loss: 8154.7690 | val_accuracy: -14451.1016\n",
      "🏃 View run Fold-4 at: http://127.0.0.1:5001/#/experiments/1/runs/4fb2cfabde084be590e9a5463113c379\n",
      "🧪 View experiment at: http://127.0.0.1:5001/#/experiments/1\n",
      "✅ Fold: stochastic | Model: TorchRegression | MSE: 2822.5886 | R²: -4828.6187\n",
      "🏃 View run method-stochastic-lr-0.01-reg-TorchRegression-poly-Polynomial-momentum-Momentum is used-weight-zeros at: http://127.0.0.1:5001/#/experiments/1/runs/7f34fb9cc4c34b83a2ec86c069abdf2a\n",
      "🧪 View experiment at: http://127.0.0.1:5001/#/experiments/1\n",
      " Running TorchRegression | stochastic | Polynomial | zeros | Momentum is used | LR: 0.001\n",
      "(5330,)\n",
      "torch.Size([5330, 90])\n",
      "0 --> train_loss: 0.898 | train_accuracy: -inf | val_loss: 0.4107 | val_accuracy: 0.2820\n",
      "🏃 View run Fold-0 at: http://127.0.0.1:5001/#/experiments/1/runs/95fe91ce0ed5422286ba651d4eb6d5f2\n",
      "🧪 View experiment at: http://127.0.0.1:5001/#/experiments/1\n",
      "1 --> train_loss: 0.565 | train_accuracy: -inf | val_loss: 0.2219 | val_accuracy: 0.5765\n",
      "🏃 View run Fold-1 at: http://127.0.0.1:5001/#/experiments/1/runs/0e68d72454b4446b84f4a5f567d39fe9\n",
      "🧪 View experiment at: http://127.0.0.1:5001/#/experiments/1\n",
      "2 --> train_loss: 0.444 | train_accuracy: -inf | val_loss: 0.2031 | val_accuracy: 0.6294\n",
      "🏃 View run Fold-2 at: http://127.0.0.1:5001/#/experiments/1/runs/31e9870c405c487d9500bc7dbb00c7b7\n",
      "🧪 View experiment at: http://127.0.0.1:5001/#/experiments/1\n",
      "3 --> train_loss: 0.366 | train_accuracy: -inf | val_loss: 0.1747 | val_accuracy: 0.6832\n",
      "🏃 View run Fold-3 at: http://127.0.0.1:5001/#/experiments/1/runs/1c505d2082834e02b76eeaa34217a749\n",
      "🧪 View experiment at: http://127.0.0.1:5001/#/experiments/1\n"
     ]
    },
    {
     "name": "stderr",
     "output_type": "stream",
     "text": [
      "2025/02/03 02:27:06 WARNING mlflow.models.signature: Failed to infer schema for outputs. Setting schema to `Schema([ColSpec(type=AnyType())]` as default. To see the full traceback, set logging level to DEBUG.\n",
      "2025/02/03 02:27:06 WARNING mlflow.sklearn: Model was missing function: predict. Not logging python_function flavor!\n"
     ]
    },
    {
     "name": "stdout",
     "output_type": "stream",
     "text": [
      "4 --> train_loss: 0.323 | train_accuracy: -inf | val_loss: 0.1993 | val_accuracy: 0.6468\n",
      "🏃 View run Fold-4 at: http://127.0.0.1:5001/#/experiments/1/runs/0fa90df2a37a44a4b154ebbe80fcecd9\n",
      "🧪 View experiment at: http://127.0.0.1:5001/#/experiments/1\n",
      "✅ Fold: stochastic | Model: TorchRegression | MSE: 0.1422 | R²: 0.7567\n",
      "🏃 View run method-stochastic-lr-0.001-reg-TorchRegression-poly-Polynomial-momentum-Momentum is used-weight-zeros at: http://127.0.0.1:5001/#/experiments/1/runs/98858db4ff5448e485eb1bdf4828f4e5\n",
      "🧪 View experiment at: http://127.0.0.1:5001/#/experiments/1\n",
      " Running TorchRegression | stochastic | Polynomial | zeros | Momentum is used | LR: 0.0001\n",
      "(5330,)\n",
      "torch.Size([5330, 90])\n",
      "0 --> train_loss: 3.471 | train_accuracy: -inf | val_loss: 1.6449 | val_accuracy: -1.8757\n",
      "🏃 View run Fold-0 at: http://127.0.0.1:5001/#/experiments/1/runs/fdeaf49d6daa48dd964555ff75b81c5f\n",
      "🧪 View experiment at: http://127.0.0.1:5001/#/experiments/1\n",
      "1 --> train_loss: 2.261 | train_accuracy: -inf | val_loss: 1.0410 | val_accuracy: -0.9868\n",
      "🏃 View run Fold-1 at: http://127.0.0.1:5001/#/experiments/1/runs/6cdb37858d32455ba5c11342c256a9b8\n",
      "🧪 View experiment at: http://127.0.0.1:5001/#/experiments/1\n",
      "2 --> train_loss: 1.994 | train_accuracy: -inf | val_loss: 0.8547 | val_accuracy: -0.5598\n",
      "🏃 View run Fold-2 at: http://127.0.0.1:5001/#/experiments/1/runs/ffc459267dcd4ad0995be6c488e72a52\n",
      "🧪 View experiment at: http://127.0.0.1:5001/#/experiments/1\n",
      "3 --> train_loss: 1.673 | train_accuracy: -inf | val_loss: 0.7756 | val_accuracy: -0.4067\n",
      "🏃 View run Fold-3 at: http://127.0.0.1:5001/#/experiments/1/runs/c9d59812420b4c46aca3fb4526554269\n",
      "🧪 View experiment at: http://127.0.0.1:5001/#/experiments/1\n"
     ]
    },
    {
     "name": "stderr",
     "output_type": "stream",
     "text": [
      "2025/02/03 02:29:28 WARNING mlflow.models.signature: Failed to infer schema for outputs. Setting schema to `Schema([ColSpec(type=AnyType())]` as default. To see the full traceback, set logging level to DEBUG.\n",
      "2025/02/03 02:29:28 WARNING mlflow.sklearn: Model was missing function: predict. Not logging python_function flavor!\n"
     ]
    },
    {
     "name": "stdout",
     "output_type": "stream",
     "text": [
      "4 --> train_loss: 1.463 | train_accuracy: -inf | val_loss: 0.7149 | val_accuracy: -0.2670\n",
      "🏃 View run Fold-4 at: http://127.0.0.1:5001/#/experiments/1/runs/b96f05adf63945de9606ebe406e0e6d2\n",
      "🧪 View experiment at: http://127.0.0.1:5001/#/experiments/1\n",
      "✅ Fold: stochastic | Model: TorchRegression | MSE: 0.5949 | R²: -0.0180\n",
      "🏃 View run method-stochastic-lr-0.0001-reg-TorchRegression-poly-Polynomial-momentum-Momentum is used-weight-zeros at: http://127.0.0.1:5001/#/experiments/1/runs/51edb3871bf94375b77022533b202bad\n",
      "🧪 View experiment at: http://127.0.0.1:5001/#/experiments/1\n",
      " Running TorchRegression | stochastic | Polynomial | xavier | Momentum is not used | LR: 0.01\n",
      "(5330,)\n",
      "torch.Size([5330, 90])\n",
      "0 --> train_loss: 6194.724 | train_accuracy: -inf | val_loss: 10751.1006 | val_accuracy: -18794.7227\n",
      "🏃 View run Fold-0 at: http://127.0.0.1:5001/#/experiments/1/runs/c11d6c8302564a71b2c8d958e3d771c4\n",
      "🧪 View experiment at: http://127.0.0.1:5001/#/experiments/1\n",
      "1 --> train_loss: 6516.797 | train_accuracy: -inf | val_loss: 2927.4373 | val_accuracy: -5585.9722\n",
      "🏃 View run Fold-1 at: http://127.0.0.1:5001/#/experiments/1/runs/8e4296d4e49b432bb9eb2d461cd671e7\n",
      "🧪 View experiment at: http://127.0.0.1:5001/#/experiments/1\n",
      "2 --> train_loss: 7098.715 | train_accuracy: -inf | val_loss: 5900.9443 | val_accuracy: -10767.9072\n",
      "🏃 View run Fold-2 at: http://127.0.0.1:5001/#/experiments/1/runs/d4bb715ede104c94bb22c0226f50b90d\n",
      "🧪 View experiment at: http://127.0.0.1:5001/#/experiments/1\n",
      "3 --> train_loss: 8039.997 | train_accuracy: -inf | val_loss: 496.5705 | val_accuracy: -899.6495\n",
      "🏃 View run Fold-3 at: http://127.0.0.1:5001/#/experiments/1/runs/02948851f63f4e8f934c7e4509d4e61b\n",
      "🧪 View experiment at: http://127.0.0.1:5001/#/experiments/1\n"
     ]
    },
    {
     "name": "stderr",
     "output_type": "stream",
     "text": [
      "2025/02/03 02:31:38 WARNING mlflow.models.signature: Failed to infer schema for outputs. Setting schema to `Schema([ColSpec(type=AnyType())]` as default. To see the full traceback, set logging level to DEBUG.\n",
      "2025/02/03 02:31:38 WARNING mlflow.sklearn: Model was missing function: predict. Not logging python_function flavor!\n"
     ]
    },
    {
     "name": "stdout",
     "output_type": "stream",
     "text": [
      "4 --> train_loss: 6964.190 | train_accuracy: -inf | val_loss: 18338.2520 | val_accuracy: -32498.5430\n",
      "🏃 View run Fold-4 at: http://127.0.0.1:5001/#/experiments/1/runs/adaf473267e948bb8539d66ba675f8c5\n",
      "🧪 View experiment at: http://127.0.0.1:5001/#/experiments/1\n",
      "✅ Fold: stochastic | Model: TorchRegression | MSE: 6472.2339 | R²: -11073.3809\n",
      "🏃 View run method-stochastic-lr-0.01-reg-TorchRegression-poly-Polynomial-momentum-Momentum is not used-weight-xavier at: http://127.0.0.1:5001/#/experiments/1/runs/5ca529e4dcc341679be2960534a83d86\n",
      "🧪 View experiment at: http://127.0.0.1:5001/#/experiments/1\n",
      " Running TorchRegression | stochastic | Polynomial | xavier | Momentum is not used | LR: 0.001\n",
      "(5330,)\n",
      "torch.Size([5330, 90])\n",
      "0 --> train_loss: 75.143 | train_accuracy: -inf | val_loss: 4925.0898 | val_accuracy: -8609.3389\n",
      "🏃 View run Fold-0 at: http://127.0.0.1:5001/#/experiments/1/runs/bc1ace42a52049b1ac75f2993e2f05b8\n",
      "🧪 View experiment at: http://127.0.0.1:5001/#/experiments/1\n",
      "1 --> train_loss: 68.929 | train_accuracy: -inf | val_loss: 41.9612 | val_accuracy: -79.0824\n",
      "🏃 View run Fold-1 at: http://127.0.0.1:5001/#/experiments/1/runs/38626d302a304a34a48db067a19920af\n",
      "🧪 View experiment at: http://127.0.0.1:5001/#/experiments/1\n",
      "2 --> train_loss: 74.726 | train_accuracy: -inf | val_loss: 19.5817 | val_accuracy: -34.7355\n",
      "🏃 View run Fold-2 at: http://127.0.0.1:5001/#/experiments/1/runs/8bffc70b42514d48a4dd96ee46036080\n",
      "🧪 View experiment at: http://127.0.0.1:5001/#/experiments/1\n",
      "3 --> train_loss: 63.441 | train_accuracy: -inf | val_loss: 91.0440 | val_accuracy: -164.1302\n",
      "🏃 View run Fold-3 at: http://127.0.0.1:5001/#/experiments/1/runs/52dcbfd70515487aa3c84e4bfef9a9df\n",
      "🧪 View experiment at: http://127.0.0.1:5001/#/experiments/1\n"
     ]
    },
    {
     "name": "stderr",
     "output_type": "stream",
     "text": [
      "2025/02/03 02:33:39 WARNING mlflow.models.signature: Failed to infer schema for outputs. Setting schema to `Schema([ColSpec(type=AnyType())]` as default. To see the full traceback, set logging level to DEBUG.\n",
      "2025/02/03 02:33:39 WARNING mlflow.sklearn: Model was missing function: predict. Not logging python_function flavor!\n"
     ]
    },
    {
     "name": "stdout",
     "output_type": "stream",
     "text": [
      "4 --> train_loss: 79.936 | train_accuracy: -inf | val_loss: 22.9159 | val_accuracy: -39.6122\n",
      "🏃 View run Fold-4 at: http://127.0.0.1:5001/#/experiments/1/runs/7a9336ba59104d5fb228754cf174b103\n",
      "🧪 View experiment at: http://127.0.0.1:5001/#/experiments/1\n",
      "✅ Fold: stochastic | Model: TorchRegression | MSE: 9.3924 | R²: -15.0710\n",
      "🏃 View run method-stochastic-lr-0.001-reg-TorchRegression-poly-Polynomial-momentum-Momentum is not used-weight-xavier at: http://127.0.0.1:5001/#/experiments/1/runs/bbee144128424c6da20f1108f047e3ec\n",
      "🧪 View experiment at: http://127.0.0.1:5001/#/experiments/1\n",
      " Running TorchRegression | stochastic | Polynomial | xavier | Momentum is not used | LR: 0.0001\n",
      "(5330,)\n",
      "torch.Size([5330, 90])\n",
      "0 --> train_loss: 1.266 | train_accuracy: -inf | val_loss: 0.7065 | val_accuracy: -0.2351\n",
      "🏃 View run Fold-0 at: http://127.0.0.1:5001/#/experiments/1/runs/c803775e1f844ca191cf4e5807f2dc5a\n",
      "🧪 View experiment at: http://127.0.0.1:5001/#/experiments/1\n",
      "1 --> train_loss: 0.870 | train_accuracy: -inf | val_loss: 0.3447 | val_accuracy: 0.3422\n",
      "🏃 View run Fold-1 at: http://127.0.0.1:5001/#/experiments/1/runs/64637a6fe15141e58987fa0888d3535d\n",
      "🧪 View experiment at: http://127.0.0.1:5001/#/experiments/1\n",
      "2 --> train_loss: 0.741 | train_accuracy: -inf | val_loss: 0.2847 | val_accuracy: 0.4804\n",
      "🏃 View run Fold-2 at: http://127.0.0.1:5001/#/experiments/1/runs/e2d46b7f2dea440b88aba1f054a9b5ce\n",
      "🧪 View experiment at: http://127.0.0.1:5001/#/experiments/1\n",
      "3 --> train_loss: 0.588 | train_accuracy: -inf | val_loss: 0.2481 | val_accuracy: 0.5499\n",
      "🏃 View run Fold-3 at: http://127.0.0.1:5001/#/experiments/1/runs/26b137ddab9c497295f7ac724532993a\n",
      "🧪 View experiment at: http://127.0.0.1:5001/#/experiments/1\n"
     ]
    },
    {
     "name": "stderr",
     "output_type": "stream",
     "text": [
      "2025/02/03 02:35:40 WARNING mlflow.models.signature: Failed to infer schema for outputs. Setting schema to `Schema([ColSpec(type=AnyType())]` as default. To see the full traceback, set logging level to DEBUG.\n",
      "2025/02/03 02:35:40 WARNING mlflow.sklearn: Model was missing function: predict. Not logging python_function flavor!\n"
     ]
    },
    {
     "name": "stdout",
     "output_type": "stream",
     "text": [
      "4 --> train_loss: 0.527 | train_accuracy: -inf | val_loss: 0.2375 | val_accuracy: 0.5792\n",
      "🏃 View run Fold-4 at: http://127.0.0.1:5001/#/experiments/1/runs/bf516f46e4d24ccf8f12924f870d7340\n",
      "🧪 View experiment at: http://127.0.0.1:5001/#/experiments/1\n",
      "✅ Fold: stochastic | Model: TorchRegression | MSE: 0.1902 | R²: 0.6745\n",
      "🏃 View run method-stochastic-lr-0.0001-reg-TorchRegression-poly-Polynomial-momentum-Momentum is not used-weight-xavier at: http://127.0.0.1:5001/#/experiments/1/runs/c719f2adaf374c639b55ce10143d0d27\n",
      "🧪 View experiment at: http://127.0.0.1:5001/#/experiments/1\n",
      " Running TorchRegression | stochastic | Polynomial | xavier | Momentum is used | LR: 0.01\n",
      "(5330,)\n",
      "torch.Size([5330, 90])\n",
      "0 --> train_loss: 548.059 | train_accuracy: -inf | val_loss: 7476.8989 | val_accuracy: -13070.5654\n",
      "🏃 View run Fold-0 at: http://127.0.0.1:5001/#/experiments/1/runs/d050bb31d376475cadbab4ee0d54a65e\n",
      "🧪 View experiment at: http://127.0.0.1:5001/#/experiments/1\n",
      "1 --> train_loss: 2071.115 | train_accuracy: -inf | val_loss: 4069.0056 | val_accuracy: -7764.6396\n",
      "🏃 View run Fold-1 at: http://127.0.0.1:5001/#/experiments/1/runs/d8633c42257348fa8145aa5bb4872873\n",
      "🧪 View experiment at: http://127.0.0.1:5001/#/experiments/1\n",
      "2 --> train_loss: 2699.198 | train_accuracy: -inf | val_loss: 2175.4551 | val_accuracy: -3969.0889\n",
      "🏃 View run Fold-2 at: http://127.0.0.1:5001/#/experiments/1/runs/bc4f61de1bcc43f3809e4e288df7e0f3\n",
      "🧪 View experiment at: http://127.0.0.1:5001/#/experiments/1\n",
      "3 --> train_loss: 6186.149 | train_accuracy: -inf | val_loss: 4889.5488 | val_accuracy: -8867.3662\n",
      "🏃 View run Fold-3 at: http://127.0.0.1:5001/#/experiments/1/runs/6831489ce7464efc90292be3e8cfd715\n",
      "🧪 View experiment at: http://127.0.0.1:5001/#/experiments/1\n"
     ]
    },
    {
     "name": "stderr",
     "output_type": "stream",
     "text": [
      "2025/02/03 02:37:53 WARNING mlflow.models.signature: Failed to infer schema for outputs. Setting schema to `Schema([ColSpec(type=AnyType())]` as default. To see the full traceback, set logging level to DEBUG.\n",
      "2025/02/03 02:37:54 WARNING mlflow.sklearn: Model was missing function: predict. Not logging python_function flavor!\n"
     ]
    },
    {
     "name": "stdout",
     "output_type": "stream",
     "text": [
      "4 --> train_loss: 5353.849 | train_accuracy: -inf | val_loss: 16473.3086 | val_accuracy: -29193.4434\n",
      "🏃 View run Fold-4 at: http://127.0.0.1:5001/#/experiments/1/runs/f0d6950b2e6348e3a138461a1840e3bd\n",
      "🧪 View experiment at: http://127.0.0.1:5001/#/experiments/1\n",
      "✅ Fold: stochastic | Model: TorchRegression | MSE: 5940.4277 | R²: -10163.4277\n",
      "🏃 View run method-stochastic-lr-0.01-reg-TorchRegression-poly-Polynomial-momentum-Momentum is used-weight-xavier at: http://127.0.0.1:5001/#/experiments/1/runs/944811b61ef940f587ab0d30218d6f84\n",
      "🧪 View experiment at: http://127.0.0.1:5001/#/experiments/1\n",
      " Running TorchRegression | stochastic | Polynomial | xavier | Momentum is used | LR: 0.001\n",
      "(5330,)\n",
      "torch.Size([5330, 90])\n",
      "0 --> train_loss: 1.659 | train_accuracy: -inf | val_loss: 0.4080 | val_accuracy: 0.2867\n",
      "🏃 View run Fold-0 at: http://127.0.0.1:5001/#/experiments/1/runs/4ff07504de05410c99b25ad3095a02c0\n",
      "🧪 View experiment at: http://127.0.0.1:5001/#/experiments/1\n",
      "1 --> train_loss: 0.965 | train_accuracy: -inf | val_loss: 0.2273 | val_accuracy: 0.5663\n",
      "🏃 View run Fold-1 at: http://127.0.0.1:5001/#/experiments/1/runs/546daaeaf12c4f208f04769760d3b7a3\n",
      "🧪 View experiment at: http://127.0.0.1:5001/#/experiments/1\n",
      "2 --> train_loss: 0.720 | train_accuracy: -inf | val_loss: 0.1997 | val_accuracy: 0.6356\n",
      "🏃 View run Fold-2 at: http://127.0.0.1:5001/#/experiments/1/runs/ff22b565eedd4893bf07a91277b94c65\n",
      "🧪 View experiment at: http://127.0.0.1:5001/#/experiments/1\n",
      "3 --> train_loss: 0.568 | train_accuracy: -inf | val_loss: 0.1929 | val_accuracy: 0.6502\n",
      "🏃 View run Fold-3 at: http://127.0.0.1:5001/#/experiments/1/runs/81d87257936d4c82b77473f9d2306033\n",
      "🧪 View experiment at: http://127.0.0.1:5001/#/experiments/1\n"
     ]
    },
    {
     "name": "stderr",
     "output_type": "stream",
     "text": [
      "2025/02/03 02:40:04 WARNING mlflow.models.signature: Failed to infer schema for outputs. Setting schema to `Schema([ColSpec(type=AnyType())]` as default. To see the full traceback, set logging level to DEBUG.\n",
      "2025/02/03 02:40:04 WARNING mlflow.sklearn: Model was missing function: predict. Not logging python_function flavor!\n"
     ]
    },
    {
     "name": "stdout",
     "output_type": "stream",
     "text": [
      "4 --> train_loss: 0.486 | train_accuracy: -inf | val_loss: 0.2097 | val_accuracy: 0.6284\n",
      "🏃 View run Fold-4 at: http://127.0.0.1:5001/#/experiments/1/runs/2fd67558686d4125acab80ee23ec24b5\n",
      "🧪 View experiment at: http://127.0.0.1:5001/#/experiments/1\n",
      "✅ Fold: stochastic | Model: TorchRegression | MSE: 0.1443 | R²: 0.7531\n",
      "🏃 View run method-stochastic-lr-0.001-reg-TorchRegression-poly-Polynomial-momentum-Momentum is used-weight-xavier at: http://127.0.0.1:5001/#/experiments/1/runs/4c8748b10de44a098e05620bab14f964\n",
      "🧪 View experiment at: http://127.0.0.1:5001/#/experiments/1\n",
      " Running TorchRegression | stochastic | Polynomial | xavier | Momentum is used | LR: 0.0001\n",
      "(5330,)\n",
      "torch.Size([5330, 90])\n",
      "0 --> train_loss: 3.196 | train_accuracy: -inf | val_loss: 1.6578 | val_accuracy: -1.8983\n",
      "🏃 View run Fold-0 at: http://127.0.0.1:5001/#/experiments/1/runs/4ee18052f09c4540bbc24f38b29cb20f\n",
      "🧪 View experiment at: http://127.0.0.1:5001/#/experiments/1\n",
      "1 --> train_loss: 2.410 | train_accuracy: -inf | val_loss: 1.0361 | val_accuracy: -0.9773\n",
      "🏃 View run Fold-1 at: http://127.0.0.1:5001/#/experiments/1/runs/af5944c09b9c4df2b61cdeeebff0bfd2\n",
      "🧪 View experiment at: http://127.0.0.1:5001/#/experiments/1\n",
      "2 --> train_loss: 1.868 | train_accuracy: -inf | val_loss: 0.8658 | val_accuracy: -0.5801\n",
      "🏃 View run Fold-2 at: http://127.0.0.1:5001/#/experiments/1/runs/1b1fa1edd7e34cb99182f47a6fcfe7c8\n",
      "🧪 View experiment at: http://127.0.0.1:5001/#/experiments/1\n",
      "3 --> train_loss: 1.590 | train_accuracy: -inf | val_loss: 0.7767 | val_accuracy: -0.4087\n",
      "🏃 View run Fold-3 at: http://127.0.0.1:5001/#/experiments/1/runs/edb3b653895c4a7ab4a428429a71fc73\n",
      "🧪 View experiment at: http://127.0.0.1:5001/#/experiments/1\n"
     ]
    },
    {
     "name": "stderr",
     "output_type": "stream",
     "text": [
      "2025/02/03 02:42:15 WARNING mlflow.models.signature: Failed to infer schema for outputs. Setting schema to `Schema([ColSpec(type=AnyType())]` as default. To see the full traceback, set logging level to DEBUG.\n",
      "2025/02/03 02:42:15 WARNING mlflow.sklearn: Model was missing function: predict. Not logging python_function flavor!\n"
     ]
    },
    {
     "name": "stdout",
     "output_type": "stream",
     "text": [
      "4 --> train_loss: 1.389 | train_accuracy: -inf | val_loss: 0.7435 | val_accuracy: -0.3176\n",
      "🏃 View run Fold-4 at: http://127.0.0.1:5001/#/experiments/1/runs/bbf7891e86664158b1299460f56164b1\n",
      "🧪 View experiment at: http://127.0.0.1:5001/#/experiments/1\n",
      "✅ Fold: stochastic | Model: TorchRegression | MSE: 0.6020 | R²: -0.0301\n",
      "🏃 View run method-stochastic-lr-0.0001-reg-TorchRegression-poly-Polynomial-momentum-Momentum is used-weight-xavier at: http://127.0.0.1:5001/#/experiments/1/runs/380bd81a24f14fc2b10b5b3e6bdc508c\n",
      "🧪 View experiment at: http://127.0.0.1:5001/#/experiments/1\n",
      " Running TorchRegression | mini_batch | Linear | zeros | Momentum is not used | LR: 0.01\n",
      "(5330,)\n",
      "torch.Size([5330, 12])\n",
      "0 --> train_loss: 1.791 | train_accuracy: -2.5828 | val_loss: 1.5423 | val_accuracy: -1.6963\n",
      "🏃 View run Fold-0 at: http://127.0.0.1:5001/#/experiments/1/runs/dfc9837ab08a4eb3b002463229c6be84\n",
      "🧪 View experiment at: http://127.0.0.1:5001/#/experiments/1\n",
      "1 --> train_loss: 1.662 | train_accuracy: -2.2539 | val_loss: 1.4387 | val_accuracy: -1.7458\n",
      "🏃 View run Fold-1 at: http://127.0.0.1:5001/#/experiments/1/runs/083089009e174f7f802875cf8d036db9\n",
      "🧪 View experiment at: http://127.0.0.1:5001/#/experiments/1\n",
      "2 --> train_loss: 1.611 | train_accuracy: -2.1483 | val_loss: 1.4498 | val_accuracy: -1.6458\n",
      "🏃 View run Fold-2 at: http://127.0.0.1:5001/#/experiments/1/runs/ba820a839f114a0d8f5fd2b4b6eb1963\n",
      "🧪 View experiment at: http://127.0.0.1:5001/#/experiments/1\n",
      "3 --> train_loss: 1.589 | train_accuracy: -2.0975 | val_loss: 1.4592 | val_accuracy: -1.6466\n",
      "🏃 View run Fold-3 at: http://127.0.0.1:5001/#/experiments/1/runs/55bc94c752bf4ce3a329619c1f322f61\n",
      "🧪 View experiment at: http://127.0.0.1:5001/#/experiments/1\n"
     ]
    },
    {
     "name": "stderr",
     "output_type": "stream",
     "text": [
      "2025/02/03 02:42:24 WARNING mlflow.models.signature: Failed to infer schema for outputs. Setting schema to `Schema([ColSpec(type=AnyType())]` as default. To see the full traceback, set logging level to DEBUG.\n",
      "2025/02/03 02:42:24 WARNING mlflow.sklearn: Model was missing function: predict. Not logging python_function flavor!\n"
     ]
    },
    {
     "name": "stdout",
     "output_type": "stream",
     "text": [
      "4 --> train_loss: 1.565 | train_accuracy: -2.0571 | val_loss: 1.6276 | val_accuracy: -1.8844\n",
      "🏃 View run Fold-4 at: http://127.0.0.1:5001/#/experiments/1/runs/083ea63a53dd4a38a4742e6917df344a\n",
      "🧪 View experiment at: http://127.0.0.1:5001/#/experiments/1\n",
      "✅ Fold: mini_batch | Model: TorchRegression | MSE: 1.5166 | R²: -1.5950\n",
      "🏃 View run method-mini_batch-lr-0.01-reg-TorchRegression-poly-Linear-momentum-Momentum is not used-weight-zeros at: http://127.0.0.1:5001/#/experiments/1/runs/fe24eb92de8b411ab2add30af8952de7\n",
      "🧪 View experiment at: http://127.0.0.1:5001/#/experiments/1\n",
      " Running TorchRegression | mini_batch | Linear | zeros | Momentum is not used | LR: 0.001\n",
      "(5330,)\n",
      "torch.Size([5330, 12])\n",
      "0 --> train_loss: 5.657 | train_accuracy: -10.3725 | val_loss: 2.6580 | val_accuracy: -3.6469\n",
      "🏃 View run Fold-0 at: http://127.0.0.1:5001/#/experiments/1/runs/9df9fb794c5345028d5e359599f11f3f\n",
      "🧪 View experiment at: http://127.0.0.1:5001/#/experiments/1\n",
      "1 --> train_loss: 3.911 | train_accuracy: -6.8143 | val_loss: 1.8862 | val_accuracy: -2.5997\n",
      "🏃 View run Fold-1 at: http://127.0.0.1:5001/#/experiments/1/runs/60f61164a48c4ee4b36bdcbb18d0aa75\n",
      "🧪 View experiment at: http://127.0.0.1:5001/#/experiments/1\n",
      "2 --> train_loss: 3.226 | train_accuracy: -5.4250 | val_loss: 1.7057 | val_accuracy: -2.1129\n",
      "🏃 View run Fold-2 at: http://127.0.0.1:5001/#/experiments/1/runs/c526f6e286cc44e59589a66e34e96b79\n",
      "🧪 View experiment at: http://127.0.0.1:5001/#/experiments/1\n",
      "3 --> train_loss: 2.844 | train_accuracy: -4.6428 | val_loss: 1.6408 | val_accuracy: -1.9760\n",
      "🏃 View run Fold-3 at: http://127.0.0.1:5001/#/experiments/1/runs/9ebaa4608a86408a952dffe612a43c73\n",
      "🧪 View experiment at: http://127.0.0.1:5001/#/experiments/1\n"
     ]
    },
    {
     "name": "stderr",
     "output_type": "stream",
     "text": [
      "2025/02/03 02:42:33 WARNING mlflow.models.signature: Failed to infer schema for outputs. Setting schema to `Schema([ColSpec(type=AnyType())]` as default. To see the full traceback, set logging level to DEBUG.\n"
     ]
    },
    {
     "name": "stdout",
     "output_type": "stream",
     "text": [
      "4 --> train_loss: 2.596 | train_accuracy: -4.1675 | val_loss: 1.6844 | val_accuracy: -1.9851\n",
      "🏃 View run Fold-4 at: http://127.0.0.1:5001/#/experiments/1/runs/9d33db8ababa4ab1a0be605dc86a3752\n",
      "🧪 View experiment at: http://127.0.0.1:5001/#/experiments/1\n"
     ]
    },
    {
     "name": "stderr",
     "output_type": "stream",
     "text": [
      "2025/02/03 02:42:33 WARNING mlflow.sklearn: Model was missing function: predict. Not logging python_function flavor!\n"
     ]
    },
    {
     "name": "stdout",
     "output_type": "stream",
     "text": [
      "✅ Fold: mini_batch | Model: TorchRegression | MSE: 1.6066 | R²: -1.7490\n",
      "🏃 View run method-mini_batch-lr-0.001-reg-TorchRegression-poly-Linear-momentum-Momentum is not used-weight-zeros at: http://127.0.0.1:5001/#/experiments/1/runs/a7d2b66db6384605bc01faec3d259bc0\n",
      "🧪 View experiment at: http://127.0.0.1:5001/#/experiments/1\n",
      " Running TorchRegression | mini_batch | Linear | zeros | Momentum is not used | LR: 0.0001\n",
      "(5330,)\n",
      "torch.Size([5330, 12])\n",
      "0 --> train_loss: 34.523 | train_accuracy: -64.5236 | val_loss: 5.3002 | val_accuracy: -8.2661\n",
      "🏃 View run Fold-0 at: http://127.0.0.1:5001/#/experiments/1/runs/95cd75031491406aabb78ffa7a3d30f6\n",
      "🧪 View experiment at: http://127.0.0.1:5001/#/experiments/1\n",
      "1 --> train_loss: 19.391 | train_accuracy: -35.8690 | val_loss: 3.3620 | val_accuracy: -5.4164\n",
      "🏃 View run Fold-1 at: http://127.0.0.1:5001/#/experiments/1/runs/8863a526086e426ca7bfbeca6c876825\n",
      "🧪 View experiment at: http://127.0.0.1:5001/#/experiments/1\n",
      "2 --> train_loss: 14.101 | train_accuracy: -25.9591 | val_loss: 3.3994 | val_accuracy: -5.2037\n",
      "🏃 View run Fold-2 at: http://127.0.0.1:5001/#/experiments/1/runs/0da1e5bb31014d1b8698e9c3833cba5e\n",
      "🧪 View experiment at: http://127.0.0.1:5001/#/experiments/1\n",
      "3 --> train_loss: 11.386 | train_accuracy: -20.7799 | val_loss: 3.2291 | val_accuracy: -4.8568\n",
      "🏃 View run Fold-3 at: http://127.0.0.1:5001/#/experiments/1/runs/e50999d999da4ecfb2f9a637605ccb44\n",
      "🧪 View experiment at: http://127.0.0.1:5001/#/experiments/1\n"
     ]
    },
    {
     "name": "stderr",
     "output_type": "stream",
     "text": [
      "2025/02/03 02:42:42 WARNING mlflow.models.signature: Failed to infer schema for outputs. Setting schema to `Schema([ColSpec(type=AnyType())]` as default. To see the full traceback, set logging level to DEBUG.\n",
      "2025/02/03 02:42:42 WARNING mlflow.sklearn: Model was missing function: predict. Not logging python_function flavor!\n"
     ]
    },
    {
     "name": "stdout",
     "output_type": "stream",
     "text": [
      "4 --> train_loss: 9.709 | train_accuracy: -17.5700 | val_loss: 3.2629 | val_accuracy: -4.7825\n",
      "🏃 View run Fold-4 at: http://127.0.0.1:5001/#/experiments/1/runs/85d9d37558134c6c896fa24287ff699c\n",
      "🧪 View experiment at: http://127.0.0.1:5001/#/experiments/1\n",
      "✅ Fold: mini_batch | Model: TorchRegression | MSE: 3.1229 | R²: -4.3434\n",
      "🏃 View run method-mini_batch-lr-0.0001-reg-TorchRegression-poly-Linear-momentum-Momentum is not used-weight-zeros at: http://127.0.0.1:5001/#/experiments/1/runs/9fcf2518e8bc4c0dad798063f8b2303c\n",
      "🧪 View experiment at: http://127.0.0.1:5001/#/experiments/1\n",
      " Running TorchRegression | mini_batch | Linear | zeros | Momentum is used | LR: 0.01\n",
      "(5330,)\n",
      "torch.Size([5330, 12])\n",
      "0 --> train_loss: 3.721 | train_accuracy: -6.3346 | val_loss: 2.0499 | val_accuracy: -2.5838\n",
      "🏃 View run Fold-0 at: http://127.0.0.1:5001/#/experiments/1/runs/6bc9366b1fc44035be0152b7c674e356\n",
      "🧪 View experiment at: http://127.0.0.1:5001/#/experiments/1\n",
      "1 --> train_loss: 2.764 | train_accuracy: -4.5063 | val_loss: 1.5534 | val_accuracy: -1.9647\n",
      "🏃 View run Fold-1 at: http://127.0.0.1:5001/#/experiments/1/runs/6c879ea3633d4e8a9395129f21579bb6\n",
      "🧪 View experiment at: http://127.0.0.1:5001/#/experiments/1\n",
      "2 --> train_loss: 2.372 | train_accuracy: -3.7064 | val_loss: 1.4858 | val_accuracy: -1.7114\n",
      "🏃 View run Fold-2 at: http://127.0.0.1:5001/#/experiments/1/runs/fd78b2878b994d57942d203ed6a70c41\n",
      "🧪 View experiment at: http://127.0.0.1:5001/#/experiments/1\n",
      "3 --> train_loss: 2.172 | train_accuracy: -3.2950 | val_loss: 1.4874 | val_accuracy: -1.6977\n",
      "🏃 View run Fold-3 at: http://127.0.0.1:5001/#/experiments/1/runs/ba187d5f943240e987808e596ec5e54b\n",
      "🧪 View experiment at: http://127.0.0.1:5001/#/experiments/1\n"
     ]
    },
    {
     "name": "stderr",
     "output_type": "stream",
     "text": [
      "2025/02/03 02:42:51 WARNING mlflow.models.signature: Failed to infer schema for outputs. Setting schema to `Schema([ColSpec(type=AnyType())]` as default. To see the full traceback, set logging level to DEBUG.\n",
      "2025/02/03 02:42:51 WARNING mlflow.sklearn: Model was missing function: predict. Not logging python_function flavor!\n"
     ]
    },
    {
     "name": "stdout",
     "output_type": "stream",
     "text": [
      "4 --> train_loss: 2.036 | train_accuracy: -2.9993 | val_loss: 1.6309 | val_accuracy: -1.8904\n",
      "🏃 View run Fold-4 at: http://127.0.0.1:5001/#/experiments/1/runs/ba3362cb3b0d45b8a87f38a8150ad87d\n",
      "🧪 View experiment at: http://127.0.0.1:5001/#/experiments/1\n",
      "✅ Fold: mini_batch | Model: TorchRegression | MSE: 1.5298 | R²: -1.6176\n",
      "🏃 View run method-mini_batch-lr-0.01-reg-TorchRegression-poly-Linear-momentum-Momentum is used-weight-zeros at: http://127.0.0.1:5001/#/experiments/1/runs/61c6c96b93ad402bb845edeb3258724d\n",
      "🧪 View experiment at: http://127.0.0.1:5001/#/experiments/1\n",
      " Running TorchRegression | mini_batch | Linear | zeros | Momentum is used | LR: 0.001\n",
      "(5330,)\n",
      "torch.Size([5330, 12])\n",
      "0 --> train_loss: 18.860 | train_accuracy: -34.8540 | val_loss: 3.8450 | val_accuracy: -5.7221\n",
      "🏃 View run Fold-0 at: http://127.0.0.1:5001/#/experiments/1/runs/0c564301910841a488d9a8f004fbf405\n",
      "🧪 View experiment at: http://127.0.0.1:5001/#/experiments/1\n",
      "1 --> train_loss: 11.183 | train_accuracy: -20.3119 | val_loss: 2.9689 | val_accuracy: -4.6661\n",
      "🏃 View run Fold-1 at: http://127.0.0.1:5001/#/experiments/1/runs/584b9ad255a34d39804cd8e68dd7e58b\n",
      "🧪 View experiment at: http://127.0.0.1:5001/#/experiments/1\n",
      "2 --> train_loss: 8.431 | train_accuracy: -15.0867 | val_loss: 2.9597 | val_accuracy: -4.4013\n",
      "🏃 View run Fold-2 at: http://127.0.0.1:5001/#/experiments/1/runs/58d645a4180f41509ab521dd3915e37a\n",
      "🧪 View experiment at: http://127.0.0.1:5001/#/experiments/1\n",
      "3 --> train_loss: 7.028 | train_accuracy: -12.4175 | val_loss: 2.7711 | val_accuracy: -4.0260\n",
      "🏃 View run Fold-3 at: http://127.0.0.1:5001/#/experiments/1/runs/cf91283c87f441b5a95328fa21bcde95\n",
      "🧪 View experiment at: http://127.0.0.1:5001/#/experiments/1\n"
     ]
    },
    {
     "name": "stderr",
     "output_type": "stream",
     "text": [
      "2025/02/03 02:43:00 WARNING mlflow.models.signature: Failed to infer schema for outputs. Setting schema to `Schema([ColSpec(type=AnyType())]` as default. To see the full traceback, set logging level to DEBUG.\n",
      "2025/02/03 02:43:00 WARNING mlflow.sklearn: Model was missing function: predict. Not logging python_function flavor!\n"
     ]
    },
    {
     "name": "stdout",
     "output_type": "stream",
     "text": [
      "4 --> train_loss: 6.150 | train_accuracy: -10.7827 | val_loss: 2.7169 | val_accuracy: -3.8149\n",
      "🏃 View run Fold-4 at: http://127.0.0.1:5001/#/experiments/1/runs/f6ea6543cd8846a3bf68a77d8bb4a474\n",
      "🧪 View experiment at: http://127.0.0.1:5001/#/experiments/1\n",
      "✅ Fold: mini_batch | Model: TorchRegression | MSE: 2.6171 | R²: -3.4780\n",
      "🏃 View run method-mini_batch-lr-0.001-reg-TorchRegression-poly-Linear-momentum-Momentum is used-weight-zeros at: http://127.0.0.1:5001/#/experiments/1/runs/0a95bebcf5f745d8a3206b6d9fff30fa\n",
      "🧪 View experiment at: http://127.0.0.1:5001/#/experiments/1\n",
      " Running TorchRegression | mini_batch | Linear | zeros | Momentum is used | LR: 0.0001\n",
      "(5330,)\n",
      "torch.Size([5330, 12])\n",
      "0 --> train_loss: 103.796 | train_accuracy: -203.4660 | val_loss: 61.3701 | val_accuracy: -106.2909\n",
      "🏃 View run Fold-0 at: http://127.0.0.1:5001/#/experiments/1/runs/c782afcc79574408af0b58948ed6d9a0\n",
      "🧪 View experiment at: http://127.0.0.1:5001/#/experiments/1\n",
      "1 --> train_loss: 71.648 | train_accuracy: -139.2664 | val_loss: 23.9659 | val_accuracy: -44.7385\n",
      "🏃 View run Fold-1 at: http://127.0.0.1:5001/#/experiments/1/runs/ec7e899119a14394a9df4ab92343dc35\n",
      "🧪 View experiment at: http://127.0.0.1:5001/#/experiments/1\n",
      "2 --> train_loss: 53.263 | train_accuracy: -103.4687 | val_loss: 11.2842 | val_accuracy: -19.5931\n",
      "🏃 View run Fold-2 at: http://127.0.0.1:5001/#/experiments/1/runs/b66d0ef90dd146afb44d2f51686488ac\n",
      "🧪 View experiment at: http://127.0.0.1:5001/#/experiments/1\n",
      "3 --> train_loss: 42.182 | train_accuracy: -81.6681 | val_loss: 6.3865 | val_accuracy: -10.5835\n",
      "🏃 View run Fold-3 at: http://127.0.0.1:5001/#/experiments/1/runs/d0c02c4785b241b29a38eb25268a9f33\n",
      "🧪 View experiment at: http://127.0.0.1:5001/#/experiments/1\n"
     ]
    },
    {
     "name": "stderr",
     "output_type": "stream",
     "text": [
      "2025/02/03 02:43:09 WARNING mlflow.models.signature: Failed to infer schema for outputs. Setting schema to `Schema([ColSpec(type=AnyType())]` as default. To see the full traceback, set logging level to DEBUG.\n",
      "2025/02/03 02:43:09 WARNING mlflow.sklearn: Model was missing function: predict. Not logging python_function flavor!\n"
     ]
    },
    {
     "name": "stdout",
     "output_type": "stream",
     "text": [
      "4 --> train_loss: 34.888 | train_accuracy: -67.4010 | val_loss: 5.3014 | val_accuracy: -8.3953\n",
      "🏃 View run Fold-4 at: http://127.0.0.1:5001/#/experiments/1/runs/2ac280dcf78a4e2196acca2c30a3a66d\n",
      "🧪 View experiment at: http://127.0.0.1:5001/#/experiments/1\n",
      "✅ Fold: mini_batch | Model: TorchRegression | MSE: 5.1245 | R²: -7.7683\n",
      "🏃 View run method-mini_batch-lr-0.0001-reg-TorchRegression-poly-Linear-momentum-Momentum is used-weight-zeros at: http://127.0.0.1:5001/#/experiments/1/runs/a62c9b9f293b4e3eb5ff6e107f0dcbac\n",
      "🧪 View experiment at: http://127.0.0.1:5001/#/experiments/1\n",
      " Running TorchRegression | mini_batch | Linear | xavier | Momentum is not used | LR: 0.01\n",
      "(5330,)\n",
      "torch.Size([5330, 12])\n",
      "0 --> train_loss: 1.949 | train_accuracy: -2.8253 | val_loss: 1.5457 | val_accuracy: -1.7023\n",
      "🏃 View run Fold-0 at: http://127.0.0.1:5001/#/experiments/1/runs/712d431e4ca34bfe9edb44046feba4ec\n",
      "🧪 View experiment at: http://127.0.0.1:5001/#/experiments/1\n",
      "1 --> train_loss: 1.740 | train_accuracy: -2.4252 | val_loss: 1.4395 | val_accuracy: -1.7473\n",
      "🏃 View run Fold-1 at: http://127.0.0.1:5001/#/experiments/1/runs/6afef8514b8d43008b18714e45075799\n",
      "🧪 View experiment at: http://127.0.0.1:5001/#/experiments/1\n",
      "2 --> train_loss: 1.677 | train_accuracy: -2.2413 | val_loss: 1.4475 | val_accuracy: -1.6416\n",
      "🏃 View run Fold-2 at: http://127.0.0.1:5001/#/experiments/1/runs/ae95cb8d45a6458aa7b9e9d458cfd59d\n",
      "🧪 View experiment at: http://127.0.0.1:5001/#/experiments/1\n",
      "3 --> train_loss: 1.626 | train_accuracy: -2.1591 | val_loss: 1.4607 | val_accuracy: -1.6493\n",
      "🏃 View run Fold-3 at: http://127.0.0.1:5001/#/experiments/1/runs/ce426fd39ff8482b8847d4566b6246b5\n",
      "🧪 View experiment at: http://127.0.0.1:5001/#/experiments/1\n"
     ]
    },
    {
     "name": "stderr",
     "output_type": "stream",
     "text": [
      "2025/02/03 02:43:18 WARNING mlflow.models.signature: Failed to infer schema for outputs. Setting schema to `Schema([ColSpec(type=AnyType())]` as default. To see the full traceback, set logging level to DEBUG.\n",
      "2025/02/03 02:43:18 WARNING mlflow.sklearn: Model was missing function: predict. Not logging python_function flavor!\n"
     ]
    },
    {
     "name": "stdout",
     "output_type": "stream",
     "text": [
      "4 --> train_loss: 1.584 | train_accuracy: -2.0806 | val_loss: 1.6278 | val_accuracy: -1.8848\n",
      "🏃 View run Fold-4 at: http://127.0.0.1:5001/#/experiments/1/runs/d9d3834884fd48c9a4b79ba41a89793c\n",
      "🧪 View experiment at: http://127.0.0.1:5001/#/experiments/1\n",
      "✅ Fold: mini_batch | Model: TorchRegression | MSE: 1.5156 | R²: -1.5932\n",
      "🏃 View run method-mini_batch-lr-0.01-reg-TorchRegression-poly-Linear-momentum-Momentum is not used-weight-xavier at: http://127.0.0.1:5001/#/experiments/1/runs/356a8de9badd41ebbac70602bf78ed59\n",
      "🧪 View experiment at: http://127.0.0.1:5001/#/experiments/1\n",
      " Running TorchRegression | mini_batch | Linear | xavier | Momentum is not used | LR: 0.001\n",
      "(5330,)\n",
      "torch.Size([5330, 12])\n",
      "0 --> train_loss: 6.647 | train_accuracy: -11.8617 | val_loss: 2.7890 | val_accuracy: -3.8760\n",
      "🏃 View run Fold-0 at: http://127.0.0.1:5001/#/experiments/1/runs/d8f34df492014b7eb1c8a3037f94db82\n",
      "🧪 View experiment at: http://127.0.0.1:5001/#/experiments/1\n",
      "1 --> train_loss: 4.497 | train_accuracy: -7.7231 | val_loss: 1.9334 | val_accuracy: -2.6898\n",
      "🏃 View run Fold-1 at: http://127.0.0.1:5001/#/experiments/1/runs/f0b89d2b5193489bbfc9d0ff8a6f7620\n",
      "🧪 View experiment at: http://127.0.0.1:5001/#/experiments/1\n",
      "2 --> train_loss: 3.624 | train_accuracy: -6.0362 | val_loss: 1.7300 | val_accuracy: -2.1572\n",
      "🏃 View run Fold-2 at: http://127.0.0.1:5001/#/experiments/1/runs/199ab5a202e142ebb21886601ece7bba\n",
      "🧪 View experiment at: http://127.0.0.1:5001/#/experiments/1\n",
      "3 --> train_loss: 3.133 | train_accuracy: -5.0909 | val_loss: 1.6466 | val_accuracy: -1.9864\n",
      "🏃 View run Fold-3 at: http://127.0.0.1:5001/#/experiments/1/runs/f9cf0d677c2a45fd9a9db752a28a09a7\n",
      "🧪 View experiment at: http://127.0.0.1:5001/#/experiments/1\n"
     ]
    },
    {
     "name": "stderr",
     "output_type": "stream",
     "text": [
      "2025/02/03 02:43:27 WARNING mlflow.models.signature: Failed to infer schema for outputs. Setting schema to `Schema([ColSpec(type=AnyType())]` as default. To see the full traceback, set logging level to DEBUG.\n",
      "2025/02/03 02:43:27 WARNING mlflow.sklearn: Model was missing function: predict. Not logging python_function flavor!\n"
     ]
    },
    {
     "name": "stdout",
     "output_type": "stream",
     "text": [
      "4 --> train_loss: 2.835 | train_accuracy: -4.4961 | val_loss: 1.6903 | val_accuracy: -1.9956\n",
      "🏃 View run Fold-4 at: http://127.0.0.1:5001/#/experiments/1/runs/68e557016d704006b525a9051f97075b\n",
      "🧪 View experiment at: http://127.0.0.1:5001/#/experiments/1\n",
      "✅ Fold: mini_batch | Model: TorchRegression | MSE: 1.6235 | R²: -1.7780\n",
      "🏃 View run method-mini_batch-lr-0.001-reg-TorchRegression-poly-Linear-momentum-Momentum is not used-weight-xavier at: http://127.0.0.1:5001/#/experiments/1/runs/d09f62571b1e4429bafb842b607e0560\n",
      "🧪 View experiment at: http://127.0.0.1:5001/#/experiments/1\n",
      " Running TorchRegression | mini_batch | Linear | xavier | Momentum is not used | LR: 0.0001\n",
      "(5330,)\n",
      "torch.Size([5330, 12])\n",
      "0 --> train_loss: 41.508 | train_accuracy: -79.1391 | val_loss: 6.9388 | val_accuracy: -11.1309\n",
      "🏃 View run Fold-0 at: http://127.0.0.1:5001/#/experiments/1/runs/2bebacf62032400f85b8d9f6e57163ce\n",
      "🧪 View experiment at: http://127.0.0.1:5001/#/experiments/1\n",
      "1 --> train_loss: 23.193 | train_accuracy: -44.1203 | val_loss: 3.9524 | val_accuracy: -6.5432\n",
      "🏃 View run Fold-1 at: http://127.0.0.1:5001/#/experiments/1/runs/c6559472de5843ee9667d9180d9f4c7f\n",
      "🧪 View experiment at: http://127.0.0.1:5001/#/experiments/1\n",
      "2 --> train_loss: 16.800 | train_accuracy: -31.8105 | val_loss: 3.7408 | val_accuracy: -5.8268\n",
      "🏃 View run Fold-2 at: http://127.0.0.1:5001/#/experiments/1/runs/fa85230dbe6e4c308be73cc738de5289\n",
      "🧪 View experiment at: http://127.0.0.1:5001/#/experiments/1\n",
      "3 --> train_loss: 13.509 | train_accuracy: -25.3871 | val_loss: 3.6256 | val_accuracy: -5.5758\n",
      "🏃 View run Fold-3 at: http://127.0.0.1:5001/#/experiments/1/runs/f347903bcb60485cab2257e553b8b9f4\n",
      "🧪 View experiment at: http://127.0.0.1:5001/#/experiments/1\n"
     ]
    },
    {
     "name": "stderr",
     "output_type": "stream",
     "text": [
      "2025/02/03 02:43:35 WARNING mlflow.models.signature: Failed to infer schema for outputs. Setting schema to `Schema([ColSpec(type=AnyType())]` as default. To see the full traceback, set logging level to DEBUG.\n",
      "2025/02/03 02:43:35 WARNING mlflow.sklearn: Model was missing function: predict. Not logging python_function flavor!\n"
     ]
    },
    {
     "name": "stdout",
     "output_type": "stream",
     "text": [
      "4 --> train_loss: 11.498 | train_accuracy: -21.4921 | val_loss: 3.6551 | val_accuracy: -5.4776\n",
      "🏃 View run Fold-4 at: http://127.0.0.1:5001/#/experiments/1/runs/0a24d411158d4f26b1e32d75cc2c8603\n",
      "🧪 View experiment at: http://127.0.0.1:5001/#/experiments/1\n",
      "✅ Fold: mini_batch | Model: TorchRegression | MSE: 3.5080 | R²: -5.0023\n",
      "🏃 View run method-mini_batch-lr-0.0001-reg-TorchRegression-poly-Linear-momentum-Momentum is not used-weight-xavier at: http://127.0.0.1:5001/#/experiments/1/runs/67423eb5af6d408981355d8fcfd14183\n",
      "🧪 View experiment at: http://127.0.0.1:5001/#/experiments/1\n",
      " Running TorchRegression | mini_batch | Linear | xavier | Momentum is used | LR: 0.01\n",
      "(5330,)\n",
      "torch.Size([5330, 12])\n",
      "0 --> train_loss: 3.892 | train_accuracy: -6.8421 | val_loss: 1.9561 | val_accuracy: -2.4198\n",
      "🏃 View run Fold-0 at: http://127.0.0.1:5001/#/experiments/1/runs/5dd0804f17754e4986ae6f9c00b6c247\n",
      "🧪 View experiment at: http://127.0.0.1:5001/#/experiments/1\n",
      "1 --> train_loss: 2.840 | train_accuracy: -4.6280 | val_loss: 1.5481 | val_accuracy: -1.9546\n",
      "🏃 View run Fold-1 at: http://127.0.0.1:5001/#/experiments/1/runs/e573ae1d3b7b4d05ba11c7dd692ede82\n",
      "🧪 View experiment at: http://127.0.0.1:5001/#/experiments/1\n",
      "2 --> train_loss: 2.424 | train_accuracy: -3.8290 | val_loss: 1.4863 | val_accuracy: -1.7125\n",
      "🏃 View run Fold-2 at: http://127.0.0.1:5001/#/experiments/1/runs/c4ead530cef24f7fb0d377a5199941bf\n",
      "🧪 View experiment at: http://127.0.0.1:5001/#/experiments/1\n",
      "3 --> train_loss: 2.208 | train_accuracy: -3.3975 | val_loss: 1.4934 | val_accuracy: -1.7086\n",
      "🏃 View run Fold-3 at: http://127.0.0.1:5001/#/experiments/1/runs/ca9b3d61104f4cf4b567fadc4273f61e\n",
      "🧪 View experiment at: http://127.0.0.1:5001/#/experiments/1\n"
     ]
    },
    {
     "name": "stderr",
     "output_type": "stream",
     "text": [
      "2025/02/03 02:43:44 WARNING mlflow.models.signature: Failed to infer schema for outputs. Setting schema to `Schema([ColSpec(type=AnyType())]` as default. To see the full traceback, set logging level to DEBUG.\n",
      "2025/02/03 02:43:44 WARNING mlflow.sklearn: Model was missing function: predict. Not logging python_function flavor!\n"
     ]
    },
    {
     "name": "stdout",
     "output_type": "stream",
     "text": [
      "4 --> train_loss: 2.062 | train_accuracy: -3.0899 | val_loss: 1.6352 | val_accuracy: -1.8980\n",
      "🏃 View run Fold-4 at: http://127.0.0.1:5001/#/experiments/1/runs/1bf6af05aa1f406389f17c2ee9af4f86\n",
      "🧪 View experiment at: http://127.0.0.1:5001/#/experiments/1\n",
      "✅ Fold: mini_batch | Model: TorchRegression | MSE: 1.5376 | R²: -1.6309\n",
      "🏃 View run method-mini_batch-lr-0.01-reg-TorchRegression-poly-Linear-momentum-Momentum is used-weight-xavier at: http://127.0.0.1:5001/#/experiments/1/runs/a6509b0c7ca245aca9730bca727a2a01\n",
      "🧪 View experiment at: http://127.0.0.1:5001/#/experiments/1\n",
      " Running TorchRegression | mini_batch | Linear | xavier | Momentum is used | LR: 0.001\n",
      "(5330,)\n",
      "torch.Size([5330, 12])\n",
      "0 --> train_loss: 21.799 | train_accuracy: -42.9502 | val_loss: 4.4236 | val_accuracy: -6.7336\n",
      "🏃 View run Fold-0 at: http://127.0.0.1:5001/#/experiments/1/runs/5177923814944e50aca253b402d7b095\n",
      "🧪 View experiment at: http://127.0.0.1:5001/#/experiments/1\n",
      "1 --> train_loss: 12.837 | train_accuracy: -24.6701 | val_loss: 3.1999 | val_accuracy: -5.1070\n",
      "🏃 View run Fold-1 at: http://127.0.0.1:5001/#/experiments/1/runs/a0e92a0f20bb4cb6a24695b07c0f5c0c\n",
      "🧪 View experiment at: http://127.0.0.1:5001/#/experiments/1\n",
      "2 --> train_loss: 9.625 | train_accuracy: -18.2859 | val_loss: 3.1780 | val_accuracy: -4.7997\n",
      "🏃 View run Fold-2 at: http://127.0.0.1:5001/#/experiments/1/runs/cc6e52aff4d14942b013e5499f16e769\n",
      "🧪 View experiment at: http://127.0.0.1:5001/#/experiments/1\n",
      "3 --> train_loss: 7.971 | train_accuracy: -14.8461 | val_loss: 2.9349 | val_accuracy: -4.3231\n",
      "🏃 View run Fold-3 at: http://127.0.0.1:5001/#/experiments/1/runs/8d87db293d454ae9ad37904a494ce89a\n",
      "🧪 View experiment at: http://127.0.0.1:5001/#/experiments/1\n"
     ]
    },
    {
     "name": "stderr",
     "output_type": "stream",
     "text": [
      "2025/02/03 02:43:53 WARNING mlflow.models.signature: Failed to infer schema for outputs. Setting schema to `Schema([ColSpec(type=AnyType())]` as default. To see the full traceback, set logging level to DEBUG.\n",
      "2025/02/03 02:43:53 WARNING mlflow.sklearn: Model was missing function: predict. Not logging python_function flavor!\n"
     ]
    },
    {
     "name": "stdout",
     "output_type": "stream",
     "text": [
      "4 --> train_loss: 6.939 | train_accuracy: -12.7891 | val_loss: 2.8617 | val_accuracy: -4.0715\n",
      "🏃 View run Fold-4 at: http://127.0.0.1:5001/#/experiments/1/runs/f0efbdff222f4841bd73c277e6f040cb\n",
      "🧪 View experiment at: http://127.0.0.1:5001/#/experiments/1\n",
      "✅ Fold: mini_batch | Model: TorchRegression | MSE: 2.7476 | R²: -3.7013\n",
      "🏃 View run method-mini_batch-lr-0.001-reg-TorchRegression-poly-Linear-momentum-Momentum is used-weight-xavier at: http://127.0.0.1:5001/#/experiments/1/runs/8de1160f6ac84fd9a096de8f19bdfd94\n",
      "🧪 View experiment at: http://127.0.0.1:5001/#/experiments/1\n",
      " Running TorchRegression | mini_batch | Linear | xavier | Momentum is used | LR: 0.0001\n",
      "(5330,)\n",
      "torch.Size([5330, 12])\n",
      "0 --> train_loss: 135.205 | train_accuracy: -273.0194 | val_loss: 79.3467 | val_accuracy: -137.7186\n",
      "🏃 View run Fold-0 at: http://127.0.0.1:5001/#/experiments/1/runs/16157f872b3d46ada9c72eb84eceb214\n",
      "🧪 View experiment at: http://127.0.0.1:5001/#/experiments/1\n",
      "1 --> train_loss: 92.976 | train_accuracy: -185.5047 | val_loss: 30.4420 | val_accuracy: -57.0981\n",
      "🏃 View run Fold-1 at: http://127.0.0.1:5001/#/experiments/1/runs/80f27844bfa94d2ea2513294d524afff\n",
      "🧪 View experiment at: http://127.0.0.1:5001/#/experiments/1\n",
      "2 --> train_loss: 69.093 | train_accuracy: -137.6037 | val_loss: 14.0942 | val_accuracy: -24.7211\n",
      "🏃 View run Fold-2 at: http://127.0.0.1:5001/#/experiments/1/runs/70f0c6a14e2c4caa8eb3cfc3285e7346\n",
      "🧪 View experiment at: http://127.0.0.1:5001/#/experiments/1\n",
      "3 --> train_loss: 54.555 | train_accuracy: -108.3577 | val_loss: 8.0100 | val_accuracy: -13.5281\n",
      "🏃 View run Fold-3 at: http://127.0.0.1:5001/#/experiments/1/runs/51dad6ec3e0a46b5b2087ea96d35a043\n",
      "🧪 View experiment at: http://127.0.0.1:5001/#/experiments/1\n"
     ]
    },
    {
     "name": "stderr",
     "output_type": "stream",
     "text": [
      "2025/02/03 02:44:04 WARNING mlflow.models.signature: Failed to infer schema for outputs. Setting schema to `Schema([ColSpec(type=AnyType())]` as default. To see the full traceback, set logging level to DEBUG.\n",
      "2025/02/03 02:44:05 WARNING mlflow.sklearn: Model was missing function: predict. Not logging python_function flavor!\n"
     ]
    },
    {
     "name": "stdout",
     "output_type": "stream",
     "text": [
      "4 --> train_loss: 45.063 | train_accuracy: -89.2979 | val_loss: 6.3630 | val_accuracy: -10.2766\n",
      "🏃 View run Fold-4 at: http://127.0.0.1:5001/#/experiments/1/runs/91663d74bdc544b29ee598fc74b60777\n",
      "🧪 View experiment at: http://127.0.0.1:5001/#/experiments/1\n",
      "✅ Fold: mini_batch | Model: TorchRegression | MSE: 6.0198 | R²: -9.3002\n",
      "🏃 View run method-mini_batch-lr-0.0001-reg-TorchRegression-poly-Linear-momentum-Momentum is used-weight-xavier at: http://127.0.0.1:5001/#/experiments/1/runs/a5a363597fb84265b1d7949a3f4dd27c\n",
      "🧪 View experiment at: http://127.0.0.1:5001/#/experiments/1\n",
      " Running TorchRegression | mini_batch | Polynomial | zeros | Momentum is not used | LR: 0.01\n",
      "(5330,)\n",
      "torch.Size([5330, 90])\n",
      "0 --> train_loss: 1.063 | train_accuracy: -1.2155 | val_loss: 0.5341 | val_accuracy: 0.0663\n",
      "🏃 View run Fold-0 at: http://127.0.0.1:5001/#/experiments/1/runs/010b42f7b04843c8ac65ead292d24fb2\n",
      "🧪 View experiment at: http://127.0.0.1:5001/#/experiments/1\n",
      "1 --> train_loss: 0.700 | train_accuracy: -0.4091 | val_loss: 0.2603 | val_accuracy: 0.5033\n",
      "🏃 View run Fold-1 at: http://127.0.0.1:5001/#/experiments/1/runs/2cd1e54354d541cba965acd2a336a4c6\n",
      "🧪 View experiment at: http://127.0.0.1:5001/#/experiments/1\n",
      "2 --> train_loss: 0.544 | train_accuracy: -0.0871 | val_loss: 0.2232 | val_accuracy: 0.5927\n",
      "🏃 View run Fold-2 at: http://127.0.0.1:5001/#/experiments/1/runs/70ecf11e904a431c97c719a6ea43f2b1\n",
      "🧪 View experiment at: http://127.0.0.1:5001/#/experiments/1\n",
      "3 --> train_loss: 0.458 | train_accuracy: 0.0880 | val_loss: 0.1918 | val_accuracy: 0.6521\n",
      "🏃 View run Fold-3 at: http://127.0.0.1:5001/#/experiments/1/runs/16c0e12b871d4118a5650182c0185afd\n",
      "🧪 View experiment at: http://127.0.0.1:5001/#/experiments/1\n"
     ]
    },
    {
     "name": "stderr",
     "output_type": "stream",
     "text": [
      "2025/02/03 02:44:17 WARNING mlflow.models.signature: Failed to infer schema for outputs. Setting schema to `Schema([ColSpec(type=AnyType())]` as default. To see the full traceback, set logging level to DEBUG.\n",
      "2025/02/03 02:44:17 WARNING mlflow.sklearn: Model was missing function: predict. Not logging python_function flavor!\n"
     ]
    },
    {
     "name": "stdout",
     "output_type": "stream",
     "text": [
      "4 --> train_loss: 0.405 | train_accuracy: 0.1966 | val_loss: 0.2068 | val_accuracy: 0.6335\n",
      "🏃 View run Fold-4 at: http://127.0.0.1:5001/#/experiments/1/runs/f2913e9a1daf4f37bf7cc24da801e91f\n",
      "🧪 View experiment at: http://127.0.0.1:5001/#/experiments/1\n",
      "✅ Fold: mini_batch | Model: TorchRegression | MSE: 0.1547 | R²: 0.7353\n",
      "🏃 View run method-mini_batch-lr-0.01-reg-TorchRegression-poly-Polynomial-momentum-Momentum is not used-weight-zeros at: http://127.0.0.1:5001/#/experiments/1/runs/d2aa6ec8600640d1ad84c325ca846a27\n",
      "🧪 View experiment at: http://127.0.0.1:5001/#/experiments/1\n",
      " Running TorchRegression | mini_batch | Polynomial | zeros | Momentum is not used | LR: 0.001\n",
      "(5330,)\n",
      "torch.Size([5330, 90])\n",
      "0 --> train_loss: 3.487 | train_accuracy: -6.3019 | val_loss: 1.8893 | val_accuracy: -2.3030\n",
      "🏃 View run Fold-0 at: http://127.0.0.1:5001/#/experiments/1/runs/f1fe37443f2d48dfae4d88feb5373cf8\n",
      "🧪 View experiment at: http://127.0.0.1:5001/#/experiments/1\n",
      "1 --> train_loss: 2.477 | train_accuracy: -4.0350 | val_loss: 1.1777 | val_accuracy: -1.2476\n",
      "🏃 View run Fold-1 at: http://127.0.0.1:5001/#/experiments/1/runs/19c581379b6c4560aea204c4540b8172\n",
      "🧪 View experiment at: http://127.0.0.1:5001/#/experiments/1\n",
      "2 --> train_loss: 2.032 | train_accuracy: -3.0959 | val_loss: 0.9779 | val_accuracy: -0.7846\n",
      "🏃 View run Fold-2 at: http://127.0.0.1:5001/#/experiments/1/runs/0216731a97b942b1afc9eef977da85af\n",
      "🧪 View experiment at: http://127.0.0.1:5001/#/experiments/1\n",
      "3 --> train_loss: 1.749 | train_accuracy: -2.5114 | val_loss: 0.9043 | val_accuracy: -0.6402\n",
      "🏃 View run Fold-3 at: http://127.0.0.1:5001/#/experiments/1/runs/ff3a41dc826f47168f6a6dfaf65437db\n",
      "🧪 View experiment at: http://127.0.0.1:5001/#/experiments/1\n"
     ]
    },
    {
     "name": "stderr",
     "output_type": "stream",
     "text": [
      "2025/02/03 02:44:30 WARNING mlflow.models.signature: Failed to infer schema for outputs. Setting schema to `Schema([ColSpec(type=AnyType())]` as default. To see the full traceback, set logging level to DEBUG.\n",
      "2025/02/03 02:44:30 WARNING mlflow.sklearn: Model was missing function: predict. Not logging python_function flavor!\n"
     ]
    },
    {
     "name": "stdout",
     "output_type": "stream",
     "text": [
      "4 --> train_loss: 1.558 | train_accuracy: -2.1321 | val_loss: 0.8472 | val_accuracy: -0.5014\n",
      "🏃 View run Fold-4 at: http://127.0.0.1:5001/#/experiments/1/runs/4804c8b79d514780917fbcb7db826c67\n",
      "🧪 View experiment at: http://127.0.0.1:5001/#/experiments/1\n",
      "✅ Fold: mini_batch | Model: TorchRegression | MSE: 0.7070 | R²: -0.2098\n",
      "🏃 View run method-mini_batch-lr-0.001-reg-TorchRegression-poly-Polynomial-momentum-Momentum is not used-weight-zeros at: http://127.0.0.1:5001/#/experiments/1/runs/cdcda337df28467bb53616c581d6fdcc\n",
      "🧪 View experiment at: http://127.0.0.1:5001/#/experiments/1\n",
      " Running TorchRegression | mini_batch | Polynomial | zeros | Momentum is not used | LR: 0.0001\n",
      "(5330,)\n",
      "torch.Size([5330, 90])\n",
      "0 --> train_loss: 13.867 | train_accuracy: -28.4938 | val_loss: 5.8785 | val_accuracy: -9.2772\n",
      "🏃 View run Fold-0 at: http://127.0.0.1:5001/#/experiments/1/runs/59eef530a33b420aa30799c278d20090\n",
      "🧪 View experiment at: http://127.0.0.1:5001/#/experiments/1\n",
      "1 --> train_loss: 9.457 | train_accuracy: -18.7095 | val_loss: 3.8167 | val_accuracy: -6.2841\n",
      "🏃 View run Fold-1 at: http://127.0.0.1:5001/#/experiments/1/runs/0b4ade3928ef43cd948350f6128cd7d4\n",
      "🧪 View experiment at: http://127.0.0.1:5001/#/experiments/1\n",
      "2 --> train_loss: 7.668 | train_accuracy: -14.8686 | val_loss: 3.4285 | val_accuracy: -5.2568\n",
      "🏃 View run Fold-2 at: http://127.0.0.1:5001/#/experiments/1/runs/ce6bcd1fa4dd4f38954499219ead8882\n",
      "🧪 View experiment at: http://127.0.0.1:5001/#/experiments/1\n",
      "3 --> train_loss: 6.588 | train_accuracy: -12.6147 | val_loss: 3.2180 | val_accuracy: -4.8366\n",
      "🏃 View run Fold-3 at: http://127.0.0.1:5001/#/experiments/1/runs/8ddc09e306364f7c939b4c839dac74ca\n",
      "🧪 View experiment at: http://127.0.0.1:5001/#/experiments/1\n"
     ]
    },
    {
     "name": "stderr",
     "output_type": "stream",
     "text": [
      "2025/02/03 02:44:41 WARNING mlflow.models.signature: Failed to infer schema for outputs. Setting schema to `Schema([ColSpec(type=AnyType())]` as default. To see the full traceback, set logging level to DEBUG.\n",
      "2025/02/03 02:44:41 WARNING mlflow.sklearn: Model was missing function: predict. Not logging python_function flavor!\n"
     ]
    },
    {
     "name": "stdout",
     "output_type": "stream",
     "text": [
      "4 --> train_loss: 5.843 | train_accuracy: -11.0633 | val_loss: 3.1182 | val_accuracy: -4.5262\n",
      "🏃 View run Fold-4 at: http://127.0.0.1:5001/#/experiments/1/runs/f3ba2b6d21264673beab1c2111d5fe9b\n",
      "🧪 View experiment at: http://127.0.0.1:5001/#/experiments/1\n",
      "✅ Fold: mini_batch | Model: TorchRegression | MSE: 2.8058 | R²: -3.8009\n",
      "🏃 View run method-mini_batch-lr-0.0001-reg-TorchRegression-poly-Polynomial-momentum-Momentum is not used-weight-zeros at: http://127.0.0.1:5001/#/experiments/1/runs/d2bd416f61da44bebd36fb84fecb920e\n",
      "🧪 View experiment at: http://127.0.0.1:5001/#/experiments/1\n",
      " Running TorchRegression | mini_batch | Polynomial | zeros | Momentum is used | LR: 0.01\n",
      "(5330,)\n",
      "torch.Size([5330, 90])\n",
      "0 --> train_loss: 2.471 | train_accuracy: -3.8484 | val_loss: 1.3368 | val_accuracy: -1.3371\n",
      "🏃 View run Fold-0 at: http://127.0.0.1:5001/#/experiments/1/runs/c334a1795d25411c93251d3ee4185bbe\n",
      "🧪 View experiment at: http://127.0.0.1:5001/#/experiments/1\n",
      "1 --> train_loss: 1.766 | train_accuracy: -2.4580 | val_loss: 0.8914 | val_accuracy: -0.7013\n",
      "🏃 View run Fold-1 at: http://127.0.0.1:5001/#/experiments/1/runs/ab029447b33f4f37b6c3f19a1b47ae34\n",
      "🧪 View experiment at: http://127.0.0.1:5001/#/experiments/1\n",
      "2 --> train_loss: 1.432 | train_accuracy: -1.7984 | val_loss: 0.6372 | val_accuracy: -0.1629\n",
      "🏃 View run Fold-2 at: http://127.0.0.1:5001/#/experiments/1/runs/f39976362b6a4b58a1d8e8c956babe71\n",
      "🧪 View experiment at: http://127.0.0.1:5001/#/experiments/1\n",
      "3 --> train_loss: 1.214 | train_accuracy: -1.3737 | val_loss: 0.5812 | val_accuracy: -0.0541\n",
      "🏃 View run Fold-3 at: http://127.0.0.1:5001/#/experiments/1/runs/569f29c3734f43439c0c080e856a0434\n",
      "🧪 View experiment at: http://127.0.0.1:5001/#/experiments/1\n"
     ]
    },
    {
     "name": "stderr",
     "output_type": "stream",
     "text": [
      "2025/02/03 02:44:52 WARNING mlflow.models.signature: Failed to infer schema for outputs. Setting schema to `Schema([ColSpec(type=AnyType())]` as default. To see the full traceback, set logging level to DEBUG.\n",
      "2025/02/03 02:44:52 WARNING mlflow.sklearn: Model was missing function: predict. Not logging python_function flavor!\n"
     ]
    },
    {
     "name": "stdout",
     "output_type": "stream",
     "text": [
      "4 --> train_loss: 1.066 | train_accuracy: -1.0841 | val_loss: 0.5034 | val_accuracy: 0.1079\n",
      "🏃 View run Fold-4 at: http://127.0.0.1:5001/#/experiments/1/runs/bb7707e9ead948d2926a50572349a320\n",
      "🧪 View experiment at: http://127.0.0.1:5001/#/experiments/1\n",
      "✅ Fold: mini_batch | Model: TorchRegression | MSE: 0.4215 | R²: 0.2789\n",
      "🏃 View run method-mini_batch-lr-0.01-reg-TorchRegression-poly-Polynomial-momentum-Momentum is used-weight-zeros at: http://127.0.0.1:5001/#/experiments/1/runs/59e4cf4af95240f59cb21095fb97eda3\n",
      "🧪 View experiment at: http://127.0.0.1:5001/#/experiments/1\n",
      " Running TorchRegression | mini_batch | Polynomial | zeros | Momentum is used | LR: 0.001\n",
      "(5330,)\n",
      "torch.Size([5330, 90])\n",
      "0 --> train_loss: 9.048 | train_accuracy: -17.1901 | val_loss: 4.6680 | val_accuracy: -7.1608\n",
      "🏃 View run Fold-0 at: http://127.0.0.1:5001/#/experiments/1/runs/1f102e99e2b94c838e6b5f4b44f464ab\n",
      "🧪 View experiment at: http://127.0.0.1:5001/#/experiments/1\n",
      "1 --> train_loss: 6.406 | train_accuracy: -11.6440 | val_loss: 2.8595 | val_accuracy: -4.4574\n",
      "🏃 View run Fold-1 at: http://127.0.0.1:5001/#/experiments/1/runs/ec55fbd0685e43e0bad6f4b070742459\n",
      "🧪 View experiment at: http://127.0.0.1:5001/#/experiments/1\n",
      "2 --> train_loss: 5.194 | train_accuracy: -9.2734 | val_loss: 2.3874 | val_accuracy: -3.3569\n",
      "🏃 View run Fold-2 at: http://127.0.0.1:5001/#/experiments/1/runs/2fe75cce37604685bc5daa67544542c3\n",
      "🧪 View experiment at: http://127.0.0.1:5001/#/experiments/1\n",
      "3 --> train_loss: 4.450 | train_accuracy: -7.7801 | val_loss: 2.2026 | val_accuracy: -2.9949\n",
      "🏃 View run Fold-3 at: http://127.0.0.1:5001/#/experiments/1/runs/287dfbf24e554bc1a13aa4f890042dcd\n",
      "🧪 View experiment at: http://127.0.0.1:5001/#/experiments/1\n"
     ]
    },
    {
     "name": "stderr",
     "output_type": "stream",
     "text": [
      "2025/02/03 02:45:01 WARNING mlflow.models.signature: Failed to infer schema for outputs. Setting schema to `Schema([ColSpec(type=AnyType())]` as default. To see the full traceback, set logging level to DEBUG.\n",
      "2025/02/03 02:45:02 WARNING mlflow.sklearn: Model was missing function: predict. Not logging python_function flavor!\n"
     ]
    },
    {
     "name": "stdout",
     "output_type": "stream",
     "text": [
      "4 --> train_loss: 3.945 | train_accuracy: -6.8196 | val_loss: 2.0734 | val_accuracy: -2.6746\n",
      "🏃 View run Fold-4 at: http://127.0.0.1:5001/#/experiments/1/runs/160c134f90f24daa966f91bf27375bc8\n",
      "🧪 View experiment at: http://127.0.0.1:5001/#/experiments/1\n",
      "✅ Fold: mini_batch | Model: TorchRegression | MSE: 1.8198 | R²: -2.1139\n",
      "🏃 View run method-mini_batch-lr-0.001-reg-TorchRegression-poly-Polynomial-momentum-Momentum is used-weight-zeros at: http://127.0.0.1:5001/#/experiments/1/runs/c5db521a6fcf4bdeb9214bb72e298bc1\n",
      "🧪 View experiment at: http://127.0.0.1:5001/#/experiments/1\n",
      " Running TorchRegression | mini_batch | Polynomial | zeros | Momentum is used | LR: 0.0001\n",
      "(5330,)\n",
      "torch.Size([5330, 90])\n",
      "0 --> train_loss: 44.463 | train_accuracy: -88.6630 | val_loss: 12.8877 | val_accuracy: -21.5310\n",
      "🏃 View run Fold-0 at: http://127.0.0.1:5001/#/experiments/1/runs/8f8bebb6bef344dcaab7b175f9d07cd7\n",
      "🧪 View experiment at: http://127.0.0.1:5001/#/experiments/1\n",
      "1 --> train_loss: 27.285 | train_accuracy: -53.3511 | val_loss: 6.6873 | val_accuracy: -11.7626\n",
      "🏃 View run Fold-1 at: http://127.0.0.1:5001/#/experiments/1/runs/00b98d9637a34fbb8991fb2c4fbcf067\n",
      "🧪 View experiment at: http://127.0.0.1:5001/#/experiments/1\n",
      "2 --> train_loss: 20.516 | train_accuracy: -39.8094 | val_loss: 6.2669 | val_accuracy: -10.4367\n",
      "🏃 View run Fold-2 at: http://127.0.0.1:5001/#/experiments/1/runs/1c719aa1920544f9b845d041df5fa294\n",
      "🧪 View experiment at: http://127.0.0.1:5001/#/experiments/1\n",
      "3 --> train_loss: 16.912 | train_accuracy: -32.6334 | val_loss: 5.8435 | val_accuracy: -9.5985\n",
      "🏃 View run Fold-3 at: http://127.0.0.1:5001/#/experiments/1/runs/7a23194bff98432ca746b06881452eb9\n",
      "🧪 View experiment at: http://127.0.0.1:5001/#/experiments/1\n"
     ]
    },
    {
     "name": "stderr",
     "output_type": "stream",
     "text": [
      "2025/02/03 02:45:12 WARNING mlflow.models.signature: Failed to infer schema for outputs. Setting schema to `Schema([ColSpec(type=AnyType())]` as default. To see the full traceback, set logging level to DEBUG.\n",
      "2025/02/03 02:45:12 WARNING mlflow.sklearn: Model was missing function: predict. Not logging python_function flavor!\n"
     ]
    },
    {
     "name": "stdout",
     "output_type": "stream",
     "text": [
      "4 --> train_loss: 14.598 | train_accuracy: -28.0006 | val_loss: 6.1578 | val_accuracy: -9.9129\n",
      "🏃 View run Fold-4 at: http://127.0.0.1:5001/#/experiments/1/runs/a7ad43072c1543b58ceaab53f754f568\n",
      "🧪 View experiment at: http://127.0.0.1:5001/#/experiments/1\n",
      "✅ Fold: mini_batch | Model: TorchRegression | MSE: 5.3246 | R²: -8.1107\n",
      "🏃 View run method-mini_batch-lr-0.0001-reg-TorchRegression-poly-Polynomial-momentum-Momentum is used-weight-zeros at: http://127.0.0.1:5001/#/experiments/1/runs/0a6a2993e1054fe1bc9814cd1a13b5d2\n",
      "🧪 View experiment at: http://127.0.0.1:5001/#/experiments/1\n",
      " Running TorchRegression | mini_batch | Polynomial | xavier | Momentum is not used | LR: 0.01\n",
      "(5330,)\n",
      "torch.Size([5330, 90])\n",
      "0 --> train_loss: 1.031 | train_accuracy: -1.1213 | val_loss: 0.4707 | val_accuracy: 0.1771\n",
      "🏃 View run Fold-0 at: http://127.0.0.1:5001/#/experiments/1/runs/94f892aaf27944b5a8886384a617842a\n",
      "🧪 View experiment at: http://127.0.0.1:5001/#/experiments/1\n",
      "1 --> train_loss: 0.687 | train_accuracy: -0.3995 | val_loss: 0.2599 | val_accuracy: 0.5040\n",
      "🏃 View run Fold-1 at: http://127.0.0.1:5001/#/experiments/1/runs/5b293d2b4b8d4606885428c4d4571430\n",
      "🧪 View experiment at: http://127.0.0.1:5001/#/experiments/1\n",
      "2 --> train_loss: 0.534 | train_accuracy: -0.0815 | val_loss: 0.2564 | val_accuracy: 0.5321\n",
      "🏃 View run Fold-2 at: http://127.0.0.1:5001/#/experiments/1/runs/1e4060f7614140a9b2a3c8aa3ba99c01\n",
      "🧪 View experiment at: http://127.0.0.1:5001/#/experiments/1\n",
      "3 --> train_loss: 0.451 | train_accuracy: 0.0923 | val_loss: 0.1938 | val_accuracy: 0.6485\n",
      "🏃 View run Fold-3 at: http://127.0.0.1:5001/#/experiments/1/runs/bf31130954f74a96acf9918daad6aa0f\n",
      "🧪 View experiment at: http://127.0.0.1:5001/#/experiments/1\n"
     ]
    },
    {
     "name": "stderr",
     "output_type": "stream",
     "text": [
      "2025/02/03 02:45:21 WARNING mlflow.models.signature: Failed to infer schema for outputs. Setting schema to `Schema([ColSpec(type=AnyType())]` as default. To see the full traceback, set logging level to DEBUG.\n",
      "2025/02/03 02:45:21 WARNING mlflow.sklearn: Model was missing function: predict. Not logging python_function flavor!\n"
     ]
    },
    {
     "name": "stdout",
     "output_type": "stream",
     "text": [
      "4 --> train_loss: 0.396 | train_accuracy: 0.2035 | val_loss: 0.2115 | val_accuracy: 0.6253\n",
      "🏃 View run Fold-4 at: http://127.0.0.1:5001/#/experiments/1/runs/e889a2c6fc1544db9c1cffba06f2b3f6\n",
      "🧪 View experiment at: http://127.0.0.1:5001/#/experiments/1\n",
      "✅ Fold: mini_batch | Model: TorchRegression | MSE: 0.1545 | R²: 0.7356\n",
      "🏃 View run method-mini_batch-lr-0.01-reg-TorchRegression-poly-Polynomial-momentum-Momentum is not used-weight-xavier at: http://127.0.0.1:5001/#/experiments/1/runs/ff3c9ce230de440092910be410c030ce\n",
      "🧪 View experiment at: http://127.0.0.1:5001/#/experiments/1\n",
      " Running TorchRegression | mini_batch | Polynomial | xavier | Momentum is not used | LR: 0.001\n",
      "(5330,)\n",
      "torch.Size([5330, 90])\n",
      "0 --> train_loss: 3.757 | train_accuracy: -6.2937 | val_loss: 1.9785 | val_accuracy: -2.4590\n",
      "🏃 View run Fold-0 at: http://127.0.0.1:5001/#/experiments/1/runs/7725f3a0f611474392a39cbd2a153455\n",
      "🧪 View experiment at: http://127.0.0.1:5001/#/experiments/1\n",
      "1 --> train_loss: 2.718 | train_accuracy: -4.3014 | val_loss: 1.2254 | val_accuracy: -1.3387\n",
      "🏃 View run Fold-1 at: http://127.0.0.1:5001/#/experiments/1/runs/ba84c99521b24478ae21553133e07f65\n",
      "🧪 View experiment at: http://127.0.0.1:5001/#/experiments/1\n",
      "2 --> train_loss: 2.209 | train_accuracy: -3.2989 | val_loss: 1.0325 | val_accuracy: -0.8843\n",
      "🏃 View run Fold-2 at: http://127.0.0.1:5001/#/experiments/1/runs/2adfb02b549e48128e56ed77238d2405\n",
      "🧪 View experiment at: http://127.0.0.1:5001/#/experiments/1\n",
      "3 --> train_loss: 1.903 | train_accuracy: -2.7221 | val_loss: 0.9605 | val_accuracy: -0.7421\n",
      "🏃 View run Fold-3 at: http://127.0.0.1:5001/#/experiments/1/runs/18105529cf0e4d74ba5bb55cf11f4f79\n",
      "🧪 View experiment at: http://127.0.0.1:5001/#/experiments/1\n"
     ]
    },
    {
     "name": "stderr",
     "output_type": "stream",
     "text": [
      "2025/02/03 02:45:31 WARNING mlflow.models.signature: Failed to infer schema for outputs. Setting schema to `Schema([ColSpec(type=AnyType())]` as default. To see the full traceback, set logging level to DEBUG.\n",
      "2025/02/03 02:45:31 WARNING mlflow.sklearn: Model was missing function: predict. Not logging python_function flavor!\n"
     ]
    },
    {
     "name": "stdout",
     "output_type": "stream",
     "text": [
      "4 --> train_loss: 1.697 | train_accuracy: -2.3154 | val_loss: 0.8932 | val_accuracy: -0.5830\n",
      "🏃 View run Fold-4 at: http://127.0.0.1:5001/#/experiments/1/runs/966cf1bd2c564a04b770d024750901f2\n",
      "🧪 View experiment at: http://127.0.0.1:5001/#/experiments/1\n",
      "✅ Fold: mini_batch | Model: TorchRegression | MSE: 0.7353 | R²: -0.2581\n",
      "🏃 View run method-mini_batch-lr-0.001-reg-TorchRegression-poly-Polynomial-momentum-Momentum is not used-weight-xavier at: http://127.0.0.1:5001/#/experiments/1/runs/7b01be380356434db11aa55aace587ad\n",
      "🧪 View experiment at: http://127.0.0.1:5001/#/experiments/1\n",
      " Running TorchRegression | mini_batch | Polynomial | xavier | Momentum is not used | LR: 0.0001\n",
      "(5330,)\n",
      "torch.Size([5330, 90])\n",
      "0 --> train_loss: 18.942 | train_accuracy: -39.2386 | val_loss: 6.6899 | val_accuracy: -10.6957\n",
      "🏃 View run Fold-0 at: http://127.0.0.1:5001/#/experiments/1/runs/789d6229c13a49eb99625e39eff8bab1\n",
      "🧪 View experiment at: http://127.0.0.1:5001/#/experiments/1\n",
      "1 --> train_loss: 12.252 | train_accuracy: -24.6555 | val_loss: 4.0152 | val_accuracy: -6.6629\n",
      "🏃 View run Fold-1 at: http://127.0.0.1:5001/#/experiments/1/runs/67e297326c954ad79f2f070e7577493e\n",
      "🧪 View experiment at: http://127.0.0.1:5001/#/experiments/1\n",
      "2 --> train_loss: 9.533 | train_accuracy: -18.9205 | val_loss: 3.6187 | val_accuracy: -5.6040\n",
      "🏃 View run Fold-2 at: http://127.0.0.1:5001/#/experiments/1/runs/c3e7f008b0a04b12bc7699b938155fef\n",
      "🧪 View experiment at: http://127.0.0.1:5001/#/experiments/1\n",
      "3 --> train_loss: 8.018 | train_accuracy: -15.6275 | val_loss: 3.3206 | val_accuracy: -5.0227\n",
      "🏃 View run Fold-3 at: http://127.0.0.1:5001/#/experiments/1/runs/cee7fb82bcd643709eef3b1494434a09\n",
      "🧪 View experiment at: http://127.0.0.1:5001/#/experiments/1\n"
     ]
    },
    {
     "name": "stderr",
     "output_type": "stream",
     "text": [
      "2025/02/03 02:45:41 WARNING mlflow.models.signature: Failed to infer schema for outputs. Setting schema to `Schema([ColSpec(type=AnyType())]` as default. To see the full traceback, set logging level to DEBUG.\n",
      "2025/02/03 02:45:41 WARNING mlflow.sklearn: Model was missing function: predict. Not logging python_function flavor!\n"
     ]
    },
    {
     "name": "stdout",
     "output_type": "stream",
     "text": [
      "4 --> train_loss: 6.973 | train_accuracy: -13.4397 | val_loss: 3.1202 | val_accuracy: -4.5298\n",
      "🏃 View run Fold-4 at: http://127.0.0.1:5001/#/experiments/1/runs/56422aa9bd734ee8a08882f456c2e8d3\n",
      "🧪 View experiment at: http://127.0.0.1:5001/#/experiments/1\n",
      "✅ Fold: mini_batch | Model: TorchRegression | MSE: 2.8764 | R²: -3.9217\n",
      "🏃 View run method-mini_batch-lr-0.0001-reg-TorchRegression-poly-Polynomial-momentum-Momentum is not used-weight-xavier at: http://127.0.0.1:5001/#/experiments/1/runs/bd79404b4ac94b2ea71a6bf418f982c8\n",
      "🧪 View experiment at: http://127.0.0.1:5001/#/experiments/1\n",
      " Running TorchRegression | mini_batch | Polynomial | xavier | Momentum is used | LR: 0.01\n",
      "(5330,)\n",
      "torch.Size([5330, 90])\n",
      "0 --> train_loss: 2.636 | train_accuracy: -4.0540 | val_loss: 1.3559 | val_accuracy: -1.3704\n",
      "🏃 View run Fold-0 at: http://127.0.0.1:5001/#/experiments/1/runs/b9116dce3db140f498bb156fcd6f7d9f\n",
      "🧪 View experiment at: http://127.0.0.1:5001/#/experiments/1\n",
      "1 --> train_loss: 1.856 | train_accuracy: -2.5545 | val_loss: 0.8320 | val_accuracy: -0.5878\n",
      "🏃 View run Fold-1 at: http://127.0.0.1:5001/#/experiments/1/runs/56eca84aa8a343efa4ad7001f451248e\n",
      "🧪 View experiment at: http://127.0.0.1:5001/#/experiments/1\n",
      "2 --> train_loss: 1.508 | train_accuracy: -1.9045 | val_loss: 0.6599 | val_accuracy: -0.2044\n",
      "🏃 View run Fold-2 at: http://127.0.0.1:5001/#/experiments/1/runs/4977c310aad74e728465bb03ebfd11b3\n",
      "🧪 View experiment at: http://127.0.0.1:5001/#/experiments/1\n",
      "3 --> train_loss: 1.285 | train_accuracy: -1.4722 | val_loss: 0.5860 | val_accuracy: -0.0629\n",
      "🏃 View run Fold-3 at: http://127.0.0.1:5001/#/experiments/1/runs/a5f4ab9effe2444ab83ae7fb1b6c39cf\n",
      "🧪 View experiment at: http://127.0.0.1:5001/#/experiments/1\n"
     ]
    },
    {
     "name": "stderr",
     "output_type": "stream",
     "text": [
      "2025/02/03 02:45:50 WARNING mlflow.models.signature: Failed to infer schema for outputs. Setting schema to `Schema([ColSpec(type=AnyType())]` as default. To see the full traceback, set logging level to DEBUG.\n",
      "2025/02/03 02:45:50 WARNING mlflow.sklearn: Model was missing function: predict. Not logging python_function flavor!\n"
     ]
    },
    {
     "name": "stdout",
     "output_type": "stream",
     "text": [
      "4 --> train_loss: 1.126 | train_accuracy: -1.1711 | val_loss: 0.5240 | val_accuracy: 0.0713\n",
      "🏃 View run Fold-4 at: http://127.0.0.1:5001/#/experiments/1/runs/4cd27523186b44339210d8070dea36e4\n",
      "🧪 View experiment at: http://127.0.0.1:5001/#/experiments/1\n",
      "✅ Fold: mini_batch | Model: TorchRegression | MSE: 0.4331 | R²: 0.2589\n",
      "🏃 View run method-mini_batch-lr-0.01-reg-TorchRegression-poly-Polynomial-momentum-Momentum is used-weight-xavier at: http://127.0.0.1:5001/#/experiments/1/runs/b360e25ea90049d1a3c8c0b0bf6a4074\n",
      "🧪 View experiment at: http://127.0.0.1:5001/#/experiments/1\n",
      " Running TorchRegression | mini_batch | Polynomial | xavier | Momentum is used | LR: 0.001\n",
      "(5330,)\n",
      "torch.Size([5330, 90])\n",
      "0 --> train_loss: 10.533 | train_accuracy: -19.5598 | val_loss: 4.6955 | val_accuracy: -7.2089\n",
      "🏃 View run Fold-0 at: http://127.0.0.1:5001/#/experiments/1/runs/b56e8f4291f144bda9248283989770bc\n",
      "🧪 View experiment at: http://127.0.0.1:5001/#/experiments/1\n",
      "1 --> train_loss: 7.199 | train_accuracy: -12.8678 | val_loss: 2.9701 | val_accuracy: -4.6684\n",
      "🏃 View run Fold-1 at: http://127.0.0.1:5001/#/experiments/1/runs/17f6d72f3e314eb5ae5b5973ea13bf7e\n",
      "🧪 View experiment at: http://127.0.0.1:5001/#/experiments/1\n",
      "2 --> train_loss: 5.744 | train_accuracy: -10.1045 | val_loss: 2.5538 | val_accuracy: -3.6605\n",
      "🏃 View run Fold-2 at: http://127.0.0.1:5001/#/experiments/1/runs/d5ae44395ba5447da9538d743e31f7c6\n",
      "🧪 View experiment at: http://127.0.0.1:5001/#/experiments/1\n",
      "3 --> train_loss: 4.897 | train_accuracy: -8.5141 | val_loss: 2.3295 | val_accuracy: -3.2251\n",
      "🏃 View run Fold-3 at: http://127.0.0.1:5001/#/experiments/1/runs/e6da83796c4343fabe455f2cf1e6d088\n",
      "🧪 View experiment at: http://127.0.0.1:5001/#/experiments/1\n"
     ]
    },
    {
     "name": "stderr",
     "output_type": "stream",
     "text": [
      "2025/02/03 02:46:00 WARNING mlflow.models.signature: Failed to infer schema for outputs. Setting schema to `Schema([ColSpec(type=AnyType())]` as default. To see the full traceback, set logging level to DEBUG.\n",
      "2025/02/03 02:46:00 WARNING mlflow.sklearn: Model was missing function: predict. Not logging python_function flavor!\n"
     ]
    },
    {
     "name": "stdout",
     "output_type": "stream",
     "text": [
      "4 --> train_loss: 4.338 | train_accuracy: -7.4347 | val_loss: 2.1481 | val_accuracy: -2.8070\n",
      "🏃 View run Fold-4 at: http://127.0.0.1:5001/#/experiments/1/runs/9e0d8bf6e4d5426cb54ebcada12c1b22\n",
      "🧪 View experiment at: http://127.0.0.1:5001/#/experiments/1\n",
      "✅ Fold: mini_batch | Model: TorchRegression | MSE: 1.9741 | R²: -2.3779\n",
      "🏃 View run method-mini_batch-lr-0.001-reg-TorchRegression-poly-Polynomial-momentum-Momentum is used-weight-xavier at: http://127.0.0.1:5001/#/experiments/1/runs/251bb1365968404382b472f5bc5e663d\n",
      "🧪 View experiment at: http://127.0.0.1:5001/#/experiments/1\n",
      " Running TorchRegression | mini_batch | Polynomial | xavier | Momentum is used | LR: 0.0001\n",
      "(5330,)\n",
      "torch.Size([5330, 90])\n",
      "0 --> train_loss: 51.290 | train_accuracy: -106.0017 | val_loss: 13.6896 | val_accuracy: -22.9330\n",
      "🏃 View run Fold-0 at: http://127.0.0.1:5001/#/experiments/1/runs/e5938dfbc6c0401fb11e71fac1c4dca5\n",
      "🧪 View experiment at: http://127.0.0.1:5001/#/experiments/1\n",
      "1 --> train_loss: 30.601 | train_accuracy: -62.3287 | val_loss: 6.9212 | val_accuracy: -12.2091\n",
      "🏃 View run Fold-1 at: http://127.0.0.1:5001/#/experiments/1/runs/27d8df0b6582494288da3335f3bff7d7\n",
      "🧪 View experiment at: http://127.0.0.1:5001/#/experiments/1\n",
      "2 --> train_loss: 22.801 | train_accuracy: -45.9722 | val_loss: 6.3235 | val_accuracy: -10.5401\n",
      "🏃 View run Fold-2 at: http://127.0.0.1:5001/#/experiments/1/runs/1de4e3e3ea8a44ba8c52313cdc64f317\n",
      "🧪 View experiment at: http://127.0.0.1:5001/#/experiments/1\n",
      "3 --> train_loss: 18.517 | train_accuracy: -36.9745 | val_loss: 5.8376 | val_accuracy: -9.5879\n",
      "🏃 View run Fold-3 at: http://127.0.0.1:5001/#/experiments/1/runs/e2b734ff75984fe296b337abb8903146\n",
      "🧪 View experiment at: http://127.0.0.1:5001/#/experiments/1\n"
     ]
    },
    {
     "name": "stderr",
     "output_type": "stream",
     "text": [
      "2025/02/03 02:46:10 WARNING mlflow.models.signature: Failed to infer schema for outputs. Setting schema to `Schema([ColSpec(type=AnyType())]` as default. To see the full traceback, set logging level to DEBUG.\n",
      "2025/02/03 02:46:10 WARNING mlflow.sklearn: Model was missing function: predict. Not logging python_function flavor!\n"
     ]
    },
    {
     "name": "stdout",
     "output_type": "stream",
     "text": [
      "4 --> train_loss: 15.919 | train_accuracy: -31.5484 | val_loss: 6.3867 | val_accuracy: -10.3186\n",
      "🏃 View run Fold-4 at: http://127.0.0.1:5001/#/experiments/1/runs/f33b3d4e0dfa41cd869c1f28653207ac\n",
      "🧪 View experiment at: http://127.0.0.1:5001/#/experiments/1\n",
      "✅ Fold: mini_batch | Model: TorchRegression | MSE: 5.3660 | R²: -8.1816\n",
      "🏃 View run method-mini_batch-lr-0.0001-reg-TorchRegression-poly-Polynomial-momentum-Momentum is used-weight-xavier at: http://127.0.0.1:5001/#/experiments/1/runs/7ca6b864ecc04c90abbd1a007e912d75\n",
      "🧪 View experiment at: http://127.0.0.1:5001/#/experiments/1\n",
      " Running RidgeRegression | normal | Linear | zeros | Momentum is not used | LR: 0.01\n",
      "(5330,)\n",
      "torch.Size([5330, 12])\n",
      "0 --> train_loss: 36.563 | train_accuracy: -65.8264 | val_loss: 17.3134 | val_accuracy: -29.2683\n",
      "🏃 View run Fold-0 at: http://127.0.0.1:5001/#/experiments/1/runs/c66369cad0a341c892512ecc00be5521\n",
      "🧪 View experiment at: http://127.0.0.1:5001/#/experiments/1\n",
      "1 --> train_loss: 26.649 | train_accuracy: -47.3813 | val_loss: 16.2485 | val_accuracy: -30.0100\n",
      "🏃 View run Fold-1 at: http://127.0.0.1:5001/#/experiments/1/runs/dfbbb3057f7c4c1c85a0e48e046ae21c\n",
      "🧪 View experiment at: http://127.0.0.1:5001/#/experiments/1\n",
      "2 --> train_loss: 23.281 | train_accuracy: -41.2271 | val_loss: 16.5451 | val_accuracy: -29.1940\n",
      "🏃 View run Fold-2 at: http://127.0.0.1:5001/#/experiments/1/runs/56d40e1fadff43ebae1599f2049ab8f2\n",
      "🧪 View experiment at: http://127.0.0.1:5001/#/experiments/1\n",
      "3 --> train_loss: 21.613 | train_accuracy: -38.1886 | val_loss: 16.0970 | val_accuracy: -28.1958\n",
      "🏃 View run Fold-3 at: http://127.0.0.1:5001/#/experiments/1/runs/2efe65bfc7ff4ae8bb9c5174234d7a57\n",
      "🧪 View experiment at: http://127.0.0.1:5001/#/experiments/1\n"
     ]
    },
    {
     "name": "stderr",
     "output_type": "stream",
     "text": [
      "2025/02/03 02:46:18 WARNING mlflow.models.signature: Failed to infer schema for outputs. Setting schema to `Schema([ColSpec(type=AnyType())]` as default. To see the full traceback, set logging level to DEBUG.\n",
      "2025/02/03 02:46:18 WARNING mlflow.sklearn: Model was missing function: predict. Not logging python_function flavor!\n"
     ]
    },
    {
     "name": "stdout",
     "output_type": "stream",
     "text": [
      "4 --> train_loss: 20.581 | train_accuracy: -36.3433 | val_loss: 17.1219 | val_accuracy: -29.3439\n",
      "🏃 View run Fold-4 at: http://127.0.0.1:5001/#/experiments/1/runs/aa4774c6f83041f08ed9e77a66f18ade\n",
      "🧪 View experiment at: http://127.0.0.1:5001/#/experiments/1\n",
      "✅ Fold: normal | Model: RidgeRegression | MSE: 16.7172 | R²: -27.6042\n",
      "🏃 View run method-normal-lr-0.01-reg-RidgeRegression-poly-Linear-momentum-Momentum is not used-weight-zeros at: http://127.0.0.1:5001/#/experiments/1/runs/d308d10b29534ebdab7328b35a9c4f7c\n",
      "🧪 View experiment at: http://127.0.0.1:5001/#/experiments/1\n",
      " Running RidgeRegression | normal | Linear | zeros | Momentum is not used | LR: 0.001\n",
      "(5330,)\n",
      "torch.Size([5330, 12])\n",
      "0 --> train_loss: 118.806 | train_accuracy: -216.1411 | val_loss: 83.3794 | val_accuracy: -144.7690\n",
      "🏃 View run Fold-0 at: http://127.0.0.1:5001/#/experiments/1/runs/02ddc2606787477bac7cf7e6bae962dd\n",
      "🧪 View experiment at: http://127.0.0.1:5001/#/experiments/1\n",
      "1 --> train_loss: 91.115 | train_accuracy: -164.2974 | val_loss: 48.1358 | val_accuracy: -90.8664\n",
      "🏃 View run Fold-1 at: http://127.0.0.1:5001/#/experiments/1/runs/e2a32833a883424eb23398db7f91dbf2\n",
      "🧪 View experiment at: http://127.0.0.1:5001/#/experiments/1\n",
      "2 --> train_loss: 73.974 | train_accuracy: -133.1251 | val_loss: 32.6717 | val_accuracy: -58.6241\n",
      "🏃 View run Fold-2 at: http://127.0.0.1:5001/#/experiments/1/runs/b0c2f086e4964ef69109b5b56ef945ef\n",
      "🧪 View experiment at: http://127.0.0.1:5001/#/experiments/1\n",
      "3 --> train_loss: 62.680 | train_accuracy: -112.6299 | val_loss: 24.7379 | val_accuracy: -43.8681\n",
      "🏃 View run Fold-3 at: http://127.0.0.1:5001/#/experiments/1/runs/91386a4f17a7403aaee31a63e27d204f\n",
      "🧪 View experiment at: http://127.0.0.1:5001/#/experiments/1\n"
     ]
    },
    {
     "name": "stderr",
     "output_type": "stream",
     "text": [
      "2025/02/03 02:46:25 WARNING mlflow.models.signature: Failed to infer schema for outputs. Setting schema to `Schema([ColSpec(type=AnyType())]` as default. To see the full traceback, set logging level to DEBUG.\n",
      "2025/02/03 02:46:25 WARNING mlflow.sklearn: Model was missing function: predict. Not logging python_function flavor!\n"
     ]
    },
    {
     "name": "stdout",
     "output_type": "stream",
     "text": [
      "4 --> train_loss: 54.755 | train_accuracy: -98.3006 | val_loss: 22.0542 | val_accuracy: -38.0851\n",
      "🏃 View run Fold-4 at: http://127.0.0.1:5001/#/experiments/1/runs/2d175d46d1fd46b8a8f97e0d7a6b1c53\n",
      "🧪 View experiment at: http://127.0.0.1:5001/#/experiments/1\n",
      "✅ Fold: normal | Model: RidgeRegression | MSE: 21.5545 | R²: -35.8811\n",
      "🏃 View run method-normal-lr-0.001-reg-RidgeRegression-poly-Linear-momentum-Momentum is not used-weight-zeros at: http://127.0.0.1:5001/#/experiments/1/runs/6358fcfa66fa4841b641527555bb5710\n",
      "🧪 View experiment at: http://127.0.0.1:5001/#/experiments/1\n",
      " Running RidgeRegression | normal | Linear | zeros | Momentum is not used | LR: 0.0001\n",
      "(5330,)\n",
      "torch.Size([5330, 12])\n",
      "0 --> train_loss: 160.628 | train_accuracy: -292.5795 | val_loss: 154.7691 | val_accuracy: -269.5767\n",
      "🏃 View run Fold-0 at: http://127.0.0.1:5001/#/experiments/1/runs/6d7ff3ff58c642b0b9ce916e10f3900c\n",
      "🧪 View experiment at: http://127.0.0.1:5001/#/experiments/1\n",
      "1 --> train_loss: 154.758 | train_accuracy: -278.9538 | val_loss: 143.7667 | val_accuracy: -273.3767\n",
      "🏃 View run Fold-1 at: http://127.0.0.1:5001/#/experiments/1/runs/5d1e18dd02ab4b908a801d77b9c9a641\n",
      "🧪 View experiment at: http://127.0.0.1:5001/#/experiments/1\n",
      "2 --> train_loss: 149.326 | train_accuracy: -269.1036 | val_loss: 132.7630 | val_accuracy: -241.2854\n",
      "🏃 View run Fold-2 at: http://127.0.0.1:5001/#/experiments/1/runs/884124904df842aa912bd0b7ed4e2e2d\n",
      "🧪 View experiment at: http://127.0.0.1:5001/#/experiments/1\n",
      "3 --> train_loss: 144.163 | train_accuracy: -259.8239 | val_loss: 123.7977 | val_accuracy: -223.5368\n",
      "🏃 View run Fold-3 at: http://127.0.0.1:5001/#/experiments/1/runs/c6ab79c28dd64bac9a64ca26cee7c0be\n",
      "🧪 View experiment at: http://127.0.0.1:5001/#/experiments/1\n"
     ]
    },
    {
     "name": "stderr",
     "output_type": "stream",
     "text": [
      "2025/02/03 02:46:32 WARNING mlflow.models.signature: Failed to infer schema for outputs. Setting schema to `Schema([ColSpec(type=AnyType())]` as default. To see the full traceback, set logging level to DEBUG.\n",
      "2025/02/03 02:46:33 WARNING mlflow.sklearn: Model was missing function: predict. Not logging python_function flavor!\n"
     ]
    },
    {
     "name": "stdout",
     "output_type": "stream",
     "text": [
      "4 --> train_loss: 139.270 | train_accuracy: -251.2585 | val_loss: 115.9156 | val_accuracy: -204.4288\n",
      "🏃 View run Fold-4 at: http://127.0.0.1:5001/#/experiments/1/runs/10cdef210732423d903488082b1f2035\n",
      "🧪 View experiment at: http://127.0.0.1:5001/#/experiments/1\n",
      "✅ Fold: normal | Model: RidgeRegression | MSE: 115.1695 | R²: -196.0619\n",
      "🏃 View run method-normal-lr-0.0001-reg-RidgeRegression-poly-Linear-momentum-Momentum is not used-weight-zeros at: http://127.0.0.1:5001/#/experiments/1/runs/a11491959bd0442f924084d683172016\n",
      "🧪 View experiment at: http://127.0.0.1:5001/#/experiments/1\n",
      " Running RidgeRegression | normal | Linear | zeros | Momentum is used | LR: 0.01\n",
      "(5330,)\n",
      "torch.Size([5330, 12])\n",
      "0 --> train_loss: 89.271 | train_accuracy: -162.1602 | val_loss: 48.7530 | val_accuracy: -84.2329\n",
      "🏃 View run Fold-0 at: http://127.0.0.1:5001/#/experiments/1/runs/12afdee9ccd647d6bb099e32161c38aa\n",
      "🧪 View experiment at: http://127.0.0.1:5001/#/experiments/1\n",
      "1 --> train_loss: 61.889 | train_accuracy: -111.4439 | val_loss: 25.3174 | val_accuracy: -47.3179\n",
      "🏃 View run Fold-1 at: http://127.0.0.1:5001/#/experiments/1/runs/dac6a529ce0a4b62a11299940328a48d\n",
      "🧪 View experiment at: http://127.0.0.1:5001/#/experiments/1\n",
      "2 --> train_loss: 48.604 | train_accuracy: -87.2439 | val_loss: 19.5034 | val_accuracy: -34.5926\n",
      "🏃 View run Fold-2 at: http://127.0.0.1:5001/#/experiments/1/runs/4055a832c1d04618a54efabead6a523c\n",
      "🧪 View experiment at: http://127.0.0.1:5001/#/experiments/1\n",
      "3 --> train_loss: 41.087 | train_accuracy: -73.5731 | val_loss: 17.1435 | val_accuracy: -30.0938\n",
      "🏃 View run Fold-3 at: http://127.0.0.1:5001/#/experiments/1/runs/1ea5e8e89fa64619b0bc92f1a6c3e6e0\n",
      "🧪 View experiment at: http://127.0.0.1:5001/#/experiments/1\n"
     ]
    },
    {
     "name": "stderr",
     "output_type": "stream",
     "text": [
      "2025/02/03 02:46:40 WARNING mlflow.models.signature: Failed to infer schema for outputs. Setting schema to `Schema([ColSpec(type=AnyType())]` as default. To see the full traceback, set logging level to DEBUG.\n",
      "2025/02/03 02:46:40 WARNING mlflow.sklearn: Model was missing function: predict. Not logging python_function flavor!\n"
     ]
    },
    {
     "name": "stdout",
     "output_type": "stream",
     "text": [
      "4 --> train_loss: 36.293 | train_accuracy: -64.8942 | val_loss: 17.4797 | val_accuracy: -29.9781\n",
      "🏃 View run Fold-4 at: http://127.0.0.1:5001/#/experiments/1/runs/c6c6e1838e0a41e9882c67d51d5db81b\n",
      "🧪 View experiment at: http://127.0.0.1:5001/#/experiments/1\n",
      "✅ Fold: normal | Model: RidgeRegression | MSE: 17.0777 | R²: -28.2210\n",
      "🏃 View run method-normal-lr-0.01-reg-RidgeRegression-poly-Linear-momentum-Momentum is used-weight-zeros at: http://127.0.0.1:5001/#/experiments/1/runs/59eb9cbbe6b9429ebcb1e9145a101295\n",
      "🧪 View experiment at: http://127.0.0.1:5001/#/experiments/1\n",
      " Running RidgeRegression | normal | Linear | zeros | Momentum is used | LR: 0.001\n",
      "(5330,)\n",
      "torch.Size([5330, 12])\n",
      "0 --> train_loss: 154.220 | train_accuracy: -280.8673 | val_loss: 143.1406 | val_accuracy: -249.2471\n",
      "🏃 View run Fold-0 at: http://127.0.0.1:5001/#/experiments/1/runs/4cfe2d030bfc4109a90959359f205b57\n",
      "🧪 View experiment at: http://127.0.0.1:5001/#/experiments/1\n",
      "1 --> train_loss: 143.610 | train_accuracy: -258.8884 | val_loss: 123.8618 | val_accuracy: -235.3884\n",
      "🏃 View run Fold-1 at: http://127.0.0.1:5001/#/experiments/1/runs/45f1ea52b9664201a71d1a557bf39e43\n",
      "🧪 View experiment at: http://127.0.0.1:5001/#/experiments/1\n",
      "2 --> train_loss: 134.258 | train_accuracy: -241.9167 | val_loss: 107.1689 | val_accuracy: -194.5775\n",
      "🏃 View run Fold-2 at: http://127.0.0.1:5001/#/experiments/1/runs/6a6f303be13c4ffd96456ca0df3f7d73\n",
      "🧪 View experiment at: http://127.0.0.1:5001/#/experiments/1\n",
      "3 --> train_loss: 125.906 | train_accuracy: -226.8382 | val_loss: 93.7631 | val_accuracy: -169.0618\n",
      "🏃 View run Fold-3 at: http://127.0.0.1:5001/#/experiments/1/runs/f7ccdf41372146448a75bdc3082bd3fa\n",
      "🧪 View experiment at: http://127.0.0.1:5001/#/experiments/1\n"
     ]
    },
    {
     "name": "stderr",
     "output_type": "stream",
     "text": [
      "2025/02/03 02:46:47 WARNING mlflow.models.signature: Failed to infer schema for outputs. Setting schema to `Schema([ColSpec(type=AnyType())]` as default. To see the full traceback, set logging level to DEBUG.\n",
      "2025/02/03 02:46:48 WARNING mlflow.sklearn: Model was missing function: predict. Not logging python_function flavor!\n"
     ]
    },
    {
     "name": "stdout",
     "output_type": "stream",
     "text": [
      "4 --> train_loss: 118.392 | train_accuracy: -213.4469 | val_loss: 83.5006 | val_accuracy: -146.9820\n",
      "🏃 View run Fold-4 at: http://127.0.0.1:5001/#/experiments/1/runs/a4a8e24c2ea24ca9b1e0f359622fdd11\n",
      "🧪 View experiment at: http://127.0.0.1:5001/#/experiments/1\n",
      "✅ Fold: normal | Model: RidgeRegression | MSE: 82.7220 | R²: -140.5423\n",
      "🏃 View run method-normal-lr-0.001-reg-RidgeRegression-poly-Linear-momentum-Momentum is used-weight-zeros at: http://127.0.0.1:5001/#/experiments/1/runs/9b51879c34a5435ca291528f81d612ca\n",
      "🧪 View experiment at: http://127.0.0.1:5001/#/experiments/1\n",
      " Running RidgeRegression | normal | Linear | zeros | Momentum is used | LR: 0.0001\n",
      "(5330,)\n",
      "torch.Size([5330, 12])\n",
      "0 --> train_loss: 165.484 | train_accuracy: -301.4548 | val_loss: 164.3837 | val_accuracy: -286.3855\n",
      "🏃 View run Fold-0 at: http://127.0.0.1:5001/#/experiments/1/runs/f6e2ec1d2d2941f5b5d89d7b48c6e096\n",
      "🧪 View experiment at: http://127.0.0.1:5001/#/experiments/1\n",
      "1 --> train_loss: 164.189 | train_accuracy: -295.9185 | val_loss: 162.1715 | val_accuracy: -308.5020\n",
      "🏃 View run Fold-1 at: http://127.0.0.1:5001/#/experiments/1/runs/ea59527883974b1db2d3bc05511ee146\n",
      "🧪 View experiment at: http://127.0.0.1:5001/#/experiments/1\n",
      "2 --> train_loss: 163.022 | train_accuracy: -293.8123 | val_loss: 158.6790 | val_accuracy: -288.5808\n",
      "🏃 View run Fold-2 at: http://127.0.0.1:5001/#/experiments/1/runs/8b2111c884b448ddbb71c3a94495d5e2\n",
      "🧪 View experiment at: http://127.0.0.1:5001/#/experiments/1\n",
      "3 --> train_loss: 161.791 | train_accuracy: -291.6737 | val_loss: 156.9319 | val_accuracy: -283.6335\n",
      "🏃 View run Fold-3 at: http://127.0.0.1:5001/#/experiments/1/runs/9f4b24518f1c4c828dffe301a1026571\n",
      "🧪 View experiment at: http://127.0.0.1:5001/#/experiments/1\n"
     ]
    },
    {
     "name": "stderr",
     "output_type": "stream",
     "text": [
      "2025/02/03 02:46:55 WARNING mlflow.models.signature: Failed to infer schema for outputs. Setting schema to `Schema([ColSpec(type=AnyType())]` as default. To see the full traceback, set logging level to DEBUG.\n",
      "2025/02/03 02:46:55 WARNING mlflow.sklearn: Model was missing function: predict. Not logging python_function flavor!\n"
     ]
    },
    {
     "name": "stdout",
     "output_type": "stream",
     "text": [
      "4 --> train_loss: 160.577 | train_accuracy: -289.8592 | val_loss: 154.5971 | val_accuracy: -272.9811\n",
      "🏃 View run Fold-4 at: http://127.0.0.1:5001/#/experiments/1/runs/a7eceaf6b0aa4c93bef128c0c91c81c9\n",
      "🧪 View experiment at: http://127.0.0.1:5001/#/experiments/1\n",
      "✅ Fold: normal | Model: RidgeRegression | MSE: 153.9526 | R²: -262.4221\n",
      "🏃 View run method-normal-lr-0.0001-reg-RidgeRegression-poly-Linear-momentum-Momentum is used-weight-zeros at: http://127.0.0.1:5001/#/experiments/1/runs/49f7803ecb0a46c485d1935adce054dd\n",
      "🧪 View experiment at: http://127.0.0.1:5001/#/experiments/1\n",
      " Running RidgeRegression | normal | Linear | xavier | Momentum is not used | LR: 0.01\n",
      "(5330,)\n",
      "torch.Size([5330, 12])\n",
      "0 --> train_loss: 42.657 | train_accuracy: -76.9649 | val_loss: 17.6353 | val_accuracy: -29.8310\n",
      "🏃 View run Fold-0 at: http://127.0.0.1:5001/#/experiments/1/runs/89c152bb0b3f4d2c9a07c84164f853f0\n",
      "🧪 View experiment at: http://127.0.0.1:5001/#/experiments/1\n",
      "1 --> train_loss: 29.759 | train_accuracy: -53.0618 | val_loss: 16.2853 | val_accuracy: -30.0803\n",
      "🏃 View run Fold-1 at: http://127.0.0.1:5001/#/experiments/1/runs/4562bbfad1944021931981533d5152b5\n",
      "🧪 View experiment at: http://127.0.0.1:5001/#/experiments/1\n",
      "2 --> train_loss: 25.360 | train_accuracy: -45.0251 | val_loss: 16.5517 | val_accuracy: -29.2060\n",
      "🏃 View run Fold-2 at: http://127.0.0.1:5001/#/experiments/1/runs/6569b840ebe342f29bdcfa8fe5d09446\n",
      "🧪 View experiment at: http://127.0.0.1:5001/#/experiments/1\n",
      "3 --> train_loss: 23.173 | train_accuracy: -41.0386 | val_loss: 16.0982 | val_accuracy: -28.1980\n",
      "🏃 View run Fold-3 at: http://127.0.0.1:5001/#/experiments/1/runs/f6c7a256ee3c4aab806f207c3d8d3c7e\n",
      "🧪 View experiment at: http://127.0.0.1:5001/#/experiments/1\n"
     ]
    },
    {
     "name": "stderr",
     "output_type": "stream",
     "text": [
      "2025/02/03 02:47:03 WARNING mlflow.models.signature: Failed to infer schema for outputs. Setting schema to `Schema([ColSpec(type=AnyType())]` as default. To see the full traceback, set logging level to DEBUG.\n",
      "2025/02/03 02:47:03 WARNING mlflow.sklearn: Model was missing function: predict. Not logging python_function flavor!\n"
     ]
    },
    {
     "name": "stdout",
     "output_type": "stream",
     "text": [
      "4 --> train_loss: 21.829 | train_accuracy: -38.6236 | val_loss: 17.1222 | val_accuracy: -29.3444\n",
      "🏃 View run Fold-4 at: http://127.0.0.1:5001/#/experiments/1/runs/6fb3c6ece84140658ac64d9005ed40bb\n",
      "🧪 View experiment at: http://127.0.0.1:5001/#/experiments/1\n",
      "✅ Fold: normal | Model: RidgeRegression | MSE: 16.7175 | R²: -27.6047\n",
      "🏃 View run method-normal-lr-0.01-reg-RidgeRegression-poly-Linear-momentum-Momentum is not used-weight-xavier at: http://127.0.0.1:5001/#/experiments/1/runs/151a3ed6bc204ce49658e6efac1ec79b\n",
      "🧪 View experiment at: http://127.0.0.1:5001/#/experiments/1\n",
      " Running RidgeRegression | normal | Linear | xavier | Momentum is not used | LR: 0.001\n",
      "(5330,)\n",
      "torch.Size([5330, 12])\n",
      "0 --> train_loss: 125.417 | train_accuracy: -228.2246 | val_loss: 87.5221 | val_accuracy: -152.0114\n",
      "🏃 View run Fold-0 at: http://127.0.0.1:5001/#/experiments/1/runs/f9710e27e3bb4d22bdcadc86e0d52ce2\n",
      "🧪 View experiment at: http://127.0.0.1:5001/#/experiments/1\n",
      "1 --> train_loss: 95.933 | train_accuracy: -173.0429 | val_loss: 49.9925 | val_accuracy: -94.4100\n",
      "🏃 View run Fold-1 at: http://127.0.0.1:5001/#/experiments/1/runs/1468179520f04422bc6e6f82efdff8ae\n",
      "🧪 View experiment at: http://127.0.0.1:5001/#/experiments/1\n",
      "2 --> train_loss: 77.691 | train_accuracy: -139.8694 | val_loss: 33.7702 | val_accuracy: -60.6287\n",
      "🏃 View run Fold-2 at: http://127.0.0.1:5001/#/experiments/1/runs/511451ff03ad419181d4c673b9cb60d2\n",
      "🧪 View experiment at: http://127.0.0.1:5001/#/experiments/1\n",
      "3 --> train_loss: 65.668 | train_accuracy: -118.0504 | val_loss: 25.7193 | val_accuracy: -45.6480\n",
      "🏃 View run Fold-3 at: http://127.0.0.1:5001/#/experiments/1/runs/ff13a85719fc4c64b0923c47195fbc3d\n",
      "🧪 View experiment at: http://127.0.0.1:5001/#/experiments/1\n"
     ]
    },
    {
     "name": "stderr",
     "output_type": "stream",
     "text": [
      "2025/02/03 02:47:10 WARNING mlflow.models.signature: Failed to infer schema for outputs. Setting schema to `Schema([ColSpec(type=AnyType())]` as default. To see the full traceback, set logging level to DEBUG.\n",
      "2025/02/03 02:47:10 WARNING mlflow.sklearn: Model was missing function: predict. Not logging python_function flavor!\n"
     ]
    },
    {
     "name": "stdout",
     "output_type": "stream",
     "text": [
      "4 --> train_loss: 57.264 | train_accuracy: -102.8538 | val_loss: 22.3708 | val_accuracy: -38.6462\n",
      "🏃 View run Fold-4 at: http://127.0.0.1:5001/#/experiments/1/runs/20388ea7156d448591183caf82345349\n",
      "🧪 View experiment at: http://127.0.0.1:5001/#/experiments/1\n",
      "✅ Fold: normal | Model: RidgeRegression | MSE: 21.9641 | R²: -36.5820\n",
      "🏃 View run method-normal-lr-0.001-reg-RidgeRegression-poly-Linear-momentum-Momentum is not used-weight-xavier at: http://127.0.0.1:5001/#/experiments/1/runs/676a5a3fe43f4d128691b82757a4d26a\n",
      "🧪 View experiment at: http://127.0.0.1:5001/#/experiments/1\n",
      " Running RidgeRegression | normal | Linear | xavier | Momentum is not used | LR: 0.0001\n",
      "(5330,)\n",
      "torch.Size([5330, 12])\n",
      "0 --> train_loss: 220.474 | train_accuracy: -401.9605 | val_loss: 212.6549 | val_accuracy: -370.7761\n",
      "🏃 View run Fold-0 at: http://127.0.0.1:5001/#/experiments/1/runs/e71f8a0657334b4082ee6f9f53b5258c\n",
      "🧪 View experiment at: http://127.0.0.1:5001/#/experiments/1\n",
      "1 --> train_loss: 211.847 | train_accuracy: -382.2379 | val_loss: 197.3966 | val_accuracy: -375.7286\n",
      "🏃 View run Fold-1 at: http://127.0.0.1:5001/#/experiments/1/runs/418f0bc8943b47839e27a94a4208ffc3\n",
      "🧪 View experiment at: http://127.0.0.1:5001/#/experiments/1\n",
      "2 --> train_loss: 204.042 | train_accuracy: -368.0844 | val_loss: 180.0591 | val_accuracy: -327.5983\n",
      "🏃 View run Fold-2 at: http://127.0.0.1:5001/#/experiments/1/runs/43d7116993bb4ca2a2df8dff1de6b7a2\n",
      "🧪 View experiment at: http://127.0.0.1:5001/#/experiments/1\n",
      "3 --> train_loss: 196.688 | train_accuracy: -354.8574 | val_loss: 165.5412 | val_accuracy: -299.2485\n",
      "🏃 View run Fold-3 at: http://127.0.0.1:5001/#/experiments/1/runs/f2762b2d516b45e6b05c3e5580d9e30b\n",
      "🧪 View experiment at: http://127.0.0.1:5001/#/experiments/1\n"
     ]
    },
    {
     "name": "stderr",
     "output_type": "stream",
     "text": [
      "2025/02/03 02:47:18 WARNING mlflow.models.signature: Failed to infer schema for outputs. Setting schema to `Schema([ColSpec(type=AnyType())]` as default. To see the full traceback, set logging level to DEBUG.\n",
      "2025/02/03 02:47:18 WARNING mlflow.sklearn: Model was missing function: predict. Not logging python_function flavor!\n"
     ]
    },
    {
     "name": "stdout",
     "output_type": "stream",
     "text": [
      "4 --> train_loss: 189.586 | train_accuracy: -342.3954 | val_loss: 155.8507 | val_accuracy: -275.2028\n",
      "🏃 View run Fold-4 at: http://127.0.0.1:5001/#/experiments/1/runs/d14d9370f49142b3a46a96999762c078\n",
      "🧪 View experiment at: http://127.0.0.1:5001/#/experiments/1\n",
      "✅ Fold: normal | Model: RidgeRegression | MSE: 154.0877 | R²: -262.6533\n",
      "🏃 View run method-normal-lr-0.0001-reg-RidgeRegression-poly-Linear-momentum-Momentum is not used-weight-xavier at: http://127.0.0.1:5001/#/experiments/1/runs/b40b431b79c64206afba7774bfe002e1\n",
      "🧪 View experiment at: http://127.0.0.1:5001/#/experiments/1\n",
      " Running RidgeRegression | normal | Linear | xavier | Momentum is used | LR: 0.01\n",
      "(5330,)\n",
      "torch.Size([5330, 12])\n",
      "0 --> train_loss: 110.867 | train_accuracy: -201.6320 | val_loss: 56.9230 | val_accuracy: -98.5162\n",
      "🏃 View run Fold-0 at: http://127.0.0.1:5001/#/experiments/1/runs/98458c99ba9f4496a7356506bbf0ec97\n",
      "🧪 View experiment at: http://127.0.0.1:5001/#/experiments/1\n",
      "1 --> train_loss: 74.879 | train_accuracy: -135.0999 | val_loss: 27.3255 | val_accuracy: -51.1504\n",
      "🏃 View run Fold-1 at: http://127.0.0.1:5001/#/experiments/1/runs/3ba76b7ea92d4384a7be4e8bfcd35213\n",
      "🧪 View experiment at: http://127.0.0.1:5001/#/experiments/1\n",
      "2 --> train_loss: 57.665 | train_accuracy: -103.7401 | val_loss: 20.1508 | val_accuracy: -35.7742\n",
      "🏃 View run Fold-2 at: http://127.0.0.1:5001/#/experiments/1/runs/fed1803a95c9401082d03dfa60c5c54e\n",
      "🧪 View experiment at: http://127.0.0.1:5001/#/experiments/1\n",
      "3 --> train_loss: 47.985 | train_accuracy: -86.1313 | val_loss: 17.4000 | val_accuracy: -30.5591\n",
      "🏃 View run Fold-3 at: http://127.0.0.1:5001/#/experiments/1/runs/3466cd3116cc40d791d1f3e76241e57a\n",
      "🧪 View experiment at: http://127.0.0.1:5001/#/experiments/1\n"
     ]
    },
    {
     "name": "stderr",
     "output_type": "stream",
     "text": [
      "2025/02/03 02:47:25 WARNING mlflow.models.signature: Failed to infer schema for outputs. Setting schema to `Schema([ColSpec(type=AnyType())]` as default. To see the full traceback, set logging level to DEBUG.\n",
      "2025/02/03 02:47:25 WARNING mlflow.sklearn: Model was missing function: predict. Not logging python_function flavor!\n"
     ]
    },
    {
     "name": "stdout",
     "output_type": "stream",
     "text": [
      "4 --> train_loss: 41.844 | train_accuracy: -74.9989 | val_loss: 17.6245 | val_accuracy: -30.2346\n",
      "🏃 View run Fold-4 at: http://127.0.0.1:5001/#/experiments/1/runs/20731a3a30a54c0db2a70e56c5be1ec3\n",
      "🧪 View experiment at: http://127.0.0.1:5001/#/experiments/1\n",
      "✅ Fold: normal | Model: RidgeRegression | MSE: 17.1879 | R²: -28.4095\n",
      "🏃 View run method-normal-lr-0.01-reg-RidgeRegression-poly-Linear-momentum-Momentum is used-weight-xavier at: http://127.0.0.1:5001/#/experiments/1/runs/1a3ab157fe0c49388988b7545550dd6f\n",
      "🧪 View experiment at: http://127.0.0.1:5001/#/experiments/1\n",
      " Running RidgeRegression | normal | Linear | xavier | Momentum is used | LR: 0.001\n",
      "(5330,)\n",
      "torch.Size([5330, 12])\n",
      "0 --> train_loss: 178.282 | train_accuracy: -324.8468 | val_loss: 164.3689 | val_accuracy: -286.3597\n",
      "🏃 View run Fold-0 at: http://127.0.0.1:5001/#/experiments/1/runs/2937f510c8894c889a0f6477aaf981e9\n",
      "🧪 View experiment at: http://127.0.0.1:5001/#/experiments/1\n",
      "1 --> train_loss: 165.640 | train_accuracy: -298.7633 | val_loss: 141.3405 | val_accuracy: -268.7463\n",
      "🏃 View run Fold-1 at: http://127.0.0.1:5001/#/experiments/1/runs/af85971ffa6d4f9d8d50e22b66711ebd\n",
      "🧪 View experiment at: http://127.0.0.1:5001/#/experiments/1\n",
      "2 --> train_loss: 154.454 | train_accuracy: -278.4649 | val_loss: 122.1417 | val_accuracy: -221.9021\n",
      "🏃 View run Fold-2 at: http://127.0.0.1:5001/#/experiments/1/runs/31625bdcd0394665a5c3fe11431c4655\n",
      "🧪 View experiment at: http://127.0.0.1:5001/#/experiments/1\n",
      "3 --> train_loss: 144.498 | train_accuracy: -260.4866 | val_loss: 106.3776 | val_accuracy: -191.9412\n",
      "🏃 View run Fold-3 at: http://127.0.0.1:5001/#/experiments/1/runs/0403dd120eba468c9accc6b24a1ae3fa\n",
      "🧪 View experiment at: http://127.0.0.1:5001/#/experiments/1\n"
     ]
    },
    {
     "name": "stderr",
     "output_type": "stream",
     "text": [
      "2025/02/03 02:47:33 WARNING mlflow.models.signature: Failed to infer schema for outputs. Setting schema to `Schema([ColSpec(type=AnyType())]` as default. To see the full traceback, set logging level to DEBUG.\n",
      "2025/02/03 02:47:33 WARNING mlflow.sklearn: Model was missing function: predict. Not logging python_function flavor!\n"
     ]
    },
    {
     "name": "stdout",
     "output_type": "stream",
     "text": [
      "4 --> train_loss: 135.538 | train_accuracy: -244.5038 | val_loss: 94.8332 | val_accuracy: -167.0660\n",
      "🏃 View run Fold-4 at: http://127.0.0.1:5001/#/experiments/1/runs/d78af2f62a194ee5b19b2529e521166e\n",
      "🧪 View experiment at: http://127.0.0.1:5001/#/experiments/1\n",
      "✅ Fold: normal | Model: RidgeRegression | MSE: 93.1512 | R²: -158.3872\n",
      "🏃 View run method-normal-lr-0.001-reg-RidgeRegression-poly-Linear-momentum-Momentum is used-weight-xavier at: http://127.0.0.1:5001/#/experiments/1/runs/b28672c6c13f45c2bd1fabe93b3ff0ee\n",
      "🧪 View experiment at: http://127.0.0.1:5001/#/experiments/1\n",
      " Running RidgeRegression | normal | Linear | xavier | Momentum is used | LR: 0.0001\n",
      "(5330,)\n",
      "torch.Size([5330, 12])\n",
      "0 --> train_loss: 182.812 | train_accuracy: -333.1265 | val_loss: 180.7226 | val_accuracy: -314.9501\n",
      "🏃 View run Fold-0 at: http://127.0.0.1:5001/#/experiments/1/runs/dd40b8980c8b4eccb2c7658be0bc5579\n",
      "🧪 View experiment at: http://127.0.0.1:5001/#/experiments/1\n",
      "1 --> train_loss: 181.543 | train_accuracy: -327.2989 | val_loss: 176.5928 | val_accuracy: -336.0249\n",
      "🏃 View run Fold-1 at: http://127.0.0.1:5001/#/experiments/1/runs/11ea0767c78a43e3aacaf28e3a6d63ec\n",
      "🧪 View experiment at: http://127.0.0.1:5001/#/experiments/1\n",
      "2 --> train_loss: 180.133 | train_accuracy: -324.7546 | val_loss: 174.4259 | val_accuracy: -317.3180\n",
      "🏃 View run Fold-2 at: http://127.0.0.1:5001/#/experiments/1/runs/498b6f2feb8c41409e072e9c4cacbd77\n",
      "🧪 View experiment at: http://127.0.0.1:5001/#/experiments/1\n",
      "3 --> train_loss: 178.496 | train_accuracy: -321.8898 | val_loss: 175.6109 | val_accuracy: -317.5123\n",
      "🏃 View run Fold-3 at: http://127.0.0.1:5001/#/experiments/1/runs/c43856f994b14c8e88ab507528723c51\n",
      "🧪 View experiment at: http://127.0.0.1:5001/#/experiments/1\n"
     ]
    },
    {
     "name": "stderr",
     "output_type": "stream",
     "text": [
      "2025/02/03 02:47:40 WARNING mlflow.models.signature: Failed to infer schema for outputs. Setting schema to `Schema([ColSpec(type=AnyType())]` as default. To see the full traceback, set logging level to DEBUG.\n",
      "2025/02/03 02:47:40 WARNING mlflow.sklearn: Model was missing function: predict. Not logging python_function flavor!\n"
     ]
    },
    {
     "name": "stdout",
     "output_type": "stream",
     "text": [
      "4 --> train_loss: 177.076 | train_accuracy: -319.7433 | val_loss: 170.9432 | val_accuracy: -301.9502\n",
      "🏃 View run Fold-4 at: http://127.0.0.1:5001/#/experiments/1/runs/2a40adf6743b4bddb741f3ef3e99f900\n",
      "🧪 View experiment at: http://127.0.0.1:5001/#/experiments/1\n",
      "✅ Fold: normal | Model: RidgeRegression | MSE: 169.9665 | R²: -289.8228\n",
      "🏃 View run method-normal-lr-0.0001-reg-RidgeRegression-poly-Linear-momentum-Momentum is used-weight-xavier at: http://127.0.0.1:5001/#/experiments/1/runs/3a5a842a4ff1420390979b5d1ef72c90\n",
      "🧪 View experiment at: http://127.0.0.1:5001/#/experiments/1\n",
      " Running RidgeRegression | normal | Polynomial | zeros | Momentum is not used | LR: 0.01\n",
      "(5330,)\n",
      "torch.Size([5330, 90])\n",
      "0 --> train_loss: 14.177 | train_accuracy: -24.9116 | val_loss: 7.9325 | val_accuracy: -12.8680\n",
      "🏃 View run Fold-0 at: http://127.0.0.1:5001/#/experiments/1/runs/4f6d5098f81b42c7a73a0af81b444bc7\n",
      "🧪 View experiment at: http://127.0.0.1:5001/#/experiments/1\n",
      "1 --> train_loss: 10.944 | train_accuracy: -18.8522 | val_loss: 6.6976 | val_accuracy: -11.7823\n",
      "🏃 View run Fold-1 at: http://127.0.0.1:5001/#/experiments/1/runs/19fee01417314ddfa4b8b70727e9d5c5\n",
      "🧪 View experiment at: http://127.0.0.1:5001/#/experiments/1\n",
      "2 --> train_loss: 9.787 | train_accuracy: -16.7403 | val_loss: 7.4567 | val_accuracy: -12.6080\n",
      "🏃 View run Fold-2 at: http://127.0.0.1:5001/#/experiments/1/runs/a6daaa181bf74163b8444c236f8aba6f\n",
      "🧪 View experiment at: http://127.0.0.1:5001/#/experiments/1\n",
      "3 --> train_loss: 9.198 | train_accuracy: -15.6690 | val_loss: 7.4232 | val_accuracy: -12.4638\n",
      "🏃 View run Fold-3 at: http://127.0.0.1:5001/#/experiments/1/runs/0d33c209ef88435cbaeceb5f054a0561\n",
      "🧪 View experiment at: http://127.0.0.1:5001/#/experiments/1\n"
     ]
    },
    {
     "name": "stderr",
     "output_type": "stream",
     "text": [
      "2025/02/03 02:47:48 WARNING mlflow.models.signature: Failed to infer schema for outputs. Setting schema to `Schema([ColSpec(type=AnyType())]` as default. To see the full traceback, set logging level to DEBUG.\n",
      "2025/02/03 02:47:48 WARNING mlflow.sklearn: Model was missing function: predict. Not logging python_function flavor!\n"
     ]
    },
    {
     "name": "stdout",
     "output_type": "stream",
     "text": [
      "4 --> train_loss: 8.807 | train_accuracy: -14.9729 | val_loss: 9.2207 | val_accuracy: -15.3412\n",
      "🏃 View run Fold-4 at: http://127.0.0.1:5001/#/experiments/1/runs/3373ec62fa234f448c49bc1ff843c4d9\n",
      "🧪 View experiment at: http://127.0.0.1:5001/#/experiments/1\n",
      "✅ Fold: normal | Model: RidgeRegression | MSE: 7.3266 | R²: -11.5363\n",
      "🏃 View run method-normal-lr-0.01-reg-RidgeRegression-poly-Polynomial-momentum-Momentum is not used-weight-zeros at: http://127.0.0.1:5001/#/experiments/1/runs/c14d78e0ea9e4df9b7b962389a00c6ce\n",
      "🧪 View experiment at: http://127.0.0.1:5001/#/experiments/1\n",
      " Running RidgeRegression | normal | Polynomial | zeros | Momentum is not used | LR: 0.001\n",
      "(5330,)\n",
      "torch.Size([5330, 90])\n",
      "0 --> train_loss: 56.874 | train_accuracy: -102.9477 | val_loss: 20.4587 | val_accuracy: -34.7671\n",
      "🏃 View run Fold-0 at: http://127.0.0.1:5001/#/experiments/1/runs/296f961da294423ca89a64ab006db118\n",
      "🧪 View experiment at: http://127.0.0.1:5001/#/experiments/1\n",
      "1 --> train_loss: 36.216 | train_accuracy: -64.8886 | val_loss: 10.7908 | val_accuracy: -19.5942\n",
      "🏃 View run Fold-1 at: http://127.0.0.1:5001/#/experiments/1/runs/2115aa9e11ec44c2bb24cfeb08bb5824\n",
      "🧪 View experiment at: http://127.0.0.1:5001/#/experiments/1\n",
      "2 --> train_loss: 27.688 | train_accuracy: -49.3359 | val_loss: 9.6630 | val_accuracy: -16.6344\n",
      "🏃 View run Fold-2 at: http://127.0.0.1:5001/#/experiments/1/runs/7cf08bdb138b43bea6ba0093a646a683\n",
      "🧪 View experiment at: http://127.0.0.1:5001/#/experiments/1\n",
      "3 --> train_loss: 23.071 | train_accuracy: -40.9242 | val_loss: 8.7785 | val_accuracy: -14.9218\n",
      "🏃 View run Fold-3 at: http://127.0.0.1:5001/#/experiments/1/runs/f36d7ba65e404d518b0bf3e125ca1b32\n",
      "🧪 View experiment at: http://127.0.0.1:5001/#/experiments/1\n"
     ]
    },
    {
     "name": "stderr",
     "output_type": "stream",
     "text": [
      "2025/02/03 02:47:56 WARNING mlflow.models.signature: Failed to infer schema for outputs. Setting schema to `Schema([ColSpec(type=AnyType())]` as default. To see the full traceback, set logging level to DEBUG.\n",
      "2025/02/03 02:47:56 WARNING mlflow.sklearn: Model was missing function: predict. Not logging python_function flavor!\n"
     ]
    },
    {
     "name": "stdout",
     "output_type": "stream",
     "text": [
      "4 --> train_loss: 20.116 | train_accuracy: -35.5624 | val_loss: 9.7704 | val_accuracy: -16.3154\n",
      "🏃 View run Fold-4 at: http://127.0.0.1:5001/#/experiments/1/runs/b2297961165a452fbb8a575eb2bb199a\n",
      "🧪 View experiment at: http://127.0.0.1:5001/#/experiments/1\n",
      "✅ Fold: normal | Model: RidgeRegression | MSE: 8.1245 | R²: -12.9016\n",
      "🏃 View run method-normal-lr-0.001-reg-RidgeRegression-poly-Polynomial-momentum-Momentum is not used-weight-zeros at: http://127.0.0.1:5001/#/experiments/1/runs/160eb0612e1b491f9dc421f408de28ac\n",
      "🧪 View experiment at: http://127.0.0.1:5001/#/experiments/1\n",
      " Running RidgeRegression | normal | Polynomial | zeros | Momentum is not used | LR: 0.0001\n",
      "(5330,)\n",
      "torch.Size([5330, 90])\n",
      "0 --> train_loss: 139.395 | train_accuracy: -253.7718 | val_loss: 116.5763 | val_accuracy: -202.8057\n",
      "🏃 View run Fold-0 at: http://127.0.0.1:5001/#/experiments/1/runs/58df362d4d194abc9128fe6ce24e12ae\n",
      "🧪 View experiment at: http://127.0.0.1:5001/#/experiments/1\n",
      "1 --> train_loss: 119.412 | train_accuracy: -215.3153 | val_loss: 86.3611 | val_accuracy: -163.8189\n",
      "🏃 View run Fold-1 at: http://127.0.0.1:5001/#/experiments/1/runs/4f1e81aae26f491db4b17ec399857ae6\n",
      "🧪 View experiment at: http://127.0.0.1:5001/#/experiments/1\n",
      "2 --> train_loss: 104.502 | train_accuracy: -188.2292 | val_loss: 65.4762 | val_accuracy: -118.4905\n",
      "🏃 View run Fold-2 at: http://127.0.0.1:5001/#/experiments/1/runs/ddc96a78eeed42dabf6c32051b5f28a3\n",
      "🧪 View experiment at: http://127.0.0.1:5001/#/experiments/1\n",
      "3 --> train_loss: 92.946 | train_accuracy: -167.3026 | val_loss: 51.1221 | val_accuracy: -91.7221\n",
      "🏃 View run Fold-3 at: http://127.0.0.1:5001/#/experiments/1/runs/d27fcfca2b9f4f26a3131c4484dddbcf\n",
      "🧪 View experiment at: http://127.0.0.1:5001/#/experiments/1\n"
     ]
    },
    {
     "name": "stderr",
     "output_type": "stream",
     "text": [
      "2025/02/03 02:48:04 WARNING mlflow.models.signature: Failed to infer schema for outputs. Setting schema to `Schema([ColSpec(type=AnyType())]` as default. To see the full traceback, set logging level to DEBUG.\n",
      "2025/02/03 02:48:04 WARNING mlflow.sklearn: Model was missing function: predict. Not logging python_function flavor!\n"
     ]
    },
    {
     "name": "stdout",
     "output_type": "stream",
     "text": [
      "4 --> train_loss: 83.629 | train_accuracy: -150.5292 | val_loss: 43.5620 | val_accuracy: -76.2017\n",
      "🏃 View run Fold-4 at: http://127.0.0.1:5001/#/experiments/1/runs/ef22dd03d49f4bd998427e4f13175002\n",
      "🧪 View experiment at: http://127.0.0.1:5001/#/experiments/1\n",
      "✅ Fold: normal | Model: RidgeRegression | MSE: 41.3550 | R²: -69.7609\n",
      "🏃 View run method-normal-lr-0.0001-reg-RidgeRegression-poly-Polynomial-momentum-Momentum is not used-weight-zeros at: http://127.0.0.1:5001/#/experiments/1/runs/363b7ed26af9415ab83d8737c6ed4646\n",
      "🧪 View experiment at: http://127.0.0.1:5001/#/experiments/1\n",
      " Running RidgeRegression | normal | Polynomial | zeros | Momentum is used | LR: 0.01\n",
      "(5330,)\n",
      "torch.Size([5330, 90])\n",
      "0 --> train_loss: 34.490 | train_accuracy: -62.0382 | val_loss: 11.8141 | val_accuracy: -19.6541\n",
      "🏃 View run Fold-0 at: http://127.0.0.1:5001/#/experiments/1/runs/1dd681b437054450875200cd55cacb31\n",
      "🧪 View experiment at: http://127.0.0.1:5001/#/experiments/1\n",
      "1 --> train_loss: 22.359 | train_accuracy: -39.6667 | val_loss: 7.9313 | val_accuracy: -14.1367\n",
      "🏃 View run Fold-1 at: http://127.0.0.1:5001/#/experiments/1/runs/14cfd76a6ddd4cf2b7defb6a2cadf6e0\n",
      "🧪 View experiment at: http://127.0.0.1:5001/#/experiments/1\n",
      "2 --> train_loss: 17.726 | train_accuracy: -31.2102 | val_loss: 8.1076 | val_accuracy: -13.7959\n",
      "🏃 View run Fold-2 at: http://127.0.0.1:5001/#/experiments/1/runs/31f225eab81e49eb84cd4e4214592b96\n",
      "🧪 View experiment at: http://127.0.0.1:5001/#/experiments/1\n",
      "3 --> train_loss: 15.287 | train_accuracy: -26.7664 | val_loss: 7.7690 | val_accuracy: -13.0910\n",
      "🏃 View run Fold-3 at: http://127.0.0.1:5001/#/experiments/1/runs/477ff3e4119d4d4eb915ef2cbc543ec4\n",
      "🧪 View experiment at: http://127.0.0.1:5001/#/experiments/1\n"
     ]
    },
    {
     "name": "stderr",
     "output_type": "stream",
     "text": [
      "2025/02/03 02:48:12 WARNING mlflow.models.signature: Failed to infer schema for outputs. Setting schema to `Schema([ColSpec(type=AnyType())]` as default. To see the full traceback, set logging level to DEBUG.\n",
      "2025/02/03 02:48:12 WARNING mlflow.sklearn: Model was missing function: predict. Not logging python_function flavor!\n"
     ]
    },
    {
     "name": "stdout",
     "output_type": "stream",
     "text": [
      "4 --> train_loss: 13.733 | train_accuracy: -23.9506 | val_loss: 9.0097 | val_accuracy: -14.9673\n",
      "🏃 View run Fold-4 at: http://127.0.0.1:5001/#/experiments/1/runs/28974a3a63504669a6795a75147f5cb2\n",
      "🧪 View experiment at: http://127.0.0.1:5001/#/experiments/1\n",
      "✅ Fold: normal | Model: RidgeRegression | MSE: 7.5241 | R²: -11.8742\n",
      "🏃 View run method-normal-lr-0.01-reg-RidgeRegression-poly-Polynomial-momentum-Momentum is used-weight-zeros at: http://127.0.0.1:5001/#/experiments/1/runs/f4a8ea68a1004d1dbdac64b893b0db82\n",
      "🧪 View experiment at: http://127.0.0.1:5001/#/experiments/1\n",
      " Running RidgeRegression | normal | Polynomial | zeros | Momentum is used | LR: 0.001\n",
      "(5330,)\n",
      "torch.Size([5330, 90])\n",
      "0 --> train_loss: 117.934 | train_accuracy: -214.5472 | val_loss: 84.7578 | val_accuracy: -147.1788\n",
      "🏃 View run Fold-0 at: http://127.0.0.1:5001/#/experiments/1/runs/cc30248b809d40eb9f63f2b6feb94685\n",
      "🧪 View experiment at: http://127.0.0.1:5001/#/experiments/1\n",
      "1 --> train_loss: 91.977 | train_accuracy: -165.8215 | val_loss: 51.7049 | val_accuracy: -97.6780\n",
      "🏃 View run Fold-1 at: http://127.0.0.1:5001/#/experiments/1/runs/b95ec159f9474c16bb6344ce01789feb\n",
      "🧪 View experiment at: http://127.0.0.1:5001/#/experiments/1\n",
      "2 --> train_loss: 75.544 | train_accuracy: -135.9423 | val_loss: 35.5065 | val_accuracy: -63.7975\n",
      "🏃 View run Fold-2 at: http://127.0.0.1:5001/#/experiments/1/runs/21f13fdd17284191bd5a480a75ec92d9\n",
      "🧪 View experiment at: http://127.0.0.1:5001/#/experiments/1\n",
      "3 --> train_loss: 64.314 | train_accuracy: -115.5689 | val_loss: 26.3736 | val_accuracy: -46.8348\n",
      "🏃 View run Fold-3 at: http://127.0.0.1:5001/#/experiments/1/runs/70ea26060cde4eb38ad963010fd7c988\n",
      "🧪 View experiment at: http://127.0.0.1:5001/#/experiments/1\n"
     ]
    },
    {
     "name": "stderr",
     "output_type": "stream",
     "text": [
      "2025/02/03 02:48:20 WARNING mlflow.models.signature: Failed to infer schema for outputs. Setting schema to `Schema([ColSpec(type=AnyType())]` as default. To see the full traceback, set logging level to DEBUG.\n",
      "2025/02/03 02:48:20 WARNING mlflow.sklearn: Model was missing function: predict. Not logging python_function flavor!\n"
     ]
    },
    {
     "name": "stdout",
     "output_type": "stream",
     "text": [
      "4 --> train_loss: 56.082 | train_accuracy: -100.6891 | val_loss: 23.4751 | val_accuracy: -40.6031\n",
      "🏃 View run Fold-4 at: http://127.0.0.1:5001/#/experiments/1/runs/affe43c2c5d4402b9936e9927849389d\n",
      "🧪 View experiment at: http://127.0.0.1:5001/#/experiments/1\n",
      "✅ Fold: normal | Model: RidgeRegression | MSE: 20.4459 | R²: -33.9842\n",
      "🏃 View run method-normal-lr-0.001-reg-RidgeRegression-poly-Polynomial-momentum-Momentum is used-weight-zeros at: http://127.0.0.1:5001/#/experiments/1/runs/f2a7c2d9da314aec9a1ff3b32a15a2d2\n",
      "🧪 View experiment at: http://127.0.0.1:5001/#/experiments/1\n",
      " Running RidgeRegression | normal | Polynomial | zeros | Momentum is used | LR: 0.0001\n",
      "(5330,)\n",
      "torch.Size([5330, 90])\n",
      "0 --> train_loss: 160.200 | train_accuracy: -291.7970 | val_loss: 154.3889 | val_accuracy: -268.9120\n",
      "🏃 View run Fold-0 at: http://127.0.0.1:5001/#/experiments/1/runs/d6540b3c85884cd4a33ac1428ef65696\n",
      "🧪 View experiment at: http://127.0.0.1:5001/#/experiments/1\n",
      "1 --> train_loss: 154.239 | train_accuracy: -278.0168 | val_loss: 144.1470 | val_accuracy: -274.1026\n",
      "🏃 View run Fold-1 at: http://127.0.0.1:5001/#/experiments/1/runs/d8843dd608e04772bc2c31e4eac2af47\n",
      "🧪 View experiment at: http://127.0.0.1:5001/#/experiments/1\n",
      "2 --> train_loss: 148.833 | train_accuracy: -268.2141 | val_loss: 133.1399 | val_accuracy: -241.9732\n",
      "🏃 View run Fold-2 at: http://127.0.0.1:5001/#/experiments/1/runs/b26df3748fe047ff9c2e254778f8baa0\n",
      "🧪 View experiment at: http://127.0.0.1:5001/#/experiments/1\n",
      "3 --> train_loss: 143.801 | train_accuracy: -259.1693 | val_loss: 123.7148 | val_accuracy: -223.3864\n",
      "🏃 View run Fold-3 at: http://127.0.0.1:5001/#/experiments/1/runs/107142ae6103413fbc690024f9a3778c\n",
      "🧪 View experiment at: http://127.0.0.1:5001/#/experiments/1\n"
     ]
    },
    {
     "name": "stderr",
     "output_type": "stream",
     "text": [
      "2025/02/03 02:48:28 WARNING mlflow.models.signature: Failed to infer schema for outputs. Setting schema to `Schema([ColSpec(type=AnyType())]` as default. To see the full traceback, set logging level to DEBUG.\n",
      "2025/02/03 02:48:28 WARNING mlflow.sklearn: Model was missing function: predict. Not logging python_function flavor!\n"
     ]
    },
    {
     "name": "stdout",
     "output_type": "stream",
     "text": [
      "4 --> train_loss: 139.126 | train_accuracy: -251.0002 | val_loss: 114.8032 | val_accuracy: -202.4574\n",
      "🏃 View run Fold-4 at: http://127.0.0.1:5001/#/experiments/1/runs/8d099e96c6484b20a1c12c8c33ea9443\n",
      "🧪 View experiment at: http://127.0.0.1:5001/#/experiments/1\n",
      "✅ Fold: normal | Model: RidgeRegression | MSE: 116.0186 | R²: -197.5147\n",
      "🏃 View run method-normal-lr-0.0001-reg-RidgeRegression-poly-Polynomial-momentum-Momentum is used-weight-zeros at: http://127.0.0.1:5001/#/experiments/1/runs/75cb03c5557a4798839092e9b198ae6f\n",
      "🧪 View experiment at: http://127.0.0.1:5001/#/experiments/1\n",
      " Running RidgeRegression | normal | Polynomial | xavier | Momentum is not used | LR: 0.01\n",
      "(5330,)\n",
      "torch.Size([5330, 90])\n",
      "0 --> train_loss: 16.117 | train_accuracy: -28.4570 | val_loss: 8.0160 | val_accuracy: -13.0140\n",
      "🏃 View run Fold-0 at: http://127.0.0.1:5001/#/experiments/1/runs/5fdc947dbff64137b948ffceb92545c0\n",
      "🧪 View experiment at: http://127.0.0.1:5001/#/experiments/1\n",
      "1 --> train_loss: 11.924 | train_accuracy: -20.6438 | val_loss: 6.7046 | val_accuracy: -11.7956\n",
      "🏃 View run Fold-1 at: http://127.0.0.1:5001/#/experiments/1/runs/d5a871d2e9e448b5984bc68ca900edbe\n",
      "🧪 View experiment at: http://127.0.0.1:5001/#/experiments/1\n",
      "2 --> train_loss: 10.442 | train_accuracy: -17.9365 | val_loss: 7.4573 | val_accuracy: -12.6092\n",
      "🏃 View run Fold-2 at: http://127.0.0.1:5001/#/experiments/1/runs/e4a4548174304ff6a06e09cf77fe8eea\n",
      "🧪 View experiment at: http://127.0.0.1:5001/#/experiments/1\n",
      "3 --> train_loss: 9.689 | train_accuracy: -16.5664 | val_loss: 7.4233 | val_accuracy: -12.4639\n",
      "🏃 View run Fold-3 at: http://127.0.0.1:5001/#/experiments/1/runs/6c9769646f194423a2f0b0f2366f8048\n",
      "🧪 View experiment at: http://127.0.0.1:5001/#/experiments/1\n"
     ]
    },
    {
     "name": "stderr",
     "output_type": "stream",
     "text": [
      "2025/02/03 02:48:37 WARNING mlflow.models.signature: Failed to infer schema for outputs. Setting schema to `Schema([ColSpec(type=AnyType())]` as default. To see the full traceback, set logging level to DEBUG.\n",
      "2025/02/03 02:48:37 WARNING mlflow.sklearn: Model was missing function: predict. Not logging python_function flavor!\n"
     ]
    },
    {
     "name": "stdout",
     "output_type": "stream",
     "text": [
      "4 --> train_loss: 9.200 | train_accuracy: -15.6908 | val_loss: 9.2208 | val_accuracy: -15.3413\n",
      "🏃 View run Fold-4 at: http://127.0.0.1:5001/#/experiments/1/runs/a6e341b3f2d14f2a80f6a756fbe83c7f\n",
      "🧪 View experiment at: http://127.0.0.1:5001/#/experiments/1\n",
      "✅ Fold: normal | Model: RidgeRegression | MSE: 7.3267 | R²: -11.5364\n",
      "🏃 View run method-normal-lr-0.01-reg-RidgeRegression-poly-Polynomial-momentum-Momentum is not used-weight-xavier at: http://127.0.0.1:5001/#/experiments/1/runs/f886826e5ddf4c6ebda9d14f34b49ebb\n",
      "🧪 View experiment at: http://127.0.0.1:5001/#/experiments/1\n",
      " Running RidgeRegression | normal | Polynomial | xavier | Momentum is not used | LR: 0.001\n",
      "(5330,)\n",
      "torch.Size([5330, 90])\n",
      "0 --> train_loss: 71.494 | train_accuracy: -129.6689 | val_loss: 23.2772 | val_accuracy: -39.6946\n",
      "🏃 View run Fold-0 at: http://127.0.0.1:5001/#/experiments/1/runs/d0b6fdadd258415396dd8aedc12690cf\n",
      "🧪 View experiment at: http://127.0.0.1:5001/#/experiments/1\n",
      "1 --> train_loss: 44.512 | train_accuracy: -80.0140 | val_loss: 11.7786 | val_accuracy: -21.4793\n",
      "🏃 View run Fold-1 at: http://127.0.0.1:5001/#/experiments/1/runs/bc24a3c1ba134dcead0331a87da6e062\n",
      "🧪 View experiment at: http://127.0.0.1:5001/#/experiments/1\n",
      "2 --> train_loss: 33.555 | train_accuracy: -60.0262 | val_loss: 10.5678 | val_accuracy: -18.2857\n",
      "🏃 View run Fold-2 at: http://127.0.0.1:5001/#/experiments/1/runs/3a3fec3f4a12499895f5f3010524071a\n",
      "🧪 View experiment at: http://127.0.0.1:5001/#/experiments/1\n",
      "3 --> train_loss: 27.644 | train_accuracy: -49.2556 | val_loss: 9.4884 | val_accuracy: -16.2094\n",
      "🏃 View run Fold-3 at: http://127.0.0.1:5001/#/experiments/1/runs/82dbc19c07634634ae86743efdc52da5\n",
      "🧪 View experiment at: http://127.0.0.1:5001/#/experiments/1\n"
     ]
    },
    {
     "name": "stderr",
     "output_type": "stream",
     "text": [
      "2025/02/03 02:48:45 WARNING mlflow.models.signature: Failed to infer schema for outputs. Setting schema to `Schema([ColSpec(type=AnyType())]` as default. To see the full traceback, set logging level to DEBUG.\n",
      "2025/02/03 02:48:45 WARNING mlflow.sklearn: Model was missing function: predict. Not logging python_function flavor!\n"
     ]
    },
    {
     "name": "stdout",
     "output_type": "stream",
     "text": [
      "4 --> train_loss: 23.877 | train_accuracy: -42.4132 | val_loss: 10.3374 | val_accuracy: -17.3201\n",
      "🏃 View run Fold-4 at: http://127.0.0.1:5001/#/experiments/1/runs/15600520a0bf4b22ae369157ca679a5c\n",
      "🧪 View experiment at: http://127.0.0.1:5001/#/experiments/1\n",
      "✅ Fold: normal | Model: RidgeRegression | MSE: 8.5199 | R²: -13.5781\n",
      "🏃 View run method-normal-lr-0.001-reg-RidgeRegression-poly-Polynomial-momentum-Momentum is not used-weight-xavier at: http://127.0.0.1:5001/#/experiments/1/runs/8f08697e180e42c4a334f47f3fc5f942\n",
      "🧪 View experiment at: http://127.0.0.1:5001/#/experiments/1\n",
      " Running RidgeRegression | normal | Polynomial | xavier | Momentum is not used | LR: 0.0001\n",
      "(5330,)\n",
      "torch.Size([5330, 90])\n",
      "0 --> train_loss: 153.333 | train_accuracy: -279.2464 | val_loss: 122.5733 | val_accuracy: -213.2901\n",
      "🏃 View run Fold-0 at: http://127.0.0.1:5001/#/experiments/1/runs/6745c122ec00449c91e0c3bc4a256e7f\n",
      "🧪 View experiment at: http://127.0.0.1:5001/#/experiments/1\n",
      "1 --> train_loss: 128.423 | train_accuracy: -231.7048 | val_loss: 87.8500 | val_accuracy: -166.6605\n",
      "🏃 View run Fold-1 at: http://127.0.0.1:5001/#/experiments/1/runs/3d159ce30884477abac1d7e75551007d\n",
      "🧪 View experiment at: http://127.0.0.1:5001/#/experiments/1\n",
      "2 --> train_loss: 110.990 | train_accuracy: -200.0265 | val_loss: 66.8330 | val_accuracy: -120.9667\n",
      "🏃 View run Fold-2 at: http://127.0.0.1:5001/#/experiments/1/runs/d7d35e34b6544203be96960649809be4\n",
      "🧪 View experiment at: http://127.0.0.1:5001/#/experiments/1\n",
      "3 --> train_loss: 98.072 | train_accuracy: -176.6203 | val_loss: 52.1027 | val_accuracy: -93.5007\n",
      "🏃 View run Fold-3 at: http://127.0.0.1:5001/#/experiments/1/runs/0f6cd9f5494449c6875a5f602d0f26bd\n",
      "🧪 View experiment at: http://127.0.0.1:5001/#/experiments/1\n"
     ]
    },
    {
     "name": "stderr",
     "output_type": "stream",
     "text": [
      "2025/02/03 02:48:54 WARNING mlflow.models.signature: Failed to infer schema for outputs. Setting schema to `Schema([ColSpec(type=AnyType())]` as default. To see the full traceback, set logging level to DEBUG.\n",
      "2025/02/03 02:48:54 WARNING mlflow.sklearn: Model was missing function: predict. Not logging python_function flavor!\n"
     ]
    },
    {
     "name": "stdout",
     "output_type": "stream",
     "text": [
      "4 --> train_loss: 87.894 | train_accuracy: -158.2821 | val_loss: 44.8391 | val_accuracy: -78.4651\n",
      "🏃 View run Fold-4 at: http://127.0.0.1:5001/#/experiments/1/runs/9a5ad00bd5e34c3e966ae970d9790126\n",
      "🧪 View experiment at: http://127.0.0.1:5001/#/experiments/1\n",
      "✅ Fold: normal | Model: RidgeRegression | MSE: 42.1472 | R²: -71.1163\n",
      "🏃 View run method-normal-lr-0.0001-reg-RidgeRegression-poly-Polynomial-momentum-Momentum is not used-weight-xavier at: http://127.0.0.1:5001/#/experiments/1/runs/f9b427cfffd040e0b2303b44697b2f5f\n",
      "🧪 View experiment at: http://127.0.0.1:5001/#/experiments/1\n",
      " Running RidgeRegression | normal | Polynomial | xavier | Momentum is used | LR: 0.01\n",
      "(5330,)\n",
      "torch.Size([5330, 90])\n",
      "0 --> train_loss: 45.778 | train_accuracy: -82.6679 | val_loss: 13.1680 | val_accuracy: -22.0211\n",
      "🏃 View run Fold-0 at: http://127.0.0.1:5001/#/experiments/1/runs/02efb0d5ab7b49e384ff6f24c4c464e7\n",
      "🧪 View experiment at: http://127.0.0.1:5001/#/experiments/1\n",
      "1 --> train_loss: 28.367 | train_accuracy: -50.6327 | val_loss: 8.2489 | val_accuracy: -14.7429\n",
      "🏃 View run Fold-1 at: http://127.0.0.1:5001/#/experiments/1/runs/f1830381f64345feb25c2ed5e96c9997\n",
      "🧪 View experiment at: http://127.0.0.1:5001/#/experiments/1\n",
      "2 --> train_loss: 21.797 | train_accuracy: -38.6414 | val_loss: 8.2045 | val_accuracy: -13.9728\n",
      "🏃 View run Fold-2 at: http://127.0.0.1:5001/#/experiments/1/runs/98e091b840cb4c9eba56caad3b43841d\n",
      "🧪 View experiment at: http://127.0.0.1:5001/#/experiments/1\n",
      "3 --> train_loss: 18.355 | train_accuracy: -32.3651 | val_loss: 7.9002 | val_accuracy: -13.3290\n",
      "🏃 View run Fold-3 at: http://127.0.0.1:5001/#/experiments/1/runs/b571f25e5d6342c29397e4235da9108c\n",
      "🧪 View experiment at: http://127.0.0.1:5001/#/experiments/1\n"
     ]
    },
    {
     "name": "stderr",
     "output_type": "stream",
     "text": [
      "2025/02/03 02:49:02 WARNING mlflow.models.signature: Failed to infer schema for outputs. Setting schema to `Schema([ColSpec(type=AnyType())]` as default. To see the full traceback, set logging level to DEBUG.\n",
      "2025/02/03 02:49:02 WARNING mlflow.sklearn: Model was missing function: predict. Not logging python_function flavor!\n"
     ]
    },
    {
     "name": "stdout",
     "output_type": "stream",
     "text": [
      "4 --> train_loss: 16.197 | train_accuracy: -28.4474 | val_loss: 8.9780 | val_accuracy: -14.9110\n",
      "🏃 View run Fold-4 at: http://127.0.0.1:5001/#/experiments/1/runs/d5e86ab696e34478a330ff26a18fd971\n",
      "🧪 View experiment at: http://127.0.0.1:5001/#/experiments/1\n",
      "✅ Fold: normal | Model: RidgeRegression | MSE: 7.5532 | R²: -11.9239\n",
      "🏃 View run method-normal-lr-0.01-reg-RidgeRegression-poly-Polynomial-momentum-Momentum is used-weight-xavier at: http://127.0.0.1:5001/#/experiments/1/runs/695632c5a3434e668a95f19b1edd0ade\n",
      "🧪 View experiment at: http://127.0.0.1:5001/#/experiments/1\n",
      " Running RidgeRegression | normal | Polynomial | xavier | Momentum is used | LR: 0.001\n",
      "(5330,)\n",
      "torch.Size([5330, 90])\n",
      "0 --> train_loss: 144.472 | train_accuracy: -263.0520 | val_loss: 102.0292 | val_accuracy: -177.3736\n",
      "🏃 View run Fold-0 at: http://127.0.0.1:5001/#/experiments/1/runs/d0b5354e09684a8282c3444ac2944d68\n",
      "🧪 View experiment at: http://127.0.0.1:5001/#/experiments/1\n",
      "1 --> train_loss: 111.407 | train_accuracy: -201.0938 | val_loss: 60.3392 | val_accuracy: -114.1565\n",
      "🏃 View run Fold-1 at: http://127.0.0.1:5001/#/experiments/1/runs/46ce0096cabd4267aee1b22415ebe6a2\n",
      "🧪 View experiment at: http://127.0.0.1:5001/#/experiments/1\n",
      "2 --> train_loss: 90.619 | train_accuracy: -163.2944 | val_loss: 40.3244 | val_accuracy: -72.5899\n",
      "🏃 View run Fold-2 at: http://127.0.0.1:5001/#/experiments/1/runs/e2215a39be874c1589cba4e26c6146c3\n",
      "🧪 View experiment at: http://127.0.0.1:5001/#/experiments/1\n",
      "3 --> train_loss: 76.555 | train_accuracy: -137.7746 | val_loss: 29.4701 | val_accuracy: -52.4510\n",
      "🏃 View run Fold-3 at: http://127.0.0.1:5001/#/experiments/1/runs/df56d42a0c8f4443952a0dbcaabd138e\n",
      "🧪 View experiment at: http://127.0.0.1:5001/#/experiments/1\n"
     ]
    },
    {
     "name": "stderr",
     "output_type": "stream",
     "text": [
      "2025/02/03 02:49:10 WARNING mlflow.models.signature: Failed to infer schema for outputs. Setting schema to `Schema([ColSpec(type=AnyType())]` as default. To see the full traceback, set logging level to DEBUG.\n",
      "2025/02/03 02:49:10 WARNING mlflow.sklearn: Model was missing function: predict. Not logging python_function flavor!\n"
     ]
    },
    {
     "name": "stdout",
     "output_type": "stream",
     "text": [
      "4 --> train_loss: 66.399 | train_accuracy: -119.4085 | val_loss: 25.0550 | val_accuracy: -43.4032\n",
      "🏃 View run Fold-4 at: http://127.0.0.1:5001/#/experiments/1/runs/37598ce250f445d185d4d18c3970638e\n",
      "🧪 View experiment at: http://127.0.0.1:5001/#/experiments/1\n",
      "✅ Fold: normal | Model: RidgeRegression | MSE: 22.5508 | R²: -37.5857\n",
      "🏃 View run method-normal-lr-0.001-reg-RidgeRegression-poly-Polynomial-momentum-Momentum is used-weight-xavier at: http://127.0.0.1:5001/#/experiments/1/runs/2f51cf24f8bf4b8ea27a0530af764392\n",
      "🧪 View experiment at: http://127.0.0.1:5001/#/experiments/1\n",
      " Running RidgeRegression | normal | Polynomial | xavier | Momentum is used | LR: 0.0001\n",
      "(5330,)\n",
      "torch.Size([5330, 90])\n",
      "0 --> train_loss: 210.405 | train_accuracy: -383.5576 | val_loss: 200.1729 | val_accuracy: -348.9543\n",
      "🏃 View run Fold-0 at: http://127.0.0.1:5001/#/experiments/1/runs/031719d93d684c0191e6f001bd46f719\n",
      "🧪 View experiment at: http://127.0.0.1:5001/#/experiments/1\n",
      "1 --> train_loss: 201.714 | train_accuracy: -363.9171 | val_loss: 184.5686 | val_accuracy: -351.2465\n",
      "🏃 View run Fold-1 at: http://127.0.0.1:5001/#/experiments/1/runs/a65eb3f07d6b4adea7d1405de9a29a99\n",
      "🧪 View experiment at: http://127.0.0.1:5001/#/experiments/1\n",
      "2 --> train_loss: 193.682 | train_accuracy: -349.3503 | val_loss: 170.5858 | val_accuracy: -310.3099\n",
      "🏃 View run Fold-2 at: http://127.0.0.1:5001/#/experiments/1/runs/e795f4b456904f3b9b692bfdec4afd6f\n",
      "🧪 View experiment at: http://127.0.0.1:5001/#/experiments/1\n",
      "3 --> train_loss: 186.310 | train_accuracy: -336.0850 | val_loss: 157.4585 | val_accuracy: -284.5887\n",
      "🏃 View run Fold-3 at: http://127.0.0.1:5001/#/experiments/1/runs/767dfbdd16d74d10b0194c93d01c3596\n",
      "🧪 View experiment at: http://127.0.0.1:5001/#/experiments/1\n"
     ]
    },
    {
     "name": "stderr",
     "output_type": "stream",
     "text": [
      "2025/02/03 02:49:18 WARNING mlflow.models.signature: Failed to infer schema for outputs. Setting schema to `Schema([ColSpec(type=AnyType())]` as default. To see the full traceback, set logging level to DEBUG.\n",
      "2025/02/03 02:49:18 WARNING mlflow.sklearn: Model was missing function: predict. Not logging python_function flavor!\n"
     ]
    },
    {
     "name": "stdout",
     "output_type": "stream",
     "text": [
      "4 --> train_loss: 179.511 | train_accuracy: -324.1493 | val_loss: 145.6156 | val_accuracy: -257.0639\n",
      "🏃 View run Fold-4 at: http://127.0.0.1:5001/#/experiments/1/runs/9cfd958bd0024d9f87cd0f0279fa8b8a\n",
      "🧪 View experiment at: http://127.0.0.1:5001/#/experiments/1\n",
      "✅ Fold: normal | Model: RidgeRegression | MSE: 145.9632 | R²: -248.7518\n",
      "🏃 View run method-normal-lr-0.0001-reg-RidgeRegression-poly-Polynomial-momentum-Momentum is used-weight-xavier at: http://127.0.0.1:5001/#/experiments/1/runs/3344c65f53df4fc9a3e8ca332f02a246\n",
      "🧪 View experiment at: http://127.0.0.1:5001/#/experiments/1\n",
      " Running RidgeRegression | stochastic | Linear | zeros | Momentum is not used | LR: 0.01\n",
      "(5330,)\n",
      "torch.Size([5330, 12])\n",
      "0 --> train_loss: 17.540 | train_accuracy: -inf | val_loss: 18.1566 | val_accuracy: -30.7424\n",
      "🏃 View run Fold-0 at: http://127.0.0.1:5001/#/experiments/1/runs/179eecbfc45c47b6a78a246d7347460e\n",
      "🧪 View experiment at: http://127.0.0.1:5001/#/experiments/1\n",
      "1 --> train_loss: 17.423 | train_accuracy: -inf | val_loss: 16.9490 | val_accuracy: -31.3469\n",
      "🏃 View run Fold-1 at: http://127.0.0.1:5001/#/experiments/1/runs/25ff3ecf097f4aaa8522a454a60f07e4\n",
      "🧪 View experiment at: http://127.0.0.1:5001/#/experiments/1\n",
      "2 --> train_loss: 17.093 | train_accuracy: -inf | val_loss: 16.8940 | val_accuracy: -29.8307\n",
      "🏃 View run Fold-2 at: http://127.0.0.1:5001/#/experiments/1/runs/059ab6ca874149079bf757d29b463033\n",
      "🧪 View experiment at: http://127.0.0.1:5001/#/experiments/1\n",
      "3 --> train_loss: 17.707 | train_accuracy: -inf | val_loss: 16.1661 | val_accuracy: -28.3210\n",
      "🏃 View run Fold-3 at: http://127.0.0.1:5001/#/experiments/1/runs/4cb3f9bfca204a0495924b5454064b8d\n",
      "🧪 View experiment at: http://127.0.0.1:5001/#/experiments/1\n"
     ]
    },
    {
     "name": "stderr",
     "output_type": "stream",
     "text": [
      "2025/02/03 02:51:35 WARNING mlflow.models.signature: Failed to infer schema for outputs. Setting schema to `Schema([ColSpec(type=AnyType())]` as default. To see the full traceback, set logging level to DEBUG.\n",
      "2025/02/03 02:51:35 WARNING mlflow.sklearn: Model was missing function: predict. Not logging python_function flavor!\n"
     ]
    },
    {
     "name": "stdout",
     "output_type": "stream",
     "text": [
      "4 --> train_loss: 17.251 | train_accuracy: -inf | val_loss: 17.3180 | val_accuracy: -29.6915\n",
      "🏃 View run Fold-4 at: http://127.0.0.1:5001/#/experiments/1/runs/1ca480076d154967890dd9f79b4024c5\n",
      "🧪 View experiment at: http://127.0.0.1:5001/#/experiments/1\n",
      "✅ Fold: stochastic | Model: RidgeRegression | MSE: 16.7500 | R²: -27.6603\n",
      "🏃 View run method-stochastic-lr-0.01-reg-RidgeRegression-poly-Linear-momentum-Momentum is not used-weight-zeros at: http://127.0.0.1:5001/#/experiments/1/runs/fb6f42b899f443e89965781193ec0591\n",
      "🧪 View experiment at: http://127.0.0.1:5001/#/experiments/1\n",
      " Running RidgeRegression | stochastic | Linear | zeros | Momentum is not used | LR: 0.001\n",
      "(5330,)\n",
      "torch.Size([5330, 12])\n",
      "0 --> train_loss: 17.025 | train_accuracy: -inf | val_loss: 17.0805 | val_accuracy: -28.8612\n",
      "🏃 View run Fold-0 at: http://127.0.0.1:5001/#/experiments/1/runs/db673ab0e3a1497a8d3dac0810aa3e39\n",
      "🧪 View experiment at: http://127.0.0.1:5001/#/experiments/1\n",
      "1 --> train_loss: 16.938 | train_accuracy: -inf | val_loss: 16.2687 | val_accuracy: -30.0485\n",
      "🏃 View run Fold-1 at: http://127.0.0.1:5001/#/experiments/1/runs/3df05b4431104427ba4bfdc8f39b7f19\n",
      "🧪 View experiment at: http://127.0.0.1:5001/#/experiments/1\n",
      "2 --> train_loss: 16.170 | train_accuracy: -inf | val_loss: 16.6433 | val_accuracy: -29.3732\n",
      "🏃 View run Fold-2 at: http://127.0.0.1:5001/#/experiments/1/runs/b24363ec5fd6431fbb1500cc22597566\n",
      "🧪 View experiment at: http://127.0.0.1:5001/#/experiments/1\n",
      "3 --> train_loss: 16.398 | train_accuracy: -inf | val_loss: 15.9033 | val_accuracy: -27.8445\n",
      "🏃 View run Fold-3 at: http://127.0.0.1:5001/#/experiments/1/runs/a168758ebc7644c2b3fefdeff6415693\n",
      "🧪 View experiment at: http://127.0.0.1:5001/#/experiments/1\n"
     ]
    },
    {
     "name": "stderr",
     "output_type": "stream",
     "text": [
      "2025/02/03 02:53:46 WARNING mlflow.models.signature: Failed to infer schema for outputs. Setting schema to `Schema([ColSpec(type=AnyType())]` as default. To see the full traceback, set logging level to DEBUG.\n",
      "2025/02/03 02:53:46 WARNING mlflow.sklearn: Model was missing function: predict. Not logging python_function flavor!\n"
     ]
    },
    {
     "name": "stdout",
     "output_type": "stream",
     "text": [
      "4 --> train_loss: 16.681 | train_accuracy: -inf | val_loss: 16.6570 | val_accuracy: -28.5200\n",
      "🏃 View run Fold-4 at: http://127.0.0.1:5001/#/experiments/1/runs/617b7ca869d74c17a3095ed6ea1eb4d2\n",
      "🧪 View experiment at: http://127.0.0.1:5001/#/experiments/1\n",
      "✅ Fold: stochastic | Model: RidgeRegression | MSE: 16.3088 | R²: -26.9054\n",
      "🏃 View run method-stochastic-lr-0.001-reg-RidgeRegression-poly-Linear-momentum-Momentum is not used-weight-zeros at: http://127.0.0.1:5001/#/experiments/1/runs/5e9bfeb5de984b12ae793bd8fb34310a\n",
      "🧪 View experiment at: http://127.0.0.1:5001/#/experiments/1\n",
      " Running RidgeRegression | stochastic | Linear | zeros | Momentum is not used | LR: 0.0001\n",
      "(5330,)\n",
      "torch.Size([5330, 12])\n",
      "0 --> train_loss: 18.038 | train_accuracy: -inf | val_loss: 16.9259 | val_accuracy: -28.5909\n",
      "🏃 View run Fold-0 at: http://127.0.0.1:5001/#/experiments/1/runs/19980ef063fe41e6934ce109e3d8de9a\n",
      "🧪 View experiment at: http://127.0.0.1:5001/#/experiments/1\n",
      "1 --> train_loss: 17.101 | train_accuracy: -inf | val_loss: 16.2653 | val_accuracy: -30.0421\n",
      "🏃 View run Fold-1 at: http://127.0.0.1:5001/#/experiments/1/runs/b869289b275742cfb52cc6528064ead5\n",
      "🧪 View experiment at: http://127.0.0.1:5001/#/experiments/1\n",
      "2 --> train_loss: 16.356 | train_accuracy: -inf | val_loss: 16.5425 | val_accuracy: -29.1891\n",
      "🏃 View run Fold-2 at: http://127.0.0.1:5001/#/experiments/1/runs/63797b1371dc49c98b776e1477aad35c\n",
      "🧪 View experiment at: http://127.0.0.1:5001/#/experiments/1\n",
      "3 --> train_loss: 16.337 | train_accuracy: -inf | val_loss: 16.0704 | val_accuracy: -28.1474\n",
      "🏃 View run Fold-3 at: http://127.0.0.1:5001/#/experiments/1/runs/dc4fdb64cdd54c4b81d0795b6c5027b8\n",
      "🧪 View experiment at: http://127.0.0.1:5001/#/experiments/1\n"
     ]
    },
    {
     "name": "stderr",
     "output_type": "stream",
     "text": [
      "2025/02/03 02:55:57 WARNING mlflow.models.signature: Failed to infer schema for outputs. Setting schema to `Schema([ColSpec(type=AnyType())]` as default. To see the full traceback, set logging level to DEBUG.\n",
      "2025/02/03 02:55:57 WARNING mlflow.sklearn: Model was missing function: predict. Not logging python_function flavor!\n"
     ]
    },
    {
     "name": "stdout",
     "output_type": "stream",
     "text": [
      "4 --> train_loss: 15.908 | train_accuracy: -inf | val_loss: 17.0930 | val_accuracy: -29.2927\n",
      "🏃 View run Fold-4 at: http://127.0.0.1:5001/#/experiments/1/runs/b350f46202564a0b8a25eafdeef2ad07\n",
      "🧪 View experiment at: http://127.0.0.1:5001/#/experiments/1\n",
      "✅ Fold: stochastic | Model: RidgeRegression | MSE: 16.6842 | R²: -27.5476\n",
      "🏃 View run method-stochastic-lr-0.0001-reg-RidgeRegression-poly-Linear-momentum-Momentum is not used-weight-zeros at: http://127.0.0.1:5001/#/experiments/1/runs/57596473739348f39961a5f23f44f0c8\n",
      "🧪 View experiment at: http://127.0.0.1:5001/#/experiments/1\n",
      " Running RidgeRegression | stochastic | Linear | zeros | Momentum is used | LR: 0.01\n",
      "(5330,)\n",
      "torch.Size([5330, 12])\n",
      "0 --> train_loss: 15.822 | train_accuracy: -inf | val_loss: 16.6326 | val_accuracy: -28.0781\n",
      "🏃 View run Fold-0 at: http://127.0.0.1:5001/#/experiments/1/runs/b48e9cd983044dffa3bc9b82dad656fe\n",
      "🧪 View experiment at: http://127.0.0.1:5001/#/experiments/1\n",
      "1 --> train_loss: 16.598 | train_accuracy: -inf | val_loss: 16.2567 | val_accuracy: -30.0257\n",
      "🏃 View run Fold-1 at: http://127.0.0.1:5001/#/experiments/1/runs/79b61048be87407b94244b359b444974\n",
      "🧪 View experiment at: http://127.0.0.1:5001/#/experiments/1\n",
      "2 --> train_loss: 16.803 | train_accuracy: -inf | val_loss: 16.5651 | val_accuracy: -29.2304\n",
      "🏃 View run Fold-2 at: http://127.0.0.1:5001/#/experiments/1/runs/0cdd1fa0c27842b497619c507b847e16\n",
      "🧪 View experiment at: http://127.0.0.1:5001/#/experiments/1\n",
      "3 --> train_loss: 16.989 | train_accuracy: -inf | val_loss: 15.7763 | val_accuracy: -27.6142\n",
      "🏃 View run Fold-3 at: http://127.0.0.1:5001/#/experiments/1/runs/2bec4d206a304a679047545ec472300a\n",
      "🧪 View experiment at: http://127.0.0.1:5001/#/experiments/1\n"
     ]
    },
    {
     "name": "stderr",
     "output_type": "stream",
     "text": [
      "2025/02/03 02:58:19 WARNING mlflow.models.signature: Failed to infer schema for outputs. Setting schema to `Schema([ColSpec(type=AnyType())]` as default. To see the full traceback, set logging level to DEBUG.\n",
      "2025/02/03 02:58:19 WARNING mlflow.sklearn: Model was missing function: predict. Not logging python_function flavor!\n"
     ]
    },
    {
     "name": "stdout",
     "output_type": "stream",
     "text": [
      "4 --> train_loss: 16.848 | train_accuracy: -inf | val_loss: 16.9936 | val_accuracy: -29.1165\n",
      "🏃 View run Fold-4 at: http://127.0.0.1:5001/#/experiments/1/runs/a68603ed76d34b898bc4400b5c30d150\n",
      "🧪 View experiment at: http://127.0.0.1:5001/#/experiments/1\n",
      "✅ Fold: stochastic | Model: RidgeRegression | MSE: 16.5587 | R²: -27.3329\n",
      "🏃 View run method-stochastic-lr-0.01-reg-RidgeRegression-poly-Linear-momentum-Momentum is used-weight-zeros at: http://127.0.0.1:5001/#/experiments/1/runs/5b4cfa57c3fe4d26a5f27d939543ceab\n",
      "🧪 View experiment at: http://127.0.0.1:5001/#/experiments/1\n",
      " Running RidgeRegression | stochastic | Linear | zeros | Momentum is used | LR: 0.001\n",
      "(5330,)\n",
      "torch.Size([5330, 12])\n",
      "0 --> train_loss: 17.885 | train_accuracy: -inf | val_loss: 16.9379 | val_accuracy: -28.6118\n",
      "🏃 View run Fold-0 at: http://127.0.0.1:5001/#/experiments/1/runs/7e31d832323d4db1b0a0df7575b2e286\n",
      "🧪 View experiment at: http://127.0.0.1:5001/#/experiments/1\n",
      "1 --> train_loss: 17.498 | train_accuracy: -inf | val_loss: 16.1781 | val_accuracy: -29.8757\n",
      "🏃 View run Fold-1 at: http://127.0.0.1:5001/#/experiments/1/runs/f075c820bef347469e239201d7f6689e\n",
      "🧪 View experiment at: http://127.0.0.1:5001/#/experiments/1\n",
      "2 --> train_loss: 17.940 | train_accuracy: -inf | val_loss: 16.4981 | val_accuracy: -29.1082\n",
      "🏃 View run Fold-2 at: http://127.0.0.1:5001/#/experiments/1/runs/c4ec2985561c48af918976e795ebe150\n",
      "🧪 View experiment at: http://127.0.0.1:5001/#/experiments/1\n",
      "3 --> train_loss: 17.510 | train_accuracy: -inf | val_loss: 16.0888 | val_accuracy: -28.1810\n",
      "🏃 View run Fold-3 at: http://127.0.0.1:5001/#/experiments/1/runs/7b7f9db811914527900449c7ce66f66b\n",
      "🧪 View experiment at: http://127.0.0.1:5001/#/experiments/1\n"
     ]
    },
    {
     "name": "stderr",
     "output_type": "stream",
     "text": [
      "2025/02/03 03:00:39 WARNING mlflow.models.signature: Failed to infer schema for outputs. Setting schema to `Schema([ColSpec(type=AnyType())]` as default. To see the full traceback, set logging level to DEBUG.\n",
      "2025/02/03 03:00:40 WARNING mlflow.sklearn: Model was missing function: predict. Not logging python_function flavor!\n"
     ]
    },
    {
     "name": "stdout",
     "output_type": "stream",
     "text": [
      "4 --> train_loss: 17.694 | train_accuracy: -inf | val_loss: 17.1248 | val_accuracy: -29.3491\n",
      "🏃 View run Fold-4 at: http://127.0.0.1:5001/#/experiments/1/runs/919edd42d9a744d59c8be7d9cc5d793b\n",
      "🧪 View experiment at: http://127.0.0.1:5001/#/experiments/1\n",
      "✅ Fold: stochastic | Model: RidgeRegression | MSE: 16.7295 | R²: -27.6252\n",
      "🏃 View run method-stochastic-lr-0.001-reg-RidgeRegression-poly-Linear-momentum-Momentum is used-weight-zeros at: http://127.0.0.1:5001/#/experiments/1/runs/d2af8ad312dc4c92888ab4df069784be\n",
      "🧪 View experiment at: http://127.0.0.1:5001/#/experiments/1\n",
      " Running RidgeRegression | stochastic | Linear | zeros | Momentum is used | LR: 0.0001\n",
      "(5330,)\n",
      "torch.Size([5330, 12])\n",
      "0 --> train_loss: 16.709 | train_accuracy: -inf | val_loss: 16.9377 | val_accuracy: -28.6116\n",
      "🏃 View run Fold-0 at: http://127.0.0.1:5001/#/experiments/1/runs/c5a3223aa588453ebb597e3e9b52f48c\n",
      "🧪 View experiment at: http://127.0.0.1:5001/#/experiments/1\n",
      "1 --> train_loss: 16.911 | train_accuracy: -inf | val_loss: 16.2352 | val_accuracy: -29.9847\n",
      "🏃 View run Fold-1 at: http://127.0.0.1:5001/#/experiments/1/runs/004f80604c0f4bb49f27415c7755abc4\n",
      "🧪 View experiment at: http://127.0.0.1:5001/#/experiments/1\n",
      "2 --> train_loss: 16.380 | train_accuracy: -inf | val_loss: 16.5421 | val_accuracy: -29.1884\n",
      "🏃 View run Fold-2 at: http://127.0.0.1:5001/#/experiments/1/runs/6dd5bc5e96794bf9809fb512372b84db\n",
      "🧪 View experiment at: http://127.0.0.1:5001/#/experiments/1\n",
      "3 --> train_loss: 16.628 | train_accuracy: -inf | val_loss: 16.1040 | val_accuracy: -28.2085\n",
      "🏃 View run Fold-3 at: http://127.0.0.1:5001/#/experiments/1/runs/da4ec44dc71d4e94871f38417216c86a\n",
      "🧪 View experiment at: http://127.0.0.1:5001/#/experiments/1\n"
     ]
    },
    {
     "name": "stderr",
     "output_type": "stream",
     "text": [
      "2025/02/03 03:03:00 WARNING mlflow.models.signature: Failed to infer schema for outputs. Setting schema to `Schema([ColSpec(type=AnyType())]` as default. To see the full traceback, set logging level to DEBUG.\n",
      "2025/02/03 03:03:00 WARNING mlflow.sklearn: Model was missing function: predict. Not logging python_function flavor!\n"
     ]
    },
    {
     "name": "stdout",
     "output_type": "stream",
     "text": [
      "4 --> train_loss: 16.369 | train_accuracy: -inf | val_loss: 17.1365 | val_accuracy: -29.3698\n",
      "🏃 View run Fold-4 at: http://127.0.0.1:5001/#/experiments/1/runs/4a033e6b811745649f9b6e06d1961afd\n",
      "🧪 View experiment at: http://127.0.0.1:5001/#/experiments/1\n",
      "✅ Fold: stochastic | Model: RidgeRegression | MSE: 16.7251 | R²: -27.6177\n",
      "🏃 View run method-stochastic-lr-0.0001-reg-RidgeRegression-poly-Linear-momentum-Momentum is used-weight-zeros at: http://127.0.0.1:5001/#/experiments/1/runs/920546f836444ffb93cedf49294e9b6f\n",
      "🧪 View experiment at: http://127.0.0.1:5001/#/experiments/1\n",
      " Running RidgeRegression | stochastic | Linear | xavier | Momentum is not used | LR: 0.01\n",
      "(5330,)\n",
      "torch.Size([5330, 12])\n",
      "0 --> train_loss: 16.558 | train_accuracy: -inf | val_loss: 16.4172 | val_accuracy: -27.7016\n",
      "🏃 View run Fold-0 at: http://127.0.0.1:5001/#/experiments/1/runs/317a93191ba7446184127a9359f4c21d\n",
      "🧪 View experiment at: http://127.0.0.1:5001/#/experiments/1\n",
      "1 --> train_loss: 16.703 | train_accuracy: -inf | val_loss: 16.6864 | val_accuracy: -30.8457\n",
      "🏃 View run Fold-1 at: http://127.0.0.1:5001/#/experiments/1/runs/ff43f0b965094fd4a0205956d1989eb0\n",
      "🧪 View experiment at: http://127.0.0.1:5001/#/experiments/1\n",
      "2 --> train_loss: 17.201 | train_accuracy: -inf | val_loss: 17.0963 | val_accuracy: -30.1998\n",
      "🏃 View run Fold-2 at: http://127.0.0.1:5001/#/experiments/1/runs/062690f6d8024995928ae4e360cec92f\n",
      "🧪 View experiment at: http://127.0.0.1:5001/#/experiments/1\n",
      "3 --> train_loss: 16.789 | train_accuracy: -inf | val_loss: 16.6446 | val_accuracy: -29.1891\n",
      "🏃 View run Fold-3 at: http://127.0.0.1:5001/#/experiments/1/runs/0e35e69a1e4246b794ce4ee55f8d3bf9\n",
      "🧪 View experiment at: http://127.0.0.1:5001/#/experiments/1\n"
     ]
    },
    {
     "name": "stderr",
     "output_type": "stream",
     "text": [
      "2025/02/03 03:05:11 WARNING mlflow.models.signature: Failed to infer schema for outputs. Setting schema to `Schema([ColSpec(type=AnyType())]` as default. To see the full traceback, set logging level to DEBUG.\n",
      "2025/02/03 03:05:11 WARNING mlflow.sklearn: Model was missing function: predict. Not logging python_function flavor!\n"
     ]
    },
    {
     "name": "stdout",
     "output_type": "stream",
     "text": [
      "4 --> train_loss: 16.346 | train_accuracy: -inf | val_loss: 18.5537 | val_accuracy: -31.8813\n",
      "🏃 View run Fold-4 at: http://127.0.0.1:5001/#/experiments/1/runs/7f9ffe72e75d486c996b6ebe71e8b529\n",
      "🧪 View experiment at: http://127.0.0.1:5001/#/experiments/1\n",
      "✅ Fold: stochastic | Model: RidgeRegression | MSE: 17.6671 | R²: -29.2295\n",
      "🏃 View run method-stochastic-lr-0.01-reg-RidgeRegression-poly-Linear-momentum-Momentum is not used-weight-xavier at: http://127.0.0.1:5001/#/experiments/1/runs/96bce7540e7c486cb04c0d69eb080b0b\n",
      "🧪 View experiment at: http://127.0.0.1:5001/#/experiments/1\n",
      " Running RidgeRegression | stochastic | Linear | xavier | Momentum is not used | LR: 0.001\n",
      "(5330,)\n",
      "torch.Size([5330, 12])\n",
      "0 --> train_loss: 17.913 | train_accuracy: -inf | val_loss: 16.8737 | val_accuracy: -28.4996\n",
      "🏃 View run Fold-0 at: http://127.0.0.1:5001/#/experiments/1/runs/fce4983844d84a22aa48b0a4d8c570ec\n",
      "🧪 View experiment at: http://127.0.0.1:5001/#/experiments/1\n",
      "1 --> train_loss: 16.435 | train_accuracy: -inf | val_loss: 16.3892 | val_accuracy: -30.2785\n",
      "🏃 View run Fold-1 at: http://127.0.0.1:5001/#/experiments/1/runs/bcf6ea17c47d4cc78a103ab65c41d4eb\n",
      "🧪 View experiment at: http://127.0.0.1:5001/#/experiments/1\n",
      "2 --> train_loss: 16.183 | train_accuracy: -inf | val_loss: 16.3159 | val_accuracy: -28.7757\n",
      "🏃 View run Fold-2 at: http://127.0.0.1:5001/#/experiments/1/runs/bb183ebd7950489c9c6e8813efaee92b\n",
      "🧪 View experiment at: http://127.0.0.1:5001/#/experiments/1\n",
      "3 --> train_loss: 15.920 | train_accuracy: -inf | val_loss: 16.4647 | val_accuracy: -28.8626\n",
      "🏃 View run Fold-3 at: http://127.0.0.1:5001/#/experiments/1/runs/36e4feaf9d874a5a93435f91598aaa75\n",
      "🧪 View experiment at: http://127.0.0.1:5001/#/experiments/1\n"
     ]
    },
    {
     "name": "stderr",
     "output_type": "stream",
     "text": [
      "2025/02/03 03:07:23 WARNING mlflow.models.signature: Failed to infer schema for outputs. Setting schema to `Schema([ColSpec(type=AnyType())]` as default. To see the full traceback, set logging level to DEBUG.\n",
      "2025/02/03 03:07:23 WARNING mlflow.sklearn: Model was missing function: predict. Not logging python_function flavor!\n"
     ]
    },
    {
     "name": "stdout",
     "output_type": "stream",
     "text": [
      "4 --> train_loss: 16.121 | train_accuracy: -inf | val_loss: 17.3541 | val_accuracy: -29.7554\n",
      "🏃 View run Fold-4 at: http://127.0.0.1:5001/#/experiments/1/runs/ab8ea8acb0b24fc98c8e1a32f40fd361\n",
      "🧪 View experiment at: http://127.0.0.1:5001/#/experiments/1\n",
      "✅ Fold: stochastic | Model: RidgeRegression | MSE: 16.8547 | R²: -27.8394\n",
      "🏃 View run method-stochastic-lr-0.001-reg-RidgeRegression-poly-Linear-momentum-Momentum is not used-weight-xavier at: http://127.0.0.1:5001/#/experiments/1/runs/2ec0d2ec57494727bfc0a74c1ecd59c8\n",
      "🧪 View experiment at: http://127.0.0.1:5001/#/experiments/1\n",
      " Running RidgeRegression | stochastic | Linear | xavier | Momentum is not used | LR: 0.0001\n",
      "(5330,)\n",
      "torch.Size([5330, 12])\n",
      "0 --> train_loss: 15.871 | train_accuracy: -inf | val_loss: 16.9271 | val_accuracy: -28.5929\n",
      "🏃 View run Fold-0 at: http://127.0.0.1:5001/#/experiments/1/runs/031d9e1e61b3458883b65f3f00ae1b01\n",
      "🧪 View experiment at: http://127.0.0.1:5001/#/experiments/1\n",
      "1 --> train_loss: 17.071 | train_accuracy: -inf | val_loss: 16.2719 | val_accuracy: -30.0546\n",
      "🏃 View run Fold-1 at: http://127.0.0.1:5001/#/experiments/1/runs/e97928cba83a40fba7ca449ba37294f7\n",
      "🧪 View experiment at: http://127.0.0.1:5001/#/experiments/1\n",
      "2 --> train_loss: 17.458 | train_accuracy: -inf | val_loss: 16.5018 | val_accuracy: -29.1149\n",
      "🏃 View run Fold-2 at: http://127.0.0.1:5001/#/experiments/1/runs/8d653011ad0446f88cdd3a1dd3f39078\n",
      "🧪 View experiment at: http://127.0.0.1:5001/#/experiments/1\n",
      "3 --> train_loss: 17.100 | train_accuracy: -inf | val_loss: 16.1053 | val_accuracy: -28.2107\n",
      "🏃 View run Fold-3 at: http://127.0.0.1:5001/#/experiments/1/runs/daff91cb53624e60bc5820eaf179b189\n",
      "🧪 View experiment at: http://127.0.0.1:5001/#/experiments/1\n"
     ]
    },
    {
     "name": "stderr",
     "output_type": "stream",
     "text": [
      "2025/02/03 03:09:34 WARNING mlflow.models.signature: Failed to infer schema for outputs. Setting schema to `Schema([ColSpec(type=AnyType())]` as default. To see the full traceback, set logging level to DEBUG.\n",
      "2025/02/03 03:09:34 WARNING mlflow.sklearn: Model was missing function: predict. Not logging python_function flavor!\n"
     ]
    },
    {
     "name": "stdout",
     "output_type": "stream",
     "text": [
      "4 --> train_loss: 16.886 | train_accuracy: -inf | val_loss: 17.0905 | val_accuracy: -29.2882\n",
      "🏃 View run Fold-4 at: http://127.0.0.1:5001/#/experiments/1/runs/5e0870f4f4cf473d87feb78aeccfc6d0\n",
      "🧪 View experiment at: http://127.0.0.1:5001/#/experiments/1\n",
      "✅ Fold: stochastic | Model: RidgeRegression | MSE: 16.6773 | R²: -27.5358\n",
      "🏃 View run method-stochastic-lr-0.0001-reg-RidgeRegression-poly-Linear-momentum-Momentum is not used-weight-xavier at: http://127.0.0.1:5001/#/experiments/1/runs/949023948d86441697f63f13405a4d66\n",
      "🧪 View experiment at: http://127.0.0.1:5001/#/experiments/1\n",
      " Running RidgeRegression | stochastic | Linear | xavier | Momentum is used | LR: 0.01\n",
      "(5330,)\n",
      "torch.Size([5330, 12])\n",
      "0 --> train_loss: 18.172 | train_accuracy: -inf | val_loss: 16.7954 | val_accuracy: -28.3628\n",
      "🏃 View run Fold-0 at: http://127.0.0.1:5001/#/experiments/1/runs/9c57b80335ca4f56bc1b1cabb3d0b394\n",
      "🧪 View experiment at: http://127.0.0.1:5001/#/experiments/1\n",
      "1 --> train_loss: 18.117 | train_accuracy: -inf | val_loss: 16.3699 | val_accuracy: -30.2417\n",
      "🏃 View run Fold-1 at: http://127.0.0.1:5001/#/experiments/1/runs/de53d79d8c7c44f3a46b4b9ace9d34df\n",
      "🧪 View experiment at: http://127.0.0.1:5001/#/experiments/1\n",
      "2 --> train_loss: 17.842 | train_accuracy: -inf | val_loss: 16.7188 | val_accuracy: -29.5109\n",
      "🏃 View run Fold-2 at: http://127.0.0.1:5001/#/experiments/1/runs/8c3d9585739e460993104469628f27c3\n",
      "🧪 View experiment at: http://127.0.0.1:5001/#/experiments/1\n",
      "3 --> train_loss: 17.302 | train_accuracy: -inf | val_loss: 16.0318 | val_accuracy: -28.0775\n",
      "🏃 View run Fold-3 at: http://127.0.0.1:5001/#/experiments/1/runs/ebc44977dee0448e984748a2aa43b3ea\n",
      "🧪 View experiment at: http://127.0.0.1:5001/#/experiments/1\n"
     ]
    },
    {
     "name": "stderr",
     "output_type": "stream",
     "text": [
      "2025/02/03 03:11:54 WARNING mlflow.models.signature: Failed to infer schema for outputs. Setting schema to `Schema([ColSpec(type=AnyType())]` as default. To see the full traceback, set logging level to DEBUG.\n",
      "2025/02/03 03:11:54 WARNING mlflow.sklearn: Model was missing function: predict. Not logging python_function flavor!\n"
     ]
    },
    {
     "name": "stdout",
     "output_type": "stream",
     "text": [
      "4 --> train_loss: 17.024 | train_accuracy: -inf | val_loss: 17.9544 | val_accuracy: -30.8193\n",
      "🏃 View run Fold-4 at: http://127.0.0.1:5001/#/experiments/1/runs/1c90c59c530d48bfbd219add85020c40\n",
      "🧪 View experiment at: http://127.0.0.1:5001/#/experiments/1\n",
      "✅ Fold: stochastic | Model: RidgeRegression | MSE: 17.4153 | R²: -28.7985\n",
      "🏃 View run method-stochastic-lr-0.01-reg-RidgeRegression-poly-Linear-momentum-Momentum is used-weight-xavier at: http://127.0.0.1:5001/#/experiments/1/runs/3291164e64b84dbd81f6da9f83a77192\n",
      "🧪 View experiment at: http://127.0.0.1:5001/#/experiments/1\n",
      " Running RidgeRegression | stochastic | Linear | xavier | Momentum is used | LR: 0.001\n",
      "(5330,)\n",
      "torch.Size([5330, 12])\n",
      "0 --> train_loss: 16.587 | train_accuracy: -inf | val_loss: 16.8711 | val_accuracy: -28.4951\n",
      "🏃 View run Fold-0 at: http://127.0.0.1:5001/#/experiments/1/runs/bed0ba2ad76a42849f7e66d67966c8f9\n",
      "🧪 View experiment at: http://127.0.0.1:5001/#/experiments/1\n",
      "1 --> train_loss: 16.545 | train_accuracy: -inf | val_loss: 16.2191 | val_accuracy: -29.9538\n",
      "🏃 View run Fold-1 at: http://127.0.0.1:5001/#/experiments/1/runs/be3b11716c774d98bce416bd53f241c3\n",
      "🧪 View experiment at: http://127.0.0.1:5001/#/experiments/1\n",
      "2 --> train_loss: 16.204 | train_accuracy: -inf | val_loss: 16.5691 | val_accuracy: -29.2377\n",
      "🏃 View run Fold-2 at: http://127.0.0.1:5001/#/experiments/1/runs/d59b3309cd0e4c40a9ed259cf7b1cfdd\n",
      "🧪 View experiment at: http://127.0.0.1:5001/#/experiments/1\n",
      "3 --> train_loss: 16.466 | train_accuracy: -inf | val_loss: 16.0767 | val_accuracy: -28.1590\n",
      "🏃 View run Fold-3 at: http://127.0.0.1:5001/#/experiments/1/runs/848a1264a9504c09b691b2cf19512840\n",
      "🧪 View experiment at: http://127.0.0.1:5001/#/experiments/1\n"
     ]
    },
    {
     "name": "stderr",
     "output_type": "stream",
     "text": [
      "2025/02/03 03:14:14 WARNING mlflow.models.signature: Failed to infer schema for outputs. Setting schema to `Schema([ColSpec(type=AnyType())]` as default. To see the full traceback, set logging level to DEBUG.\n",
      "2025/02/03 03:14:14 WARNING mlflow.sklearn: Model was missing function: predict. Not logging python_function flavor!\n"
     ]
    },
    {
     "name": "stdout",
     "output_type": "stream",
     "text": [
      "4 --> train_loss: 16.057 | train_accuracy: -inf | val_loss: 17.1275 | val_accuracy: -29.3539\n",
      "🏃 View run Fold-4 at: http://127.0.0.1:5001/#/experiments/1/runs/558f4175b84c4fa68a3ee98497546041\n",
      "🧪 View experiment at: http://127.0.0.1:5001/#/experiments/1\n",
      "✅ Fold: stochastic | Model: RidgeRegression | MSE: 16.7031 | R²: -27.5799\n",
      "🏃 View run method-stochastic-lr-0.001-reg-RidgeRegression-poly-Linear-momentum-Momentum is used-weight-xavier at: http://127.0.0.1:5001/#/experiments/1/runs/449a50cb131c4e4fb62b9ea66ff6bfd5\n",
      "🧪 View experiment at: http://127.0.0.1:5001/#/experiments/1\n",
      " Running RidgeRegression | stochastic | Linear | xavier | Momentum is used | LR: 0.0001\n",
      "(5330,)\n",
      "torch.Size([5330, 12])\n",
      "0 --> train_loss: 20.087 | train_accuracy: -inf | val_loss: 16.9400 | val_accuracy: -28.6154\n",
      "🏃 View run Fold-0 at: http://127.0.0.1:5001/#/experiments/1/runs/23d5a87fb0ba4f1e988fc3b36586e89a\n",
      "🧪 View experiment at: http://127.0.0.1:5001/#/experiments/1\n",
      "1 --> train_loss: 17.976 | train_accuracy: -inf | val_loss: 16.2257 | val_accuracy: -29.9666\n",
      "🏃 View run Fold-1 at: http://127.0.0.1:5001/#/experiments/1/runs/3d7899c44e1f4a3aa882d582a592e579\n",
      "🧪 View experiment at: http://127.0.0.1:5001/#/experiments/1\n",
      "2 --> train_loss: 17.496 | train_accuracy: -inf | val_loss: 16.5435 | val_accuracy: -29.1911\n",
      "🏃 View run Fold-2 at: http://127.0.0.1:5001/#/experiments/1/runs/964ea403f47047609b5f87cb1f8af914\n",
      "🧪 View experiment at: http://127.0.0.1:5001/#/experiments/1\n",
      "3 --> train_loss: 17.116 | train_accuracy: -inf | val_loss: 16.1052 | val_accuracy: -28.2107\n",
      "🏃 View run Fold-3 at: http://127.0.0.1:5001/#/experiments/1/runs/6ce8f5b0f0e14da5af62e6d3fbf397f1\n",
      "🧪 View experiment at: http://127.0.0.1:5001/#/experiments/1\n"
     ]
    },
    {
     "name": "stderr",
     "output_type": "stream",
     "text": [
      "2025/02/03 03:16:37 WARNING mlflow.models.signature: Failed to infer schema for outputs. Setting schema to `Schema([ColSpec(type=AnyType())]` as default. To see the full traceback, set logging level to DEBUG.\n",
      "2025/02/03 03:16:37 WARNING mlflow.sklearn: Model was missing function: predict. Not logging python_function flavor!\n"
     ]
    },
    {
     "name": "stdout",
     "output_type": "stream",
     "text": [
      "4 --> train_loss: 17.058 | train_accuracy: -inf | val_loss: 17.1365 | val_accuracy: -29.3698\n",
      "🏃 View run Fold-4 at: http://127.0.0.1:5001/#/experiments/1/runs/71ae5da8413f43a59736c55d66b67c3d\n",
      "🧪 View experiment at: http://127.0.0.1:5001/#/experiments/1\n",
      "✅ Fold: stochastic | Model: RidgeRegression | MSE: 16.7256 | R²: -27.6186\n",
      "🏃 View run method-stochastic-lr-0.0001-reg-RidgeRegression-poly-Linear-momentum-Momentum is used-weight-xavier at: http://127.0.0.1:5001/#/experiments/1/runs/2176dfcbdbf34bc082984e3523479a48\n",
      "🧪 View experiment at: http://127.0.0.1:5001/#/experiments/1\n",
      " Running RidgeRegression | stochastic | Polynomial | zeros | Momentum is not used | LR: 0.01\n",
      "(5330,)\n",
      "torch.Size([5330, 90])\n",
      "0 --> train_loss: 5695.199 | train_accuracy: -inf | val_loss: 939.1081 | val_accuracy: -1640.8054\n",
      "🏃 View run Fold-0 at: http://127.0.0.1:5001/#/experiments/1/runs/3aae74c70a9b4fde9100a0e5cb8f7214\n",
      "🧪 View experiment at: http://127.0.0.1:5001/#/experiments/1\n",
      "1 --> train_loss: 4331.324 | train_accuracy: -inf | val_loss: 3581.4917 | val_accuracy: -6834.2266\n",
      "🏃 View run Fold-1 at: http://127.0.0.1:5001/#/experiments/1/runs/6ee40bf773ed4b6cbef4d511bd4e991d\n",
      "🧪 View experiment at: http://127.0.0.1:5001/#/experiments/1\n",
      "2 --> train_loss: 6140.999 | train_accuracy: -inf | val_loss: 453.7414 | val_accuracy: -827.0538\n",
      "🏃 View run Fold-2 at: http://127.0.0.1:5001/#/experiments/1/runs/94f5b16c58c54deab312c4283d073346\n",
      "🧪 View experiment at: http://127.0.0.1:5001/#/experiments/1\n",
      "3 --> train_loss: 5840.355 | train_accuracy: -inf | val_loss: 360.9796 | val_accuracy: -653.7229\n",
      "🏃 View run Fold-3 at: http://127.0.0.1:5001/#/experiments/1/runs/c53829e211dc4e7b9ddeefb6ff52824d\n",
      "🧪 View experiment at: http://127.0.0.1:5001/#/experiments/1\n"
     ]
    },
    {
     "name": "stderr",
     "output_type": "stream",
     "text": [
      "2025/02/03 03:18:50 WARNING mlflow.models.signature: Failed to infer schema for outputs. Setting schema to `Schema([ColSpec(type=AnyType())]` as default. To see the full traceback, set logging level to DEBUG.\n",
      "2025/02/03 03:18:50 WARNING mlflow.sklearn: Model was missing function: predict. Not logging python_function flavor!\n"
     ]
    },
    {
     "name": "stdout",
     "output_type": "stream",
     "text": [
      "4 --> train_loss: 5818.268 | train_accuracy: -inf | val_loss: 4853.8145 | val_accuracy: -8601.0605\n",
      "🏃 View run Fold-4 at: http://127.0.0.1:5001/#/experiments/1/runs/44510fd42e4a4e4f99b8a45bfbb3c70c\n",
      "🧪 View experiment at: http://127.0.0.1:5001/#/experiments/1\n",
      "✅ Fold: stochastic | Model: RidgeRegression | MSE: 2765.6719 | R²: -4731.2305\n",
      "🏃 View run method-stochastic-lr-0.01-reg-RidgeRegression-poly-Polynomial-momentum-Momentum is not used-weight-zeros at: http://127.0.0.1:5001/#/experiments/1/runs/4e9a4662f5214c0e9eaa9c608863c1ae\n",
      "🧪 View experiment at: http://127.0.0.1:5001/#/experiments/1\n",
      " Running RidgeRegression | stochastic | Polynomial | zeros | Momentum is not used | LR: 0.001\n",
      "(5330,)\n",
      "torch.Size([5330, 90])\n",
      "0 --> train_loss: 29.556 | train_accuracy: -inf | val_loss: 15.3334 | val_accuracy: -25.8068\n",
      "🏃 View run Fold-0 at: http://127.0.0.1:5001/#/experiments/1/runs/d9dbc9ecce444901a58467d528e5d5fb\n",
      "🧪 View experiment at: http://127.0.0.1:5001/#/experiments/1\n",
      "1 --> train_loss: 21.964 | train_accuracy: -inf | val_loss: 7.6234 | val_accuracy: -13.5491\n",
      "🏃 View run Fold-1 at: http://127.0.0.1:5001/#/experiments/1/runs/da2327fb30304a73ac1b2abebbcfde3d\n",
      "🧪 View experiment at: http://127.0.0.1:5001/#/experiments/1\n",
      "2 --> train_loss: 22.534 | train_accuracy: -inf | val_loss: 7.2659 | val_accuracy: -12.2599\n",
      "🏃 View run Fold-2 at: http://127.0.0.1:5001/#/experiments/1/runs/8b52de4e19104e069a54268f82ec328c\n",
      "🧪 View experiment at: http://127.0.0.1:5001/#/experiments/1\n",
      "3 --> train_loss: 18.342 | train_accuracy: -inf | val_loss: 7.4415 | val_accuracy: -12.4970\n",
      "🏃 View run Fold-3 at: http://127.0.0.1:5001/#/experiments/1/runs/19545fbbdfbf45a988b69618042a421d\n",
      "🧪 View experiment at: http://127.0.0.1:5001/#/experiments/1\n"
     ]
    },
    {
     "name": "stderr",
     "output_type": "stream",
     "text": [
      "2025/02/03 03:21:05 WARNING mlflow.models.signature: Failed to infer schema for outputs. Setting schema to `Schema([ColSpec(type=AnyType())]` as default. To see the full traceback, set logging level to DEBUG.\n",
      "2025/02/03 03:21:05 WARNING mlflow.sklearn: Model was missing function: predict. Not logging python_function flavor!\n"
     ]
    },
    {
     "name": "stdout",
     "output_type": "stream",
     "text": [
      "4 --> train_loss: 16.004 | train_accuracy: -inf | val_loss: 14.5755 | val_accuracy: -24.8311\n",
      "🏃 View run Fold-4 at: http://127.0.0.1:5001/#/experiments/1/runs/e2efdb64dc83460f9907eab1c4f6f688\n",
      "🧪 View experiment at: http://127.0.0.1:5001/#/experiments/1\n",
      "✅ Fold: stochastic | Model: RidgeRegression | MSE: 7.7071 | R²: -12.1873\n",
      "🏃 View run method-stochastic-lr-0.001-reg-RidgeRegression-poly-Polynomial-momentum-Momentum is not used-weight-zeros at: http://127.0.0.1:5001/#/experiments/1/runs/8651907da0eb43cb807bf092ae83e970\n",
      "🧪 View experiment at: http://127.0.0.1:5001/#/experiments/1\n",
      " Running RidgeRegression | stochastic | Polynomial | zeros | Momentum is not used | LR: 0.0001\n",
      "(5330,)\n",
      "torch.Size([5330, 90])\n",
      "0 --> train_loss: 7.310 | train_accuracy: -inf | val_loss: 7.6058 | val_accuracy: -12.2969\n",
      "🏃 View run Fold-0 at: http://127.0.0.1:5001/#/experiments/1/runs/f9d84bbc549c4d28adf9131807f255a3\n",
      "🧪 View experiment at: http://127.0.0.1:5001/#/experiments/1\n",
      "1 --> train_loss: 7.740 | train_accuracy: -inf | val_loss: 6.7845 | val_accuracy: -11.9480\n",
      "🏃 View run Fold-1 at: http://127.0.0.1:5001/#/experiments/1/runs/3ce92e84c7bd4aaa9411f8e74e3beb90\n",
      "🧪 View experiment at: http://127.0.0.1:5001/#/experiments/1\n",
      "2 --> train_loss: 7.670 | train_accuracy: -inf | val_loss: 7.4850 | val_accuracy: -12.6597\n",
      "🏃 View run Fold-2 at: http://127.0.0.1:5001/#/experiments/1/runs/476901e73618431e80e043014793ac99\n",
      "🧪 View experiment at: http://127.0.0.1:5001/#/experiments/1\n",
      "3 --> train_loss: 7.962 | train_accuracy: -inf | val_loss: 8.2465 | val_accuracy: -13.9570\n",
      "🏃 View run Fold-3 at: http://127.0.0.1:5001/#/experiments/1/runs/0cf9287d977e41578300732769ebee7b\n",
      "🧪 View experiment at: http://127.0.0.1:5001/#/experiments/1\n"
     ]
    },
    {
     "name": "stderr",
     "output_type": "stream",
     "text": [
      "2025/02/03 03:23:19 WARNING mlflow.models.signature: Failed to infer schema for outputs. Setting schema to `Schema([ColSpec(type=AnyType())]` as default. To see the full traceback, set logging level to DEBUG.\n",
      "2025/02/03 03:23:19 WARNING mlflow.sklearn: Model was missing function: predict. Not logging python_function flavor!\n"
     ]
    },
    {
     "name": "stdout",
     "output_type": "stream",
     "text": [
      "4 --> train_loss: 7.569 | train_accuracy: -inf | val_loss: 9.2664 | val_accuracy: -15.4222\n",
      "🏃 View run Fold-4 at: http://127.0.0.1:5001/#/experiments/1/runs/3c87329e0e7b4483bb25a2a9254aace3\n",
      "🧪 View experiment at: http://127.0.0.1:5001/#/experiments/1\n",
      "✅ Fold: stochastic | Model: RidgeRegression | MSE: 7.4181 | R²: -11.6928\n",
      "🏃 View run method-stochastic-lr-0.0001-reg-RidgeRegression-poly-Polynomial-momentum-Momentum is not used-weight-zeros at: http://127.0.0.1:5001/#/experiments/1/runs/5d398a3e5d1b43bb9ed230aa8f0d81af\n",
      "🧪 View experiment at: http://127.0.0.1:5001/#/experiments/1\n",
      " Running RidgeRegression | stochastic | Polynomial | zeros | Momentum is used | LR: 0.01\n",
      "(5330,)\n",
      "torch.Size([5330, 90])\n",
      "0 --> train_loss: 5211.249 | train_accuracy: -inf | val_loss: 1814.0917 | val_accuracy: -3170.5044\n",
      "🏃 View run Fold-0 at: http://127.0.0.1:5001/#/experiments/1/runs/156729958cfd4e51bba87ad2e065de71\n",
      "🧪 View experiment at: http://127.0.0.1:5001/#/experiments/1\n",
      "1 --> train_loss: 6907.989 | train_accuracy: -inf | val_loss: 48.5299 | val_accuracy: -91.6187\n",
      "🏃 View run Fold-1 at: http://127.0.0.1:5001/#/experiments/1/runs/0dd24aa0a6b84dae86c1fd1abb2b35e6\n",
      "🧪 View experiment at: http://127.0.0.1:5001/#/experiments/1\n",
      "2 --> train_loss: 6920.611 | train_accuracy: -inf | val_loss: 3104.7312 | val_accuracy: -5664.9683\n",
      "🏃 View run Fold-2 at: http://127.0.0.1:5001/#/experiments/1/runs/2c574bde0f9d44b58b39a80137787b6a\n",
      "🧪 View experiment at: http://127.0.0.1:5001/#/experiments/1\n",
      "3 --> train_loss: 6233.305 | train_accuracy: -inf | val_loss: 1025.5670 | val_accuracy: -1859.1111\n",
      "🏃 View run Fold-3 at: http://127.0.0.1:5001/#/experiments/1/runs/278cb05eeaa7453f8ee57f26656d4b21\n",
      "🧪 View experiment at: http://127.0.0.1:5001/#/experiments/1\n"
     ]
    },
    {
     "name": "stderr",
     "output_type": "stream",
     "text": [
      "2025/02/03 03:25:42 WARNING mlflow.models.signature: Failed to infer schema for outputs. Setting schema to `Schema([ColSpec(type=AnyType())]` as default. To see the full traceback, set logging level to DEBUG.\n",
      "2025/02/03 03:25:42 WARNING mlflow.sklearn: Model was missing function: predict. Not logging python_function flavor!\n"
     ]
    },
    {
     "name": "stdout",
     "output_type": "stream",
     "text": [
      "4 --> train_loss: 5675.021 | train_accuracy: -inf | val_loss: 8574.8418 | val_accuracy: -15195.5645\n",
      "🏃 View run Fold-4 at: http://127.0.0.1:5001/#/experiments/1/runs/687169d1ea9041d4af77ebccf386d232\n",
      "🧪 View experiment at: http://127.0.0.1:5001/#/experiments/1\n",
      "✅ Fold: stochastic | Model: RidgeRegression | MSE: 2655.3230 | R²: -4542.4170\n",
      "🏃 View run method-stochastic-lr-0.01-reg-RidgeRegression-poly-Polynomial-momentum-Momentum is used-weight-zeros at: http://127.0.0.1:5001/#/experiments/1/runs/1f1a7792855a45beb5592d6a95bf39ae\n",
      "🧪 View experiment at: http://127.0.0.1:5001/#/experiments/1\n",
      " Running RidgeRegression | stochastic | Polynomial | zeros | Momentum is used | LR: 0.001\n",
      "(5330,)\n",
      "torch.Size([5330, 90])\n",
      "0 --> train_loss: 7.837 | train_accuracy: -inf | val_loss: 7.4139 | val_accuracy: -11.9613\n",
      "🏃 View run Fold-0 at: http://127.0.0.1:5001/#/experiments/1/runs/b8125a85579946eb9760d1812c4177ad\n",
      "🧪 View experiment at: http://127.0.0.1:5001/#/experiments/1\n",
      "1 --> train_loss: 7.375 | train_accuracy: -inf | val_loss: 6.3448 | val_accuracy: -11.1090\n",
      "🏃 View run Fold-1 at: http://127.0.0.1:5001/#/experiments/1/runs/cd2f506b56744c32bdedc15458a67c1b\n",
      "🧪 View experiment at: http://127.0.0.1:5001/#/experiments/1\n",
      "2 --> train_loss: 8.389 | train_accuracy: -inf | val_loss: 7.4570 | val_accuracy: -12.6086\n",
      "🏃 View run Fold-2 at: http://127.0.0.1:5001/#/experiments/1/runs/4f3375e3cde94325acf1ef7b715f1e8f\n",
      "🧪 View experiment at: http://127.0.0.1:5001/#/experiments/1\n",
      "3 --> train_loss: 8.536 | train_accuracy: -inf | val_loss: 11.4772 | val_accuracy: -19.8166\n",
      "🏃 View run Fold-3 at: http://127.0.0.1:5001/#/experiments/1/runs/a4c1633d2a1d4582a5827a857969620e\n",
      "🧪 View experiment at: http://127.0.0.1:5001/#/experiments/1\n"
     ]
    },
    {
     "name": "stderr",
     "output_type": "stream",
     "text": [
      "2025/02/03 03:28:05 WARNING mlflow.models.signature: Failed to infer schema for outputs. Setting schema to `Schema([ColSpec(type=AnyType())]` as default. To see the full traceback, set logging level to DEBUG.\n",
      "2025/02/03 03:28:05 WARNING mlflow.sklearn: Model was missing function: predict. Not logging python_function flavor!\n"
     ]
    },
    {
     "name": "stdout",
     "output_type": "stream",
     "text": [
      "4 --> train_loss: 9.136 | train_accuracy: -inf | val_loss: 10.2971 | val_accuracy: -17.2489\n",
      "🏃 View run Fold-4 at: http://127.0.0.1:5001/#/experiments/1/runs/2d3a8d2f955f45b09ed659236a77b84b\n",
      "🧪 View experiment at: http://127.0.0.1:5001/#/experiments/1\n",
      "✅ Fold: stochastic | Model: RidgeRegression | MSE: 9.1345 | R²: -14.6297\n",
      "🏃 View run method-stochastic-lr-0.001-reg-RidgeRegression-poly-Polynomial-momentum-Momentum is used-weight-zeros at: http://127.0.0.1:5001/#/experiments/1/runs/3171ba5f57a44d67bae2df4787fbda63\n",
      "🧪 View experiment at: http://127.0.0.1:5001/#/experiments/1\n",
      " Running RidgeRegression | stochastic | Polynomial | zeros | Momentum is used | LR: 0.0001\n",
      "(5330,)\n",
      "torch.Size([5330, 90])\n",
      "0 --> train_loss: 6.575 | train_accuracy: -inf | val_loss: 7.6794 | val_accuracy: -12.4256\n",
      "🏃 View run Fold-0 at: http://127.0.0.1:5001/#/experiments/1/runs/2c1d4493a2994e8fa9b6f65d166c6f57\n",
      "🧪 View experiment at: http://127.0.0.1:5001/#/experiments/1\n",
      "1 --> train_loss: 7.694 | train_accuracy: -inf | val_loss: 6.6313 | val_accuracy: -11.6557\n",
      "🏃 View run Fold-1 at: http://127.0.0.1:5001/#/experiments/1/runs/e28794816946467a8d6d63d65a85a1ca\n",
      "🧪 View experiment at: http://127.0.0.1:5001/#/experiments/1\n",
      "2 --> train_loss: 7.719 | train_accuracy: -inf | val_loss: 7.4287 | val_accuracy: -12.5571\n",
      "🏃 View run Fold-2 at: http://127.0.0.1:5001/#/experiments/1/runs/6207ff7c367c4bebb0f903ccd2ef318c\n",
      "🧪 View experiment at: http://127.0.0.1:5001/#/experiments/1\n",
      "3 --> train_loss: 7.439 | train_accuracy: -inf | val_loss: 7.3886 | val_accuracy: -12.4009\n",
      "🏃 View run Fold-3 at: http://127.0.0.1:5001/#/experiments/1/runs/c7ab8298382e440896b8098cee4eed73\n",
      "🧪 View experiment at: http://127.0.0.1:5001/#/experiments/1\n"
     ]
    },
    {
     "name": "stderr",
     "output_type": "stream",
     "text": [
      "2025/02/03 03:30:29 WARNING mlflow.models.signature: Failed to infer schema for outputs. Setting schema to `Schema([ColSpec(type=AnyType())]` as default. To see the full traceback, set logging level to DEBUG.\n",
      "2025/02/03 03:30:29 WARNING mlflow.sklearn: Model was missing function: predict. Not logging python_function flavor!\n"
     ]
    },
    {
     "name": "stdout",
     "output_type": "stream",
     "text": [
      "4 --> train_loss: 7.296 | train_accuracy: -inf | val_loss: 9.3445 | val_accuracy: -15.5605\n",
      "🏃 View run Fold-4 at: http://127.0.0.1:5001/#/experiments/1/runs/275422ca7ea045ecafccaa826bab1552\n",
      "🧪 View experiment at: http://127.0.0.1:5001/#/experiments/1\n",
      "✅ Fold: stochastic | Model: RidgeRegression | MSE: 7.3072 | R²: -11.5031\n",
      "🏃 View run method-stochastic-lr-0.0001-reg-RidgeRegression-poly-Polynomial-momentum-Momentum is used-weight-zeros at: http://127.0.0.1:5001/#/experiments/1/runs/040daae8a84e49268a6dda1ef4470402\n",
      "🧪 View experiment at: http://127.0.0.1:5001/#/experiments/1\n",
      " Running RidgeRegression | stochastic | Polynomial | xavier | Momentum is not used | LR: 0.01\n",
      "(5330,)\n",
      "torch.Size([5330, 90])\n",
      "0 --> train_loss: 4576.942 | train_accuracy: -inf | val_loss: 2148.9976 | val_accuracy: -3756.0073\n",
      "🏃 View run Fold-0 at: http://127.0.0.1:5001/#/experiments/1/runs/a39035f5b74f4558a1fac35f0648d248\n",
      "🧪 View experiment at: http://127.0.0.1:5001/#/experiments/1\n",
      "1 --> train_loss: 3630.387 | train_accuracy: -inf | val_loss: 1918.9183 | val_accuracy: -3661.2285\n",
      "🏃 View run Fold-1 at: http://127.0.0.1:5001/#/experiments/1/runs/7fb02a67749245fda9b9f3bd93ad2673\n",
      "🧪 View experiment at: http://127.0.0.1:5001/#/experiments/1\n",
      "2 --> train_loss: 3621.880 | train_accuracy: -inf | val_loss: 8097.3442 | val_accuracy: -14776.2197\n",
      "🏃 View run Fold-2 at: http://127.0.0.1:5001/#/experiments/1/runs/08f7d8f7dafa436984f08c21bb9ea562\n",
      "🧪 View experiment at: http://127.0.0.1:5001/#/experiments/1\n",
      "3 --> train_loss: 2915.639 | train_accuracy: -inf | val_loss: 3127.4673 | val_accuracy: -5671.4102\n",
      "🏃 View run Fold-3 at: http://127.0.0.1:5001/#/experiments/1/runs/6350288bc8564f2d85d3f09ce0d817a2\n",
      "🧪 View experiment at: http://127.0.0.1:5001/#/experiments/1\n"
     ]
    },
    {
     "name": "stderr",
     "output_type": "stream",
     "text": [
      "2025/02/03 03:32:41 WARNING mlflow.models.signature: Failed to infer schema for outputs. Setting schema to `Schema([ColSpec(type=AnyType())]` as default. To see the full traceback, set logging level to DEBUG.\n",
      "2025/02/03 03:32:41 WARNING mlflow.sklearn: Model was missing function: predict. Not logging python_function flavor!\n"
     ]
    },
    {
     "name": "stdout",
     "output_type": "stream",
     "text": [
      "4 --> train_loss: 2549.423 | train_accuracy: -inf | val_loss: 873.9734 | val_accuracy: -1547.8792\n",
      "🏃 View run Fold-4 at: http://127.0.0.1:5001/#/experiments/1/runs/22d7835413354017918b03184454dc20\n",
      "🧪 View experiment at: http://127.0.0.1:5001/#/experiments/1\n",
      "✅ Fold: stochastic | Model: RidgeRegression | MSE: 471.1867 | R²: -805.2288\n",
      "🏃 View run method-stochastic-lr-0.01-reg-RidgeRegression-poly-Polynomial-momentum-Momentum is not used-weight-xavier at: http://127.0.0.1:5001/#/experiments/1/runs/fa91aaafaeb94e2e9afb6805cc319ea1\n",
      "🧪 View experiment at: http://127.0.0.1:5001/#/experiments/1\n",
      " Running RidgeRegression | stochastic | Polynomial | xavier | Momentum is not used | LR: 0.001\n",
      "(5330,)\n",
      "torch.Size([5330, 90])\n",
      "0 --> train_loss: 12.179 | train_accuracy: -inf | val_loss: 7.5768 | val_accuracy: -12.2462\n",
      "🏃 View run Fold-0 at: http://127.0.0.1:5001/#/experiments/1/runs/ca5e255231a341dba2808808739396f8\n",
      "🧪 View experiment at: http://127.0.0.1:5001/#/experiments/1\n",
      "1 --> train_loss: 75.870 | train_accuracy: -inf | val_loss: 7.9188 | val_accuracy: -14.1128\n",
      "🏃 View run Fold-1 at: http://127.0.0.1:5001/#/experiments/1/runs/fade07613217462e8231dc298557be5f\n",
      "🧪 View experiment at: http://127.0.0.1:5001/#/experiments/1\n",
      "2 --> train_loss: 147.114 | train_accuracy: -inf | val_loss: 29.8967 | val_accuracy: -53.5598\n",
      "🏃 View run Fold-2 at: http://127.0.0.1:5001/#/experiments/1/runs/c9e56264fcab4d96899df959d229c819\n",
      "🧪 View experiment at: http://127.0.0.1:5001/#/experiments/1\n",
      "3 --> train_loss: 129.859 | train_accuracy: -inf | val_loss: 10.9286 | val_accuracy: -18.8217\n",
      "🏃 View run Fold-3 at: http://127.0.0.1:5001/#/experiments/1/runs/87366a88450d451baeec669ceb30ccb3\n",
      "🧪 View experiment at: http://127.0.0.1:5001/#/experiments/1\n"
     ]
    },
    {
     "name": "stderr",
     "output_type": "stream",
     "text": [
      "2025/02/03 03:34:54 WARNING mlflow.models.signature: Failed to infer schema for outputs. Setting schema to `Schema([ColSpec(type=AnyType())]` as default. To see the full traceback, set logging level to DEBUG.\n",
      "2025/02/03 03:34:54 WARNING mlflow.sklearn: Model was missing function: predict. Not logging python_function flavor!\n"
     ]
    },
    {
     "name": "stdout",
     "output_type": "stream",
     "text": [
      "4 --> train_loss: 105.694 | train_accuracy: -inf | val_loss: 12.4798 | val_accuracy: -21.1171\n",
      "🏃 View run Fold-4 at: http://127.0.0.1:5001/#/experiments/1/runs/d81a67c54a9948c99e76baf9fd1d9d82\n",
      "🧪 View experiment at: http://127.0.0.1:5001/#/experiments/1\n",
      "✅ Fold: stochastic | Model: RidgeRegression | MSE: 7.1631 | R²: -11.2565\n",
      "🏃 View run method-stochastic-lr-0.001-reg-RidgeRegression-poly-Polynomial-momentum-Momentum is not used-weight-xavier at: http://127.0.0.1:5001/#/experiments/1/runs/4585af5ffe44488696f8194603c6d3cc\n",
      "🧪 View experiment at: http://127.0.0.1:5001/#/experiments/1\n",
      " Running RidgeRegression | stochastic | Polynomial | xavier | Momentum is not used | LR: 0.0001\n",
      "(5330,)\n",
      "torch.Size([5330, 90])\n",
      "0 --> train_loss: 5.931 | train_accuracy: -inf | val_loss: 7.6872 | val_accuracy: -12.4392\n",
      "🏃 View run Fold-0 at: http://127.0.0.1:5001/#/experiments/1/runs/62e5845129ca45a490364fb1643fc13a\n",
      "🧪 View experiment at: http://127.0.0.1:5001/#/experiments/1\n",
      "1 --> train_loss: 5.812 | train_accuracy: -inf | val_loss: 7.1390 | val_accuracy: -12.6247\n",
      "🏃 View run Fold-1 at: http://127.0.0.1:5001/#/experiments/1/runs/82d3dcc7a8d54b6881422d01e3b058f0\n",
      "🧪 View experiment at: http://127.0.0.1:5001/#/experiments/1\n",
      "2 --> train_loss: 6.773 | train_accuracy: -inf | val_loss: 7.3961 | val_accuracy: -12.4974\n",
      "🏃 View run Fold-2 at: http://127.0.0.1:5001/#/experiments/1/runs/da4a2108b45f4f2d95690ce417f24da1\n",
      "🧪 View experiment at: http://127.0.0.1:5001/#/experiments/1\n",
      "3 --> train_loss: 7.120 | train_accuracy: -inf | val_loss: 7.5613 | val_accuracy: -12.7142\n",
      "🏃 View run Fold-3 at: http://127.0.0.1:5001/#/experiments/1/runs/cf9728ce01dc480e8b61c617e77f0dab\n",
      "🧪 View experiment at: http://127.0.0.1:5001/#/experiments/1\n"
     ]
    },
    {
     "name": "stderr",
     "output_type": "stream",
     "text": [
      "2025/02/03 03:37:07 WARNING mlflow.models.signature: Failed to infer schema for outputs. Setting schema to `Schema([ColSpec(type=AnyType())]` as default. To see the full traceback, set logging level to DEBUG.\n",
      "2025/02/03 03:37:07 WARNING mlflow.sklearn: Model was missing function: predict. Not logging python_function flavor!\n"
     ]
    },
    {
     "name": "stdout",
     "output_type": "stream",
     "text": [
      "4 --> train_loss: 7.303 | train_accuracy: -inf | val_loss: 9.6037 | val_accuracy: -16.0199\n",
      "🏃 View run Fold-4 at: http://127.0.0.1:5001/#/experiments/1/runs/81f38b17877d4cafb14cb9e6a897f703\n",
      "🧪 View experiment at: http://127.0.0.1:5001/#/experiments/1\n",
      "✅ Fold: stochastic | Model: RidgeRegression | MSE: 7.3299 | R²: -11.5419\n",
      "🏃 View run method-stochastic-lr-0.0001-reg-RidgeRegression-poly-Polynomial-momentum-Momentum is not used-weight-xavier at: http://127.0.0.1:5001/#/experiments/1/runs/1f26c7a715a04ff393c07bf0184bed91\n",
      "🧪 View experiment at: http://127.0.0.1:5001/#/experiments/1\n",
      " Running RidgeRegression | stochastic | Polynomial | xavier | Momentum is used | LR: 0.01\n",
      "(5330,)\n",
      "torch.Size([5330, 90])\n",
      "0 --> train_loss: 2967.728 | train_accuracy: -inf | val_loss: 4538.1460 | val_accuracy: -7932.8604\n",
      "🏃 View run Fold-0 at: http://127.0.0.1:5001/#/experiments/1/runs/50cdc607ed4b47fc814bb2846ff6d442\n",
      "🧪 View experiment at: http://127.0.0.1:5001/#/experiments/1\n",
      "1 --> train_loss: 1755.747 | train_accuracy: -inf | val_loss: 1545.0016 | val_accuracy: -2947.6138\n",
      "🏃 View run Fold-1 at: http://127.0.0.1:5001/#/experiments/1/runs/79a286bbcf984ba89a806907b6b1f5be\n",
      "🧪 View experiment at: http://127.0.0.1:5001/#/experiments/1\n",
      "2 --> train_loss: 4416.546 | train_accuracy: -inf | val_loss: 17.5629 | val_accuracy: -31.0514\n",
      "🏃 View run Fold-2 at: http://127.0.0.1:5001/#/experiments/1/runs/fc3dec9f66cf49ffa201b606621d12b0\n",
      "🧪 View experiment at: http://127.0.0.1:5001/#/experiments/1\n",
      "3 --> train_loss: 4697.168 | train_accuracy: -inf | val_loss: 2406.3267 | val_accuracy: -4363.4492\n",
      "🏃 View run Fold-3 at: http://127.0.0.1:5001/#/experiments/1/runs/f6833ad80d9b435da118a5d16c7fa0e9\n",
      "🧪 View experiment at: http://127.0.0.1:5001/#/experiments/1\n"
     ]
    },
    {
     "name": "stderr",
     "output_type": "stream",
     "text": [
      "2025/02/03 03:39:30 WARNING mlflow.models.signature: Failed to infer schema for outputs. Setting schema to `Schema([ColSpec(type=AnyType())]` as default. To see the full traceback, set logging level to DEBUG.\n",
      "2025/02/03 03:39:30 WARNING mlflow.sklearn: Model was missing function: predict. Not logging python_function flavor!\n"
     ]
    },
    {
     "name": "stdout",
     "output_type": "stream",
     "text": [
      "4 --> train_loss: 3971.344 | train_accuracy: -inf | val_loss: 11271.5879 | val_accuracy: -19974.8125\n",
      "🏃 View run Fold-4 at: http://127.0.0.1:5001/#/experiments/1/runs/263126a5534649109cddc70332df6f1b\n",
      "🧪 View experiment at: http://127.0.0.1:5001/#/experiments/1\n",
      "✅ Fold: stochastic | Model: RidgeRegression | MSE: 3319.5352 | R²: -5678.9238\n",
      "🏃 View run method-stochastic-lr-0.01-reg-RidgeRegression-poly-Polynomial-momentum-Momentum is used-weight-xavier at: http://127.0.0.1:5001/#/experiments/1/runs/f79f0c9091d54e1ebe5bf49242e53d58\n",
      "🧪 View experiment at: http://127.0.0.1:5001/#/experiments/1\n",
      " Running RidgeRegression | stochastic | Polynomial | xavier | Momentum is used | LR: 0.001\n",
      "(5330,)\n",
      "torch.Size([5330, 90])\n",
      "0 --> train_loss: 6.948 | train_accuracy: -inf | val_loss: 7.7185 | val_accuracy: -12.4940\n",
      "🏃 View run Fold-0 at: http://127.0.0.1:5001/#/experiments/1/runs/095a448ed79f43e9953607482c273ed3\n",
      "🧪 View experiment at: http://127.0.0.1:5001/#/experiments/1\n",
      "1 --> train_loss: 7.916 | train_accuracy: -inf | val_loss: 6.5795 | val_accuracy: -11.5568\n",
      "🏃 View run Fold-1 at: http://127.0.0.1:5001/#/experiments/1/runs/0efd66f6a1a642b2a8f372f62ab4b751\n",
      "🧪 View experiment at: http://127.0.0.1:5001/#/experiments/1\n",
      "2 --> train_loss: 7.195 | train_accuracy: -inf | val_loss: 7.4739 | val_accuracy: -12.6395\n",
      "🏃 View run Fold-2 at: http://127.0.0.1:5001/#/experiments/1/runs/ca18d55e209047a5a7a8d88d67312ad3\n",
      "🧪 View experiment at: http://127.0.0.1:5001/#/experiments/1\n",
      "3 --> train_loss: 7.098 | train_accuracy: -inf | val_loss: 8.0096 | val_accuracy: -13.5273\n",
      "🏃 View run Fold-3 at: http://127.0.0.1:5001/#/experiments/1/runs/7d60e07978d1465698a832bc26cc95c1\n",
      "🧪 View experiment at: http://127.0.0.1:5001/#/experiments/1\n"
     ]
    },
    {
     "name": "stderr",
     "output_type": "stream",
     "text": [
      "2025/02/03 03:41:52 WARNING mlflow.models.signature: Failed to infer schema for outputs. Setting schema to `Schema([ColSpec(type=AnyType())]` as default. To see the full traceback, set logging level to DEBUG.\n",
      "2025/02/03 03:41:52 WARNING mlflow.sklearn: Model was missing function: predict. Not logging python_function flavor!\n"
     ]
    },
    {
     "name": "stdout",
     "output_type": "stream",
     "text": [
      "4 --> train_loss: 6.916 | train_accuracy: -inf | val_loss: 8.8875 | val_accuracy: -14.7506\n",
      "🏃 View run Fold-4 at: http://127.0.0.1:5001/#/experiments/1/runs/6f8d1e391e2648f08abc9c08e84a4d0e\n",
      "🧪 View experiment at: http://127.0.0.1:5001/#/experiments/1\n",
      "✅ Fold: stochastic | Model: RidgeRegression | MSE: 7.8514 | R²: -12.4343\n",
      "🏃 View run method-stochastic-lr-0.001-reg-RidgeRegression-poly-Polynomial-momentum-Momentum is used-weight-xavier at: http://127.0.0.1:5001/#/experiments/1/runs/93304fcc5a414d2883eabcbe313a825f\n",
      "🧪 View experiment at: http://127.0.0.1:5001/#/experiments/1\n",
      " Running RidgeRegression | stochastic | Polynomial | xavier | Momentum is used | LR: 0.0001\n",
      "(5330,)\n",
      "torch.Size([5330, 90])\n",
      "0 --> train_loss: 9.325 | train_accuracy: -inf | val_loss: 7.6754 | val_accuracy: -12.4186\n",
      "🏃 View run Fold-0 at: http://127.0.0.1:5001/#/experiments/1/runs/3caa05c12a3e42c59068f779d287f4c2\n",
      "🧪 View experiment at: http://127.0.0.1:5001/#/experiments/1\n",
      "1 --> train_loss: 8.267 | train_accuracy: -inf | val_loss: 6.6289 | val_accuracy: -11.6511\n",
      "🏃 View run Fold-1 at: http://127.0.0.1:5001/#/experiments/1/runs/e122d88740a94e56b19f5ba57a3008ea\n",
      "🧪 View experiment at: http://127.0.0.1:5001/#/experiments/1\n",
      "2 --> train_loss: 8.024 | train_accuracy: -inf | val_loss: 7.5259 | val_accuracy: -12.7344\n",
      "🏃 View run Fold-2 at: http://127.0.0.1:5001/#/experiments/1/runs/833280995b844794b09d9135b04caf65\n",
      "🧪 View experiment at: http://127.0.0.1:5001/#/experiments/1\n",
      "3 --> train_loss: 8.109 | train_accuracy: -inf | val_loss: 7.4372 | val_accuracy: -12.4891\n",
      "🏃 View run Fold-3 at: http://127.0.0.1:5001/#/experiments/1/runs/1d2cd85ffde54d839873008e5a5f1f18\n",
      "🧪 View experiment at: http://127.0.0.1:5001/#/experiments/1\n"
     ]
    },
    {
     "name": "stderr",
     "output_type": "stream",
     "text": [
      "2025/02/03 03:44:15 WARNING mlflow.models.signature: Failed to infer schema for outputs. Setting schema to `Schema([ColSpec(type=AnyType())]` as default. To see the full traceback, set logging level to DEBUG.\n",
      "2025/02/03 03:44:15 WARNING mlflow.sklearn: Model was missing function: predict. Not logging python_function flavor!\n"
     ]
    },
    {
     "name": "stdout",
     "output_type": "stream",
     "text": [
      "4 --> train_loss: 7.998 | train_accuracy: -inf | val_loss: 9.1809 | val_accuracy: -15.2706\n",
      "🏃 View run Fold-4 at: http://127.0.0.1:5001/#/experiments/1/runs/e22b346fa6d94d16a999b589d1b423cb\n",
      "🧪 View experiment at: http://127.0.0.1:5001/#/experiments/1\n",
      "✅ Fold: stochastic | Model: RidgeRegression | MSE: 7.4431 | R²: -11.7356\n",
      "🏃 View run method-stochastic-lr-0.0001-reg-RidgeRegression-poly-Polynomial-momentum-Momentum is used-weight-xavier at: http://127.0.0.1:5001/#/experiments/1/runs/f3b20c741f9f464086bba1954080a77d\n",
      "🧪 View experiment at: http://127.0.0.1:5001/#/experiments/1\n",
      " Running RidgeRegression | mini_batch | Linear | zeros | Momentum is not used | LR: 0.01\n",
      "(5330,)\n",
      "torch.Size([5330, 12])\n",
      "0 --> train_loss: 16.554 | train_accuracy: -31.1651 | val_loss: 16.8811 | val_accuracy: -28.5125\n",
      "🏃 View run Fold-0 at: http://127.0.0.1:5001/#/experiments/1/runs/9c03660fec564612887a5ecb4d0a7798\n",
      "🧪 View experiment at: http://127.0.0.1:5001/#/experiments/1\n",
      "1 --> train_loss: 16.469 | train_accuracy: -31.5414 | val_loss: 16.2568 | val_accuracy: -30.0258\n",
      "🏃 View run Fold-1 at: http://127.0.0.1:5001/#/experiments/1/runs/b6b9532ec2664b839666c94301683fad\n",
      "🧪 View experiment at: http://127.0.0.1:5001/#/experiments/1\n",
      "2 --> train_loss: 16.526 | train_accuracy: -31.6670 | val_loss: 16.4703 | val_accuracy: -29.0574\n",
      "🏃 View run Fold-2 at: http://127.0.0.1:5001/#/experiments/1/runs/f272666521d048e5a2b37e3e37488746\n",
      "🧪 View experiment at: http://127.0.0.1:5001/#/experiments/1\n",
      "3 --> train_loss: 16.535 | train_accuracy: -31.7329 | val_loss: 16.1231 | val_accuracy: -28.2431\n",
      "🏃 View run Fold-3 at: http://127.0.0.1:5001/#/experiments/1/runs/86a42cdef44d4cfe8cbb171d8bb00a30\n",
      "🧪 View experiment at: http://127.0.0.1:5001/#/experiments/1\n"
     ]
    },
    {
     "name": "stderr",
     "output_type": "stream",
     "text": [
      "2025/02/03 03:44:25 WARNING mlflow.models.signature: Failed to infer schema for outputs. Setting schema to `Schema([ColSpec(type=AnyType())]` as default. To see the full traceback, set logging level to DEBUG.\n",
      "2025/02/03 03:44:25 WARNING mlflow.sklearn: Model was missing function: predict. Not logging python_function flavor!\n"
     ]
    },
    {
     "name": "stdout",
     "output_type": "stream",
     "text": [
      "4 --> train_loss: 16.566 | train_accuracy: -31.9098 | val_loss: 17.0490 | val_accuracy: -29.2147\n",
      "🏃 View run Fold-4 at: http://127.0.0.1:5001/#/experiments/1/runs/4c5a7102f7c24a78aaae34281897a270\n",
      "🧪 View experiment at: http://127.0.0.1:5001/#/experiments/1\n",
      "✅ Fold: mini_batch | Model: RidgeRegression | MSE: 16.6477 | R²: -27.4852\n",
      "🏃 View run method-mini_batch-lr-0.01-reg-RidgeRegression-poly-Linear-momentum-Momentum is not used-weight-zeros at: http://127.0.0.1:5001/#/experiments/1/runs/ad412d0189bc41dca52d8fe500581975\n",
      "🧪 View experiment at: http://127.0.0.1:5001/#/experiments/1\n",
      " Running RidgeRegression | mini_batch | Linear | zeros | Momentum is not used | LR: 0.001\n",
      "(5330,)\n",
      "torch.Size([5330, 12])\n",
      "0 --> train_loss: 19.002 | train_accuracy: -36.0086 | val_loss: 16.9366 | val_accuracy: -28.6096\n",
      "🏃 View run Fold-0 at: http://127.0.0.1:5001/#/experiments/1/runs/c7bb8049109f4ccb94e745d51d8c3b0f\n",
      "🧪 View experiment at: http://127.0.0.1:5001/#/experiments/1\n",
      "1 --> train_loss: 17.709 | train_accuracy: -33.2256 | val_loss: 16.2339 | val_accuracy: -29.9821\n",
      "🏃 View run Fold-1 at: http://127.0.0.1:5001/#/experiments/1/runs/23c4e8e2f1004011bac9eed5390c5280\n",
      "🧪 View experiment at: http://127.0.0.1:5001/#/experiments/1\n",
      "2 --> train_loss: 17.320 | train_accuracy: -32.6948 | val_loss: 16.5393 | val_accuracy: -29.1833\n",
      "🏃 View run Fold-2 at: http://127.0.0.1:5001/#/experiments/1/runs/e52eb5a397d847fd8affaf5f506a3d99\n",
      "🧪 View experiment at: http://127.0.0.1:5001/#/experiments/1\n",
      "3 --> train_loss: 17.154 | train_accuracy: -32.3685 | val_loss: 16.1058 | val_accuracy: -28.2117\n",
      "🏃 View run Fold-3 at: http://127.0.0.1:5001/#/experiments/1/runs/d9b2770d45b84f7885cf95268de81bd9\n",
      "🧪 View experiment at: http://127.0.0.1:5001/#/experiments/1\n"
     ]
    },
    {
     "name": "stderr",
     "output_type": "stream",
     "text": [
      "2025/02/03 03:44:35 WARNING mlflow.models.signature: Failed to infer schema for outputs. Setting schema to `Schema([ColSpec(type=AnyType())]` as default. To see the full traceback, set logging level to DEBUG.\n",
      "2025/02/03 03:44:35 WARNING mlflow.sklearn: Model was missing function: predict. Not logging python_function flavor!\n"
     ]
    },
    {
     "name": "stdout",
     "output_type": "stream",
     "text": [
      "4 --> train_loss: 17.025 | train_accuracy: -32.2642 | val_loss: 17.1435 | val_accuracy: -29.3822\n",
      "🏃 View run Fold-4 at: http://127.0.0.1:5001/#/experiments/1/runs/b187dea4ef88499e83b8900526f2fe91\n",
      "🧪 View experiment at: http://127.0.0.1:5001/#/experiments/1\n",
      "✅ Fold: mini_batch | Model: RidgeRegression | MSE: 16.7308 | R²: -27.6274\n",
      "🏃 View run method-mini_batch-lr-0.001-reg-RidgeRegression-poly-Linear-momentum-Momentum is not used-weight-zeros at: http://127.0.0.1:5001/#/experiments/1/runs/65bae8f15ae548ffb1e26d524841953a\n",
      "🧪 View experiment at: http://127.0.0.1:5001/#/experiments/1\n",
      " Running RidgeRegression | mini_batch | Linear | zeros | Momentum is not used | LR: 0.0001\n",
      "(5330,)\n",
      "torch.Size([5330, 12])\n",
      "0 --> train_loss: 45.311 | train_accuracy: -91.5278 | val_loss: 18.9411 | val_accuracy: -32.1140\n",
      "🏃 View run Fold-0 at: http://127.0.0.1:5001/#/experiments/1/runs/b2f26a1cc80b4930aa493b5170fc9f05\n",
      "🧪 View experiment at: http://127.0.0.1:5001/#/experiments/1\n",
      "1 --> train_loss: 31.305 | train_accuracy: -62.0064 | val_loss: 16.3297 | val_accuracy: -30.1651\n",
      "🏃 View run Fold-1 at: http://127.0.0.1:5001/#/experiments/1/runs/a7457f7365dc40c59aed39c208fda775\n",
      "🧪 View experiment at: http://127.0.0.1:5001/#/experiments/1\n",
      "2 --> train_loss: 26.395 | train_accuracy: -52.3303 | val_loss: 16.5580 | val_accuracy: -29.2175\n",
      "🏃 View run Fold-2 at: http://127.0.0.1:5001/#/experiments/1/runs/d6a54b92bb1d48aa931fe8bf24b8f989\n",
      "🧪 View experiment at: http://127.0.0.1:5001/#/experiments/1\n",
      "3 --> train_loss: 23.973 | train_accuracy: -47.6934 | val_loss: 16.0933 | val_accuracy: -28.1890\n",
      "🏃 View run Fold-3 at: http://127.0.0.1:5001/#/experiments/1/runs/a0fc8c807b4c4fea8563ced79b107398\n",
      "🧪 View experiment at: http://127.0.0.1:5001/#/experiments/1\n"
     ]
    },
    {
     "name": "stderr",
     "output_type": "stream",
     "text": [
      "2025/02/03 03:44:44 WARNING mlflow.models.signature: Failed to infer schema for outputs. Setting schema to `Schema([ColSpec(type=AnyType())]` as default. To see the full traceback, set logging level to DEBUG.\n",
      "2025/02/03 03:44:44 WARNING mlflow.sklearn: Model was missing function: predict. Not logging python_function flavor!\n"
     ]
    },
    {
     "name": "stdout",
     "output_type": "stream",
     "text": [
      "4 --> train_loss: 22.487 | train_accuracy: -44.7371 | val_loss: 17.0998 | val_accuracy: -29.3047\n",
      "🏃 View run Fold-4 at: http://127.0.0.1:5001/#/experiments/1/runs/969b519b12254b518761839d88ab3a17\n",
      "🧪 View experiment at: http://127.0.0.1:5001/#/experiments/1\n",
      "✅ Fold: mini_batch | Model: RidgeRegression | MSE: 16.7022 | R²: -27.5784\n",
      "🏃 View run method-mini_batch-lr-0.0001-reg-RidgeRegression-poly-Linear-momentum-Momentum is not used-weight-zeros at: http://127.0.0.1:5001/#/experiments/1/runs/2c8f455644b74266852724b4a81680ae\n",
      "🧪 View experiment at: http://127.0.0.1:5001/#/experiments/1\n",
      " Running RidgeRegression | mini_batch | Linear | zeros | Momentum is used | LR: 0.01\n",
      "(5330,)\n",
      "torch.Size([5330, 12])\n",
      "0 --> train_loss: 17.513 | train_accuracy: -34.7093 | val_loss: 16.9402 | val_accuracy: -28.6159\n",
      "🏃 View run Fold-0 at: http://127.0.0.1:5001/#/experiments/1/runs/0e30276cb81f4acbb24aa507f50c3bc0\n",
      "🧪 View experiment at: http://127.0.0.1:5001/#/experiments/1\n",
      "1 --> train_loss: 17.156 | train_accuracy: -33.4235 | val_loss: 16.2625 | val_accuracy: -30.0368\n",
      "🏃 View run Fold-1 at: http://127.0.0.1:5001/#/experiments/1/runs/8b3518973c924ea2afaae914c828e65a\n",
      "🧪 View experiment at: http://127.0.0.1:5001/#/experiments/1\n",
      "2 --> train_loss: 16.923 | train_accuracy: -32.3778 | val_loss: 16.5535 | val_accuracy: -29.2093\n",
      "🏃 View run Fold-2 at: http://127.0.0.1:5001/#/experiments/1/runs/1357c58ad18e4711b116e78311320355\n",
      "🧪 View experiment at: http://127.0.0.1:5001/#/experiments/1\n",
      "3 --> train_loss: 16.910 | train_accuracy: -32.4606 | val_loss: 16.1074 | val_accuracy: -28.2146\n",
      "🏃 View run Fold-3 at: http://127.0.0.1:5001/#/experiments/1/runs/7352b5ce169841d28367fa24e5121099\n",
      "🧪 View experiment at: http://127.0.0.1:5001/#/experiments/1\n"
     ]
    },
    {
     "name": "stderr",
     "output_type": "stream",
     "text": [
      "2025/02/03 03:44:54 WARNING mlflow.models.signature: Failed to infer schema for outputs. Setting schema to `Schema([ColSpec(type=AnyType())]` as default. To see the full traceback, set logging level to DEBUG.\n",
      "2025/02/03 03:44:54 WARNING mlflow.sklearn: Model was missing function: predict. Not logging python_function flavor!\n"
     ]
    },
    {
     "name": "stdout",
     "output_type": "stream",
     "text": [
      "4 --> train_loss: 16.825 | train_accuracy: -32.2494 | val_loss: 17.1305 | val_accuracy: -29.3591\n",
      "🏃 View run Fold-4 at: http://127.0.0.1:5001/#/experiments/1/runs/d837befc69ac46af829bb437be5354ef\n",
      "🧪 View experiment at: http://127.0.0.1:5001/#/experiments/1\n",
      "✅ Fold: mini_batch | Model: RidgeRegression | MSE: 16.7200 | R²: -27.6089\n",
      "🏃 View run method-mini_batch-lr-0.01-reg-RidgeRegression-poly-Linear-momentum-Momentum is used-weight-zeros at: http://127.0.0.1:5001/#/experiments/1/runs/a60ca9162fef484c8d0c87de18cf8b97\n",
      "🧪 View experiment at: http://127.0.0.1:5001/#/experiments/1\n",
      " Running RidgeRegression | mini_batch | Linear | zeros | Momentum is used | LR: 0.001\n",
      "(5330,)\n",
      "torch.Size([5330, 12])\n",
      "0 --> train_loss: 30.552 | train_accuracy: -60.6957 | val_loss: 17.0373 | val_accuracy: -28.7856\n",
      "🏃 View run Fold-0 at: http://127.0.0.1:5001/#/experiments/1/runs/9ea4321876ba40cca7a1a1367a3dcd90\n",
      "🧪 View experiment at: http://127.0.0.1:5001/#/experiments/1\n",
      "1 --> train_loss: 23.574 | train_accuracy: -45.7963 | val_loss: 16.2369 | val_accuracy: -29.9878\n",
      "🏃 View run Fold-1 at: http://127.0.0.1:5001/#/experiments/1/runs/1092a6f0de78416b828ffe7b28cd543c\n",
      "🧪 View experiment at: http://127.0.0.1:5001/#/experiments/1\n",
      "2 --> train_loss: 21.201 | train_accuracy: -40.9288 | val_loss: 16.5430 | val_accuracy: -29.1900\n",
      "🏃 View run Fold-2 at: http://127.0.0.1:5001/#/experiments/1/runs/7617cc2538af4749ae23ba73402edf20\n",
      "🧪 View experiment at: http://127.0.0.1:5001/#/experiments/1\n",
      "3 --> train_loss: 19.985 | train_accuracy: -38.9377 | val_loss: 16.0990 | val_accuracy: -28.1994\n",
      "🏃 View run Fold-3 at: http://127.0.0.1:5001/#/experiments/1/runs/c78ab976287646efae3f63ff6f213914\n",
      "🧪 View experiment at: http://127.0.0.1:5001/#/experiments/1\n"
     ]
    },
    {
     "name": "stderr",
     "output_type": "stream",
     "text": [
      "2025/02/03 03:45:03 WARNING mlflow.models.signature: Failed to infer schema for outputs. Setting schema to `Schema([ColSpec(type=AnyType())]` as default. To see the full traceback, set logging level to DEBUG.\n",
      "2025/02/03 03:45:03 WARNING mlflow.sklearn: Model was missing function: predict. Not logging python_function flavor!\n"
     ]
    },
    {
     "name": "stdout",
     "output_type": "stream",
     "text": [
      "4 --> train_loss: 19.284 | train_accuracy: -37.5695 | val_loss: 17.1333 | val_accuracy: -29.3640\n",
      "🏃 View run Fold-4 at: http://127.0.0.1:5001/#/experiments/1/runs/1cd49c49d1d14464ad9fea24c540d765\n",
      "🧪 View experiment at: http://127.0.0.1:5001/#/experiments/1\n",
      "✅ Fold: mini_batch | Model: RidgeRegression | MSE: 16.7252 | R²: -27.6179\n",
      "🏃 View run method-mini_batch-lr-0.001-reg-RidgeRegression-poly-Linear-momentum-Momentum is used-weight-zeros at: http://127.0.0.1:5001/#/experiments/1/runs/7a2443428b0046bc8e720fe26e56cf4c\n",
      "🧪 View experiment at: http://127.0.0.1:5001/#/experiments/1\n",
      " Running RidgeRegression | mini_batch | Linear | zeros | Momentum is used | LR: 0.0001\n",
      "(5330,)\n",
      "torch.Size([5330, 12])\n",
      "0 --> train_loss: 107.221 | train_accuracy: -210.6899 | val_loss: 68.3139 | val_accuracy: -118.4305\n",
      "🏃 View run Fold-0 at: http://127.0.0.1:5001/#/experiments/1/runs/41414295de6b43fdb00aaab92e7a2441\n",
      "🧪 View experiment at: http://127.0.0.1:5001/#/experiments/1\n",
      "1 --> train_loss: 78.436 | train_accuracy: -153.6722 | val_loss: 36.3885 | val_accuracy: -68.4470\n",
      "🏃 View run Fold-1 at: http://127.0.0.1:5001/#/experiments/1/runs/2eced1d47ad7497ea8a4326f9f5be91d\n",
      "🧪 View experiment at: http://127.0.0.1:5001/#/experiments/1\n",
      "2 --> train_loss: 62.356 | train_accuracy: -122.2441 | val_loss: 25.1633 | val_accuracy: -44.9218\n",
      "🏃 View run Fold-2 at: http://127.0.0.1:5001/#/experiments/1/runs/cb65ea1d1b77464d8ef60e31093e6a02\n",
      "🧪 View experiment at: http://127.0.0.1:5001/#/experiments/1\n",
      "3 --> train_loss: 52.487 | train_accuracy: -102.6966 | val_loss: 20.0599 | val_accuracy: -35.3834\n",
      "🏃 View run Fold-3 at: http://127.0.0.1:5001/#/experiments/1/runs/af6a33b61a93461f8b5cf46bbdb7c130\n",
      "🧪 View experiment at: http://127.0.0.1:5001/#/experiments/1\n"
     ]
    },
    {
     "name": "stderr",
     "output_type": "stream",
     "text": [
      "2025/02/03 03:45:13 WARNING mlflow.models.signature: Failed to infer schema for outputs. Setting schema to `Schema([ColSpec(type=AnyType())]` as default. To see the full traceback, set logging level to DEBUG.\n",
      "2025/02/03 03:45:13 WARNING mlflow.sklearn: Model was missing function: predict. Not logging python_function flavor!\n"
     ]
    },
    {
     "name": "stdout",
     "output_type": "stream",
     "text": [
      "4 --> train_loss: 45.914 | train_accuracy: -89.7712 | val_loss: 19.0660 | val_accuracy: -32.7892\n",
      "🏃 View run Fold-4 at: http://127.0.0.1:5001/#/experiments/1/runs/809eca95aefa4374b14ecffdfa76ba36\n",
      "🧪 View experiment at: http://127.0.0.1:5001/#/experiments/1\n",
      "✅ Fold: mini_batch | Model: RidgeRegression | MSE: 18.6210 | R²: -30.8617\n",
      "🏃 View run method-mini_batch-lr-0.0001-reg-RidgeRegression-poly-Linear-momentum-Momentum is used-weight-zeros at: http://127.0.0.1:5001/#/experiments/1/runs/8279ecee8aae4a3580036c5a6c62d6b7\n",
      "🧪 View experiment at: http://127.0.0.1:5001/#/experiments/1\n",
      " Running RidgeRegression | mini_batch | Linear | xavier | Momentum is not used | LR: 0.01\n",
      "(5330,)\n",
      "torch.Size([5330, 12])\n",
      "0 --> train_loss: 16.621 | train_accuracy: -32.9839 | val_loss: 16.9255 | val_accuracy: -28.5901\n",
      "🏃 View run Fold-0 at: http://127.0.0.1:5001/#/experiments/1/runs/1905e8a2447a4434af40e6cbee78b6e4\n",
      "🧪 View experiment at: http://127.0.0.1:5001/#/experiments/1\n",
      "1 --> train_loss: 16.493 | train_accuracy: -32.5706 | val_loss: 16.2159 | val_accuracy: -29.9478\n",
      "🏃 View run Fold-1 at: http://127.0.0.1:5001/#/experiments/1/runs/da6cd23346e745c4ac77b546b93f457e\n",
      "🧪 View experiment at: http://127.0.0.1:5001/#/experiments/1\n",
      "2 --> train_loss: 16.478 | train_accuracy: -32.2711 | val_loss: 16.5179 | val_accuracy: -29.1442\n",
      "🏃 View run Fold-2 at: http://127.0.0.1:5001/#/experiments/1/runs/2a381967c45d4931a7487616fc4d09eb\n",
      "🧪 View experiment at: http://127.0.0.1:5001/#/experiments/1\n",
      "3 --> train_loss: 16.511 | train_accuracy: -32.4352 | val_loss: 16.1007 | val_accuracy: -28.2025\n",
      "🏃 View run Fold-3 at: http://127.0.0.1:5001/#/experiments/1/runs/bc194703079d4b52bbb20cac1b2fe3f3\n",
      "🧪 View experiment at: http://127.0.0.1:5001/#/experiments/1\n"
     ]
    },
    {
     "name": "stderr",
     "output_type": "stream",
     "text": [
      "2025/02/03 03:45:23 WARNING mlflow.models.signature: Failed to infer schema for outputs. Setting schema to `Schema([ColSpec(type=AnyType())]` as default. To see the full traceback, set logging level to DEBUG.\n",
      "2025/02/03 03:45:23 WARNING mlflow.sklearn: Model was missing function: predict. Not logging python_function flavor!\n"
     ]
    },
    {
     "name": "stdout",
     "output_type": "stream",
     "text": [
      "4 --> train_loss: 16.499 | train_accuracy: -32.6434 | val_loss: 17.2327 | val_accuracy: -29.5402\n",
      "🏃 View run Fold-4 at: http://127.0.0.1:5001/#/experiments/1/runs/fee0b22a92624b45a7f3fddc84a9851e\n",
      "🧪 View experiment at: http://127.0.0.1:5001/#/experiments/1\n",
      "✅ Fold: mini_batch | Model: RidgeRegression | MSE: 16.8029 | R²: -27.7508\n",
      "🏃 View run method-mini_batch-lr-0.01-reg-RidgeRegression-poly-Linear-momentum-Momentum is not used-weight-xavier at: http://127.0.0.1:5001/#/experiments/1/runs/a8342a1da78240b2a1b1c0b99508da38\n",
      "🧪 View experiment at: http://127.0.0.1:5001/#/experiments/1\n",
      " Running RidgeRegression | mini_batch | Linear | xavier | Momentum is not used | LR: 0.001\n",
      "(5330,)\n",
      "torch.Size([5330, 12])\n",
      "0 --> train_loss: 20.171 | train_accuracy: -38.8732 | val_loss: 16.9417 | val_accuracy: -28.6186\n",
      "🏃 View run Fold-0 at: http://127.0.0.1:5001/#/experiments/1/runs/4297e0c7a1c4469d8f0c77cf5d4360b1\n",
      "🧪 View experiment at: http://127.0.0.1:5001/#/experiments/1\n",
      "1 --> train_loss: 18.348 | train_accuracy: -35.6043 | val_loss: 16.2357 | val_accuracy: -29.9856\n",
      "🏃 View run Fold-1 at: http://127.0.0.1:5001/#/experiments/1/runs/d1b0962f9ea144f8863653b2b0f22783\n",
      "🧪 View experiment at: http://127.0.0.1:5001/#/experiments/1\n",
      "2 --> train_loss: 17.694 | train_accuracy: -34.1016 | val_loss: 16.5434 | val_accuracy: -29.1909\n",
      "🏃 View run Fold-2 at: http://127.0.0.1:5001/#/experiments/1/runs/dfe819215de4402d9f8d76cf3f63b706\n",
      "🧪 View experiment at: http://127.0.0.1:5001/#/experiments/1\n",
      "3 --> train_loss: 17.304 | train_accuracy: -33.3395 | val_loss: 16.1043 | val_accuracy: -28.2090\n",
      "🏃 View run Fold-3 at: http://127.0.0.1:5001/#/experiments/1/runs/a5c364c635ca4e3fbcc13561ff9bc034\n",
      "🧪 View experiment at: http://127.0.0.1:5001/#/experiments/1\n"
     ]
    },
    {
     "name": "stderr",
     "output_type": "stream",
     "text": [
      "2025/02/03 03:45:32 WARNING mlflow.models.signature: Failed to infer schema for outputs. Setting schema to `Schema([ColSpec(type=AnyType())]` as default. To see the full traceback, set logging level to DEBUG.\n",
      "2025/02/03 03:45:32 WARNING mlflow.sklearn: Model was missing function: predict. Not logging python_function flavor!\n"
     ]
    },
    {
     "name": "stdout",
     "output_type": "stream",
     "text": [
      "4 --> train_loss: 17.131 | train_accuracy: -32.9815 | val_loss: 17.1371 | val_accuracy: -29.3709\n",
      "🏃 View run Fold-4 at: http://127.0.0.1:5001/#/experiments/1/runs/25d75418db9445c4ba07ad3654edeb64\n",
      "🧪 View experiment at: http://127.0.0.1:5001/#/experiments/1\n",
      "✅ Fold: mini_batch | Model: RidgeRegression | MSE: 16.7265 | R²: -27.6200\n",
      "🏃 View run method-mini_batch-lr-0.001-reg-RidgeRegression-poly-Linear-momentum-Momentum is not used-weight-xavier at: http://127.0.0.1:5001/#/experiments/1/runs/f35666e342fb4c5eb942f6302f3b9541\n",
      "🧪 View experiment at: http://127.0.0.1:5001/#/experiments/1\n",
      " Running RidgeRegression | mini_batch | Linear | xavier | Momentum is not used | LR: 0.0001\n",
      "(5330,)\n",
      "torch.Size([5330, 12])\n",
      "0 --> train_loss: 52.876 | train_accuracy: -106.8842 | val_loss: 19.7216 | val_accuracy: -33.4784\n",
      "🏃 View run Fold-0 at: http://127.0.0.1:5001/#/experiments/1/runs/44b5a8be1c5048b4bdf1a6c1fb5d798d\n",
      "🧪 View experiment at: http://127.0.0.1:5001/#/experiments/1\n",
      "1 --> train_loss: 35.353 | train_accuracy: -70.0134 | val_loss: 16.4234 | val_accuracy: -30.3439\n",
      "🏃 View run Fold-1 at: http://127.0.0.1:5001/#/experiments/1/runs/534caa0957dc4834890c109437dff03e\n",
      "🧪 View experiment at: http://127.0.0.1:5001/#/experiments/1\n",
      "2 --> train_loss: 29.072 | train_accuracy: -57.5579 | val_loss: 16.5774 | val_accuracy: -29.2529\n",
      "🏃 View run Fold-2 at: http://127.0.0.1:5001/#/experiments/1/runs/9bfdc315eb2f490e850e8cdb81f3c18b\n",
      "🧪 View experiment at: http://127.0.0.1:5001/#/experiments/1\n",
      "3 --> train_loss: 25.958 | train_accuracy: -51.2533 | val_loss: 16.0946 | val_accuracy: -28.1915\n",
      "🏃 View run Fold-3 at: http://127.0.0.1:5001/#/experiments/1/runs/eb9d4d9416e045b89583d5e124f7454d\n",
      "🧪 View experiment at: http://127.0.0.1:5001/#/experiments/1\n"
     ]
    },
    {
     "name": "stderr",
     "output_type": "stream",
     "text": [
      "2025/02/03 03:45:41 WARNING mlflow.models.signature: Failed to infer schema for outputs. Setting schema to `Schema([ColSpec(type=AnyType())]` as default. To see the full traceback, set logging level to DEBUG.\n",
      "2025/02/03 03:45:41 WARNING mlflow.sklearn: Model was missing function: predict. Not logging python_function flavor!\n"
     ]
    },
    {
     "name": "stdout",
     "output_type": "stream",
     "text": [
      "4 --> train_loss: 24.105 | train_accuracy: -47.3269 | val_loss: 17.1012 | val_accuracy: -29.3072\n",
      "🏃 View run Fold-4 at: http://127.0.0.1:5001/#/experiments/1/runs/656e111c488943e7b9701b97aaeeeeb6\n",
      "🧪 View experiment at: http://127.0.0.1:5001/#/experiments/1\n",
      "✅ Fold: mini_batch | Model: RidgeRegression | MSE: 16.7038 | R²: -27.5812\n",
      "🏃 View run method-mini_batch-lr-0.0001-reg-RidgeRegression-poly-Linear-momentum-Momentum is not used-weight-xavier at: http://127.0.0.1:5001/#/experiments/1/runs/5e27b29314204cb4937ae7f05dd3c291\n",
      "🧪 View experiment at: http://127.0.0.1:5001/#/experiments/1\n",
      " Running RidgeRegression | mini_batch | Linear | xavier | Momentum is used | LR: 0.01\n",
      "(5330,)\n",
      "torch.Size([5330, 12])\n",
      "0 --> train_loss: 17.815 | train_accuracy: -33.4841 | val_loss: 16.9138 | val_accuracy: -28.5698\n",
      "🏃 View run Fold-0 at: http://127.0.0.1:5001/#/experiments/1/runs/88803eca840646d8a8ad2ef9187b3970\n",
      "🧪 View experiment at: http://127.0.0.1:5001/#/experiments/1\n",
      "1 --> train_loss: 17.226 | train_accuracy: -32.4136 | val_loss: 16.2569 | val_accuracy: -30.0261\n",
      "🏃 View run Fold-1 at: http://127.0.0.1:5001/#/experiments/1/runs/97d87520c88347828cdca46d6801ea52\n",
      "🧪 View experiment at: http://127.0.0.1:5001/#/experiments/1\n",
      "2 --> train_loss: 17.034 | train_accuracy: -32.4474 | val_loss: 16.5474 | val_accuracy: -29.1982\n",
      "🏃 View run Fold-2 at: http://127.0.0.1:5001/#/experiments/1/runs/06e0b1575d8a4ddd8e9886073803f995\n",
      "🧪 View experiment at: http://127.0.0.1:5001/#/experiments/1\n",
      "3 --> train_loss: 16.992 | train_accuracy: -32.7182 | val_loss: 16.1017 | val_accuracy: -28.2043\n",
      "🏃 View run Fold-3 at: http://127.0.0.1:5001/#/experiments/1/runs/4e03d5eb88d54effbe66f7ac6b467b49\n",
      "🧪 View experiment at: http://127.0.0.1:5001/#/experiments/1\n"
     ]
    },
    {
     "name": "stderr",
     "output_type": "stream",
     "text": [
      "2025/02/03 03:45:51 WARNING mlflow.models.signature: Failed to infer schema for outputs. Setting schema to `Schema([ColSpec(type=AnyType())]` as default. To see the full traceback, set logging level to DEBUG.\n",
      "2025/02/03 03:45:51 WARNING mlflow.sklearn: Model was missing function: predict. Not logging python_function flavor!\n"
     ]
    },
    {
     "name": "stdout",
     "output_type": "stream",
     "text": [
      "4 --> train_loss: 16.902 | train_accuracy: -32.5779 | val_loss: 17.1339 | val_accuracy: -29.3651\n",
      "🏃 View run Fold-4 at: http://127.0.0.1:5001/#/experiments/1/runs/40a959cae3344bf7b0057fee56a0690b\n",
      "🧪 View experiment at: http://127.0.0.1:5001/#/experiments/1\n",
      "✅ Fold: mini_batch | Model: RidgeRegression | MSE: 16.7173 | R²: -27.6044\n",
      "🏃 View run method-mini_batch-lr-0.01-reg-RidgeRegression-poly-Linear-momentum-Momentum is used-weight-xavier at: http://127.0.0.1:5001/#/experiments/1/runs/79655b2f7dcb4872b21412343471f0e4\n",
      "🧪 View experiment at: http://127.0.0.1:5001/#/experiments/1\n",
      " Running RidgeRegression | mini_batch | Linear | xavier | Momentum is used | LR: 0.001\n",
      "(5330,)\n",
      "torch.Size([5330, 12])\n",
      "0 --> train_loss: 32.329 | train_accuracy: -65.1566 | val_loss: 17.0884 | val_accuracy: -28.8750\n",
      "🏃 View run Fold-0 at: http://127.0.0.1:5001/#/experiments/1/runs/6efa88225e0f43d4b83f47ff0cdcd94e\n",
      "🧪 View experiment at: http://127.0.0.1:5001/#/experiments/1\n",
      "1 --> train_loss: 24.543 | train_accuracy: -48.3551 | val_loss: 16.2369 | val_accuracy: -29.9879\n",
      "🏃 View run Fold-1 at: http://127.0.0.1:5001/#/experiments/1/runs/3c3ed6299a114048842cf53bb1c24017\n",
      "🧪 View experiment at: http://127.0.0.1:5001/#/experiments/1\n",
      "2 --> train_loss: 21.882 | train_accuracy: -42.8952 | val_loss: 16.5366 | val_accuracy: -29.1783\n",
      "🏃 View run Fold-2 at: http://127.0.0.1:5001/#/experiments/1/runs/f8d70ced8bfb4e6bb9187dd427d7ec4d\n",
      "🧪 View experiment at: http://127.0.0.1:5001/#/experiments/1\n",
      "3 --> train_loss: 20.537 | train_accuracy: -40.3787 | val_loss: 16.0994 | val_accuracy: -28.2002\n",
      "🏃 View run Fold-3 at: http://127.0.0.1:5001/#/experiments/1/runs/5e888fb0bf4148afa586231126768fbc\n",
      "🧪 View experiment at: http://127.0.0.1:5001/#/experiments/1\n"
     ]
    },
    {
     "name": "stderr",
     "output_type": "stream",
     "text": [
      "2025/02/03 03:46:00 WARNING mlflow.models.signature: Failed to infer schema for outputs. Setting schema to `Schema([ColSpec(type=AnyType())]` as default. To see the full traceback, set logging level to DEBUG.\n",
      "2025/02/03 03:46:00 WARNING mlflow.sklearn: Model was missing function: predict. Not logging python_function flavor!\n"
     ]
    },
    {
     "name": "stdout",
     "output_type": "stream",
     "text": [
      "4 --> train_loss: 19.753 | train_accuracy: -38.6421 | val_loss: 17.1317 | val_accuracy: -29.3613\n",
      "🏃 View run Fold-4 at: http://127.0.0.1:5001/#/experiments/1/runs/08b70215f4e34a0480df0d35bc90ba81\n",
      "🧪 View experiment at: http://127.0.0.1:5001/#/experiments/1\n",
      "✅ Fold: mini_batch | Model: RidgeRegression | MSE: 16.7230 | R²: -27.6141\n",
      "🏃 View run method-mini_batch-lr-0.001-reg-RidgeRegression-poly-Linear-momentum-Momentum is used-weight-xavier at: http://127.0.0.1:5001/#/experiments/1/runs/afece1cb19ef42169a4e5b4a6a95b675\n",
      "🧪 View experiment at: http://127.0.0.1:5001/#/experiments/1\n",
      " Running RidgeRegression | mini_batch | Linear | xavier | Momentum is used | LR: 0.0001\n",
      "(5330,)\n",
      "torch.Size([5330, 12])\n",
      "0 --> train_loss: 113.730 | train_accuracy: -231.8839 | val_loss: 71.3340 | val_accuracy: -123.7104\n",
      "🏃 View run Fold-0 at: http://127.0.0.1:5001/#/experiments/1/runs/2f4c5415c06541a185540e4e8e3db7b1\n",
      "🧪 View experiment at: http://127.0.0.1:5001/#/experiments/1\n",
      "1 --> train_loss: 82.680 | train_accuracy: -166.9435 | val_loss: 37.4695 | val_accuracy: -70.5099\n",
      "🏃 View run Fold-1 at: http://127.0.0.1:5001/#/experiments/1/runs/bcef01d1045a4708bdbaca63113b8b20\n",
      "🧪 View experiment at: http://127.0.0.1:5001/#/experiments/1\n",
      "2 --> train_loss: 65.334 | train_accuracy: -131.2338 | val_loss: 25.7606 | val_accuracy: -46.0116\n",
      "🏃 View run Fold-2 at: http://127.0.0.1:5001/#/experiments/1/runs/d5f4e0e03759431992c644a987e4e0de\n",
      "🧪 View experiment at: http://127.0.0.1:5001/#/experiments/1\n",
      "3 --> train_loss: 54.805 | train_accuracy: -109.9561 | val_loss: 20.2397 | val_accuracy: -35.7095\n",
      "🏃 View run Fold-3 at: http://127.0.0.1:5001/#/experiments/1/runs/3b37b90d49d14507a6cc6c4a71735082\n",
      "🧪 View experiment at: http://127.0.0.1:5001/#/experiments/1\n"
     ]
    },
    {
     "name": "stderr",
     "output_type": "stream",
     "text": [
      "2025/02/03 03:46:10 WARNING mlflow.models.signature: Failed to infer schema for outputs. Setting schema to `Schema([ColSpec(type=AnyType())]` as default. To see the full traceback, set logging level to DEBUG.\n",
      "2025/02/03 03:46:10 WARNING mlflow.sklearn: Model was missing function: predict. Not logging python_function flavor!\n"
     ]
    },
    {
     "name": "stdout",
     "output_type": "stream",
     "text": [
      "4 --> train_loss: 47.704 | train_accuracy: -95.5998 | val_loss: 19.2391 | val_accuracy: -33.0960\n",
      "🏃 View run Fold-4 at: http://127.0.0.1:5001/#/experiments/1/runs/91e4d05ec41740d2818a08daa2f7c4f9\n",
      "🧪 View experiment at: http://127.0.0.1:5001/#/experiments/1\n",
      "✅ Fold: mini_batch | Model: RidgeRegression | MSE: 18.7867 | R²: -31.1451\n",
      "🏃 View run method-mini_batch-lr-0.0001-reg-RidgeRegression-poly-Linear-momentum-Momentum is used-weight-xavier at: http://127.0.0.1:5001/#/experiments/1/runs/4133f49c142649709ee8dc0900ec0426\n",
      "🧪 View experiment at: http://127.0.0.1:5001/#/experiments/1\n",
      " Running RidgeRegression | mini_batch | Polynomial | zeros | Momentum is not used | LR: 0.01\n",
      "(5330,)\n",
      "torch.Size([5330, 90])\n",
      "0 --> train_loss: 7.835 | train_accuracy: -14.9178 | val_loss: 7.5639 | val_accuracy: -12.2236\n",
      "🏃 View run Fold-0 at: http://127.0.0.1:5001/#/experiments/1/runs/2f534ad90d714f7a8bdb23fc9999fefd\n",
      "🧪 View experiment at: http://127.0.0.1:5001/#/experiments/1\n",
      "1 --> train_loss: 8.213 | train_accuracy: -15.0655 | val_loss: 6.4999 | val_accuracy: -11.4049\n",
      "🏃 View run Fold-1 at: http://127.0.0.1:5001/#/experiments/1/runs/2211e73b54f240afb4354e69c62f32da\n",
      "🧪 View experiment at: http://127.0.0.1:5001/#/experiments/1\n",
      "2 --> train_loss: 8.451 | train_accuracy: -15.3604 | val_loss: 7.2088 | val_accuracy: -12.1557\n",
      "🏃 View run Fold-2 at: http://127.0.0.1:5001/#/experiments/1/runs/518c62922738497da07bfbeefae4bad0\n",
      "🧪 View experiment at: http://127.0.0.1:5001/#/experiments/1\n",
      "3 --> train_loss: 8.359 | train_accuracy: -15.2893 | val_loss: 7.3704 | val_accuracy: -12.3680\n",
      "🏃 View run Fold-3 at: http://127.0.0.1:5001/#/experiments/1/runs/d5d11a003dc947348a73431465bdd5e2\n",
      "🧪 View experiment at: http://127.0.0.1:5001/#/experiments/1\n"
     ]
    },
    {
     "name": "stderr",
     "output_type": "stream",
     "text": [
      "2025/02/03 03:46:19 WARNING mlflow.models.signature: Failed to infer schema for outputs. Setting schema to `Schema([ColSpec(type=AnyType())]` as default. To see the full traceback, set logging level to DEBUG.\n",
      "2025/02/03 03:46:19 WARNING mlflow.sklearn: Model was missing function: predict. Not logging python_function flavor!\n"
     ]
    },
    {
     "name": "stdout",
     "output_type": "stream",
     "text": [
      "4 --> train_loss: 8.284 | train_accuracy: -15.1534 | val_loss: 9.6976 | val_accuracy: -16.1864\n",
      "🏃 View run Fold-4 at: http://127.0.0.1:5001/#/experiments/1/runs/af0ae640365b4fdba1e49b25b415e8af\n",
      "🧪 View experiment at: http://127.0.0.1:5001/#/experiments/1\n",
      "✅ Fold: mini_batch | Model: RidgeRegression | MSE: 7.3270 | R²: -11.5369\n",
      "🏃 View run method-mini_batch-lr-0.01-reg-RidgeRegression-poly-Polynomial-momentum-Momentum is not used-weight-zeros at: http://127.0.0.1:5001/#/experiments/1/runs/8e5221767a1f4af3a43cd2a0f5152eaf\n",
      "🧪 View experiment at: http://127.0.0.1:5001/#/experiments/1\n",
      " Running RidgeRegression | mini_batch | Polynomial | zeros | Momentum is not used | LR: 0.001\n",
      "(5330,)\n",
      "torch.Size([5330, 90])\n",
      "0 --> train_loss: 8.386 | train_accuracy: -15.1590 | val_loss: 7.6283 | val_accuracy: -12.3362\n",
      "🏃 View run Fold-0 at: http://127.0.0.1:5001/#/experiments/1/runs/d25788d91fbd45a6816ceadfa0f4a936\n",
      "🧪 View experiment at: http://127.0.0.1:5001/#/experiments/1\n",
      "1 --> train_loss: 8.147 | train_accuracy: -14.6268 | val_loss: 6.6363 | val_accuracy: -11.6653\n",
      "🏃 View run Fold-1 at: http://127.0.0.1:5001/#/experiments/1/runs/c595a71b6d4047f792fc68d9183ea7ea\n",
      "🧪 View experiment at: http://127.0.0.1:5001/#/experiments/1\n",
      "2 --> train_loss: 7.895 | train_accuracy: -14.2183 | val_loss: 7.4386 | val_accuracy: -12.5750\n",
      "🏃 View run Fold-2 at: http://127.0.0.1:5001/#/experiments/1/runs/32ac028811db4023ba51c4791049d1c5\n",
      "🧪 View experiment at: http://127.0.0.1:5001/#/experiments/1\n",
      "3 --> train_loss: 7.742 | train_accuracy: -14.1100 | val_loss: 7.4078 | val_accuracy: -12.4358\n",
      "🏃 View run Fold-3 at: http://127.0.0.1:5001/#/experiments/1/runs/82d4bcbaccfe4190b102b7bb8ab027dd\n",
      "🧪 View experiment at: http://127.0.0.1:5001/#/experiments/1\n"
     ]
    },
    {
     "name": "stderr",
     "output_type": "stream",
     "text": [
      "2025/02/03 03:46:29 WARNING mlflow.models.signature: Failed to infer schema for outputs. Setting schema to `Schema([ColSpec(type=AnyType())]` as default. To see the full traceback, set logging level to DEBUG.\n",
      "2025/02/03 03:46:29 WARNING mlflow.sklearn: Model was missing function: predict. Not logging python_function flavor!\n"
     ]
    },
    {
     "name": "stdout",
     "output_type": "stream",
     "text": [
      "4 --> train_loss: 7.711 | train_accuracy: -14.0442 | val_loss: 9.0699 | val_accuracy: -15.0739\n",
      "🏃 View run Fold-4 at: http://127.0.0.1:5001/#/experiments/1/runs/1ef7aca2040540f987f8e574e310ec34\n",
      "🧪 View experiment at: http://127.0.0.1:5001/#/experiments/1\n",
      "✅ Fold: mini_batch | Model: RidgeRegression | MSE: 7.6125 | R²: -12.0255\n",
      "🏃 View run method-mini_batch-lr-0.001-reg-RidgeRegression-poly-Polynomial-momentum-Momentum is not used-weight-zeros at: http://127.0.0.1:5001/#/experiments/1/runs/654d1de6723f44aca14d884f53a1574c\n",
      "🧪 View experiment at: http://127.0.0.1:5001/#/experiments/1\n",
      " Running RidgeRegression | mini_batch | Polynomial | zeros | Momentum is not used | LR: 0.0001\n",
      "(5330,)\n",
      "torch.Size([5330, 90])\n",
      "0 --> train_loss: 16.086 | train_accuracy: -32.0596 | val_loss: 8.2413 | val_accuracy: -13.4079\n",
      "🏃 View run Fold-0 at: http://127.0.0.1:5001/#/experiments/1/runs/b270a93f8bd542319919ac82179d6ace\n",
      "🧪 View experiment at: http://127.0.0.1:5001/#/experiments/1\n",
      "1 --> train_loss: 12.013 | train_accuracy: -23.3164 | val_loss: 6.7731 | val_accuracy: -11.9264\n",
      "🏃 View run Fold-1 at: http://127.0.0.1:5001/#/experiments/1/runs/f5efac557f1741d59cbaf9adf11f7bac\n",
      "🧪 View experiment at: http://127.0.0.1:5001/#/experiments/1\n",
      "2 --> train_loss: 10.599 | train_accuracy: -20.2299 | val_loss: 7.4747 | val_accuracy: -12.6409\n",
      "🏃 View run Fold-2 at: http://127.0.0.1:5001/#/experiments/1/runs/8e8d31adef63455e927c471523461e9b\n",
      "🧪 View experiment at: http://127.0.0.1:5001/#/experiments/1\n",
      "3 --> train_loss: 9.869 | train_accuracy: -18.7380 | val_loss: 7.4212 | val_accuracy: -12.4600\n",
      "🏃 View run Fold-3 at: http://127.0.0.1:5001/#/experiments/1/runs/0e268f18820d436287fd29d5a74269ae\n",
      "🧪 View experiment at: http://127.0.0.1:5001/#/experiments/1\n"
     ]
    },
    {
     "name": "stderr",
     "output_type": "stream",
     "text": [
      "2025/02/03 03:46:39 WARNING mlflow.models.signature: Failed to infer schema for outputs. Setting schema to `Schema([ColSpec(type=AnyType())]` as default. To see the full traceback, set logging level to DEBUG.\n",
      "2025/02/03 03:46:39 WARNING mlflow.sklearn: Model was missing function: predict. Not logging python_function flavor!\n"
     ]
    },
    {
     "name": "stdout",
     "output_type": "stream",
     "text": [
      "4 --> train_loss: 9.339 | train_accuracy: -17.5345 | val_loss: 9.0979 | val_accuracy: -15.1236\n",
      "🏃 View run Fold-4 at: http://127.0.0.1:5001/#/experiments/1/runs/676984cf261a44d7ba61f09fb3c054ab\n",
      "🧪 View experiment at: http://127.0.0.1:5001/#/experiments/1\n",
      "✅ Fold: mini_batch | Model: RidgeRegression | MSE: 7.3225 | R²: -11.5293\n",
      "🏃 View run method-mini_batch-lr-0.0001-reg-RidgeRegression-poly-Polynomial-momentum-Momentum is not used-weight-zeros at: http://127.0.0.1:5001/#/experiments/1/runs/9c38a157388046a9bd21e66c228ce0a2\n",
      "🧪 View experiment at: http://127.0.0.1:5001/#/experiments/1\n",
      " Running RidgeRegression | mini_batch | Polynomial | zeros | Momentum is used | LR: 0.01\n",
      "(5330,)\n",
      "torch.Size([5330, 90])\n",
      "0 --> train_loss: 8.308 | train_accuracy: -14.9686 | val_loss: 7.6742 | val_accuracy: -12.4164\n",
      "🏃 View run Fold-0 at: http://127.0.0.1:5001/#/experiments/1/runs/3118978da3e448a5837cf887682d8ea4\n",
      "🧪 View experiment at: http://127.0.0.1:5001/#/experiments/1\n",
      "1 --> train_loss: 8.189 | train_accuracy: -14.7518 | val_loss: 6.6044 | val_accuracy: -11.6044\n",
      "🏃 View run Fold-1 at: http://127.0.0.1:5001/#/experiments/1/runs/082e474b02bc4131bbe1c098840df448\n",
      "🧪 View experiment at: http://127.0.0.1:5001/#/experiments/1\n",
      "2 --> train_loss: 8.033 | train_accuracy: -14.7644 | val_loss: 7.4305 | val_accuracy: -12.5602\n",
      "🏃 View run Fold-2 at: http://127.0.0.1:5001/#/experiments/1/runs/835027459a104f9b9e31eb2087467eb8\n",
      "🧪 View experiment at: http://127.0.0.1:5001/#/experiments/1\n",
      "3 --> train_loss: 7.940 | train_accuracy: -14.8510 | val_loss: 7.6335 | val_accuracy: -12.8451\n",
      "🏃 View run Fold-3 at: http://127.0.0.1:5001/#/experiments/1/runs/1bb1a1964d224dc19e23a15e9a03b50c\n",
      "🧪 View experiment at: http://127.0.0.1:5001/#/experiments/1\n"
     ]
    },
    {
     "name": "stderr",
     "output_type": "stream",
     "text": [
      "2025/02/03 03:46:49 WARNING mlflow.models.signature: Failed to infer schema for outputs. Setting schema to `Schema([ColSpec(type=AnyType())]` as default. To see the full traceback, set logging level to DEBUG.\n",
      "2025/02/03 03:46:49 WARNING mlflow.sklearn: Model was missing function: predict. Not logging python_function flavor!\n"
     ]
    },
    {
     "name": "stdout",
     "output_type": "stream",
     "text": [
      "4 --> train_loss: 7.855 | train_accuracy: -14.7673 | val_loss: 9.8804 | val_accuracy: -16.5104\n",
      "🏃 View run Fold-4 at: http://127.0.0.1:5001/#/experiments/1/runs/7f7e40800af046cea52a3220697a158d\n",
      "🧪 View experiment at: http://127.0.0.1:5001/#/experiments/1\n",
      "✅ Fold: mini_batch | Model: RidgeRegression | MSE: 7.1739 | R²: -11.2749\n",
      "🏃 View run method-mini_batch-lr-0.01-reg-RidgeRegression-poly-Polynomial-momentum-Momentum is used-weight-zeros at: http://127.0.0.1:5001/#/experiments/1/runs/b6d57414e7a942a4a884f6247e0c39d6\n",
      "🧪 View experiment at: http://127.0.0.1:5001/#/experiments/1\n",
      " Running RidgeRegression | mini_batch | Polynomial | zeros | Momentum is used | LR: 0.001\n",
      "(5330,)\n",
      "torch.Size([5330, 90])\n",
      "0 --> train_loss: 11.600 | train_accuracy: -21.5416 | val_loss: 7.8143 | val_accuracy: -12.6615\n",
      "🏃 View run Fold-0 at: http://127.0.0.1:5001/#/experiments/1/runs/88530f882d2744d3a916af4bb73a30a0\n",
      "🧪 View experiment at: http://127.0.0.1:5001/#/experiments/1\n",
      "1 --> train_loss: 9.812 | train_accuracy: -17.9648 | val_loss: 6.6749 | val_accuracy: -11.7390\n",
      "🏃 View run Fold-1 at: http://127.0.0.1:5001/#/experiments/1/runs/d0f65edeb2cb4fae817051bb4a2aa045\n",
      "🧪 View experiment at: http://127.0.0.1:5001/#/experiments/1\n",
      "2 --> train_loss: 8.970 | train_accuracy: -16.6623 | val_loss: 7.4612 | val_accuracy: -12.6163\n",
      "🏃 View run Fold-2 at: http://127.0.0.1:5001/#/experiments/1/runs/da1a366d2efd41cbbb1bf2c137eddb0a\n",
      "🧪 View experiment at: http://127.0.0.1:5001/#/experiments/1\n",
      "3 --> train_loss: 8.583 | train_accuracy: -16.0098 | val_loss: 7.4182 | val_accuracy: -12.4548\n",
      "🏃 View run Fold-3 at: http://127.0.0.1:5001/#/experiments/1/runs/9fc00d58f1ee4df584e4afd39943ac2f\n",
      "🧪 View experiment at: http://127.0.0.1:5001/#/experiments/1\n"
     ]
    },
    {
     "name": "stderr",
     "output_type": "stream",
     "text": [
      "2025/02/03 03:46:59 WARNING mlflow.models.signature: Failed to infer schema for outputs. Setting schema to `Schema([ColSpec(type=AnyType())]` as default. To see the full traceback, set logging level to DEBUG.\n",
      "2025/02/03 03:46:59 WARNING mlflow.sklearn: Model was missing function: predict. Not logging python_function flavor!\n"
     ]
    },
    {
     "name": "stdout",
     "output_type": "stream",
     "text": [
      "4 --> train_loss: 8.348 | train_accuracy: -15.5103 | val_loss: 9.2561 | val_accuracy: -15.4039\n",
      "🏃 View run Fold-4 at: http://127.0.0.1:5001/#/experiments/1/runs/aabe593afc01447f921b285a4abf5849\n",
      "🧪 View experiment at: http://127.0.0.1:5001/#/experiments/1\n",
      "✅ Fold: mini_batch | Model: RidgeRegression | MSE: 7.3407 | R²: -11.5603\n",
      "🏃 View run method-mini_batch-lr-0.001-reg-RidgeRegression-poly-Polynomial-momentum-Momentum is used-weight-zeros at: http://127.0.0.1:5001/#/experiments/1/runs/1dde7007cf55469bbe98b2a69e5167a4\n",
      "🧪 View experiment at: http://127.0.0.1:5001/#/experiments/1\n",
      " Running RidgeRegression | mini_batch | Polynomial | zeros | Momentum is used | LR: 0.0001\n",
      "(5330,)\n",
      "torch.Size([5330, 90])\n",
      "0 --> train_loss: 47.073 | train_accuracy: -96.8636 | val_loss: 15.6157 | val_accuracy: -26.3004\n",
      "🏃 View run Fold-0 at: http://127.0.0.1:5001/#/experiments/1/runs/b97b0826bdcb42678c585923ea2d21b0\n",
      "🧪 View experiment at: http://127.0.0.1:5001/#/experiments/1\n",
      "1 --> train_loss: 29.886 | train_accuracy: -59.7986 | val_loss: 9.1646 | val_accuracy: -16.4905\n",
      "🏃 View run Fold-1 at: http://127.0.0.1:5001/#/experiments/1/runs/d4bc0f456ce045b3afdf34eb2d148074\n",
      "🧪 View experiment at: http://127.0.0.1:5001/#/experiments/1\n",
      "2 --> train_loss: 23.042 | train_accuracy: -45.6022 | val_loss: 8.7938 | val_accuracy: -15.0482\n",
      "🏃 View run Fold-2 at: http://127.0.0.1:5001/#/experiments/1/runs/3c355a2a78c44c248178105fd0122724\n",
      "🧪 View experiment at: http://127.0.0.1:5001/#/experiments/1\n",
      "3 --> train_loss: 19.460 | train_accuracy: -38.3056 | val_loss: 8.2089 | val_accuracy: -13.8888\n",
      "🏃 View run Fold-3 at: http://127.0.0.1:5001/#/experiments/1/runs/9de81f72f8ae4e2e981e6a15dc988136\n",
      "🧪 View experiment at: http://127.0.0.1:5001/#/experiments/1\n"
     ]
    },
    {
     "name": "stderr",
     "output_type": "stream",
     "text": [
      "2025/02/03 03:47:08 WARNING mlflow.models.signature: Failed to infer schema for outputs. Setting schema to `Schema([ColSpec(type=AnyType())]` as default. To see the full traceback, set logging level to DEBUG.\n",
      "2025/02/03 03:47:08 WARNING mlflow.sklearn: Model was missing function: predict. Not logging python_function flavor!\n"
     ]
    },
    {
     "name": "stdout",
     "output_type": "stream",
     "text": [
      "4 --> train_loss: 17.150 | train_accuracy: -33.3694 | val_loss: 9.3094 | val_accuracy: -15.4983\n",
      "🏃 View run Fold-4 at: http://127.0.0.1:5001/#/experiments/1/runs/d061283993a14d099e509de5aede56dd\n",
      "🧪 View experiment at: http://127.0.0.1:5001/#/experiments/1\n",
      "✅ Fold: mini_batch | Model: RidgeRegression | MSE: 7.7895 | R²: -12.3283\n",
      "🏃 View run method-mini_batch-lr-0.0001-reg-RidgeRegression-poly-Polynomial-momentum-Momentum is used-weight-zeros at: http://127.0.0.1:5001/#/experiments/1/runs/6dfd5793a415439ba9114444f56d1529\n",
      "🧪 View experiment at: http://127.0.0.1:5001/#/experiments/1\n",
      " Running RidgeRegression | mini_batch | Polynomial | xavier | Momentum is not used | LR: 0.01\n",
      "(5330,)\n",
      "torch.Size([5330, 90])\n",
      "0 --> train_loss: 8.020 | train_accuracy: -14.9560 | val_loss: 8.1456 | val_accuracy: -13.2406\n",
      "🏃 View run Fold-0 at: http://127.0.0.1:5001/#/experiments/1/runs/a970952c04734e359598b5f27ab60d82\n",
      "🧪 View experiment at: http://127.0.0.1:5001/#/experiments/1\n",
      "1 --> train_loss: 8.514 | train_accuracy: -15.2917 | val_loss: 7.2771 | val_accuracy: -12.8883\n",
      "🏃 View run Fold-1 at: http://127.0.0.1:5001/#/experiments/1/runs/92b9eaa72b524bc2bb4894fcdf9298aa\n",
      "🧪 View experiment at: http://127.0.0.1:5001/#/experiments/1\n",
      "2 --> train_loss: 8.603 | train_accuracy: -15.6045 | val_loss: 9.1705 | val_accuracy: -15.7356\n",
      "🏃 View run Fold-2 at: http://127.0.0.1:5001/#/experiments/1/runs/2a4fcd2d729841ec8d13bb7cf21fc64e\n",
      "🧪 View experiment at: http://127.0.0.1:5001/#/experiments/1\n",
      "3 --> train_loss: 8.601 | train_accuracy: -15.5442 | val_loss: 8.2522 | val_accuracy: -13.9674\n",
      "🏃 View run Fold-3 at: http://127.0.0.1:5001/#/experiments/1/runs/0cb81c177d204426b6ad9b76968244f9\n",
      "🧪 View experiment at: http://127.0.0.1:5001/#/experiments/1\n"
     ]
    },
    {
     "name": "stderr",
     "output_type": "stream",
     "text": [
      "2025/02/03 03:47:18 WARNING mlflow.models.signature: Failed to infer schema for outputs. Setting schema to `Schema([ColSpec(type=AnyType())]` as default. To see the full traceback, set logging level to DEBUG.\n",
      "2025/02/03 03:47:18 WARNING mlflow.sklearn: Model was missing function: predict. Not logging python_function flavor!\n"
     ]
    },
    {
     "name": "stdout",
     "output_type": "stream",
     "text": [
      "4 --> train_loss: 8.459 | train_accuracy: -15.3252 | val_loss: 10.3844 | val_accuracy: -17.4036\n",
      "🏃 View run Fold-4 at: http://127.0.0.1:5001/#/experiments/1/runs/be3cbd05875a42dd9d873e57f03301bb\n",
      "🧪 View experiment at: http://127.0.0.1:5001/#/experiments/1\n",
      "✅ Fold: mini_batch | Model: RidgeRegression | MSE: 7.0254 | R²: -11.0208\n",
      "🏃 View run method-mini_batch-lr-0.01-reg-RidgeRegression-poly-Polynomial-momentum-Momentum is not used-weight-xavier at: http://127.0.0.1:5001/#/experiments/1/runs/99d82057d4744d9ca0d39bcd5fbfa120\n",
      "🧪 View experiment at: http://127.0.0.1:5001/#/experiments/1\n",
      " Running RidgeRegression | mini_batch | Polynomial | xavier | Momentum is not used | LR: 0.001\n",
      "(5330,)\n",
      "torch.Size([5330, 90])\n",
      "0 --> train_loss: 8.352 | train_accuracy: -15.0708 | val_loss: 7.6334 | val_accuracy: -12.3452\n",
      "🏃 View run Fold-0 at: http://127.0.0.1:5001/#/experiments/1/runs/d53d575045cd46228d515891534fe9c9\n",
      "🧪 View experiment at: http://127.0.0.1:5001/#/experiments/1\n",
      "1 --> train_loss: 7.995 | train_accuracy: -14.1351 | val_loss: 6.6470 | val_accuracy: -11.6857\n",
      "🏃 View run Fold-1 at: http://127.0.0.1:5001/#/experiments/1/runs/af3a4917c08048439e9ee783feb8aa1a\n",
      "🧪 View experiment at: http://127.0.0.1:5001/#/experiments/1\n",
      "2 --> train_loss: 7.778 | train_accuracy: -13.8312 | val_loss: 7.4541 | val_accuracy: -12.6033\n",
      "🏃 View run Fold-2 at: http://127.0.0.1:5001/#/experiments/1/runs/fb1127eb5eaa4828b0cb3d1a0c99614d\n",
      "🧪 View experiment at: http://127.0.0.1:5001/#/experiments/1\n",
      "3 --> train_loss: 7.697 | train_accuracy: -13.7952 | val_loss: 7.4159 | val_accuracy: -12.4505\n",
      "🏃 View run Fold-3 at: http://127.0.0.1:5001/#/experiments/1/runs/b504257f50924852b97f51447a6083eb\n",
      "🧪 View experiment at: http://127.0.0.1:5001/#/experiments/1\n"
     ]
    },
    {
     "name": "stderr",
     "output_type": "stream",
     "text": [
      "2025/02/03 03:47:27 WARNING mlflow.models.signature: Failed to infer schema for outputs. Setting schema to `Schema([ColSpec(type=AnyType())]` as default. To see the full traceback, set logging level to DEBUG.\n",
      "2025/02/03 03:47:28 WARNING mlflow.sklearn: Model was missing function: predict. Not logging python_function flavor!\n"
     ]
    },
    {
     "name": "stdout",
     "output_type": "stream",
     "text": [
      "4 --> train_loss: 7.650 | train_accuracy: -13.8567 | val_loss: 9.5361 | val_accuracy: -15.9001\n",
      "🏃 View run Fold-4 at: http://127.0.0.1:5001/#/experiments/1/runs/11c0494fd82445d09b0081a72ab63252\n",
      "🧪 View experiment at: http://127.0.0.1:5001/#/experiments/1\n",
      "✅ Fold: mini_batch | Model: RidgeRegression | MSE: 7.2528 | R²: -11.4100\n",
      "🏃 View run method-mini_batch-lr-0.001-reg-RidgeRegression-poly-Polynomial-momentum-Momentum is not used-weight-xavier at: http://127.0.0.1:5001/#/experiments/1/runs/0ad417264152483d9bdd1cdd981f02a4\n",
      "🧪 View experiment at: http://127.0.0.1:5001/#/experiments/1\n",
      " Running RidgeRegression | mini_batch | Polynomial | xavier | Momentum is not used | LR: 0.0001\n",
      "(5330,)\n",
      "torch.Size([5330, 90])\n",
      "0 --> train_loss: 18.825 | train_accuracy: -41.9710 | val_loss: 8.3748 | val_accuracy: -13.6414\n",
      "🏃 View run Fold-0 at: http://127.0.0.1:5001/#/experiments/1/runs/79f6494fdbd14eb19ed81ba8714ac877\n",
      "🧪 View experiment at: http://127.0.0.1:5001/#/experiments/1\n",
      "1 --> train_loss: 13.505 | train_accuracy: -28.4517 | val_loss: 6.7727 | val_accuracy: -11.9256\n",
      "🏃 View run Fold-1 at: http://127.0.0.1:5001/#/experiments/1/runs/68f8b169819d4adf8050debe62b26611\n",
      "🧪 View experiment at: http://127.0.0.1:5001/#/experiments/1\n",
      "2 --> train_loss: 11.497 | train_accuracy: -23.4142 | val_loss: 7.4766 | val_accuracy: -12.6443\n",
      "🏃 View run Fold-2 at: http://127.0.0.1:5001/#/experiments/1/runs/660dd2d880eb4804a93aebfee25eb995\n",
      "🧪 View experiment at: http://127.0.0.1:5001/#/experiments/1\n",
      "3 --> train_loss: 10.445 | train_accuracy: -20.8350 | val_loss: 7.4190 | val_accuracy: -12.4561\n",
      "🏃 View run Fold-3 at: http://127.0.0.1:5001/#/experiments/1/runs/e5e6fd8774de41f2870a0482986c9a77\n",
      "🧪 View experiment at: http://127.0.0.1:5001/#/experiments/1\n"
     ]
    },
    {
     "name": "stderr",
     "output_type": "stream",
     "text": [
      "2025/02/03 03:47:37 WARNING mlflow.models.signature: Failed to infer schema for outputs. Setting schema to `Schema([ColSpec(type=AnyType())]` as default. To see the full traceback, set logging level to DEBUG.\n",
      "2025/02/03 03:47:37 WARNING mlflow.sklearn: Model was missing function: predict. Not logging python_function flavor!\n"
     ]
    },
    {
     "name": "stdout",
     "output_type": "stream",
     "text": [
      "4 --> train_loss: 9.835 | train_accuracy: -19.4039 | val_loss: 9.0951 | val_accuracy: -15.1185\n",
      "🏃 View run Fold-4 at: http://127.0.0.1:5001/#/experiments/1/runs/e1f8387e87fa46668b51dd66b1718929\n",
      "🧪 View experiment at: http://127.0.0.1:5001/#/experiments/1\n",
      "✅ Fold: mini_batch | Model: RidgeRegression | MSE: 7.3251 | R²: -11.5336\n",
      "🏃 View run method-mini_batch-lr-0.0001-reg-RidgeRegression-poly-Polynomial-momentum-Momentum is not used-weight-xavier at: http://127.0.0.1:5001/#/experiments/1/runs/5164e4f1d9a344eba6df0747ce81ee3e\n",
      "🧪 View experiment at: http://127.0.0.1:5001/#/experiments/1\n",
      " Running RidgeRegression | mini_batch | Polynomial | xavier | Momentum is used | LR: 0.01\n",
      "(5330,)\n",
      "torch.Size([5330, 90])\n",
      "0 --> train_loss: 7.677 | train_accuracy: -14.6268 | val_loss: 7.8739 | val_accuracy: -12.7656\n",
      "🏃 View run Fold-0 at: http://127.0.0.1:5001/#/experiments/1/runs/239f741941364e73be9ab3c3bf56c4d6\n",
      "🧪 View experiment at: http://127.0.0.1:5001/#/experiments/1\n",
      "1 --> train_loss: 7.699 | train_accuracy: -14.2029 | val_loss: 6.7122 | val_accuracy: -11.8102\n",
      "🏃 View run Fold-1 at: http://127.0.0.1:5001/#/experiments/1/runs/b176fa9e979546748f4c0f3ec7ac0c6c\n",
      "🧪 View experiment at: http://127.0.0.1:5001/#/experiments/1\n",
      "2 --> train_loss: 7.802 | train_accuracy: -14.4532 | val_loss: 7.4471 | val_accuracy: -12.5905\n",
      "🏃 View run Fold-2 at: http://127.0.0.1:5001/#/experiments/1/runs/becc4a11fb4942c6b486200b32673c2f\n",
      "🧪 View experiment at: http://127.0.0.1:5001/#/experiments/1\n",
      "3 --> train_loss: 7.861 | train_accuracy: -14.5552 | val_loss: 7.3732 | val_accuracy: -12.3731\n",
      "🏃 View run Fold-3 at: http://127.0.0.1:5001/#/experiments/1/runs/5770b2745b2a4abaadf492e42110713e\n",
      "🧪 View experiment at: http://127.0.0.1:5001/#/experiments/1\n"
     ]
    },
    {
     "name": "stderr",
     "output_type": "stream",
     "text": [
      "2025/02/03 03:47:47 WARNING mlflow.models.signature: Failed to infer schema for outputs. Setting schema to `Schema([ColSpec(type=AnyType())]` as default. To see the full traceback, set logging level to DEBUG.\n",
      "2025/02/03 03:47:47 WARNING mlflow.sklearn: Model was missing function: predict. Not logging python_function flavor!\n"
     ]
    },
    {
     "name": "stdout",
     "output_type": "stream",
     "text": [
      "4 --> train_loss: 7.743 | train_accuracy: -14.2595 | val_loss: 9.4390 | val_accuracy: -15.7280\n",
      "🏃 View run Fold-4 at: http://127.0.0.1:5001/#/experiments/1/runs/8204f92f46b14110865cda811cb19594\n",
      "🧪 View experiment at: http://127.0.0.1:5001/#/experiments/1\n",
      "✅ Fold: mini_batch | Model: RidgeRegression | MSE: 7.4498 | R²: -11.7470\n",
      "🏃 View run method-mini_batch-lr-0.01-reg-RidgeRegression-poly-Polynomial-momentum-Momentum is used-weight-xavier at: http://127.0.0.1:5001/#/experiments/1/runs/34964347120b4014926eaab979c12c01\n",
      "🧪 View experiment at: http://127.0.0.1:5001/#/experiments/1\n",
      " Running RidgeRegression | mini_batch | Polynomial | xavier | Momentum is used | LR: 0.001\n",
      "(5330,)\n",
      "torch.Size([5330, 90])\n",
      "0 --> train_loss: 12.419 | train_accuracy: -23.7282 | val_loss: 7.7915 | val_accuracy: -12.6216\n",
      "🏃 View run Fold-0 at: http://127.0.0.1:5001/#/experiments/1/runs/1d7e346b278b4e7eafa03f542042cf00\n",
      "🧪 View experiment at: http://127.0.0.1:5001/#/experiments/1\n",
      "1 --> train_loss: 10.000 | train_accuracy: -18.9433 | val_loss: 6.6429 | val_accuracy: -11.6778\n",
      "🏃 View run Fold-1 at: http://127.0.0.1:5001/#/experiments/1/runs/de78392ade014cf5aa21de3af8accf21\n",
      "🧪 View experiment at: http://127.0.0.1:5001/#/experiments/1\n",
      "2 --> train_loss: 9.202 | train_accuracy: -17.2616 | val_loss: 7.4563 | val_accuracy: -12.6074\n",
      "🏃 View run Fold-2 at: http://127.0.0.1:5001/#/experiments/1/runs/0d03c4ff6f974218bd27905c2b83a28a\n",
      "🧪 View experiment at: http://127.0.0.1:5001/#/experiments/1\n",
      "3 --> train_loss: 8.754 | train_accuracy: -16.2929 | val_loss: 7.4245 | val_accuracy: -12.4661\n",
      "🏃 View run Fold-3 at: http://127.0.0.1:5001/#/experiments/1/runs/9a52cc1ce1044e4ca35c523002a3e5ea\n",
      "🧪 View experiment at: http://127.0.0.1:5001/#/experiments/1\n"
     ]
    },
    {
     "name": "stderr",
     "output_type": "stream",
     "text": [
      "2025/02/03 03:47:57 WARNING mlflow.models.signature: Failed to infer schema for outputs. Setting schema to `Schema([ColSpec(type=AnyType())]` as default. To see the full traceback, set logging level to DEBUG.\n",
      "2025/02/03 03:47:57 WARNING mlflow.sklearn: Model was missing function: predict. Not logging python_function flavor!\n"
     ]
    },
    {
     "name": "stdout",
     "output_type": "stream",
     "text": [
      "4 --> train_loss: 8.414 | train_accuracy: -15.7706 | val_loss: 9.2420 | val_accuracy: -15.3790\n",
      "🏃 View run Fold-4 at: http://127.0.0.1:5001/#/experiments/1/runs/822a41dfc6284732a94cb59742ed476a\n",
      "🧪 View experiment at: http://127.0.0.1:5001/#/experiments/1\n",
      "✅ Fold: mini_batch | Model: RidgeRegression | MSE: 7.3573 | R²: -11.5887\n",
      "🏃 View run method-mini_batch-lr-0.001-reg-RidgeRegression-poly-Polynomial-momentum-Momentum is used-weight-xavier at: http://127.0.0.1:5001/#/experiments/1/runs/f2bf78bc7a684fcab4319e668be819b1\n",
      "🧪 View experiment at: http://127.0.0.1:5001/#/experiments/1\n",
      " Running RidgeRegression | mini_batch | Polynomial | xavier | Momentum is used | LR: 0.0001\n",
      "(5330,)\n",
      "torch.Size([5330, 90])\n",
      "0 --> train_loss: 62.805 | train_accuracy: -126.7463 | val_loss: 18.5003 | val_accuracy: -31.3434\n",
      "🏃 View run Fold-0 at: http://127.0.0.1:5001/#/experiments/1/runs/dcb1539f5dae42b9aa30b4eaed13f0e5\n",
      "🧪 View experiment at: http://127.0.0.1:5001/#/experiments/1\n",
      "1 --> train_loss: 38.510 | train_accuracy: -76.3957 | val_loss: 10.0270 | val_accuracy: -18.1364\n",
      "🏃 View run Fold-1 at: http://127.0.0.1:5001/#/experiments/1/runs/1f037f4c0e95481a887bb9521b4098b7\n",
      "🧪 View experiment at: http://127.0.0.1:5001/#/experiments/1\n",
      "2 --> train_loss: 28.968 | train_accuracy: -57.1271 | val_loss: 9.5700 | val_accuracy: -16.4648\n",
      "🏃 View run Fold-2 at: http://127.0.0.1:5001/#/experiments/1/runs/8af8feeebaa0425c91e0c6f79e46c53b\n",
      "🧪 View experiment at: http://127.0.0.1:5001/#/experiments/1\n",
      "3 --> train_loss: 24.026 | train_accuracy: -47.2876 | val_loss: 8.8173 | val_accuracy: -14.9922\n",
      "🏃 View run Fold-3 at: http://127.0.0.1:5001/#/experiments/1/runs/60ba8f71f59645f293d530f66ee5bc35\n",
      "🧪 View experiment at: http://127.0.0.1:5001/#/experiments/1\n"
     ]
    },
    {
     "name": "stderr",
     "output_type": "stream",
     "text": [
      "2025/02/03 03:48:07 WARNING mlflow.models.signature: Failed to infer schema for outputs. Setting schema to `Schema([ColSpec(type=AnyType())]` as default. To see the full traceback, set logging level to DEBUG.\n",
      "2025/02/03 03:48:07 WARNING mlflow.sklearn: Model was missing function: predict. Not logging python_function flavor!\n"
     ]
    },
    {
     "name": "stdout",
     "output_type": "stream",
     "text": [
      "4 --> train_loss: 20.808 | train_accuracy: -40.7739 | val_loss: 9.8205 | val_accuracy: -16.4041\n",
      "🏃 View run Fold-4 at: http://127.0.0.1:5001/#/experiments/1/runs/80df11141b60419093fb9c13e7997c8e\n",
      "🧪 View experiment at: http://127.0.0.1:5001/#/experiments/1\n",
      "✅ Fold: mini_batch | Model: RidgeRegression | MSE: 8.1344 | R²: -12.9184\n",
      "🏃 View run method-mini_batch-lr-0.0001-reg-RidgeRegression-poly-Polynomial-momentum-Momentum is used-weight-xavier at: http://127.0.0.1:5001/#/experiments/1/runs/99618a2bae5c4b04b648e066a59451b9\n",
      "🧪 View experiment at: http://127.0.0.1:5001/#/experiments/1\n",
      " Running LassoRegression | normal | Linear | zeros | Momentum is not used | LR: 0.01\n",
      "(5330,)\n",
      "torch.Size([5330, 12])\n",
      "0 --> train_loss: 28.331 | train_accuracy: -50.7799 | val_loss: 6.1987 | val_accuracy: -9.8370\n",
      "🏃 View run Fold-0 at: http://127.0.0.1:5001/#/experiments/1/runs/4af471397d3b4618aa3941b95da472a6\n",
      "🧪 View experiment at: http://127.0.0.1:5001/#/experiments/1\n",
      "1 --> train_loss: 16.855 | train_accuracy: -29.7012 | val_loss: 4.7564 | val_accuracy: -8.0776\n",
      "🏃 View run Fold-1 at: http://127.0.0.1:5001/#/experiments/1/runs/288f7dc390e349a6aae01099b679e9e4\n",
      "🧪 View experiment at: http://127.0.0.1:5001/#/experiments/1\n",
      "2 --> train_loss: 12.912 | train_accuracy: -22.4967 | val_loss: 4.8701 | val_accuracy: -7.8877\n",
      "🏃 View run Fold-2 at: http://127.0.0.1:5001/#/experiments/1/runs/b5fc0b7aa9fe49479cdb9d4784bd370d\n",
      "🧪 View experiment at: http://127.0.0.1:5001/#/experiments/1\n",
      "3 --> train_loss: 10.934 | train_accuracy: -18.8866 | val_loss: 4.7983 | val_accuracy: -7.7028\n",
      "🏃 View run Fold-3 at: http://127.0.0.1:5001/#/experiments/1/runs/80b9623c929b4f35934b0f720ca5e013\n",
      "🧪 View experiment at: http://127.0.0.1:5001/#/experiments/1\n"
     ]
    },
    {
     "name": "stderr",
     "output_type": "stream",
     "text": [
      "2025/02/03 03:48:15 WARNING mlflow.models.signature: Failed to infer schema for outputs. Setting schema to `Schema([ColSpec(type=AnyType())]` as default. To see the full traceback, set logging level to DEBUG.\n"
     ]
    },
    {
     "name": "stdout",
     "output_type": "stream",
     "text": [
      "4 --> train_loss: 9.739 | train_accuracy: -16.7147 | val_loss: 5.4823 | val_accuracy: -8.7158\n",
      "🏃 View run Fold-4 at: http://127.0.0.1:5001/#/experiments/1/runs/81255bc11c8748a6bf40d6ce3e290e5e\n",
      "🧪 View experiment at: http://127.0.0.1:5001/#/experiments/1\n"
     ]
    },
    {
     "name": "stderr",
     "output_type": "stream",
     "text": [
      "2025/02/03 03:48:15 WARNING mlflow.sklearn: Model was missing function: predict. Not logging python_function flavor!\n"
     ]
    },
    {
     "name": "stdout",
     "output_type": "stream",
     "text": [
      "✅ Fold: normal | Model: LassoRegression | MSE: 5.4620 | R²: -8.3458\n",
      "🏃 View run method-normal-lr-0.01-reg-LassoRegression-poly-Linear-momentum-Momentum is not used-weight-zeros at: http://127.0.0.1:5001/#/experiments/1/runs/882d03ed1bdc4289847df6d869d96e78\n",
      "🧪 View experiment at: http://127.0.0.1:5001/#/experiments/1\n",
      " Running LassoRegression | normal | Linear | zeros | Momentum is not used | LR: 0.001\n",
      "(5330,)\n",
      "torch.Size([5330, 12])\n",
      "0 --> train_loss: 119.410 | train_accuracy: -217.2453 | val_loss: 82.8455 | val_accuracy: -143.8355\n",
      "🏃 View run Fold-0 at: http://127.0.0.1:5001/#/experiments/1/runs/cbd036cded6d4013a0df5e8bce5e3b90\n",
      "🧪 View experiment at: http://127.0.0.1:5001/#/experiments/1\n",
      "1 --> train_loss: 89.962 | train_accuracy: -162.2461 | val_loss: 42.9891 | val_accuracy: -81.0440\n",
      "🏃 View run Fold-1 at: http://127.0.0.1:5001/#/experiments/1/runs/80ef2588814c4f2fbe4666590c3b5d1e\n",
      "🧪 View experiment at: http://127.0.0.1:5001/#/experiments/1\n",
      "2 --> train_loss: 70.939 | train_accuracy: -127.6598 | val_loss: 24.3264 | val_accuracy: -43.3944\n",
      "🏃 View run Fold-2 at: http://127.0.0.1:5001/#/experiments/1/runs/b13e64fde5e241b2a959f68de63ceab9\n",
      "🧪 View experiment at: http://127.0.0.1:5001/#/experiments/1\n",
      "3 --> train_loss: 58.137 | train_accuracy: -104.4264 | val_loss: 14.8628 | val_accuracy: -25.9573\n",
      "🏃 View run Fold-3 at: http://127.0.0.1:5001/#/experiments/1/runs/c37f52a66a89417fbc755863d135985b\n",
      "🧪 View experiment at: http://127.0.0.1:5001/#/experiments/1\n"
     ]
    },
    {
     "name": "stderr",
     "output_type": "stream",
     "text": [
      "2025/02/03 03:48:22 WARNING mlflow.models.signature: Failed to infer schema for outputs. Setting schema to `Schema([ColSpec(type=AnyType())]` as default. To see the full traceback, set logging level to DEBUG.\n",
      "2025/02/03 03:48:22 WARNING mlflow.sklearn: Model was missing function: predict. Not logging python_function flavor!\n"
     ]
    },
    {
     "name": "stdout",
     "output_type": "stream",
     "text": [
      "4 --> train_loss: 49.083 | train_accuracy: -88.0277 | val_loss: 11.7350 | val_accuracy: -19.7970\n",
      "🏃 View run Fold-4 at: http://127.0.0.1:5001/#/experiments/1/runs/980e7ed2c702417d953d1e2a65425868\n",
      "🧪 View experiment at: http://127.0.0.1:5001/#/experiments/1\n",
      "✅ Fold: normal | Model: LassoRegression | MSE: 11.2908 | R²: -18.3193\n",
      "🏃 View run method-normal-lr-0.001-reg-LassoRegression-poly-Linear-momentum-Momentum is not used-weight-zeros at: http://127.0.0.1:5001/#/experiments/1/runs/c7f754a0e1ad43868717fedd83de68ef\n",
      "🧪 View experiment at: http://127.0.0.1:5001/#/experiments/1\n",
      " Running LassoRegression | normal | Linear | zeros | Momentum is not used | LR: 0.0001\n",
      "(5330,)\n",
      "torch.Size([5330, 12])\n",
      "0 --> train_loss: 160.941 | train_accuracy: -293.1525 | val_loss: 155.3704 | val_accuracy: -270.6280\n",
      "🏃 View run Fold-0 at: http://127.0.0.1:5001/#/experiments/1/runs/8fc197bc96564377beb4afb9bdd5778d\n",
      "🧪 View experiment at: http://127.0.0.1:5001/#/experiments/1\n",
      "1 --> train_loss: 155.312 | train_accuracy: -279.9514 | val_loss: 144.7445 | val_accuracy: -275.2429\n",
      "🏃 View run Fold-1 at: http://127.0.0.1:5001/#/experiments/1/runs/cf01118f558d4f599794511b4011ecd8\n",
      "🧪 View experiment at: http://127.0.0.1:5001/#/experiments/1\n",
      "2 --> train_loss: 150.055 | train_accuracy: -270.4198 | val_loss: 133.8764 | val_accuracy: -243.3172\n",
      "🏃 View run Fold-2 at: http://127.0.0.1:5001/#/experiments/1/runs/0e507189a53e4095a97f7f9e0285240d\n",
      "🧪 View experiment at: http://127.0.0.1:5001/#/experiments/1\n",
      "3 --> train_loss: 145.006 | train_accuracy: -261.3463 | val_loss: 124.9436 | val_accuracy: -225.6150\n",
      "🏃 View run Fold-3 at: http://127.0.0.1:5001/#/experiments/1/runs/2505dacb89b4448481fc9e7f3f4e5a93\n",
      "🧪 View experiment at: http://127.0.0.1:5001/#/experiments/1\n"
     ]
    },
    {
     "name": "stderr",
     "output_type": "stream",
     "text": [
      "2025/02/03 03:48:30 WARNING mlflow.models.signature: Failed to infer schema for outputs. Setting schema to `Schema([ColSpec(type=AnyType())]` as default. To see the full traceback, set logging level to DEBUG.\n",
      "2025/02/03 03:48:30 WARNING mlflow.sklearn: Model was missing function: predict. Not logging python_function flavor!\n"
     ]
    },
    {
     "name": "stdout",
     "output_type": "stream",
     "text": [
      "4 --> train_loss: 140.170 | train_accuracy: -252.8880 | val_loss: 117.0202 | val_accuracy: -206.3864\n",
      "🏃 View run Fold-4 at: http://127.0.0.1:5001/#/experiments/1/runs/46e8bef6842f442f93e1bde599834dad\n",
      "🧪 View experiment at: http://127.0.0.1:5001/#/experiments/1\n",
      "✅ Fold: normal | Model: LassoRegression | MSE: 116.2233 | R²: -197.8650\n",
      "🏃 View run method-normal-lr-0.0001-reg-LassoRegression-poly-Linear-momentum-Momentum is not used-weight-zeros at: http://127.0.0.1:5001/#/experiments/1/runs/e1a4167fa9d3433cb9c6a2dead24c27c\n",
      "🧪 View experiment at: http://127.0.0.1:5001/#/experiments/1\n",
      " Running LassoRegression | normal | Linear | zeros | Momentum is used | LR: 0.01\n",
      "(5330,)\n",
      "torch.Size([5330, 12])\n",
      "0 --> train_loss: 87.726 | train_accuracy: -159.3373 | val_loss: 43.3233 | val_accuracy: -74.7404\n",
      "🏃 View run Fold-0 at: http://127.0.0.1:5001/#/experiments/1/runs/232e129312f542cab7f447a5f2fb780f\n",
      "🧪 View experiment at: http://127.0.0.1:5001/#/experiments/1\n",
      "1 --> train_loss: 57.030 | train_accuracy: -102.7219 | val_loss: 15.4263 | val_accuracy: -28.4408\n",
      "🏃 View run Fold-1 at: http://127.0.0.1:5001/#/experiments/1/runs/89fbdd9a3c554424a6af1689c6f53641\n",
      "🧪 View experiment at: http://127.0.0.1:5001/#/experiments/1\n",
      "2 --> train_loss: 41.887 | train_accuracy: -75.1401 | val_loss: 8.5528 | val_accuracy: -14.6084\n",
      "🏃 View run Fold-2 at: http://127.0.0.1:5001/#/experiments/1/runs/5780d07a6d60454193939f282eeb7940\n",
      "🧪 View experiment at: http://127.0.0.1:5001/#/experiments/1\n",
      "3 --> train_loss: 33.313 | train_accuracy: -59.5420 | val_loss: 6.1962 | val_accuracy: -10.2382\n",
      "🏃 View run Fold-3 at: http://127.0.0.1:5001/#/experiments/1/runs/c26bddffda9f4a9a92157e6fdce19e7b\n",
      "🧪 View experiment at: http://127.0.0.1:5001/#/experiments/1\n"
     ]
    },
    {
     "name": "stderr",
     "output_type": "stream",
     "text": [
      "2025/02/03 03:48:37 WARNING mlflow.models.signature: Failed to infer schema for outputs. Setting schema to `Schema([ColSpec(type=AnyType())]` as default. To see the full traceback, set logging level to DEBUG.\n",
      "2025/02/03 03:48:37 WARNING mlflow.sklearn: Model was missing function: predict. Not logging python_function flavor!\n"
     ]
    },
    {
     "name": "stdout",
     "output_type": "stream",
     "text": [
      "4 --> train_loss: 27.860 | train_accuracy: -49.6364 | val_loss: 6.3367 | val_accuracy: -10.2300\n",
      "🏃 View run Fold-4 at: http://127.0.0.1:5001/#/experiments/1/runs/fa865a77cbf74bd1a642258b55ada8e3\n",
      "🧪 View experiment at: http://127.0.0.1:5001/#/experiments/1\n",
      "✅ Fold: normal | Model: LassoRegression | MSE: 6.1515 | R²: -9.5256\n",
      "🏃 View run method-normal-lr-0.01-reg-LassoRegression-poly-Linear-momentum-Momentum is used-weight-zeros at: http://127.0.0.1:5001/#/experiments/1/runs/7a5997e166724ca39091f4a478e4f79a\n",
      "🧪 View experiment at: http://127.0.0.1:5001/#/experiments/1\n",
      " Running LassoRegression | normal | Linear | zeros | Momentum is used | LR: 0.001\n",
      "(5330,)\n",
      "torch.Size([5330, 12])\n",
      "0 --> train_loss: 154.783 | train_accuracy: -281.8975 | val_loss: 144.1124 | val_accuracy: -250.9460\n",
      "🏃 View run Fold-0 at: http://127.0.0.1:5001/#/experiments/1/runs/52670699c0704f87b84e2455c5c0e0bb\n",
      "🧪 View experiment at: http://127.0.0.1:5001/#/experiments/1\n",
      "1 --> train_loss: 144.440 | train_accuracy: -260.3845 | val_loss: 125.0210 | val_accuracy: -237.6008\n",
      "🏃 View run Fold-1 at: http://127.0.0.1:5001/#/experiments/1/runs/ee3f1552cd0f4e4391bf4abd86604453\n",
      "🧪 View experiment at: http://127.0.0.1:5001/#/experiments/1\n",
      "2 --> train_loss: 135.154 | train_accuracy: -243.5350 | val_loss: 107.9288 | val_accuracy: -195.9643\n",
      "🏃 View run Fold-2 at: http://127.0.0.1:5001/#/experiments/1/runs/bdf8e5be5edb47b9980c40414c5f1239\n",
      "🧪 View experiment at: http://127.0.0.1:5001/#/experiments/1\n",
      "3 --> train_loss: 126.714 | train_accuracy: -228.2970 | val_loss: 93.8709 | val_accuracy: -169.2573\n",
      "🏃 View run Fold-3 at: http://127.0.0.1:5001/#/experiments/1/runs/5fb787cabc9b4e89bde8b679106c4994\n",
      "🧪 View experiment at: http://127.0.0.1:5001/#/experiments/1\n"
     ]
    },
    {
     "name": "stderr",
     "output_type": "stream",
     "text": [
      "2025/02/03 03:48:44 WARNING mlflow.models.signature: Failed to infer schema for outputs. Setting schema to `Schema([ColSpec(type=AnyType())]` as default. To see the full traceback, set logging level to DEBUG.\n",
      "2025/02/03 03:48:45 WARNING mlflow.sklearn: Model was missing function: predict. Not logging python_function flavor!\n"
     ]
    },
    {
     "name": "stdout",
     "output_type": "stream",
     "text": [
      "4 --> train_loss: 118.992 | train_accuracy: -214.5287 | val_loss: 82.9441 | val_accuracy: -145.9958\n",
      "🏃 View run Fold-4 at: http://127.0.0.1:5001/#/experiments/1/runs/b65ac98631df498bbb7e49bff220de61\n",
      "🧪 View experiment at: http://127.0.0.1:5001/#/experiments/1\n",
      "✅ Fold: normal | Model: LassoRegression | MSE: 82.0689 | R²: -139.4249\n",
      "🏃 View run method-normal-lr-0.001-reg-LassoRegression-poly-Linear-momentum-Momentum is used-weight-zeros at: http://127.0.0.1:5001/#/experiments/1/runs/4e3a0ca59be1417ea2fc51adf302d1a1\n",
      "🧪 View experiment at: http://127.0.0.1:5001/#/experiments/1\n",
      " Running LassoRegression | normal | Linear | zeros | Momentum is used | LR: 0.0001\n",
      "(5330,)\n",
      "torch.Size([5330, 12])\n",
      "0 --> train_loss: 165.557 | train_accuracy: -301.5882 | val_loss: 164.5274 | val_accuracy: -286.6367\n",
      "🏃 View run Fold-0 at: http://127.0.0.1:5001/#/experiments/1/runs/77fb6beec74c4d4ab4834cf4f61daf04\n",
      "🧪 View experiment at: http://127.0.0.1:5001/#/experiments/1\n",
      "1 --> train_loss: 164.329 | train_accuracy: -296.1706 | val_loss: 162.4463 | val_accuracy: -309.0264\n",
      "🏃 View run Fold-1 at: http://127.0.0.1:5001/#/experiments/1/runs/fde19e80835848e9b2c9a41278e681ea\n",
      "🧪 View experiment at: http://127.0.0.1:5001/#/experiments/1\n",
      "2 --> train_loss: 163.227 | train_accuracy: -294.1818 | val_loss: 159.0623 | val_accuracy: -289.2802\n",
      "🏃 View run Fold-2 at: http://127.0.0.1:5001/#/experiments/1/runs/55d1b2e94ae24874ada36b7da2af4ba5\n",
      "🧪 View experiment at: http://127.0.0.1:5001/#/experiments/1\n",
      "3 --> train_loss: 162.057 | train_accuracy: -292.1535 | val_loss: 157.4291 | val_accuracy: -284.5353\n",
      "🏃 View run Fold-3 at: http://127.0.0.1:5001/#/experiments/1/runs/73e545b971944af9b7dd6e4898db215a\n",
      "🧪 View experiment at: http://127.0.0.1:5001/#/experiments/1\n"
     ]
    },
    {
     "name": "stderr",
     "output_type": "stream",
     "text": [
      "2025/02/03 03:48:52 WARNING mlflow.models.signature: Failed to infer schema for outputs. Setting schema to `Schema([ColSpec(type=AnyType())]` as default. To see the full traceback, set logging level to DEBUG.\n",
      "2025/02/03 03:48:52 WARNING mlflow.sklearn: Model was missing function: predict. Not logging python_function flavor!\n"
     ]
    },
    {
     "name": "stdout",
     "output_type": "stream",
     "text": [
      "4 --> train_loss: 160.900 | train_accuracy: -290.4440 | val_loss: 155.1999 | val_accuracy: -274.0494\n",
      "🏃 View run Fold-4 at: http://127.0.0.1:5001/#/experiments/1/runs/eccedcd6465d46f69ec449f9fb3a77de\n",
      "🧪 View experiment at: http://127.0.0.1:5001/#/experiments/1\n",
      "✅ Fold: normal | Model: LassoRegression | MSE: 154.5462 | R²: -263.4378\n",
      "🏃 View run method-normal-lr-0.0001-reg-LassoRegression-poly-Linear-momentum-Momentum is used-weight-zeros at: http://127.0.0.1:5001/#/experiments/1/runs/ca2ceec93c17466eb1ef900b9dfa0c5d\n",
      "🧪 View experiment at: http://127.0.0.1:5001/#/experiments/1\n",
      " Running LassoRegression | normal | Linear | xavier | Momentum is not used | LR: 0.01\n",
      "(5330,)\n",
      "torch.Size([5330, 12])\n",
      "0 --> train_loss: 36.008 | train_accuracy: -64.8127 | val_loss: 6.2541 | val_accuracy: -9.9338\n",
      "🏃 View run Fold-0 at: http://127.0.0.1:5001/#/experiments/1/runs/6b1ae758df5c40d7b22eb93fe743345b\n",
      "🧪 View experiment at: http://127.0.0.1:5001/#/experiments/1\n",
      "1 --> train_loss: 20.693 | train_accuracy: -36.7164 | val_loss: 4.7727 | val_accuracy: -8.1086\n",
      "🏃 View run Fold-1 at: http://127.0.0.1:5001/#/experiments/1/runs/a53ab459515d4be8a6cded6dd0f77445\n",
      "🧪 View experiment at: http://127.0.0.1:5001/#/experiments/1\n",
      "2 --> train_loss: 15.475 | train_accuracy: -27.1823 | val_loss: 4.8660 | val_accuracy: -7.8801\n",
      "🏃 View run Fold-2 at: http://127.0.0.1:5001/#/experiments/1/runs/6ed4017f8e324eaa9ae55c18091bfdb3\n",
      "🧪 View experiment at: http://127.0.0.1:5001/#/experiments/1\n",
      "3 --> train_loss: 12.861 | train_accuracy: -22.4073 | val_loss: 4.7949 | val_accuracy: -7.6968\n",
      "🏃 View run Fold-3 at: http://127.0.0.1:5001/#/experiments/1/runs/46c2e54f72d0451ca3aa76f89621e5e6\n",
      "🧪 View experiment at: http://127.0.0.1:5001/#/experiments/1\n"
     ]
    },
    {
     "name": "stderr",
     "output_type": "stream",
     "text": [
      "2025/02/03 03:49:00 WARNING mlflow.models.signature: Failed to infer schema for outputs. Setting schema to `Schema([ColSpec(type=AnyType())]` as default. To see the full traceback, set logging level to DEBUG.\n",
      "2025/02/03 03:49:00 WARNING mlflow.sklearn: Model was missing function: predict. Not logging python_function flavor!\n"
     ]
    },
    {
     "name": "stdout",
     "output_type": "stream",
     "text": [
      "4 --> train_loss: 11.281 | train_accuracy: -19.5335 | val_loss: 5.4833 | val_accuracy: -8.7176\n",
      "🏃 View run Fold-4 at: http://127.0.0.1:5001/#/experiments/1/runs/5bccf7cff9b54ba4bfc777301838bb5e\n",
      "🧪 View experiment at: http://127.0.0.1:5001/#/experiments/1\n",
      "✅ Fold: normal | Model: LassoRegression | MSE: 5.4754 | R²: -8.3687\n",
      "🏃 View run method-normal-lr-0.01-reg-LassoRegression-poly-Linear-momentum-Momentum is not used-weight-xavier at: http://127.0.0.1:5001/#/experiments/1/runs/7ec9ef80fed74b7dafa78692a1b9c5d9\n",
      "🧪 View experiment at: http://127.0.0.1:5001/#/experiments/1\n",
      " Running LassoRegression | normal | Linear | xavier | Momentum is not used | LR: 0.001\n",
      "(5330,)\n",
      "torch.Size([5330, 12])\n",
      "0 --> train_loss: 136.211 | train_accuracy: -247.9534 | val_loss: 93.2505 | val_accuracy: -162.0262\n",
      "🏃 View run Fold-0 at: http://127.0.0.1:5001/#/experiments/1/runs/db5b98f690ab46f59d1f564f10ae6703\n",
      "🧪 View experiment at: http://127.0.0.1:5001/#/experiments/1\n",
      "1 --> train_loss: 101.883 | train_accuracy: -183.8966 | val_loss: 48.2727 | val_accuracy: -91.1277\n",
      "🏃 View run Fold-1 at: http://127.0.0.1:5001/#/experiments/1/runs/72643c18a8b44e1496cf97f85d477aab\n",
      "🧪 View experiment at: http://127.0.0.1:5001/#/experiments/1\n",
      "2 --> train_loss: 80.111 | train_accuracy: -144.3078 | val_loss: 27.2930 | val_accuracy: -48.8082\n",
      "🏃 View run Fold-2 at: http://127.0.0.1:5001/#/experiments/1/runs/1a940007c0cd46028aaa158f7a64ba87\n",
      "🧪 View experiment at: http://127.0.0.1:5001/#/experiments/1\n",
      "3 --> train_loss: 65.601 | train_accuracy: -117.9710 | val_loss: 16.0055 | val_accuracy: -28.0298\n",
      "🏃 View run Fold-3 at: http://127.0.0.1:5001/#/experiments/1/runs/d0f1c41a2e634a3fb7b1cbe1ad87dab0\n",
      "🧪 View experiment at: http://127.0.0.1:5001/#/experiments/1\n"
     ]
    },
    {
     "name": "stderr",
     "output_type": "stream",
     "text": [
      "2025/02/03 03:49:07 WARNING mlflow.models.signature: Failed to infer schema for outputs. Setting schema to `Schema([ColSpec(type=AnyType())]` as default. To see the full traceback, set logging level to DEBUG.\n",
      "2025/02/03 03:49:07 WARNING mlflow.sklearn: Model was missing function: predict. Not logging python_function flavor!\n"
     ]
    },
    {
     "name": "stdout",
     "output_type": "stream",
     "text": [
      "4 --> train_loss: 55.325 | train_accuracy: -99.3567 | val_loss: 12.9487 | val_accuracy: -21.9481\n",
      "🏃 View run Fold-4 at: http://127.0.0.1:5001/#/experiments/1/runs/0d8a764130f641ba9daa023bc667703a\n",
      "🧪 View experiment at: http://127.0.0.1:5001/#/experiments/1\n",
      "✅ Fold: normal | Model: LassoRegression | MSE: 12.2695 | R²: -19.9939\n",
      "🏃 View run method-normal-lr-0.001-reg-LassoRegression-poly-Linear-momentum-Momentum is not used-weight-xavier at: http://127.0.0.1:5001/#/experiments/1/runs/a207b7acd73c41d093cdaf292a925423\n",
      "🧪 View experiment at: http://127.0.0.1:5001/#/experiments/1\n",
      " Running LassoRegression | normal | Linear | xavier | Momentum is not used | LR: 0.0001\n",
      "(5330,)\n",
      "torch.Size([5330, 12])\n",
      "0 --> train_loss: 167.422 | train_accuracy: -304.9976 | val_loss: 160.8633 | val_accuracy: -280.2309\n",
      "🏃 View run Fold-0 at: http://127.0.0.1:5001/#/experiments/1/runs/30ad7ea09245406a947935863b689bd9\n",
      "🧪 View experiment at: http://127.0.0.1:5001/#/experiments/1\n",
      "1 --> train_loss: 161.533 | train_accuracy: -291.2051 | val_loss: 146.9416 | val_accuracy: -279.4359\n",
      "🏃 View run Fold-1 at: http://127.0.0.1:5001/#/experiments/1/runs/bd91cf7641f34a35a78fee140a158eb5\n",
      "🧪 View experiment at: http://127.0.0.1:5001/#/experiments/1\n",
      "2 --> train_loss: 155.734 | train_accuracy: -280.6914 | val_loss: 136.6897 | val_accuracy: -248.4513\n",
      "🏃 View run Fold-2 at: http://127.0.0.1:5001/#/experiments/1/runs/8a436a7e2b7e4a30bbed23aedf5fa036\n",
      "🧪 View experiment at: http://127.0.0.1:5001/#/experiments/1\n",
      "3 --> train_loss: 149.955 | train_accuracy: -270.2992 | val_loss: 131.8042 | val_accuracy: -238.0585\n",
      "🏃 View run Fold-3 at: http://127.0.0.1:5001/#/experiments/1/runs/19d6d60e3e26428eb05a16605ca86b2d\n",
      "🧪 View experiment at: http://127.0.0.1:5001/#/experiments/1\n"
     ]
    },
    {
     "name": "stderr",
     "output_type": "stream",
     "text": [
      "2025/02/03 03:49:15 WARNING mlflow.models.signature: Failed to infer schema for outputs. Setting schema to `Schema([ColSpec(type=AnyType())]` as default. To see the full traceback, set logging level to DEBUG.\n",
      "2025/02/03 03:49:15 WARNING mlflow.sklearn: Model was missing function: predict. Not logging python_function flavor!\n"
     ]
    },
    {
     "name": "stdout",
     "output_type": "stream",
     "text": [
      "4 --> train_loss: 144.779 | train_accuracy: -261.2332 | val_loss: 120.2065 | val_accuracy: -212.0332\n",
      "🏃 View run Fold-4 at: http://127.0.0.1:5001/#/experiments/1/runs/66c826be2ffb4987afefd996a54c401c\n",
      "🧪 View experiment at: http://127.0.0.1:5001/#/experiments/1\n",
      "✅ Fold: normal | Model: LassoRegression | MSE: 118.2935 | R²: -201.4073\n",
      "🏃 View run method-normal-lr-0.0001-reg-LassoRegression-poly-Linear-momentum-Momentum is not used-weight-xavier at: http://127.0.0.1:5001/#/experiments/1/runs/7dd72c8e7d044bb48ca37f9ddb4ed67d\n",
      "🧪 View experiment at: http://127.0.0.1:5001/#/experiments/1\n",
      " Running LassoRegression | normal | Linear | xavier | Momentum is used | LR: 0.01\n",
      "(5330,)\n",
      "torch.Size([5330, 12])\n",
      "0 --> train_loss: 118.550 | train_accuracy: -215.6743 | val_loss: 55.8638 | val_accuracy: -96.6645\n",
      "🏃 View run Fold-0 at: http://127.0.0.1:5001/#/experiments/1/runs/0d200f280e4a44ff88d2067ec8bc3455\n",
      "🧪 View experiment at: http://127.0.0.1:5001/#/experiments/1\n",
      "1 --> train_loss: 75.740 | train_accuracy: -136.7891 | val_loss: 17.9453 | val_accuracy: -33.2484\n",
      "🏃 View run Fold-1 at: http://127.0.0.1:5001/#/experiments/1/runs/65e1c6ebe4ec40ebb9cc8c8e8e17dc04\n",
      "🧪 View experiment at: http://127.0.0.1:5001/#/experiments/1\n",
      "2 --> train_loss: 54.772 | train_accuracy: -98.5969 | val_loss: 8.9794 | val_accuracy: -15.3869\n",
      "🏃 View run Fold-2 at: http://127.0.0.1:5001/#/experiments/1/runs/8a8c2b85fab142b9bc0884c971980cf7\n",
      "🧪 View experiment at: http://127.0.0.1:5001/#/experiments/1\n",
      "3 --> train_loss: 43.010 | train_accuracy: -77.1947 | val_loss: 6.1032 | val_accuracy: -10.0697\n",
      "🏃 View run Fold-3 at: http://127.0.0.1:5001/#/experiments/1/runs/7d63bc24ea624e48944f474edd65d194\n",
      "🧪 View experiment at: http://127.0.0.1:5001/#/experiments/1\n"
     ]
    },
    {
     "name": "stderr",
     "output_type": "stream",
     "text": [
      "2025/02/03 03:49:23 WARNING mlflow.models.signature: Failed to infer schema for outputs. Setting schema to `Schema([ColSpec(type=AnyType())]` as default. To see the full traceback, set logging level to DEBUG.\n",
      "2025/02/03 03:49:23 WARNING mlflow.sklearn: Model was missing function: predict. Not logging python_function flavor!\n"
     ]
    },
    {
     "name": "stdout",
     "output_type": "stream",
     "text": [
      "4 --> train_loss: 35.588 | train_accuracy: -63.7042 | val_loss: 6.1464 | val_accuracy: -9.8928\n",
      "🏃 View run Fold-4 at: http://127.0.0.1:5001/#/experiments/1/runs/763736f51c2b4bae8227a7a545172c83\n",
      "🧪 View experiment at: http://127.0.0.1:5001/#/experiments/1\n",
      "✅ Fold: normal | Model: LassoRegression | MSE: 5.8627 | R²: -9.0314\n",
      "🏃 View run method-normal-lr-0.01-reg-LassoRegression-poly-Linear-momentum-Momentum is used-weight-xavier at: http://127.0.0.1:5001/#/experiments/1/runs/f8b1f3c46199450cb08f08f354208737\n",
      "🧪 View experiment at: http://127.0.0.1:5001/#/experiments/1\n",
      " Running LassoRegression | normal | Linear | xavier | Momentum is used | LR: 0.001\n",
      "(5330,)\n",
      "torch.Size([5330, 12])\n",
      "0 --> train_loss: 143.661 | train_accuracy: -261.5690 | val_loss: 133.8232 | val_accuracy: -232.9578\n",
      "🏃 View run Fold-0 at: http://127.0.0.1:5001/#/experiments/1/runs/e20c4ea19dd147fdaf8eebfa2b006e60\n",
      "🧪 View experiment at: http://127.0.0.1:5001/#/experiments/1\n",
      "1 --> train_loss: 133.884 | train_accuracy: -241.2839 | val_loss: 114.5948 | val_accuracy: -217.7026\n",
      "🏃 View run Fold-1 at: http://127.0.0.1:5001/#/experiments/1/runs/4e183420bc8244b68e16b8764c86609b\n",
      "🧪 View experiment at: http://127.0.0.1:5001/#/experiments/1\n",
      "2 --> train_loss: 125.192 | train_accuracy: -225.5120 | val_loss: 98.4850 | val_accuracy: -178.7298\n",
      "🏃 View run Fold-2 at: http://127.0.0.1:5001/#/experiments/1/runs/2434935510f54d9284c9535796d68715\n",
      "🧪 View experiment at: http://127.0.0.1:5001/#/experiments/1\n",
      "3 --> train_loss: 117.166 | train_accuracy: -211.0217 | val_loss: 88.1260 | val_accuracy: -158.8376\n",
      "🏃 View run Fold-3 at: http://127.0.0.1:5001/#/experiments/1/runs/43abb210411b40bfb522dbe53372414f\n",
      "🧪 View experiment at: http://127.0.0.1:5001/#/experiments/1\n"
     ]
    },
    {
     "name": "stderr",
     "output_type": "stream",
     "text": [
      "2025/02/03 03:49:31 WARNING mlflow.models.signature: Failed to infer schema for outputs. Setting schema to `Schema([ColSpec(type=AnyType())]` as default. To see the full traceback, set logging level to DEBUG.\n",
      "2025/02/03 03:49:31 WARNING mlflow.sklearn: Model was missing function: predict. Not logging python_function flavor!\n"
     ]
    },
    {
     "name": "stdout",
     "output_type": "stream",
     "text": [
      "4 --> train_loss: 110.014 | train_accuracy: -198.2683 | val_loss: 76.3019 | val_accuracy: -134.2243\n",
      "🏃 View run Fold-4 at: http://127.0.0.1:5001/#/experiments/1/runs/d6b2775aaf89414d8130a024f1e4249e\n",
      "🧪 View experiment at: http://127.0.0.1:5001/#/experiments/1\n",
      "✅ Fold: normal | Model: LassoRegression | MSE: 75.5295 | R²: -128.2355\n",
      "🏃 View run method-normal-lr-0.001-reg-LassoRegression-poly-Linear-momentum-Momentum is used-weight-xavier at: http://127.0.0.1:5001/#/experiments/1/runs/36ba1feef32e40cd9381464039c88597\n",
      "🧪 View experiment at: http://127.0.0.1:5001/#/experiments/1\n",
      " Running LassoRegression | normal | Linear | xavier | Momentum is used | LR: 0.0001\n",
      "(5330,)\n",
      "torch.Size([5330, 12])\n",
      "0 --> train_loss: 232.595 | train_accuracy: -424.1140 | val_loss: 229.2563 | val_accuracy: -399.7997\n",
      "🏃 View run Fold-0 at: http://127.0.0.1:5001/#/experiments/1/runs/4432258c5a0a472ea5aab844b72be578\n",
      "🧪 View experiment at: http://127.0.0.1:5001/#/experiments/1\n",
      "1 --> train_loss: 230.619 | train_accuracy: -416.0529 | val_loss: 226.8895 | val_accuracy: -432.0154\n",
      "🏃 View run Fold-1 at: http://127.0.0.1:5001/#/experiments/1/runs/fe8440e99e054ec3a9c8483f9ff993ff\n",
      "🧪 View experiment at: http://127.0.0.1:5001/#/experiments/1\n",
      "2 --> train_loss: 228.843 | train_accuracy: -412.8457 | val_loss: 222.4465 | val_accuracy: -404.9530\n",
      "🏃 View run Fold-2 at: http://127.0.0.1:5001/#/experiments/1/runs/04c6231ae4bc44a2aea88a82583a9014\n",
      "🧪 View experiment at: http://127.0.0.1:5001/#/experiments/1\n",
      "3 --> train_loss: 227.049 | train_accuracy: -409.7230 | val_loss: 219.3570 | val_accuracy: -396.8564\n",
      "🏃 View run Fold-3 at: http://127.0.0.1:5001/#/experiments/1/runs/e20c0d0d08bf436cadaddcec26db54b9\n",
      "🧪 View experiment at: http://127.0.0.1:5001/#/experiments/1\n"
     ]
    },
    {
     "name": "stderr",
     "output_type": "stream",
     "text": [
      "2025/02/03 03:49:38 WARNING mlflow.models.signature: Failed to infer schema for outputs. Setting schema to `Schema([ColSpec(type=AnyType())]` as default. To see the full traceback, set logging level to DEBUG.\n",
      "2025/02/03 03:49:38 WARNING mlflow.sklearn: Model was missing function: predict. Not logging python_function flavor!\n"
     ]
    },
    {
     "name": "stdout",
     "output_type": "stream",
     "text": [
      "4 --> train_loss: 225.137 | train_accuracy: -406.7997 | val_loss: 218.7670 | val_accuracy: -386.7047\n",
      "🏃 View run Fold-4 at: http://127.0.0.1:5001/#/experiments/1/runs/71d8261ae38d4aa380f40c323dd4fba9\n",
      "🧪 View experiment at: http://127.0.0.1:5001/#/experiments/1\n",
      "✅ Fold: normal | Model: LassoRegression | MSE: 217.6371 | R²: -371.3901\n",
      "🏃 View run method-normal-lr-0.0001-reg-LassoRegression-poly-Linear-momentum-Momentum is used-weight-xavier at: http://127.0.0.1:5001/#/experiments/1/runs/033b0dd18cf640cdb5e654683faae2f6\n",
      "🧪 View experiment at: http://127.0.0.1:5001/#/experiments/1\n",
      " Running LassoRegression | normal | Polynomial | zeros | Momentum is not used | LR: 0.01\n",
      "(5330,)\n",
      "torch.Size([5330, 90])\n",
      "0 --> train_loss: 14.415 | train_accuracy: -25.3469 | val_loss: 7.9326 | val_accuracy: -12.8683\n",
      "🏃 View run Fold-0 at: http://127.0.0.1:5001/#/experiments/1/runs/6ccea407afc942c994c9ef366156bbd9\n",
      "🧪 View experiment at: http://127.0.0.1:5001/#/experiments/1\n",
      "1 --> train_loss: 10.760 | train_accuracy: -18.5287 | val_loss: 5.8546 | val_accuracy: -10.1734\n",
      "🏃 View run Fold-1 at: http://127.0.0.1:5001/#/experiments/1/runs/890e492ddc4f42089029e8a8769b4810\n",
      "🧪 View experiment at: http://127.0.0.1:5001/#/experiments/1\n",
      "2 --> train_loss: 9.321 | train_accuracy: -15.9027 | val_loss: 6.0324 | val_accuracy: -10.0088\n",
      "🏃 View run Fold-2 at: http://127.0.0.1:5001/#/experiments/1/runs/ba28c84e3b114445ab81f3cfdd62b892\n",
      "🧪 View experiment at: http://127.0.0.1:5001/#/experiments/1\n",
      "3 --> train_loss: 8.496 | train_accuracy: -14.4018 | val_loss: 6.0507 | val_accuracy: -9.9744\n",
      "🏃 View run Fold-3 at: http://127.0.0.1:5001/#/experiments/1/runs/c4671d90255d4ddc9ace2c6980368eb7\n",
      "🧪 View experiment at: http://127.0.0.1:5001/#/experiments/1\n"
     ]
    },
    {
     "name": "stderr",
     "output_type": "stream",
     "text": [
      "2025/02/03 03:49:46 WARNING mlflow.models.signature: Failed to infer schema for outputs. Setting schema to `Schema([ColSpec(type=AnyType())]` as default. To see the full traceback, set logging level to DEBUG.\n",
      "2025/02/03 03:49:46 WARNING mlflow.sklearn: Model was missing function: predict. Not logging python_function flavor!\n"
     ]
    },
    {
     "name": "stdout",
     "output_type": "stream",
     "text": [
      "4 --> train_loss: 7.925 | train_accuracy: -13.3764 | val_loss: 6.8656 | val_accuracy: -11.1674\n",
      "🏃 View run Fold-4 at: http://127.0.0.1:5001/#/experiments/1/runs/3e7234a7e09b4f28b9b9a9f6ff388318\n",
      "🧪 View experiment at: http://127.0.0.1:5001/#/experiments/1\n",
      "✅ Fold: normal | Model: LassoRegression | MSE: 6.0284 | R²: -9.3149\n",
      "🏃 View run method-normal-lr-0.01-reg-LassoRegression-poly-Polynomial-momentum-Momentum is not used-weight-zeros at: http://127.0.0.1:5001/#/experiments/1/runs/99254c2e492a4329ab4e6ae97d538060\n",
      "🧪 View experiment at: http://127.0.0.1:5001/#/experiments/1\n",
      " Running LassoRegression | normal | Polynomial | zeros | Momentum is not used | LR: 0.001\n",
      "(5330,)\n",
      "torch.Size([5330, 90])\n",
      "0 --> train_loss: 59.797 | train_accuracy: -108.2905 | val_loss: 22.8694 | val_accuracy: -38.9817\n",
      "🏃 View run Fold-0 at: http://127.0.0.1:5001/#/experiments/1/runs/b440c89da4594bf2bbb274c7953f57c6\n",
      "🧪 View experiment at: http://127.0.0.1:5001/#/experiments/1\n",
      "1 --> train_loss: 38.441 | train_accuracy: -68.9270 | val_loss: 11.6274 | val_accuracy: -21.1908\n",
      "🏃 View run Fold-1 at: http://127.0.0.1:5001/#/experiments/1/runs/420dd0942d404b93a52c596803f89e0e\n",
      "🧪 View experiment at: http://127.0.0.1:5001/#/experiments/1\n",
      "2 --> train_loss: 29.331 | train_accuracy: -52.3146 | val_loss: 9.8327 | val_accuracy: -16.9441\n",
      "🏃 View run Fold-2 at: http://127.0.0.1:5001/#/experiments/1/runs/02d7186c0e644a5c80e1a2cf484bd97f\n",
      "🧪 View experiment at: http://127.0.0.1:5001/#/experiments/1\n",
      "3 --> train_loss: 24.332 | train_accuracy: -43.2118 | val_loss: 8.6219 | val_accuracy: -14.6378\n",
      "🏃 View run Fold-3 at: http://127.0.0.1:5001/#/experiments/1/runs/b1394c4aec3c4de78ea66c3eb3cd87fb\n",
      "🧪 View experiment at: http://127.0.0.1:5001/#/experiments/1\n"
     ]
    },
    {
     "name": "stderr",
     "output_type": "stream",
     "text": [
      "2025/02/03 03:49:54 WARNING mlflow.models.signature: Failed to infer schema for outputs. Setting schema to `Schema([ColSpec(type=AnyType())]` as default. To see the full traceback, set logging level to DEBUG.\n",
      "2025/02/03 03:49:54 WARNING mlflow.sklearn: Model was missing function: predict. Not logging python_function flavor!\n"
     ]
    },
    {
     "name": "stdout",
     "output_type": "stream",
     "text": [
      "4 --> train_loss: 21.110 | train_accuracy: -37.3647 | val_loss: 9.5227 | val_accuracy: -15.8764\n",
      "🏃 View run Fold-4 at: http://127.0.0.1:5001/#/experiments/1/runs/18fd52501126420abdbcb15211b94758\n",
      "🧪 View experiment at: http://127.0.0.1:5001/#/experiments/1\n",
      "✅ Fold: normal | Model: LassoRegression | MSE: 8.3382 | R²: -13.2671\n",
      "🏃 View run method-normal-lr-0.001-reg-LassoRegression-poly-Polynomial-momentum-Momentum is not used-weight-zeros at: http://127.0.0.1:5001/#/experiments/1/runs/e950ee0d2062490ebe6beda6a66097ea\n",
      "🧪 View experiment at: http://127.0.0.1:5001/#/experiments/1\n",
      " Running LassoRegression | normal | Polynomial | zeros | Momentum is not used | LR: 0.0001\n",
      "(5330,)\n",
      "torch.Size([5330, 90])\n",
      "0 --> train_loss: 140.812 | train_accuracy: -256.3625 | val_loss: 119.0586 | val_accuracy: -207.1454\n",
      "🏃 View run Fold-0 at: http://127.0.0.1:5001/#/experiments/1/runs/f3f4b0dac7a843dfa24fbb3d0191aa3b\n",
      "🧪 View experiment at: http://127.0.0.1:5001/#/experiments/1\n",
      "1 --> train_loss: 121.601 | train_accuracy: -219.2573 | val_loss: 89.7778 | val_accuracy: -170.3396\n",
      "🏃 View run Fold-1 at: http://127.0.0.1:5001/#/experiments/1/runs/e2b2b513a0874f9cb3dc2f9ced265ff0\n",
      "🧪 View experiment at: http://127.0.0.1:5001/#/experiments/1\n",
      "2 --> train_loss: 107.128 | train_accuracy: -192.9688 | val_loss: 69.0797 | val_accuracy: -125.0668\n",
      "🏃 View run Fold-2 at: http://127.0.0.1:5001/#/experiments/1/runs/2ad95a171d8f4404afbec7eff0641a65\n",
      "🧪 View experiment at: http://127.0.0.1:5001/#/experiments/1\n",
      "3 --> train_loss: 95.826 | train_accuracy: -172.5054 | val_loss: 54.6231 | val_accuracy: -98.0721\n",
      "🏃 View run Fold-3 at: http://127.0.0.1:5001/#/experiments/1/runs/2f0487a6ee79453bad4cd2644f2f838a\n",
      "🧪 View experiment at: http://127.0.0.1:5001/#/experiments/1\n"
     ]
    },
    {
     "name": "stderr",
     "output_type": "stream",
     "text": [
      "2025/02/03 03:50:03 WARNING mlflow.models.signature: Failed to infer schema for outputs. Setting schema to `Schema([ColSpec(type=AnyType())]` as default. To see the full traceback, set logging level to DEBUG.\n",
      "2025/02/03 03:50:03 WARNING mlflow.sklearn: Model was missing function: predict. Not logging python_function flavor!\n"
     ]
    },
    {
     "name": "stdout",
     "output_type": "stream",
     "text": [
      "4 --> train_loss: 86.645 | train_accuracy: -155.9872 | val_loss: 46.9787 | val_accuracy: -82.2568\n",
      "🏃 View run Fold-4 at: http://127.0.0.1:5001/#/experiments/1/runs/5bfb704cb1f54b82a7913288039ccc34\n",
      "🧪 View experiment at: http://127.0.0.1:5001/#/experiments/1\n",
      "✅ Fold: normal | Model: LassoRegression | MSE: 44.9114 | R²: -75.8462\n",
      "🏃 View run method-normal-lr-0.0001-reg-LassoRegression-poly-Polynomial-momentum-Momentum is not used-weight-zeros at: http://127.0.0.1:5001/#/experiments/1/runs/aa20211b735044d785cb8602e5a812ae\n",
      "🧪 View experiment at: http://127.0.0.1:5001/#/experiments/1\n",
      " Running LassoRegression | normal | Polynomial | zeros | Momentum is used | LR: 0.01\n",
      "(5330,)\n",
      "torch.Size([5330, 90])\n",
      "0 --> train_loss: 36.620 | train_accuracy: -65.9306 | val_loss: 12.6863 | val_accuracy: -21.1790\n",
      "🏃 View run Fold-0 at: http://127.0.0.1:5001/#/experiments/1/runs/e67060a3b70c4e0d8f07c708288dc7b2\n",
      "🧪 View experiment at: http://127.0.0.1:5001/#/experiments/1\n",
      "1 --> train_loss: 23.547 | train_accuracy: -41.8339 | val_loss: 7.9387 | val_accuracy: -14.1509\n",
      "🏃 View run Fold-1 at: http://127.0.0.1:5001/#/experiments/1/runs/dc4d7c747cbc442a94ce13d07df48441\n",
      "🧪 View experiment at: http://127.0.0.1:5001/#/experiments/1\n",
      "2 --> train_loss: 18.482 | train_accuracy: -32.5901 | val_loss: 7.7897 | val_accuracy: -13.2157\n",
      "🏃 View run Fold-2 at: http://127.0.0.1:5001/#/experiments/1/runs/61df498ae8d94f9493a7e07a6d5b8b49\n",
      "🧪 View experiment at: http://127.0.0.1:5001/#/experiments/1\n",
      "3 --> train_loss: 15.793 | train_accuracy: -27.6907 | val_loss: 7.3348 | val_accuracy: -12.3033\n",
      "🏃 View run Fold-3 at: http://127.0.0.1:5001/#/experiments/1/runs/719fa5f260b34cfd93cbba958e4a0887\n",
      "🧪 View experiment at: http://127.0.0.1:5001/#/experiments/1\n"
     ]
    },
    {
     "name": "stderr",
     "output_type": "stream",
     "text": [
      "2025/02/03 03:50:11 WARNING mlflow.models.signature: Failed to infer schema for outputs. Setting schema to `Schema([ColSpec(type=AnyType())]` as default. To see the full traceback, set logging level to DEBUG.\n",
      "2025/02/03 03:50:11 WARNING mlflow.sklearn: Model was missing function: predict. Not logging python_function flavor!\n"
     ]
    },
    {
     "name": "stdout",
     "output_type": "stream",
     "text": [
      "4 --> train_loss: 14.071 | train_accuracy: -24.5681 | val_loss: 8.6005 | val_accuracy: -14.2421\n",
      "🏃 View run Fold-4 at: http://127.0.0.1:5001/#/experiments/1/runs/c5bb7aec65974e6b8b8ca11b6cb3b7eb\n",
      "🧪 View experiment at: http://127.0.0.1:5001/#/experiments/1\n",
      "✅ Fold: normal | Model: LassoRegression | MSE: 7.4794 | R²: -11.7976\n",
      "🏃 View run method-normal-lr-0.01-reg-LassoRegression-poly-Polynomial-momentum-Momentum is used-weight-zeros at: http://127.0.0.1:5001/#/experiments/1/runs/53dab8acbee246d49032e3e4e8dd7fe3\n",
      "🧪 View experiment at: http://127.0.0.1:5001/#/experiments/1\n",
      " Running LassoRegression | normal | Polynomial | zeros | Momentum is used | LR: 0.001\n",
      "(5330,)\n",
      "torch.Size([5330, 90])\n",
      "0 --> train_loss: 120.158 | train_accuracy: -218.6119 | val_loss: 88.1366 | val_accuracy: -153.0857\n",
      "🏃 View run Fold-0 at: http://127.0.0.1:5001/#/experiments/1/runs/236374cade4947699988e06cc991202b\n",
      "🧪 View experiment at: http://127.0.0.1:5001/#/experiments/1\n",
      "1 --> train_loss: 94.850 | train_accuracy: -171.0047 | val_loss: 55.4128 | val_accuracy: -104.7545\n",
      "🏃 View run Fold-1 at: http://127.0.0.1:5001/#/experiments/1/runs/6e4bb5fd753a4ea19ecaf6047afd7e59\n",
      "🧪 View experiment at: http://127.0.0.1:5001/#/experiments/1\n",
      "2 --> train_loss: 78.614 | train_accuracy: -141.4844 | val_loss: 38.8182 | val_accuracy: -69.8411\n",
      "🏃 View run Fold-2 at: http://127.0.0.1:5001/#/experiments/1/runs/1d7285a64da34c42aa0b146d1b979203\n",
      "🧪 View experiment at: http://127.0.0.1:5001/#/experiments/1\n",
      "3 --> train_loss: 67.394 | train_accuracy: -121.1330 | val_loss: 29.1298 | val_accuracy: -51.8338\n",
      "🏃 View run Fold-3 at: http://127.0.0.1:5001/#/experiments/1/runs/c1d9ecb67d3041c6ae5f3ede9616917b\n",
      "🧪 View experiment at: http://127.0.0.1:5001/#/experiments/1\n"
     ]
    },
    {
     "name": "stderr",
     "output_type": "stream",
     "text": [
      "2025/02/03 03:50:19 WARNING mlflow.models.signature: Failed to infer schema for outputs. Setting schema to `Schema([ColSpec(type=AnyType())]` as default. To see the full traceback, set logging level to DEBUG.\n",
      "2025/02/03 03:50:19 WARNING mlflow.sklearn: Model was missing function: predict. Not logging python_function flavor!\n"
     ]
    },
    {
     "name": "stdout",
     "output_type": "stream",
     "text": [
      "4 --> train_loss: 59.072 | train_accuracy: -106.0988 | val_loss: 25.9916 | val_accuracy: -45.0630\n",
      "🏃 View run Fold-4 at: http://127.0.0.1:5001/#/experiments/1/runs/7827c30f934840d69a244e118e0bc4d1\n",
      "🧪 View experiment at: http://127.0.0.1:5001/#/experiments/1\n",
      "✅ Fold: normal | Model: LassoRegression | MSE: 22.9783 | R²: -38.3173\n",
      "🏃 View run method-normal-lr-0.001-reg-LassoRegression-poly-Polynomial-momentum-Momentum is used-weight-zeros at: http://127.0.0.1:5001/#/experiments/1/runs/700a628d3d814958bc0efbc23b3a38f6\n",
      "🧪 View experiment at: http://127.0.0.1:5001/#/experiments/1\n",
      " Running LassoRegression | normal | Polynomial | zeros | Momentum is used | LR: 0.0001\n",
      "(5330,)\n",
      "torch.Size([5330, 90])\n",
      "0 --> train_loss: 160.582 | train_accuracy: -292.4952 | val_loss: 155.1170 | val_accuracy: -270.1848\n",
      "🏃 View run Fold-0 at: http://127.0.0.1:5001/#/experiments/1/runs/5bf601a955844d6d9d7a1ec2f3537563\n",
      "🧪 View experiment at: http://127.0.0.1:5001/#/experiments/1\n",
      "1 --> train_loss: 154.944 | train_accuracy: -279.2863 | val_loss: 145.4370 | val_accuracy: -276.5645\n",
      "🏃 View run Fold-1 at: http://127.0.0.1:5001/#/experiments/1/runs/77d3c0bdfc6646bf953fdd3c10c6c9db\n",
      "🧪 View experiment at: http://127.0.0.1:5001/#/experiments/1\n",
      "2 --> train_loss: 149.821 | train_accuracy: -269.9971 | val_loss: 134.8854 | val_accuracy: -245.1587\n",
      "🏃 View run Fold-2 at: http://127.0.0.1:5001/#/experiments/1/runs/1987bdff5bcf493d99286d6c2c773f7c\n",
      "🧪 View experiment at: http://127.0.0.1:5001/#/experiments/1\n",
      "3 --> train_loss: 145.035 | train_accuracy: -261.3984 | val_loss: 125.8868 | val_accuracy: -227.3259\n",
      "🏃 View run Fold-3 at: http://127.0.0.1:5001/#/experiments/1/runs/2e6d75597b79462e9120dc7bf03ebd17\n",
      "🧪 View experiment at: http://127.0.0.1:5001/#/experiments/1\n"
     ]
    },
    {
     "name": "stderr",
     "output_type": "stream",
     "text": [
      "2025/02/03 03:50:27 WARNING mlflow.models.signature: Failed to infer schema for outputs. Setting schema to `Schema([ColSpec(type=AnyType())]` as default. To see the full traceback, set logging level to DEBUG.\n",
      "2025/02/03 03:50:27 WARNING mlflow.sklearn: Model was missing function: predict. Not logging python_function flavor!\n"
     ]
    },
    {
     "name": "stdout",
     "output_type": "stream",
     "text": [
      "4 --> train_loss: 140.579 | train_accuracy: -253.6322 | val_loss: 117.2597 | val_accuracy: -206.8109\n",
      "🏃 View run Fold-4 at: http://127.0.0.1:5001/#/experiments/1/runs/ad0f5868acba4eeeb853f41377c66568\n",
      "🧪 View experiment at: http://127.0.0.1:5001/#/experiments/1\n",
      "✅ Fold: normal | Model: LassoRegression | MSE: 118.5014 | R²: -201.7630\n",
      "🏃 View run method-normal-lr-0.0001-reg-LassoRegression-poly-Polynomial-momentum-Momentum is used-weight-zeros at: http://127.0.0.1:5001/#/experiments/1/runs/715c54e38db3441fb15d696a3a7ccb0b\n",
      "🧪 View experiment at: http://127.0.0.1:5001/#/experiments/1\n",
      " Running LassoRegression | normal | Polynomial | xavier | Momentum is not used | LR: 0.01\n",
      "(5330,)\n",
      "torch.Size([5330, 90])\n",
      "0 --> train_loss: 15.673 | train_accuracy: -27.6464 | val_loss: 7.7094 | val_accuracy: -12.4781\n",
      "🏃 View run Fold-0 at: http://127.0.0.1:5001/#/experiments/1/runs/084287a9e7b549898c1f5e27db12a21a\n",
      "🧪 View experiment at: http://127.0.0.1:5001/#/experiments/1\n",
      "1 --> train_loss: 11.298 | train_accuracy: -19.5146 | val_loss: 5.8125 | val_accuracy: -10.0932\n",
      "🏃 View run Fold-1 at: http://127.0.0.1:5001/#/experiments/1/runs/a45e32df774c411a904ba7f082783a44\n",
      "🧪 View experiment at: http://127.0.0.1:5001/#/experiments/1\n",
      "2 --> train_loss: 9.660 | train_accuracy: -16.5243 | val_loss: 6.0066 | val_accuracy: -9.9618\n",
      "🏃 View run Fold-2 at: http://127.0.0.1:5001/#/experiments/1/runs/356145081a9e4720a0c046aae621d42c\n",
      "🧪 View experiment at: http://127.0.0.1:5001/#/experiments/1\n",
      "3 --> train_loss: 8.739 | train_accuracy: -14.8483 | val_loss: 5.9443 | val_accuracy: -9.7813\n",
      "🏃 View run Fold-3 at: http://127.0.0.1:5001/#/experiments/1/runs/2c0117e8fd2a4d0d87bab113326b3dc2\n",
      "🧪 View experiment at: http://127.0.0.1:5001/#/experiments/1\n"
     ]
    },
    {
     "name": "stderr",
     "output_type": "stream",
     "text": [
      "2025/02/03 03:50:34 WARNING mlflow.models.signature: Failed to infer schema for outputs. Setting schema to `Schema([ColSpec(type=AnyType())]` as default. To see the full traceback, set logging level to DEBUG.\n",
      "2025/02/03 03:50:35 WARNING mlflow.sklearn: Model was missing function: predict. Not logging python_function flavor!\n"
     ]
    },
    {
     "name": "stdout",
     "output_type": "stream",
     "text": [
      "4 --> train_loss: 8.108 | train_accuracy: -13.7122 | val_loss: 6.7870 | val_accuracy: -11.0281\n",
      "🏃 View run Fold-4 at: http://127.0.0.1:5001/#/experiments/1/runs/eba7abf93380459d95adaddebfe402b0\n",
      "🧪 View experiment at: http://127.0.0.1:5001/#/experiments/1\n",
      "✅ Fold: normal | Model: LassoRegression | MSE: 5.9545 | R²: -9.1885\n",
      "🏃 View run method-normal-lr-0.01-reg-LassoRegression-poly-Polynomial-momentum-Momentum is not used-weight-xavier at: http://127.0.0.1:5001/#/experiments/1/runs/27cc9a31d2294ce693c9a08af3ee2fba\n",
      "🧪 View experiment at: http://127.0.0.1:5001/#/experiments/1\n",
      " Running LassoRegression | normal | Polynomial | xavier | Momentum is not used | LR: 0.001\n",
      "(5330,)\n",
      "torch.Size([5330, 90])\n",
      "0 --> train_loss: 63.754 | train_accuracy: -115.5230 | val_loss: 23.4965 | val_accuracy: -40.0780\n",
      "🏃 View run Fold-0 at: http://127.0.0.1:5001/#/experiments/1/runs/ac8b574d283c47668e2fe827d65a373b\n",
      "🧪 View experiment at: http://127.0.0.1:5001/#/experiments/1\n",
      "1 --> train_loss: 40.653 | train_accuracy: -72.9608 | val_loss: 11.8371 | val_accuracy: -21.5910\n",
      "🏃 View run Fold-1 at: http://127.0.0.1:5001/#/experiments/1/runs/01aaa5546cc34e3887bfbcf850e24c59\n",
      "🧪 View experiment at: http://127.0.0.1:5001/#/experiments/1\n",
      "2 --> train_loss: 30.928 | train_accuracy: -55.2261 | val_loss: 10.1411 | val_accuracy: -17.5070\n",
      "🏃 View run Fold-2 at: http://127.0.0.1:5001/#/experiments/1/runs/025ff707992a4ee184bc4449de46c131\n",
      "🧪 View experiment at: http://127.0.0.1:5001/#/experiments/1\n",
      "3 --> train_loss: 25.576 | train_accuracy: -45.4784 | val_loss: 8.9825 | val_accuracy: -15.2920\n",
      "🏃 View run Fold-3 at: http://127.0.0.1:5001/#/experiments/1/runs/14990df178d149639d5cfa037c6f5cb0\n",
      "🧪 View experiment at: http://127.0.0.1:5001/#/experiments/1\n"
     ]
    },
    {
     "name": "stderr",
     "output_type": "stream",
     "text": [
      "2025/02/03 03:50:42 WARNING mlflow.models.signature: Failed to infer schema for outputs. Setting schema to `Schema([ColSpec(type=AnyType())]` as default. To see the full traceback, set logging level to DEBUG.\n",
      "2025/02/03 03:50:42 WARNING mlflow.sklearn: Model was missing function: predict. Not logging python_function flavor!\n"
     ]
    },
    {
     "name": "stdout",
     "output_type": "stream",
     "text": [
      "4 --> train_loss: 22.142 | train_accuracy: -39.2456 | val_loss: 9.5995 | val_accuracy: -16.0124\n",
      "🏃 View run Fold-4 at: http://127.0.0.1:5001/#/experiments/1/runs/541808b8dc7f4d4ab8de41cbc568248a\n",
      "🧪 View experiment at: http://127.0.0.1:5001/#/experiments/1\n",
      "✅ Fold: normal | Model: LassoRegression | MSE: 8.5448 | R²: -13.6207\n",
      "🏃 View run method-normal-lr-0.001-reg-LassoRegression-poly-Polynomial-momentum-Momentum is not used-weight-xavier at: http://127.0.0.1:5001/#/experiments/1/runs/643cd74252a64db2884baee862bbc547\n",
      "🧪 View experiment at: http://127.0.0.1:5001/#/experiments/1\n",
      " Running LassoRegression | normal | Polynomial | xavier | Momentum is not used | LR: 0.0001\n",
      "(5330,)\n",
      "torch.Size([5330, 90])\n",
      "0 --> train_loss: 155.649 | train_accuracy: -283.4793 | val_loss: 129.4927 | val_accuracy: -225.3869\n",
      "🏃 View run Fold-0 at: http://127.0.0.1:5001/#/experiments/1/runs/a0981cb210744a9a97254407e9635300\n",
      "🧪 View experiment at: http://127.0.0.1:5001/#/experiments/1\n",
      "1 --> train_loss: 133.105 | train_accuracy: -240.1250 | val_loss: 95.2577 | val_accuracy: -180.7980\n",
      "🏃 View run Fold-1 at: http://127.0.0.1:5001/#/experiments/1/runs/b82a0fbef110424abba0aa3600880668\n",
      "🧪 View experiment at: http://127.0.0.1:5001/#/experiments/1\n",
      "2 --> train_loss: 116.186 | train_accuracy: -209.3909 | val_loss: 72.0699 | val_accuracy: -130.5237\n",
      "🏃 View run Fold-2 at: http://127.0.0.1:5001/#/experiments/1/runs/3a2a62b6ebc1465bb90c719d82bf9958\n",
      "🧪 View experiment at: http://127.0.0.1:5001/#/experiments/1\n",
      "3 --> train_loss: 103.089 | train_accuracy: -185.6711 | val_loss: 55.4261 | val_accuracy: -99.5284\n",
      "🏃 View run Fold-3 at: http://127.0.0.1:5001/#/experiments/1/runs/9a8d21a2f5f64dfba1e795018f78b24d\n",
      "🧪 View experiment at: http://127.0.0.1:5001/#/experiments/1\n"
     ]
    },
    {
     "name": "stderr",
     "output_type": "stream",
     "text": [
      "2025/02/03 03:50:50 WARNING mlflow.models.signature: Failed to infer schema for outputs. Setting schema to `Schema([ColSpec(type=AnyType())]` as default. To see the full traceback, set logging level to DEBUG.\n",
      "2025/02/03 03:50:50 WARNING mlflow.sklearn: Model was missing function: predict. Not logging python_function flavor!\n"
     ]
    },
    {
     "name": "stdout",
     "output_type": "stream",
     "text": [
      "4 --> train_loss: 92.558 | train_accuracy: -166.7075 | val_loss: 46.4706 | val_accuracy: -81.3565\n",
      "🏃 View run Fold-4 at: http://127.0.0.1:5001/#/experiments/1/runs/3e438e76ff014ca7933cc4af4be44d69\n",
      "🧪 View experiment at: http://127.0.0.1:5001/#/experiments/1\n",
      "✅ Fold: normal | Model: LassoRegression | MSE: 44.9607 | R²: -75.9304\n",
      "🏃 View run method-normal-lr-0.0001-reg-LassoRegression-poly-Polynomial-momentum-Momentum is not used-weight-xavier at: http://127.0.0.1:5001/#/experiments/1/runs/2250768a174044abbb4f49a8c00889bc\n",
      "🧪 View experiment at: http://127.0.0.1:5001/#/experiments/1\n",
      " Running LassoRegression | normal | Polynomial | xavier | Momentum is used | LR: 0.01\n",
      "(5330,)\n",
      "torch.Size([5330, 90])\n",
      "0 --> train_loss: 45.479 | train_accuracy: -82.1211 | val_loss: 12.9423 | val_accuracy: -21.6265\n",
      "🏃 View run Fold-0 at: http://127.0.0.1:5001/#/experiments/1/runs/cb02351a3676457eacc79f35fbb2eea1\n",
      "🧪 View experiment at: http://127.0.0.1:5001/#/experiments/1\n",
      "1 --> train_loss: 27.965 | train_accuracy: -49.9076 | val_loss: 7.7825 | val_accuracy: -13.8527\n",
      "🏃 View run Fold-1 at: http://127.0.0.1:5001/#/experiments/1/runs/3264b35c3e4543a1b3fa1872d843016b\n",
      "🧪 View experiment at: http://127.0.0.1:5001/#/experiments/1\n",
      "2 --> train_loss: 21.331 | train_accuracy: -37.8002 | val_loss: 7.4888 | val_accuracy: -12.6666\n",
      "🏃 View run Fold-2 at: http://127.0.0.1:5001/#/experiments/1/runs/03469277da5c4ecc9a9a8144c6890c87\n",
      "🧪 View experiment at: http://127.0.0.1:5001/#/experiments/1\n",
      "3 --> train_loss: 17.853 | train_accuracy: -31.4581 | val_loss: 7.0070 | val_accuracy: -11.7089\n",
      "🏃 View run Fold-3 at: http://127.0.0.1:5001/#/experiments/1/runs/70e3e55205a64e5394222e4a1e1a9536\n",
      "🧪 View experiment at: http://127.0.0.1:5001/#/experiments/1\n"
     ]
    },
    {
     "name": "stderr",
     "output_type": "stream",
     "text": [
      "2025/02/03 03:50:58 WARNING mlflow.models.signature: Failed to infer schema for outputs. Setting schema to `Schema([ColSpec(type=AnyType())]` as default. To see the full traceback, set logging level to DEBUG.\n",
      "2025/02/03 03:50:58 WARNING mlflow.sklearn: Model was missing function: predict. Not logging python_function flavor!\n"
     ]
    },
    {
     "name": "stdout",
     "output_type": "stream",
     "text": [
      "4 --> train_loss: 15.663 | train_accuracy: -27.4802 | val_loss: 8.1500 | val_accuracy: -13.4437\n",
      "🏃 View run Fold-4 at: http://127.0.0.1:5001/#/experiments/1/runs/a454cb6d14f3449b98663417a1b70579\n",
      "🧪 View experiment at: http://127.0.0.1:5001/#/experiments/1\n",
      "✅ Fold: normal | Model: LassoRegression | MSE: 7.1712 | R²: -11.2703\n",
      "🏃 View run method-normal-lr-0.01-reg-LassoRegression-poly-Polynomial-momentum-Momentum is used-weight-xavier at: http://127.0.0.1:5001/#/experiments/1/runs/027fb58eb2384b4685510567b8a10202\n",
      "🧪 View experiment at: http://127.0.0.1:5001/#/experiments/1\n",
      " Running LassoRegression | normal | Polynomial | xavier | Momentum is used | LR: 0.001\n",
      "(5330,)\n",
      "torch.Size([5330, 90])\n",
      "0 --> train_loss: 136.704 | train_accuracy: -248.8547 | val_loss: 96.3353 | val_accuracy: -167.4193\n",
      "🏃 View run Fold-0 at: http://127.0.0.1:5001/#/experiments/1/runs/b280bb3fd3ac4ab3877c97987d1725dc\n",
      "🧪 View experiment at: http://127.0.0.1:5001/#/experiments/1\n",
      "1 --> train_loss: 105.891 | train_accuracy: -191.0762 | val_loss: 57.4387 | val_accuracy: -108.6210\n",
      "🏃 View run Fold-1 at: http://127.0.0.1:5001/#/experiments/1/runs/ad22dbe33b7d4832a4078fda6beb9cab\n",
      "🧪 View experiment at: http://127.0.0.1:5001/#/experiments/1\n",
      "2 --> train_loss: 86.403 | train_accuracy: -155.6412 | val_loss: 39.1317 | val_accuracy: -70.4133\n",
      "🏃 View run Fold-2 at: http://127.0.0.1:5001/#/experiments/1/runs/f03446d010934563920cc1ee80ec2d96\n",
      "🧪 View experiment at: http://127.0.0.1:5001/#/experiments/1\n",
      "3 --> train_loss: 73.200 | train_accuracy: -131.6862 | val_loss: 28.9233 | val_accuracy: -51.4594\n",
      "🏃 View run Fold-3 at: http://127.0.0.1:5001/#/experiments/1/runs/8dcb424c4ab848669da789b74c3fdfaa\n",
      "🧪 View experiment at: http://127.0.0.1:5001/#/experiments/1\n"
     ]
    },
    {
     "name": "stderr",
     "output_type": "stream",
     "text": [
      "2025/02/03 03:51:06 WARNING mlflow.models.signature: Failed to infer schema for outputs. Setting schema to `Schema([ColSpec(type=AnyType())]` as default. To see the full traceback, set logging level to DEBUG.\n",
      "2025/02/03 03:51:06 WARNING mlflow.sklearn: Model was missing function: predict. Not logging python_function flavor!\n"
     ]
    },
    {
     "name": "stdout",
     "output_type": "stream",
     "text": [
      "4 --> train_loss: 63.596 | train_accuracy: -114.3206 | val_loss: 25.8386 | val_accuracy: -44.7919\n",
      "🏃 View run Fold-4 at: http://127.0.0.1:5001/#/experiments/1/runs/259c9747761a414780c30a12a0b7c996\n",
      "🧪 View experiment at: http://127.0.0.1:5001/#/experiments/1\n",
      "✅ Fold: normal | Model: LassoRegression | MSE: 21.9502 | R²: -36.5582\n",
      "🏃 View run method-normal-lr-0.001-reg-LassoRegression-poly-Polynomial-momentum-Momentum is used-weight-xavier at: http://127.0.0.1:5001/#/experiments/1/runs/60b9d1c154f443efae9d7a79083fdb6a\n",
      "🧪 View experiment at: http://127.0.0.1:5001/#/experiments/1\n",
      " Running LassoRegression | normal | Polynomial | xavier | Momentum is used | LR: 0.0001\n",
      "(5330,)\n",
      "torch.Size([5330, 90])\n",
      "0 --> train_loss: 192.826 | train_accuracy: -351.4287 | val_loss: 184.1330 | val_accuracy: -320.9124\n",
      "🏃 View run Fold-0 at: http://127.0.0.1:5001/#/experiments/1/runs/9bb283054a3e40edb51514e50269909b\n",
      "🧪 View experiment at: http://127.0.0.1:5001/#/experiments/1\n",
      "1 --> train_loss: 185.073 | train_accuracy: -333.8078 | val_loss: 169.2514 | val_accuracy: -322.0140\n",
      "🏃 View run Fold-1 at: http://127.0.0.1:5001/#/experiments/1/runs/de1416d8b61649d6a9f985344e96b853\n",
      "🧪 View experiment at: http://127.0.0.1:5001/#/experiments/1\n",
      "2 --> train_loss: 177.913 | train_accuracy: -320.8227 | val_loss: 156.0376 | val_accuracy: -283.7603\n",
      "🏃 View run Fold-2 at: http://127.0.0.1:5001/#/experiments/1/runs/bce70d3011754a508116510ccee39a80\n",
      "🧪 View experiment at: http://127.0.0.1:5001/#/experiments/1\n",
      "3 --> train_loss: 171.109 | train_accuracy: -308.5801 | val_loss: 147.3825 | val_accuracy: -266.3134\n",
      "🏃 View run Fold-3 at: http://127.0.0.1:5001/#/experiments/1/runs/1dbb0ce733ed4924a759549f6e8d2ba7\n",
      "🧪 View experiment at: http://127.0.0.1:5001/#/experiments/1\n"
     ]
    },
    {
     "name": "stderr",
     "output_type": "stream",
     "text": [
      "2025/02/03 03:51:14 WARNING mlflow.models.signature: Failed to infer schema for outputs. Setting schema to `Schema([ColSpec(type=AnyType())]` as default. To see the full traceback, set logging level to DEBUG.\n",
      "2025/02/03 03:51:14 WARNING mlflow.sklearn: Model was missing function: predict. Not logging python_function flavor!\n"
     ]
    },
    {
     "name": "stdout",
     "output_type": "stream",
     "text": [
      "4 --> train_loss: 165.042 | train_accuracy: -297.9411 | val_loss: 133.6170 | val_accuracy: -235.7996\n",
      "🏃 View run Fold-4 at: http://127.0.0.1:5001/#/experiments/1/runs/cac641ce60e74503b5197e204aab15af\n",
      "🧪 View experiment at: http://127.0.0.1:5001/#/experiments/1\n",
      "✅ Fold: normal | Model: LassoRegression | MSE: 133.6716 | R²: -227.7201\n",
      "🏃 View run method-normal-lr-0.0001-reg-LassoRegression-poly-Polynomial-momentum-Momentum is used-weight-xavier at: http://127.0.0.1:5001/#/experiments/1/runs/147d4c1d0a8f4c0098bf6dfffae015f2\n",
      "🧪 View experiment at: http://127.0.0.1:5001/#/experiments/1\n",
      " Running LassoRegression | stochastic | Linear | zeros | Momentum is not used | LR: 0.01\n",
      "(5330,)\n",
      "torch.Size([5330, 12])\n",
      "0 --> train_loss: 3.427 | train_accuracy: -inf | val_loss: 5.0056 | val_accuracy: -7.7510\n",
      "🏃 View run Fold-0 at: http://127.0.0.1:5001/#/experiments/1/runs/e8357a250e4a4f36b96f091a23530ffb\n",
      "🧪 View experiment at: http://127.0.0.1:5001/#/experiments/1\n",
      "1 --> train_loss: 4.029 | train_accuracy: -inf | val_loss: 4.7151 | val_accuracy: -7.9988\n",
      "🏃 View run Fold-1 at: http://127.0.0.1:5001/#/experiments/1/runs/e73daa7216514603b799e811fcd500ba\n",
      "🧪 View experiment at: http://127.0.0.1:5001/#/experiments/1\n",
      "2 --> train_loss: 4.123 | train_accuracy: -inf | val_loss: 4.9255 | val_accuracy: -7.9888\n",
      "🏃 View run Fold-2 at: http://127.0.0.1:5001/#/experiments/1/runs/a61dda065e2242e89f121901a9376bc4\n",
      "🧪 View experiment at: http://127.0.0.1:5001/#/experiments/1\n",
      "3 --> train_loss: 4.466 | train_accuracy: -inf | val_loss: 5.3957 | val_accuracy: -8.7864\n",
      "🏃 View run Fold-3 at: http://127.0.0.1:5001/#/experiments/1/runs/c2d3f11fae98457b861a7c200f64444a\n",
      "🧪 View experiment at: http://127.0.0.1:5001/#/experiments/1\n"
     ]
    },
    {
     "name": "stderr",
     "output_type": "stream",
     "text": [
      "2025/02/03 03:53:28 WARNING mlflow.models.signature: Failed to infer schema for outputs. Setting schema to `Schema([ColSpec(type=AnyType())]` as default. To see the full traceback, set logging level to DEBUG.\n",
      "2025/02/03 03:53:28 WARNING mlflow.sklearn: Model was missing function: predict. Not logging python_function flavor!\n"
     ]
    },
    {
     "name": "stdout",
     "output_type": "stream",
     "text": [
      "4 --> train_loss: 4.707 | train_accuracy: -inf | val_loss: 5.9585 | val_accuracy: -9.5599\n",
      "🏃 View run Fold-4 at: http://127.0.0.1:5001/#/experiments/1/runs/7b3cb434c1e347efbce4a862a9bbdd75\n",
      "🧪 View experiment at: http://127.0.0.1:5001/#/experiments/1\n",
      "✅ Fold: stochastic | Model: LassoRegression | MSE: 5.9743 | R²: -9.2224\n",
      "🏃 View run method-stochastic-lr-0.01-reg-LassoRegression-poly-Linear-momentum-Momentum is not used-weight-zeros at: http://127.0.0.1:5001/#/experiments/1/runs/3919517e869c4676809bc7e77b3400e1\n",
      "🧪 View experiment at: http://127.0.0.1:5001/#/experiments/1\n",
      " Running LassoRegression | stochastic | Linear | zeros | Momentum is not used | LR: 0.001\n",
      "(5330,)\n",
      "torch.Size([5330, 12])\n",
      "0 --> train_loss: 4.477 | train_accuracy: -inf | val_loss: 5.2998 | val_accuracy: -8.2655\n",
      "🏃 View run Fold-0 at: http://127.0.0.1:5001/#/experiments/1/runs/b6ee60f4fe194d1c868c50c1ba7dc668\n",
      "🧪 View experiment at: http://127.0.0.1:5001/#/experiments/1\n",
      "1 --> train_loss: 4.077 | train_accuracy: -inf | val_loss: 4.5622 | val_accuracy: -7.7070\n",
      "🏃 View run Fold-1 at: http://127.0.0.1:5001/#/experiments/1/runs/a3542dec68fe4652aac2620e34beb203\n",
      "🧪 View experiment at: http://127.0.0.1:5001/#/experiments/1\n",
      "2 --> train_loss: 4.274 | train_accuracy: -inf | val_loss: 4.5342 | val_accuracy: -7.2746\n",
      "🏃 View run Fold-2 at: http://127.0.0.1:5001/#/experiments/1/runs/cb214bc126dc41d2ab249f43a81ba29c\n",
      "🧪 View experiment at: http://127.0.0.1:5001/#/experiments/1\n",
      "3 --> train_loss: 4.152 | train_accuracy: -inf | val_loss: 5.1074 | val_accuracy: -8.2636\n",
      "🏃 View run Fold-3 at: http://127.0.0.1:5001/#/experiments/1/runs/884a58dba32348be81c71f3d938ddedc\n",
      "🧪 View experiment at: http://127.0.0.1:5001/#/experiments/1\n"
     ]
    },
    {
     "name": "stderr",
     "output_type": "stream",
     "text": [
      "2025/02/03 03:55:41 WARNING mlflow.models.signature: Failed to infer schema for outputs. Setting schema to `Schema([ColSpec(type=AnyType())]` as default. To see the full traceback, set logging level to DEBUG.\n",
      "2025/02/03 03:55:41 WARNING mlflow.sklearn: Model was missing function: predict. Not logging python_function flavor!\n"
     ]
    },
    {
     "name": "stdout",
     "output_type": "stream",
     "text": [
      "4 --> train_loss: 4.249 | train_accuracy: -inf | val_loss: 5.0059 | val_accuracy: -7.8716\n",
      "🏃 View run Fold-4 at: http://127.0.0.1:5001/#/experiments/1/runs/39ba420633624fbfba9dda4dc249e935\n",
      "🧪 View experiment at: http://127.0.0.1:5001/#/experiments/1\n",
      "✅ Fold: stochastic | Model: LassoRegression | MSE: 5.1822 | R²: -7.8670\n",
      "🏃 View run method-stochastic-lr-0.001-reg-LassoRegression-poly-Linear-momentum-Momentum is not used-weight-zeros at: http://127.0.0.1:5001/#/experiments/1/runs/462a11aef9cf468684a0092dd9aba8b3\n",
      "🧪 View experiment at: http://127.0.0.1:5001/#/experiments/1\n",
      " Running LassoRegression | stochastic | Linear | zeros | Momentum is not used | LR: 0.0001\n",
      "(5330,)\n",
      "torch.Size([5330, 12])\n",
      "0 --> train_loss: 6.473 | train_accuracy: -inf | val_loss: 5.4319 | val_accuracy: -8.4963\n",
      "🏃 View run Fold-0 at: http://127.0.0.1:5001/#/experiments/1/runs/016883f3f0a040978d816be9a4504a01\n",
      "🧪 View experiment at: http://127.0.0.1:5001/#/experiments/1\n",
      "1 --> train_loss: 5.610 | train_accuracy: -inf | val_loss: 4.6429 | val_accuracy: -7.8609\n",
      "🏃 View run Fold-1 at: http://127.0.0.1:5001/#/experiments/1/runs/4875c8f54cc24e4aaed0034c858b8c8f\n",
      "🧪 View experiment at: http://127.0.0.1:5001/#/experiments/1\n",
      "2 --> train_loss: 5.134 | train_accuracy: -inf | val_loss: 4.7125 | val_accuracy: -7.6000\n",
      "🏃 View run Fold-2 at: http://127.0.0.1:5001/#/experiments/1/runs/49fa1608b9914763b7c7b42fa46d1853\n",
      "🧪 View experiment at: http://127.0.0.1:5001/#/experiments/1\n",
      "3 --> train_loss: 4.419 | train_accuracy: -inf | val_loss: 4.9253 | val_accuracy: -7.9333\n",
      "🏃 View run Fold-3 at: http://127.0.0.1:5001/#/experiments/1/runs/2fff5165a21142ca86fe7c5684dffce3\n",
      "🧪 View experiment at: http://127.0.0.1:5001/#/experiments/1\n"
     ]
    },
    {
     "name": "stderr",
     "output_type": "stream",
     "text": [
      "2025/02/03 03:57:54 WARNING mlflow.models.signature: Failed to infer schema for outputs. Setting schema to `Schema([ColSpec(type=AnyType())]` as default. To see the full traceback, set logging level to DEBUG.\n",
      "2025/02/03 03:57:54 WARNING mlflow.sklearn: Model was missing function: predict. Not logging python_function flavor!\n"
     ]
    },
    {
     "name": "stdout",
     "output_type": "stream",
     "text": [
      "4 --> train_loss: 4.962 | train_accuracy: -inf | val_loss: 5.2039 | val_accuracy: -8.2226\n",
      "🏃 View run Fold-4 at: http://127.0.0.1:5001/#/experiments/1/runs/f348c75711bb4e59ac66ba30aa6d38eb\n",
      "🧪 View experiment at: http://127.0.0.1:5001/#/experiments/1\n",
      "✅ Fold: stochastic | Model: LassoRegression | MSE: 5.3451 | R²: -8.1459\n",
      "🏃 View run method-stochastic-lr-0.0001-reg-LassoRegression-poly-Linear-momentum-Momentum is not used-weight-zeros at: http://127.0.0.1:5001/#/experiments/1/runs/0da932d8c9834f4db7d4e09c1048288a\n",
      "🧪 View experiment at: http://127.0.0.1:5001/#/experiments/1\n",
      " Running LassoRegression | stochastic | Linear | zeros | Momentum is used | LR: 0.01\n",
      "(5330,)\n",
      "torch.Size([5330, 12])\n",
      "0 --> train_loss: 5.481 | train_accuracy: -inf | val_loss: 5.2066 | val_accuracy: -8.1025\n",
      "🏃 View run Fold-0 at: http://127.0.0.1:5001/#/experiments/1/runs/4a88413e6ce04f98a293e0b5b8deeb0b\n",
      "🧪 View experiment at: http://127.0.0.1:5001/#/experiments/1\n",
      "1 --> train_loss: 5.890 | train_accuracy: -inf | val_loss: 4.7064 | val_accuracy: -7.9821\n",
      "🏃 View run Fold-1 at: http://127.0.0.1:5001/#/experiments/1/runs/6e1a87aff4924207aba067813216b8ab\n",
      "🧪 View experiment at: http://127.0.0.1:5001/#/experiments/1\n",
      "2 --> train_loss: 6.203 | train_accuracy: -inf | val_loss: 4.8748 | val_accuracy: -7.8963\n",
      "🏃 View run Fold-2 at: http://127.0.0.1:5001/#/experiments/1/runs/f689b58ef37f494cbbe59072977bf096\n",
      "🧪 View experiment at: http://127.0.0.1:5001/#/experiments/1\n",
      "3 --> train_loss: 5.677 | train_accuracy: -inf | val_loss: 4.6719 | val_accuracy: -7.4736\n",
      "🏃 View run Fold-3 at: http://127.0.0.1:5001/#/experiments/1/runs/dfb3bda74969464794bd1445a0055136\n",
      "🧪 View experiment at: http://127.0.0.1:5001/#/experiments/1\n"
     ]
    },
    {
     "name": "stderr",
     "output_type": "stream",
     "text": [
      "2025/02/03 04:00:17 WARNING mlflow.models.signature: Failed to infer schema for outputs. Setting schema to `Schema([ColSpec(type=AnyType())]` as default. To see the full traceback, set logging level to DEBUG.\n",
      "2025/02/03 04:00:17 WARNING mlflow.sklearn: Model was missing function: predict. Not logging python_function flavor!\n"
     ]
    },
    {
     "name": "stdout",
     "output_type": "stream",
     "text": [
      "4 --> train_loss: 5.770 | train_accuracy: -inf | val_loss: 5.1116 | val_accuracy: -8.0588\n",
      "🏃 View run Fold-4 at: http://127.0.0.1:5001/#/experiments/1/runs/91d7842b566941a0b620f5bb7f1d4d82\n",
      "🧪 View experiment at: http://127.0.0.1:5001/#/experiments/1\n",
      "✅ Fold: stochastic | Model: LassoRegression | MSE: 5.2697 | R²: -8.0168\n",
      "🏃 View run method-stochastic-lr-0.01-reg-LassoRegression-poly-Linear-momentum-Momentum is used-weight-zeros at: http://127.0.0.1:5001/#/experiments/1/runs/07033d1bc1f442c591f42feaddbb9022\n",
      "🧪 View experiment at: http://127.0.0.1:5001/#/experiments/1\n",
      " Running LassoRegression | stochastic | Linear | zeros | Momentum is used | LR: 0.001\n",
      "(5330,)\n",
      "torch.Size([5330, 12])\n",
      "0 --> train_loss: 5.111 | train_accuracy: -inf | val_loss: 5.3763 | val_accuracy: -8.3992\n",
      "🏃 View run Fold-0 at: http://127.0.0.1:5001/#/experiments/1/runs/6a868633df83415b909e942cd46398e8\n",
      "🧪 View experiment at: http://127.0.0.1:5001/#/experiments/1\n",
      "1 --> train_loss: 4.808 | train_accuracy: -inf | val_loss: 4.5734 | val_accuracy: -7.7282\n",
      "🏃 View run Fold-1 at: http://127.0.0.1:5001/#/experiments/1/runs/8b8a7f22f0af4a0ea79f0e8096c79dba\n",
      "🧪 View experiment at: http://127.0.0.1:5001/#/experiments/1\n",
      "2 --> train_loss: 4.830 | train_accuracy: -inf | val_loss: 4.6712 | val_accuracy: -7.5246\n",
      "🏃 View run Fold-2 at: http://127.0.0.1:5001/#/experiments/1/runs/7707a5d73fe14baf8cbf30529e883090\n",
      "🧪 View experiment at: http://127.0.0.1:5001/#/experiments/1\n",
      "3 --> train_loss: 4.931 | train_accuracy: -inf | val_loss: 4.9494 | val_accuracy: -7.9769\n",
      "🏃 View run Fold-3 at: http://127.0.0.1:5001/#/experiments/1/runs/4d1ca9fa32374dc1b329dc8c37a50196\n",
      "🧪 View experiment at: http://127.0.0.1:5001/#/experiments/1\n"
     ]
    },
    {
     "name": "stderr",
     "output_type": "stream",
     "text": [
      "2025/02/03 04:02:39 WARNING mlflow.models.signature: Failed to infer schema for outputs. Setting schema to `Schema([ColSpec(type=AnyType())]` as default. To see the full traceback, set logging level to DEBUG.\n",
      "2025/02/03 04:02:39 WARNING mlflow.sklearn: Model was missing function: predict. Not logging python_function flavor!\n"
     ]
    },
    {
     "name": "stdout",
     "output_type": "stream",
     "text": [
      "4 --> train_loss: 4.561 | train_accuracy: -inf | val_loss: 5.1686 | val_accuracy: -8.1600\n",
      "🏃 View run Fold-4 at: http://127.0.0.1:5001/#/experiments/1/runs/2f822cc9acbf405e9ec20978e0738426\n",
      "🧪 View experiment at: http://127.0.0.1:5001/#/experiments/1\n",
      "✅ Fold: stochastic | Model: LassoRegression | MSE: 5.3082 | R²: -8.0827\n",
      "🏃 View run method-stochastic-lr-0.001-reg-LassoRegression-poly-Linear-momentum-Momentum is used-weight-zeros at: http://127.0.0.1:5001/#/experiments/1/runs/9d6497eca47b4add8c0747e033bf9c46\n",
      "🧪 View experiment at: http://127.0.0.1:5001/#/experiments/1\n",
      " Running LassoRegression | stochastic | Linear | zeros | Momentum is used | LR: 0.0001\n",
      "(5330,)\n",
      "torch.Size([5330, 12])\n",
      "0 --> train_loss: 7.949 | train_accuracy: -inf | val_loss: 5.5306 | val_accuracy: -8.6689\n",
      "🏃 View run Fold-0 at: http://127.0.0.1:5001/#/experiments/1/runs/61c4d8af45214871aad5e81b10c090a2\n",
      "🧪 View experiment at: http://127.0.0.1:5001/#/experiments/1\n",
      "1 --> train_loss: 8.073 | train_accuracy: -inf | val_loss: 4.7928 | val_accuracy: -8.1470\n",
      "🏃 View run Fold-1 at: http://127.0.0.1:5001/#/experiments/1/runs/e77c0a19f5f84fa7a746eec73306059b\n",
      "🧪 View experiment at: http://127.0.0.1:5001/#/experiments/1\n",
      "2 --> train_loss: 7.710 | train_accuracy: -inf | val_loss: 4.9513 | val_accuracy: -8.0359\n",
      "🏃 View run Fold-2 at: http://127.0.0.1:5001/#/experiments/1/runs/d0d1f8fc931549c3966a76ff12926f00\n",
      "🧪 View experiment at: http://127.0.0.1:5001/#/experiments/1\n",
      "3 --> train_loss: 7.486 | train_accuracy: -inf | val_loss: 5.1103 | val_accuracy: -8.2688\n",
      "🏃 View run Fold-3 at: http://127.0.0.1:5001/#/experiments/1/runs/d79e150d097348abbedc790f273f26e9\n",
      "🧪 View experiment at: http://127.0.0.1:5001/#/experiments/1\n"
     ]
    },
    {
     "name": "stderr",
     "output_type": "stream",
     "text": [
      "2025/02/03 04:05:01 WARNING mlflow.models.signature: Failed to infer schema for outputs. Setting schema to `Schema([ColSpec(type=AnyType())]` as default. To see the full traceback, set logging level to DEBUG.\n",
      "2025/02/03 04:05:01 WARNING mlflow.sklearn: Model was missing function: predict. Not logging python_function flavor!\n"
     ]
    },
    {
     "name": "stdout",
     "output_type": "stream",
     "text": [
      "4 --> train_loss: 6.946 | train_accuracy: -inf | val_loss: 5.4291 | val_accuracy: -8.6216\n",
      "🏃 View run Fold-4 at: http://127.0.0.1:5001/#/experiments/1/runs/816534b8f7c6429a92f5082e3b43d843\n",
      "🧪 View experiment at: http://127.0.0.1:5001/#/experiments/1\n",
      "✅ Fold: stochastic | Model: LassoRegression | MSE: 5.5454 | R²: -8.4885\n",
      "🏃 View run method-stochastic-lr-0.0001-reg-LassoRegression-poly-Linear-momentum-Momentum is used-weight-zeros at: http://127.0.0.1:5001/#/experiments/1/runs/34c86c993d0d48598ff7529f628f649d\n",
      "🧪 View experiment at: http://127.0.0.1:5001/#/experiments/1\n",
      " Running LassoRegression | stochastic | Linear | xavier | Momentum is not used | LR: 0.01\n",
      "(5330,)\n",
      "torch.Size([5330, 12])\n",
      "0 --> train_loss: 4.272 | train_accuracy: -inf | val_loss: 5.8540 | val_accuracy: -9.2342\n",
      "🏃 View run Fold-0 at: http://127.0.0.1:5001/#/experiments/1/runs/568f052eb27646c78dc2133e4fa7169b\n",
      "🧪 View experiment at: http://127.0.0.1:5001/#/experiments/1\n",
      "1 --> train_loss: 4.299 | train_accuracy: -inf | val_loss: 3.6395 | val_accuracy: -5.9460\n",
      "🏃 View run Fold-1 at: http://127.0.0.1:5001/#/experiments/1/runs/1e62ed0b5ba0415099a4df25dc19adc6\n",
      "🧪 View experiment at: http://127.0.0.1:5001/#/experiments/1\n",
      "2 --> train_loss: 5.230 | train_accuracy: -inf | val_loss: 4.5511 | val_accuracy: -7.3055\n",
      "🏃 View run Fold-2 at: http://127.0.0.1:5001/#/experiments/1/runs/c48d5146ff4c4db58d06d0fe5f904442\n",
      "🧪 View experiment at: http://127.0.0.1:5001/#/experiments/1\n",
      "3 --> train_loss: 5.539 | train_accuracy: -inf | val_loss: 4.7968 | val_accuracy: -7.7002\n",
      "🏃 View run Fold-3 at: http://127.0.0.1:5001/#/experiments/1/runs/c5cef3b11c264e919dad6e71dd177026\n",
      "🧪 View experiment at: http://127.0.0.1:5001/#/experiments/1\n"
     ]
    },
    {
     "name": "stderr",
     "output_type": "stream",
     "text": [
      "2025/02/03 04:07:12 WARNING mlflow.models.signature: Failed to infer schema for outputs. Setting schema to `Schema([ColSpec(type=AnyType())]` as default. To see the full traceback, set logging level to DEBUG.\n",
      "2025/02/03 04:07:12 WARNING mlflow.sklearn: Model was missing function: predict. Not logging python_function flavor!\n"
     ]
    },
    {
     "name": "stdout",
     "output_type": "stream",
     "text": [
      "4 --> train_loss: 5.410 | train_accuracy: -inf | val_loss: 5.8713 | val_accuracy: -9.4052\n",
      "🏃 View run Fold-4 at: http://127.0.0.1:5001/#/experiments/1/runs/e95d9357e7204fbab25409b54bec8582\n",
      "🧪 View experiment at: http://127.0.0.1:5001/#/experiments/1\n",
      "✅ Fold: stochastic | Model: LassoRegression | MSE: 5.8006 | R²: -8.9251\n",
      "🏃 View run method-stochastic-lr-0.01-reg-LassoRegression-poly-Linear-momentum-Momentum is not used-weight-xavier at: http://127.0.0.1:5001/#/experiments/1/runs/462231908c0142429a850270c66208dd\n",
      "🧪 View experiment at: http://127.0.0.1:5001/#/experiments/1\n",
      " Running LassoRegression | stochastic | Linear | xavier | Momentum is not used | LR: 0.001\n",
      "(5330,)\n",
      "torch.Size([5330, 12])\n",
      "0 --> train_loss: 5.276 | train_accuracy: -inf | val_loss: 5.3546 | val_accuracy: -8.3612\n",
      "🏃 View run Fold-0 at: http://127.0.0.1:5001/#/experiments/1/runs/1cf38bf3ce0f4a438c1cf2255250a239\n",
      "🧪 View experiment at: http://127.0.0.1:5001/#/experiments/1\n",
      "1 --> train_loss: 4.977 | train_accuracy: -inf | val_loss: 4.4862 | val_accuracy: -7.5619\n",
      "🏃 View run Fold-1 at: http://127.0.0.1:5001/#/experiments/1/runs/d5a9c357d8c54c0b874c5598fab74c9e\n",
      "🧪 View experiment at: http://127.0.0.1:5001/#/experiments/1\n",
      "2 --> train_loss: 4.716 | train_accuracy: -inf | val_loss: 4.6727 | val_accuracy: -7.5273\n",
      "🏃 View run Fold-2 at: http://127.0.0.1:5001/#/experiments/1/runs/2589ca1a6f1f4735980a73753e297f0f\n",
      "🧪 View experiment at: http://127.0.0.1:5001/#/experiments/1\n",
      "3 --> train_loss: 4.981 | train_accuracy: -inf | val_loss: 4.7367 | val_accuracy: -7.5911\n",
      "🏃 View run Fold-3 at: http://127.0.0.1:5001/#/experiments/1/runs/ade6af1d004e4704bf09950ed532bc57\n",
      "🧪 View experiment at: http://127.0.0.1:5001/#/experiments/1\n"
     ]
    },
    {
     "name": "stderr",
     "output_type": "stream",
     "text": [
      "2025/02/03 04:09:34 WARNING mlflow.models.signature: Failed to infer schema for outputs. Setting schema to `Schema([ColSpec(type=AnyType())]` as default. To see the full traceback, set logging level to DEBUG.\n",
      "2025/02/03 04:09:34 WARNING mlflow.sklearn: Model was missing function: predict. Not logging python_function flavor!\n"
     ]
    },
    {
     "name": "stdout",
     "output_type": "stream",
     "text": [
      "4 --> train_loss: 4.708 | train_accuracy: -inf | val_loss: 5.5165 | val_accuracy: -8.7765\n",
      "🏃 View run Fold-4 at: http://127.0.0.1:5001/#/experiments/1/runs/33f35a574ac64051b5a6f3c08b91c80f\n",
      "🧪 View experiment at: http://127.0.0.1:5001/#/experiments/1\n",
      "✅ Fold: stochastic | Model: LassoRegression | MSE: 5.5977 | R²: -8.5780\n",
      "🏃 View run method-stochastic-lr-0.001-reg-LassoRegression-poly-Linear-momentum-Momentum is not used-weight-xavier at: http://127.0.0.1:5001/#/experiments/1/runs/a51ecf2ecf084ef596b67ffcb7099b5e\n",
      "🧪 View experiment at: http://127.0.0.1:5001/#/experiments/1\n",
      " Running LassoRegression | stochastic | Linear | xavier | Momentum is not used | LR: 0.0001\n",
      "(5330,)\n",
      "torch.Size([5330, 12])\n",
      "0 --> train_loss: 4.402 | train_accuracy: -inf | val_loss: 5.4303 | val_accuracy: -8.4936\n",
      "🏃 View run Fold-0 at: http://127.0.0.1:5001/#/experiments/1/runs/28369f10e42a478fbd2ee36784f0ed5c\n",
      "🧪 View experiment at: http://127.0.0.1:5001/#/experiments/1\n",
      "1 --> train_loss: 4.526 | train_accuracy: -inf | val_loss: 4.6732 | val_accuracy: -7.9187\n",
      "🏃 View run Fold-1 at: http://127.0.0.1:5001/#/experiments/1/runs/eef0c54e9cfd436cbc335556993d6b81\n",
      "🧪 View experiment at: http://127.0.0.1:5001/#/experiments/1\n",
      "2 --> train_loss: 4.038 | train_accuracy: -inf | val_loss: 4.7063 | val_accuracy: -7.5888\n",
      "🏃 View run Fold-2 at: http://127.0.0.1:5001/#/experiments/1/runs/0841cc148611465c95d7fc31bce753b3\n",
      "🧪 View experiment at: http://127.0.0.1:5001/#/experiments/1\n",
      "3 --> train_loss: 4.344 | train_accuracy: -inf | val_loss: 4.9157 | val_accuracy: -7.9159\n",
      "🏃 View run Fold-3 at: http://127.0.0.1:5001/#/experiments/1/runs/a92efa0bee174682a0bb57040cb7daa2\n",
      "🧪 View experiment at: http://127.0.0.1:5001/#/experiments/1\n"
     ]
    },
    {
     "name": "stderr",
     "output_type": "stream",
     "text": [
      "2025/02/03 04:11:52 WARNING mlflow.models.signature: Failed to infer schema for outputs. Setting schema to `Schema([ColSpec(type=AnyType())]` as default. To see the full traceback, set logging level to DEBUG.\n",
      "2025/02/03 04:11:52 WARNING mlflow.sklearn: Model was missing function: predict. Not logging python_function flavor!\n"
     ]
    },
    {
     "name": "stdout",
     "output_type": "stream",
     "text": [
      "4 --> train_loss: 4.479 | train_accuracy: -inf | val_loss: 5.2280 | val_accuracy: -8.2652\n",
      "🏃 View run Fold-4 at: http://127.0.0.1:5001/#/experiments/1/runs/a2ff2949104b49d896c66d6124effbe4\n",
      "🧪 View experiment at: http://127.0.0.1:5001/#/experiments/1\n",
      "✅ Fold: stochastic | Model: LassoRegression | MSE: 5.3709 | R²: -8.1899\n",
      "🏃 View run method-stochastic-lr-0.0001-reg-LassoRegression-poly-Linear-momentum-Momentum is not used-weight-xavier at: http://127.0.0.1:5001/#/experiments/1/runs/0bb6bef7c0cf478299b2ed393c4f56f0\n",
      "🧪 View experiment at: http://127.0.0.1:5001/#/experiments/1\n",
      " Running LassoRegression | stochastic | Linear | xavier | Momentum is used | LR: 0.01\n",
      "(5330,)\n",
      "torch.Size([5330, 12])\n",
      "0 --> train_loss: 5.151 | train_accuracy: -inf | val_loss: 5.6262 | val_accuracy: -8.8361\n",
      "🏃 View run Fold-0 at: http://127.0.0.1:5001/#/experiments/1/runs/9b9d932f37024a16bc1bb35a3094d561\n",
      "🧪 View experiment at: http://127.0.0.1:5001/#/experiments/1\n",
      "1 --> train_loss: 5.697 | train_accuracy: -inf | val_loss: 4.6198 | val_accuracy: -7.8168\n",
      "🏃 View run Fold-1 at: http://127.0.0.1:5001/#/experiments/1/runs/b341084fd04a4408b95052372ff0e69d\n",
      "🧪 View experiment at: http://127.0.0.1:5001/#/experiments/1\n",
      "2 --> train_loss: 4.996 | train_accuracy: -inf | val_loss: 4.8863 | val_accuracy: -7.9172\n",
      "🏃 View run Fold-2 at: http://127.0.0.1:5001/#/experiments/1/runs/68d571a8ce3342709358190d760730f0\n",
      "🧪 View experiment at: http://127.0.0.1:5001/#/experiments/1\n",
      "3 --> train_loss: 5.254 | train_accuracy: -inf | val_loss: 5.2522 | val_accuracy: -8.5261\n",
      "🏃 View run Fold-3 at: http://127.0.0.1:5001/#/experiments/1/runs/02619f13de134517ad7324f92805b23e\n",
      "🧪 View experiment at: http://127.0.0.1:5001/#/experiments/1\n"
     ]
    },
    {
     "name": "stderr",
     "output_type": "stream",
     "text": [
      "2025/02/03 04:14:15 WARNING mlflow.models.signature: Failed to infer schema for outputs. Setting schema to `Schema([ColSpec(type=AnyType())]` as default. To see the full traceback, set logging level to DEBUG.\n",
      "2025/02/03 04:14:15 WARNING mlflow.sklearn: Model was missing function: predict. Not logging python_function flavor!\n"
     ]
    },
    {
     "name": "stdout",
     "output_type": "stream",
     "text": [
      "4 --> train_loss: 5.055 | train_accuracy: -inf | val_loss: 4.7685 | val_accuracy: -7.4509\n",
      "🏃 View run Fold-4 at: http://127.0.0.1:5001/#/experiments/1/runs/a5df70ebdb9a49a6a13481c4527a7500\n",
      "🧪 View experiment at: http://127.0.0.1:5001/#/experiments/1\n",
      "✅ Fold: stochastic | Model: LassoRegression | MSE: 4.9727 | R²: -7.5086\n",
      "🏃 View run method-stochastic-lr-0.01-reg-LassoRegression-poly-Linear-momentum-Momentum is used-weight-xavier at: http://127.0.0.1:5001/#/experiments/1/runs/025dad65301940ba849f79bcff9fc3b7\n",
      "🧪 View experiment at: http://127.0.0.1:5001/#/experiments/1\n",
      " Running LassoRegression | stochastic | Linear | xavier | Momentum is used | LR: 0.001\n",
      "(5330,)\n",
      "torch.Size([5330, 12])\n",
      "0 --> train_loss: 6.179 | train_accuracy: -inf | val_loss: 5.3249 | val_accuracy: -8.3093\n",
      "🏃 View run Fold-0 at: http://127.0.0.1:5001/#/experiments/1/runs/0d1ba7f04baf4dc38b0956dde8cf81bb\n",
      "🧪 View experiment at: http://127.0.0.1:5001/#/experiments/1\n",
      "1 --> train_loss: 7.025 | train_accuracy: -inf | val_loss: 4.5656 | val_accuracy: -7.7133\n",
      "🏃 View run Fold-1 at: http://127.0.0.1:5001/#/experiments/1/runs/1f51e331171641b284c18cca760b8733\n",
      "🧪 View experiment at: http://127.0.0.1:5001/#/experiments/1\n",
      "2 --> train_loss: 6.453 | train_accuracy: -inf | val_loss: 4.6891 | val_accuracy: -7.5574\n",
      "🏃 View run Fold-2 at: http://127.0.0.1:5001/#/experiments/1/runs/db7eceb67c134a9eb9410ed7e3af7682\n",
      "🧪 View experiment at: http://127.0.0.1:5001/#/experiments/1\n",
      "3 --> train_loss: 5.834 | train_accuracy: -inf | val_loss: 4.9151 | val_accuracy: -7.9147\n",
      "🏃 View run Fold-3 at: http://127.0.0.1:5001/#/experiments/1/runs/9d65698467a043cdb17904784d44957e\n",
      "🧪 View experiment at: http://127.0.0.1:5001/#/experiments/1\n"
     ]
    },
    {
     "name": "stderr",
     "output_type": "stream",
     "text": [
      "2025/02/03 04:16:41 WARNING mlflow.models.signature: Failed to infer schema for outputs. Setting schema to `Schema([ColSpec(type=AnyType())]` as default. To see the full traceback, set logging level to DEBUG.\n",
      "2025/02/03 04:16:42 WARNING mlflow.sklearn: Model was missing function: predict. Not logging python_function flavor!\n"
     ]
    },
    {
     "name": "stdout",
     "output_type": "stream",
     "text": [
      "4 --> train_loss: 5.752 | train_accuracy: -inf | val_loss: 5.1969 | val_accuracy: -8.2100\n",
      "🏃 View run Fold-4 at: http://127.0.0.1:5001/#/experiments/1/runs/634c60d9ee614e5095a43b8135d05eda\n",
      "🧪 View experiment at: http://127.0.0.1:5001/#/experiments/1\n",
      "✅ Fold: stochastic | Model: LassoRegression | MSE: 5.3365 | R²: -8.1310\n",
      "🏃 View run method-stochastic-lr-0.001-reg-LassoRegression-poly-Linear-momentum-Momentum is used-weight-xavier at: http://127.0.0.1:5001/#/experiments/1/runs/dea9c93a67424e3eacbfed5e0924af55\n",
      "🧪 View experiment at: http://127.0.0.1:5001/#/experiments/1\n",
      " Running LassoRegression | stochastic | Linear | xavier | Momentum is used | LR: 0.0001\n",
      "(5330,)\n",
      "torch.Size([5330, 12])\n",
      "0 --> train_loss: 5.571 | train_accuracy: -inf | val_loss: 5.5984 | val_accuracy: -8.7874\n",
      "🏃 View run Fold-0 at: http://127.0.0.1:5001/#/experiments/1/runs/da8f480a9dc548ea93e3bbbf5f854fb2\n",
      "🧪 View experiment at: http://127.0.0.1:5001/#/experiments/1\n",
      "1 --> train_loss: 5.536 | train_accuracy: -inf | val_loss: 4.8301 | val_accuracy: -8.2182\n",
      "🏃 View run Fold-1 at: http://127.0.0.1:5001/#/experiments/1/runs/6b040a7430964f32b57c40839410a12f\n",
      "🧪 View experiment at: http://127.0.0.1:5001/#/experiments/1\n",
      "2 --> train_loss: 5.832 | train_accuracy: -inf | val_loss: 4.9566 | val_accuracy: -8.0456\n",
      "🏃 View run Fold-2 at: http://127.0.0.1:5001/#/experiments/1/runs/33160116843743cea3697d9eee59bd13\n",
      "🧪 View experiment at: http://127.0.0.1:5001/#/experiments/1\n",
      "3 --> train_loss: 5.951 | train_accuracy: -inf | val_loss: 5.1158 | val_accuracy: -8.2787\n",
      "🏃 View run Fold-3 at: http://127.0.0.1:5001/#/experiments/1/runs/b547c2c764bd48a9bf128c220cdba4cf\n",
      "🧪 View experiment at: http://127.0.0.1:5001/#/experiments/1\n"
     ]
    },
    {
     "name": "stderr",
     "output_type": "stream",
     "text": [
      "2025/02/03 04:19:06 WARNING mlflow.models.signature: Failed to infer schema for outputs. Setting schema to `Schema([ColSpec(type=AnyType())]` as default. To see the full traceback, set logging level to DEBUG.\n",
      "2025/02/03 04:19:06 WARNING mlflow.sklearn: Model was missing function: predict. Not logging python_function flavor!\n"
     ]
    },
    {
     "name": "stdout",
     "output_type": "stream",
     "text": [
      "4 --> train_loss: 5.560 | train_accuracy: -inf | val_loss: 5.4282 | val_accuracy: -8.6200\n",
      "🏃 View run Fold-4 at: http://127.0.0.1:5001/#/experiments/1/runs/1d721cbbbcc24b7c949cfcda48aa650b\n",
      "🧪 View experiment at: http://127.0.0.1:5001/#/experiments/1\n",
      "✅ Fold: stochastic | Model: LassoRegression | MSE: 5.5511 | R²: -8.4983\n",
      "🏃 View run method-stochastic-lr-0.0001-reg-LassoRegression-poly-Linear-momentum-Momentum is used-weight-xavier at: http://127.0.0.1:5001/#/experiments/1/runs/e355acb350c34745abedf4c54d36daf0\n",
      "🧪 View experiment at: http://127.0.0.1:5001/#/experiments/1\n",
      " Running LassoRegression | stochastic | Polynomial | zeros | Momentum is not used | LR: 0.01\n",
      "(5330,)\n",
      "torch.Size([5330, 90])\n",
      "0 --> train_loss: 5416.487 | train_accuracy: -inf | val_loss: 1415.0861 | val_accuracy: -2472.9387\n",
      "🏃 View run Fold-0 at: http://127.0.0.1:5001/#/experiments/1/runs/7ae8e378bf1744cb86da10b6476a9ef1\n",
      "🧪 View experiment at: http://127.0.0.1:5001/#/experiments/1\n",
      "1 --> train_loss: 11153.382 | train_accuracy: -inf | val_loss: 4533.4238 | val_accuracy: -8650.9756\n",
      "🏃 View run Fold-1 at: http://127.0.0.1:5001/#/experiments/1/runs/c5a8d82d1a304810ae560fd4e430eb5b\n",
      "🧪 View experiment at: http://127.0.0.1:5001/#/experiments/1\n",
      "2 --> train_loss: 8691.916 | train_accuracy: -inf | val_loss: 6411.5405 | val_accuracy: -11699.7178\n",
      "🏃 View run Fold-2 at: http://127.0.0.1:5001/#/experiments/1/runs/e31660e2fe9a4c2393c0f4e632e9281d\n",
      "🧪 View experiment at: http://127.0.0.1:5001/#/experiments/1\n",
      "3 --> train_loss: 6790.566 | train_accuracy: -inf | val_loss: 10377.0088 | val_accuracy: -18820.1875\n",
      "🏃 View run Fold-3 at: http://127.0.0.1:5001/#/experiments/1/runs/8a923edb947d4397b4ce18616c84791a\n",
      "🧪 View experiment at: http://127.0.0.1:5001/#/experiments/1\n"
     ]
    },
    {
     "name": "stderr",
     "output_type": "stream",
     "text": [
      "2025/02/03 04:21:26 WARNING mlflow.models.signature: Failed to infer schema for outputs. Setting schema to `Schema([ColSpec(type=AnyType())]` as default. To see the full traceback, set logging level to DEBUG.\n",
      "2025/02/03 04:21:26 WARNING mlflow.sklearn: Model was missing function: predict. Not logging python_function flavor!\n"
     ]
    },
    {
     "name": "stdout",
     "output_type": "stream",
     "text": [
      "4 --> train_loss: 6004.958 | train_accuracy: -inf | val_loss: 7874.4805 | val_accuracy: -13954.3662\n",
      "🏃 View run Fold-4 at: http://127.0.0.1:5001/#/experiments/1/runs/f502ed0d47fb4d80afecf470517598a8\n",
      "🧪 View experiment at: http://127.0.0.1:5001/#/experiments/1\n",
      "✅ Fold: stochastic | Model: LassoRegression | MSE: 2676.0481 | R²: -4577.8784\n",
      "🏃 View run method-stochastic-lr-0.01-reg-LassoRegression-poly-Polynomial-momentum-Momentum is not used-weight-zeros at: http://127.0.0.1:5001/#/experiments/1/runs/002f24103e5a4b67ad27586e1a50d6ff\n",
      "🧪 View experiment at: http://127.0.0.1:5001/#/experiments/1\n",
      " Running LassoRegression | stochastic | Polynomial | zeros | Momentum is not used | LR: 0.001\n",
      "(5330,)\n",
      "torch.Size([5330, 90])\n",
      "0 --> train_loss: 32.734 | train_accuracy: -inf | val_loss: 10.4657 | val_accuracy: -17.2967\n",
      "🏃 View run Fold-0 at: http://127.0.0.1:5001/#/experiments/1/runs/abb6c84a017e4f75a26bbe0f51cda871\n",
      "🧪 View experiment at: http://127.0.0.1:5001/#/experiments/1\n",
      "1 --> train_loss: 24.506 | train_accuracy: -inf | val_loss: 86.3489 | val_accuracy: -163.7957\n",
      "🏃 View run Fold-1 at: http://127.0.0.1:5001/#/experiments/1/runs/38988c42dbfd40c5941a9a43960af44d\n",
      "🧪 View experiment at: http://127.0.0.1:5001/#/experiments/1\n",
      "2 --> train_loss: 21.309 | train_accuracy: -inf | val_loss: 60.9810 | val_accuracy: -110.2871\n",
      "🏃 View run Fold-2 at: http://127.0.0.1:5001/#/experiments/1/runs/734baed74e7b45319baf47779da36ef6\n",
      "🧪 View experiment at: http://127.0.0.1:5001/#/experiments/1\n",
      "3 --> train_loss: 70.171 | train_accuracy: -inf | val_loss: 16.7288 | val_accuracy: -29.3416\n",
      "🏃 View run Fold-3 at: http://127.0.0.1:5001/#/experiments/1/runs/f6ddcefde47b453da2547e61ef3d6242\n",
      "🧪 View experiment at: http://127.0.0.1:5001/#/experiments/1\n"
     ]
    },
    {
     "name": "stderr",
     "output_type": "stream",
     "text": [
      "2025/02/03 04:23:43 WARNING mlflow.models.signature: Failed to infer schema for outputs. Setting schema to `Schema([ColSpec(type=AnyType())]` as default. To see the full traceback, set logging level to DEBUG.\n",
      "2025/02/03 04:23:43 WARNING mlflow.sklearn: Model was missing function: predict. Not logging python_function flavor!\n"
     ]
    },
    {
     "name": "stdout",
     "output_type": "stream",
     "text": [
      "4 --> train_loss: 57.535 | train_accuracy: -inf | val_loss: 10.7531 | val_accuracy: -18.0569\n",
      "🏃 View run Fold-4 at: http://127.0.0.1:5001/#/experiments/1/runs/e14a1ca9192c4e25aaa9262f86a3568f\n",
      "🧪 View experiment at: http://127.0.0.1:5001/#/experiments/1\n",
      "✅ Fold: stochastic | Model: LassoRegression | MSE: 5.3194 | R²: -8.1018\n",
      "🏃 View run method-stochastic-lr-0.001-reg-LassoRegression-poly-Polynomial-momentum-Momentum is not used-weight-zeros at: http://127.0.0.1:5001/#/experiments/1/runs/60ae00613f5045dc8bf411de7347db60\n",
      "🧪 View experiment at: http://127.0.0.1:5001/#/experiments/1\n",
      " Running LassoRegression | stochastic | Polynomial | zeros | Momentum is not used | LR: 0.0001\n",
      "(5330,)\n",
      "torch.Size([5330, 90])\n",
      "0 --> train_loss: 6.542 | train_accuracy: -inf | val_loss: 5.5519 | val_accuracy: -8.7062\n",
      "🏃 View run Fold-0 at: http://127.0.0.1:5001/#/experiments/1/runs/04c272a996814a7a8316cf72cf1a6dd5\n",
      "🧪 View experiment at: http://127.0.0.1:5001/#/experiments/1\n",
      "1 --> train_loss: 5.917 | train_accuracy: -inf | val_loss: 4.1334 | val_accuracy: -6.8884\n",
      "🏃 View run Fold-1 at: http://127.0.0.1:5001/#/experiments/1/runs/8e52a72b19264b02b70a1c8bba8f258f\n",
      "🧪 View experiment at: http://127.0.0.1:5001/#/experiments/1\n",
      "2 --> train_loss: 5.161 | train_accuracy: -inf | val_loss: 4.3853 | val_accuracy: -7.0029\n",
      "🏃 View run Fold-2 at: http://127.0.0.1:5001/#/experiments/1/runs/14b9136497a74d938fc03f4182f47ef9\n",
      "🧪 View experiment at: http://127.0.0.1:5001/#/experiments/1\n",
      "3 --> train_loss: 4.595 | train_accuracy: -inf | val_loss: 5.0013 | val_accuracy: -8.0711\n",
      "🏃 View run Fold-3 at: http://127.0.0.1:5001/#/experiments/1/runs/9aa9bae5abb5418b98f7b40319d4cd11\n",
      "🧪 View experiment at: http://127.0.0.1:5001/#/experiments/1\n"
     ]
    },
    {
     "name": "stderr",
     "output_type": "stream",
     "text": [
      "2025/02/03 04:25:59 WARNING mlflow.models.signature: Failed to infer schema for outputs. Setting schema to `Schema([ColSpec(type=AnyType())]` as default. To see the full traceback, set logging level to DEBUG.\n",
      "2025/02/03 04:25:59 WARNING mlflow.sklearn: Model was missing function: predict. Not logging python_function flavor!\n"
     ]
    },
    {
     "name": "stdout",
     "output_type": "stream",
     "text": [
      "4 --> train_loss: 4.683 | train_accuracy: -inf | val_loss: 5.6729 | val_accuracy: -9.0536\n",
      "🏃 View run Fold-4 at: http://127.0.0.1:5001/#/experiments/1/runs/57ea5b7728ae44a1952d4f08979ca17e\n",
      "🧪 View experiment at: http://127.0.0.1:5001/#/experiments/1\n",
      "✅ Fold: stochastic | Model: LassoRegression | MSE: 4.8579 | R²: -7.3122\n",
      "🏃 View run method-stochastic-lr-0.0001-reg-LassoRegression-poly-Polynomial-momentum-Momentum is not used-weight-zeros at: http://127.0.0.1:5001/#/experiments/1/runs/37e8908c35094cf79d0856caf32777e3\n",
      "🧪 View experiment at: http://127.0.0.1:5001/#/experiments/1\n",
      " Running LassoRegression | stochastic | Polynomial | zeros | Momentum is used | LR: 0.01\n",
      "(5330,)\n",
      "torch.Size([5330, 90])\n",
      "0 --> train_loss: 3360.109 | train_accuracy: -inf | val_loss: 8465.2842 | val_accuracy: -14798.5205\n",
      "🏃 View run Fold-0 at: http://127.0.0.1:5001/#/experiments/1/runs/b82701d7ac5c433dad7533de9f216d9c\n",
      "🧪 View experiment at: http://127.0.0.1:5001/#/experiments/1\n",
      "1 --> train_loss: 9079.146 | train_accuracy: -inf | val_loss: 4166.1475 | val_accuracy: -7950.0332\n",
      "🏃 View run Fold-1 at: http://127.0.0.1:5001/#/experiments/1/runs/e53e707a7abb442cba2bcca339838cf9\n",
      "🧪 View experiment at: http://127.0.0.1:5001/#/experiments/1\n",
      "2 --> train_loss: 6965.852 | train_accuracy: -inf | val_loss: 5281.1665 | val_accuracy: -9636.8467\n",
      "🏃 View run Fold-2 at: http://127.0.0.1:5001/#/experiments/1/runs/07d7bece96604d0ba1a41a4bbc8c2ff3\n",
      "🧪 View experiment at: http://127.0.0.1:5001/#/experiments/1\n",
      "3 --> train_loss: 6803.631 | train_accuracy: -inf | val_loss: 322.2901 | val_accuracy: -583.5502\n",
      "🏃 View run Fold-3 at: http://127.0.0.1:5001/#/experiments/1/runs/6f96ee9fbe9c43af966add3644e87821\n",
      "🧪 View experiment at: http://127.0.0.1:5001/#/experiments/1\n"
     ]
    },
    {
     "name": "stderr",
     "output_type": "stream",
     "text": [
      "2025/02/03 04:28:25 WARNING mlflow.models.signature: Failed to infer schema for outputs. Setting schema to `Schema([ColSpec(type=AnyType())]` as default. To see the full traceback, set logging level to DEBUG.\n",
      "2025/02/03 04:28:25 WARNING mlflow.sklearn: Model was missing function: predict. Not logging python_function flavor!\n"
     ]
    },
    {
     "name": "stdout",
     "output_type": "stream",
     "text": [
      "4 --> train_loss: 5999.011 | train_accuracy: -inf | val_loss: 734.8669 | val_accuracy: -1301.3510\n",
      "🏃 View run Fold-4 at: http://127.0.0.1:5001/#/experiments/1/runs/09059e8c0e3946fb849516402af52093\n",
      "🧪 View experiment at: http://127.0.0.1:5001/#/experiments/1\n",
      "✅ Fold: stochastic | Model: LassoRegression | MSE: 135.4088 | R²: -230.6926\n",
      "🏃 View run method-stochastic-lr-0.01-reg-LassoRegression-poly-Polynomial-momentum-Momentum is used-weight-zeros at: http://127.0.0.1:5001/#/experiments/1/runs/e9cb4c3576c842339f07e221467eb9cf\n",
      "🧪 View experiment at: http://127.0.0.1:5001/#/experiments/1\n",
      " Running LassoRegression | stochastic | Polynomial | zeros | Momentum is used | LR: 0.001\n",
      "(5330,)\n",
      "torch.Size([5330, 90])\n",
      "0 --> train_loss: 2.589 | train_accuracy: -inf | val_loss: 5.2443 | val_accuracy: -8.1683\n",
      "🏃 View run Fold-0 at: http://127.0.0.1:5001/#/experiments/1/runs/326eaca7f7054fcfaaa22dd76cbc2e69\n",
      "🧪 View experiment at: http://127.0.0.1:5001/#/experiments/1\n",
      "1 --> train_loss: 4.236 | train_accuracy: -inf | val_loss: 3.8406 | val_accuracy: -6.3297\n",
      "🏃 View run Fold-1 at: http://127.0.0.1:5001/#/experiments/1/runs/bb42870dbe6448fbb2616da4e93cc15c\n",
      "🧪 View experiment at: http://127.0.0.1:5001/#/experiments/1\n",
      "2 --> train_loss: 4.076 | train_accuracy: -inf | val_loss: 5.6232 | val_accuracy: -9.2620\n",
      "🏃 View run Fold-2 at: http://127.0.0.1:5001/#/experiments/1/runs/131e550ce36146949f2e790e69cb2d7b\n",
      "🧪 View experiment at: http://127.0.0.1:5001/#/experiments/1\n",
      "3 --> train_loss: 4.157 | train_accuracy: -inf | val_loss: 5.2747 | val_accuracy: -8.5670\n",
      "🏃 View run Fold-3 at: http://127.0.0.1:5001/#/experiments/1/runs/67a22ee96e2548738e8a0796f0d8e14a\n",
      "🧪 View experiment at: http://127.0.0.1:5001/#/experiments/1\n"
     ]
    },
    {
     "name": "stderr",
     "output_type": "stream",
     "text": [
      "2025/02/03 04:30:51 WARNING mlflow.models.signature: Failed to infer schema for outputs. Setting schema to `Schema([ColSpec(type=AnyType())]` as default. To see the full traceback, set logging level to DEBUG.\n",
      "2025/02/03 04:30:51 WARNING mlflow.sklearn: Model was missing function: predict. Not logging python_function flavor!\n"
     ]
    },
    {
     "name": "stdout",
     "output_type": "stream",
     "text": [
      "4 --> train_loss: 4.684 | train_accuracy: -inf | val_loss: 6.0440 | val_accuracy: -9.7114\n",
      "🏃 View run Fold-4 at: http://127.0.0.1:5001/#/experiments/1/runs/6dcfda15545943e89a040752331e9d86\n",
      "🧪 View experiment at: http://127.0.0.1:5001/#/experiments/1\n",
      "✅ Fold: stochastic | Model: LassoRegression | MSE: 4.8427 | R²: -7.2862\n",
      "🏃 View run method-stochastic-lr-0.001-reg-LassoRegression-poly-Polynomial-momentum-Momentum is used-weight-zeros at: http://127.0.0.1:5001/#/experiments/1/runs/a812f998607045f287946016ef90be94\n",
      "🧪 View experiment at: http://127.0.0.1:5001/#/experiments/1\n",
      " Running LassoRegression | stochastic | Polynomial | zeros | Momentum is used | LR: 0.0001\n",
      "(5330,)\n",
      "torch.Size([5330, 90])\n",
      "0 --> train_loss: 5.747 | train_accuracy: -inf | val_loss: 6.2914 | val_accuracy: -9.9990\n",
      "🏃 View run Fold-0 at: http://127.0.0.1:5001/#/experiments/1/runs/456dfeda766f4639be3f2240a15f6e53\n",
      "🧪 View experiment at: http://127.0.0.1:5001/#/experiments/1\n",
      "1 --> train_loss: 4.820 | train_accuracy: -inf | val_loss: 4.7928 | val_accuracy: -8.1470\n",
      "🏃 View run Fold-1 at: http://127.0.0.1:5001/#/experiments/1/runs/49836ecaa5564f89ae73951e10066057\n",
      "🧪 View experiment at: http://127.0.0.1:5001/#/experiments/1\n",
      "2 --> train_loss: 4.738 | train_accuracy: -inf | val_loss: 5.0578 | val_accuracy: -8.2303\n",
      "🏃 View run Fold-2 at: http://127.0.0.1:5001/#/experiments/1/runs/24dac63ae9114a9cb9af7d61c97a1c54\n",
      "🧪 View experiment at: http://127.0.0.1:5001/#/experiments/1\n",
      "3 --> train_loss: 4.701 | train_accuracy: -inf | val_loss: 5.5652 | val_accuracy: -9.0937\n",
      "🏃 View run Fold-3 at: http://127.0.0.1:5001/#/experiments/1/runs/fb449c620bf14a87a77c520bb87901e1\n",
      "🧪 View experiment at: http://127.0.0.1:5001/#/experiments/1\n"
     ]
    },
    {
     "name": "stderr",
     "output_type": "stream",
     "text": [
      "2025/02/03 04:33:20 WARNING mlflow.models.signature: Failed to infer schema for outputs. Setting schema to `Schema([ColSpec(type=AnyType())]` as default. To see the full traceback, set logging level to DEBUG.\n",
      "2025/02/03 04:33:20 WARNING mlflow.sklearn: Model was missing function: predict. Not logging python_function flavor!\n"
     ]
    },
    {
     "name": "stdout",
     "output_type": "stream",
     "text": [
      "4 --> train_loss: 4.521 | train_accuracy: -inf | val_loss: 5.8417 | val_accuracy: -9.3527\n",
      "🏃 View run Fold-4 at: http://127.0.0.1:5001/#/experiments/1/runs/0b3fb0b390a74ed382aa5f3878784952\n",
      "🧪 View experiment at: http://127.0.0.1:5001/#/experiments/1\n",
      "✅ Fold: stochastic | Model: LassoRegression | MSE: 5.5729 | R²: -8.5355\n",
      "🏃 View run method-stochastic-lr-0.0001-reg-LassoRegression-poly-Polynomial-momentum-Momentum is used-weight-zeros at: http://127.0.0.1:5001/#/experiments/1/runs/18548393b00e4e808e5f64ae924fbc57\n",
      "🧪 View experiment at: http://127.0.0.1:5001/#/experiments/1\n",
      " Running LassoRegression | stochastic | Polynomial | xavier | Momentum is not used | LR: 0.01\n",
      "(5330,)\n",
      "torch.Size([5330, 90])\n",
      "0 --> train_loss: 6420.217 | train_accuracy: -inf | val_loss: 8411.8398 | val_accuracy: -14705.0850\n",
      "🏃 View run Fold-0 at: http://127.0.0.1:5001/#/experiments/1/runs/0f7ccb7f21674b11873b0618a67c0950\n",
      "🧪 View experiment at: http://127.0.0.1:5001/#/experiments/1\n",
      "1 --> train_loss: 4596.554 | train_accuracy: -inf | val_loss: 3587.9802 | val_accuracy: -6846.6094\n",
      "🏃 View run Fold-1 at: http://127.0.0.1:5001/#/experiments/1/runs/b909a2ffc1e94c1fbc2d1608985d4da2\n",
      "🧪 View experiment at: http://127.0.0.1:5001/#/experiments/1\n",
      "2 --> train_loss: 7316.026 | train_accuracy: -inf | val_loss: 3463.2148 | val_accuracy: -6319.1816\n",
      "🏃 View run Fold-2 at: http://127.0.0.1:5001/#/experiments/1/runs/ff2407256340494cad05e0a439c0be8d\n",
      "🧪 View experiment at: http://127.0.0.1:5001/#/experiments/1\n",
      "3 --> train_loss: 5997.339 | train_accuracy: -inf | val_loss: 8651.6914 | val_accuracy: -15690.9121\n",
      "🏃 View run Fold-3 at: http://127.0.0.1:5001/#/experiments/1/runs/672d50b368ce4f17880625f7cb3f1e3f\n",
      "🧪 View experiment at: http://127.0.0.1:5001/#/experiments/1\n"
     ]
    },
    {
     "name": "stderr",
     "output_type": "stream",
     "text": [
      "2025/02/03 04:35:36 WARNING mlflow.models.signature: Failed to infer schema for outputs. Setting schema to `Schema([ColSpec(type=AnyType())]` as default. To see the full traceback, set logging level to DEBUG.\n",
      "2025/02/03 04:35:36 WARNING mlflow.sklearn: Model was missing function: predict. Not logging python_function flavor!\n"
     ]
    },
    {
     "name": "stdout",
     "output_type": "stream",
     "text": [
      "4 --> train_loss: 7826.250 | train_accuracy: -inf | val_loss: 16041.0527 | val_accuracy: -28427.3848\n",
      "🏃 View run Fold-4 at: http://127.0.0.1:5001/#/experiments/1/runs/813a54ffc52541598235e809e79a6c53\n",
      "🧪 View experiment at: http://127.0.0.1:5001/#/experiments/1\n",
      "✅ Fold: stochastic | Model: LassoRegression | MSE: 7573.8799 | R²: -12958.3633\n",
      "🏃 View run method-stochastic-lr-0.01-reg-LassoRegression-poly-Polynomial-momentum-Momentum is not used-weight-xavier at: http://127.0.0.1:5001/#/experiments/1/runs/a1ee2d5d53b942ce90161ef508455319\n",
      "🧪 View experiment at: http://127.0.0.1:5001/#/experiments/1\n",
      " Running LassoRegression | stochastic | Polynomial | xavier | Momentum is not used | LR: 0.001\n",
      "(5330,)\n",
      "torch.Size([5330, 90])\n",
      "0 --> train_loss: 46.923 | train_accuracy: -inf | val_loss: 9.4501 | val_accuracy: -15.5213\n",
      "🏃 View run Fold-0 at: http://127.0.0.1:5001/#/experiments/1/runs/20f33a56d48e48ed84ae6e89c49d2c5a\n",
      "🧪 View experiment at: http://127.0.0.1:5001/#/experiments/1\n",
      "1 --> train_loss: 50.556 | train_accuracy: -inf | val_loss: 30.8683 | val_accuracy: -57.9118\n",
      "🏃 View run Fold-1 at: http://127.0.0.1:5001/#/experiments/1/runs/d440a90d73eb4661aefd45083a1af4ea\n",
      "🧪 View experiment at: http://127.0.0.1:5001/#/experiments/1\n",
      "2 --> train_loss: 39.541 | train_accuracy: -inf | val_loss: 437.9179 | val_accuracy: -798.1768\n",
      "🏃 View run Fold-2 at: http://127.0.0.1:5001/#/experiments/1/runs/b11449d42073447483efa431be1759d2\n",
      "🧪 View experiment at: http://127.0.0.1:5001/#/experiments/1\n",
      "3 --> train_loss: 33.297 | train_accuracy: -inf | val_loss: 6.0243 | val_accuracy: -9.9265\n",
      "🏃 View run Fold-3 at: http://127.0.0.1:5001/#/experiments/1/runs/480b3ca363374ff8bea3669140491044\n",
      "🧪 View experiment at: http://127.0.0.1:5001/#/experiments/1\n"
     ]
    },
    {
     "name": "stderr",
     "output_type": "stream",
     "text": [
      "2025/02/03 04:37:53 WARNING mlflow.models.signature: Failed to infer schema for outputs. Setting schema to `Schema([ColSpec(type=AnyType())]` as default. To see the full traceback, set logging level to DEBUG.\n",
      "2025/02/03 04:37:53 WARNING mlflow.sklearn: Model was missing function: predict. Not logging python_function flavor!\n"
     ]
    },
    {
     "name": "stdout",
     "output_type": "stream",
     "text": [
      "4 --> train_loss: 27.812 | train_accuracy: -inf | val_loss: 7.0324 | val_accuracy: -11.4630\n",
      "🏃 View run Fold-4 at: http://127.0.0.1:5001/#/experiments/1/runs/686ddec1fc4f438397185ef796afa0fc\n",
      "🧪 View experiment at: http://127.0.0.1:5001/#/experiments/1\n",
      "✅ Fold: stochastic | Model: LassoRegression | MSE: 4.8178 | R²: -7.2436\n",
      "🏃 View run method-stochastic-lr-0.001-reg-LassoRegression-poly-Polynomial-momentum-Momentum is not used-weight-xavier at: http://127.0.0.1:5001/#/experiments/1/runs/59eae4ad6851478fa8fbce556f965d7b\n",
      "🧪 View experiment at: http://127.0.0.1:5001/#/experiments/1\n",
      " Running LassoRegression | stochastic | Polynomial | xavier | Momentum is not used | LR: 0.0001\n",
      "(5330,)\n",
      "torch.Size([5330, 90])\n",
      "0 --> train_loss: 4.961 | train_accuracy: -inf | val_loss: 5.6501 | val_accuracy: -8.8778\n",
      "🏃 View run Fold-0 at: http://127.0.0.1:5001/#/experiments/1/runs/7ba71a1fd50446718c0b0bbcdc845d35\n",
      "🧪 View experiment at: http://127.0.0.1:5001/#/experiments/1\n",
      "1 --> train_loss: 5.626 | train_accuracy: -inf | val_loss: 4.4756 | val_accuracy: -7.5416\n",
      "🏃 View run Fold-1 at: http://127.0.0.1:5001/#/experiments/1/runs/3a1b3225fa924ee68a9dcf32d25c3ce3\n",
      "🧪 View experiment at: http://127.0.0.1:5001/#/experiments/1\n",
      "2 --> train_loss: 6.175 | train_accuracy: -inf | val_loss: 4.3300 | val_accuracy: -6.9021\n",
      "🏃 View run Fold-2 at: http://127.0.0.1:5001/#/experiments/1/runs/31a53cb98c4540a2af54d2c21befd808\n",
      "🧪 View experiment at: http://127.0.0.1:5001/#/experiments/1\n",
      "3 --> train_loss: 5.917 | train_accuracy: -inf | val_loss: 5.3059 | val_accuracy: -8.6235\n",
      "🏃 View run Fold-3 at: http://127.0.0.1:5001/#/experiments/1/runs/6e2d44470c2a49f28dbfda5e59235da0\n",
      "🧪 View experiment at: http://127.0.0.1:5001/#/experiments/1\n"
     ]
    },
    {
     "name": "stderr",
     "output_type": "stream",
     "text": [
      "2025/02/03 04:40:11 WARNING mlflow.models.signature: Failed to infer schema for outputs. Setting schema to `Schema([ColSpec(type=AnyType())]` as default. To see the full traceback, set logging level to DEBUG.\n",
      "2025/02/03 04:40:11 WARNING mlflow.sklearn: Model was missing function: predict. Not logging python_function flavor!\n"
     ]
    },
    {
     "name": "stdout",
     "output_type": "stream",
     "text": [
      "4 --> train_loss: 5.923 | train_accuracy: -inf | val_loss: 5.5654 | val_accuracy: -8.8632\n",
      "🏃 View run Fold-4 at: http://127.0.0.1:5001/#/experiments/1/runs/b22591203b524bae8e0823a7f0345fd7\n",
      "🧪 View experiment at: http://127.0.0.1:5001/#/experiments/1\n",
      "✅ Fold: stochastic | Model: LassoRegression | MSE: 4.9197 | R²: -7.4179\n",
      "🏃 View run method-stochastic-lr-0.0001-reg-LassoRegression-poly-Polynomial-momentum-Momentum is not used-weight-xavier at: http://127.0.0.1:5001/#/experiments/1/runs/209f30dd290c4e63b03372058fccf0a9\n",
      "🧪 View experiment at: http://127.0.0.1:5001/#/experiments/1\n",
      " Running LassoRegression | stochastic | Polynomial | xavier | Momentum is used | LR: 0.01\n",
      "(5330,)\n",
      "torch.Size([5330, 90])\n",
      "0 --> train_loss: 5201.564 | train_accuracy: -inf | val_loss: 8431.7500 | val_accuracy: -14739.8926\n",
      "🏃 View run Fold-0 at: http://127.0.0.1:5001/#/experiments/1/runs/70a341e21a9749c79d3120baa2a9414d\n",
      "🧪 View experiment at: http://127.0.0.1:5001/#/experiments/1\n",
      "1 --> train_loss: 6970.342 | train_accuracy: -inf | val_loss: 3472.9707 | val_accuracy: -6627.1152\n",
      "🏃 View run Fold-1 at: http://127.0.0.1:5001/#/experiments/1/runs/e0f923a76a8448b4bf1a6744750b344d\n",
      "🧪 View experiment at: http://127.0.0.1:5001/#/experiments/1\n",
      "2 --> train_loss: 9162.926 | train_accuracy: -inf | val_loss: 4142.4541 | val_accuracy: -7558.7568\n",
      "🏃 View run Fold-2 at: http://127.0.0.1:5001/#/experiments/1/runs/05c2e2a790da4c90990e973c4a9a8e0c\n",
      "🧪 View experiment at: http://127.0.0.1:5001/#/experiments/1\n",
      "3 --> train_loss: 7662.755 | train_accuracy: -inf | val_loss: 3249.2407 | val_accuracy: -5892.2754\n",
      "🏃 View run Fold-3 at: http://127.0.0.1:5001/#/experiments/1/runs/811a0152249041ac85533b837ebc464c\n",
      "🧪 View experiment at: http://127.0.0.1:5001/#/experiments/1\n"
     ]
    },
    {
     "name": "stderr",
     "output_type": "stream",
     "text": [
      "2025/02/03 04:42:38 WARNING mlflow.models.signature: Failed to infer schema for outputs. Setting schema to `Schema([ColSpec(type=AnyType())]` as default. To see the full traceback, set logging level to DEBUG.\n",
      "2025/02/03 04:42:38 WARNING mlflow.sklearn: Model was missing function: predict. Not logging python_function flavor!\n"
     ]
    },
    {
     "name": "stdout",
     "output_type": "stream",
     "text": [
      "4 --> train_loss: 6823.507 | train_accuracy: -inf | val_loss: 10792.6016 | val_accuracy: -19125.9375\n",
      "🏃 View run Fold-4 at: http://127.0.0.1:5001/#/experiments/1/runs/9f396f1f00cf45b28f9a599ffce5911a\n",
      "🧪 View experiment at: http://127.0.0.1:5001/#/experiments/1\n",
      "✅ Fold: stochastic | Model: LassoRegression | MSE: 3766.0854 | R²: -6442.9980\n",
      "🏃 View run method-stochastic-lr-0.01-reg-LassoRegression-poly-Polynomial-momentum-Momentum is used-weight-xavier at: http://127.0.0.1:5001/#/experiments/1/runs/7915cb2f21cf446aa422deb66caff1e9\n",
      "🧪 View experiment at: http://127.0.0.1:5001/#/experiments/1\n",
      " Running LassoRegression | stochastic | Polynomial | xavier | Momentum is used | LR: 0.001\n",
      "(5330,)\n",
      "torch.Size([5330, 90])\n",
      "0 --> train_loss: 3.753 | train_accuracy: -inf | val_loss: 5.2009 | val_accuracy: -8.0925\n",
      "🏃 View run Fold-0 at: http://127.0.0.1:5001/#/experiments/1/runs/4d14e473d7ba43b5a70d2a870c2f4d54\n",
      "🧪 View experiment at: http://127.0.0.1:5001/#/experiments/1\n",
      "1 --> train_loss: 5.242 | train_accuracy: -inf | val_loss: 3.8180 | val_accuracy: -6.2866\n",
      "🏃 View run Fold-1 at: http://127.0.0.1:5001/#/experiments/1/runs/3d23713048e840f28abe660c67d2a194\n",
      "🧪 View experiment at: http://127.0.0.1:5001/#/experiments/1\n",
      "2 --> train_loss: 4.581 | train_accuracy: -inf | val_loss: 4.3619 | val_accuracy: -6.9602\n",
      "🏃 View run Fold-2 at: http://127.0.0.1:5001/#/experiments/1/runs/681135a850db4278b39dbe80fb33d81e\n",
      "🧪 View experiment at: http://127.0.0.1:5001/#/experiments/1\n",
      "3 --> train_loss: 4.425 | train_accuracy: -inf | val_loss: 9.7891 | val_accuracy: -16.7549\n",
      "🏃 View run Fold-3 at: http://127.0.0.1:5001/#/experiments/1/runs/7fc86dfd5e62479ab69bf8c0b2e3da17\n",
      "🧪 View experiment at: http://127.0.0.1:5001/#/experiments/1\n"
     ]
    },
    {
     "name": "stderr",
     "output_type": "stream",
     "text": [
      "2025/02/03 04:45:04 WARNING mlflow.models.signature: Failed to infer schema for outputs. Setting schema to `Schema([ColSpec(type=AnyType())]` as default. To see the full traceback, set logging level to DEBUG.\n",
      "2025/02/03 04:45:04 WARNING mlflow.sklearn: Model was missing function: predict. Not logging python_function flavor!\n"
     ]
    },
    {
     "name": "stdout",
     "output_type": "stream",
     "text": [
      "4 --> train_loss: 4.576 | train_accuracy: -inf | val_loss: 5.5439 | val_accuracy: -8.8250\n",
      "🏃 View run Fold-4 at: http://127.0.0.1:5001/#/experiments/1/runs/8f33dcfc6c514b0ca4fec09670108bee\n",
      "🧪 View experiment at: http://127.0.0.1:5001/#/experiments/1\n",
      "✅ Fold: stochastic | Model: LassoRegression | MSE: 5.0989 | R²: -7.7245\n",
      "🏃 View run method-stochastic-lr-0.001-reg-LassoRegression-poly-Polynomial-momentum-Momentum is used-weight-xavier at: http://127.0.0.1:5001/#/experiments/1/runs/63da131efc27489eb9d6aab4e625924e\n",
      "🧪 View experiment at: http://127.0.0.1:5001/#/experiments/1\n",
      " Running LassoRegression | stochastic | Polynomial | xavier | Momentum is used | LR: 0.0001\n",
      "(5330,)\n",
      "torch.Size([5330, 90])\n",
      "0 --> train_loss: 5.567 | train_accuracy: -inf | val_loss: 6.2710 | val_accuracy: -9.9634\n",
      "🏃 View run Fold-0 at: http://127.0.0.1:5001/#/experiments/1/runs/891567ae665f4d799bb474da60c1a0a5\n",
      "🧪 View experiment at: http://127.0.0.1:5001/#/experiments/1\n",
      "1 --> train_loss: 6.296 | train_accuracy: -inf | val_loss: 4.7436 | val_accuracy: -8.0531\n",
      "🏃 View run Fold-1 at: http://127.0.0.1:5001/#/experiments/1/runs/08dd3afe5c6d4305ac4f09cf5940227c\n",
      "🧪 View experiment at: http://127.0.0.1:5001/#/experiments/1\n",
      "2 --> train_loss: 5.948 | train_accuracy: -inf | val_loss: 4.9782 | val_accuracy: -8.0850\n",
      "🏃 View run Fold-2 at: http://127.0.0.1:5001/#/experiments/1/runs/a0d9d8f13b4c45c3b4e8d837d689829c\n",
      "🧪 View experiment at: http://127.0.0.1:5001/#/experiments/1\n",
      "3 --> train_loss: 5.812 | train_accuracy: -inf | val_loss: 5.5317 | val_accuracy: -9.0330\n",
      "🏃 View run Fold-3 at: http://127.0.0.1:5001/#/experiments/1/runs/ed93c94f0f7641d7bc0491e4adf9d3e4\n",
      "🧪 View experiment at: http://127.0.0.1:5001/#/experiments/1\n"
     ]
    },
    {
     "name": "stderr",
     "output_type": "stream",
     "text": [
      "2025/02/03 04:47:32 WARNING mlflow.models.signature: Failed to infer schema for outputs. Setting schema to `Schema([ColSpec(type=AnyType())]` as default. To see the full traceback, set logging level to DEBUG.\n",
      "2025/02/03 04:47:32 WARNING mlflow.sklearn: Model was missing function: predict. Not logging python_function flavor!\n"
     ]
    },
    {
     "name": "stdout",
     "output_type": "stream",
     "text": [
      "4 --> train_loss: 5.510 | train_accuracy: -inf | val_loss: 6.0162 | val_accuracy: -9.6622\n",
      "🏃 View run Fold-4 at: http://127.0.0.1:5001/#/experiments/1/runs/702b6e7f871f44f4a9de2f53c05b1e8d\n",
      "🧪 View experiment at: http://127.0.0.1:5001/#/experiments/1\n",
      "✅ Fold: stochastic | Model: LassoRegression | MSE: 5.4115 | R²: -8.2594\n",
      "🏃 View run method-stochastic-lr-0.0001-reg-LassoRegression-poly-Polynomial-momentum-Momentum is used-weight-xavier at: http://127.0.0.1:5001/#/experiments/1/runs/6e202318f44f419f902c91a016f9d910\n",
      "🧪 View experiment at: http://127.0.0.1:5001/#/experiments/1\n",
      " Running LassoRegression | mini_batch | Linear | zeros | Momentum is not used | LR: 0.01\n",
      "(5330,)\n",
      "torch.Size([5330, 12])\n",
      "0 --> train_loss: 5.310 | train_accuracy: -9.3288 | val_loss: 5.3832 | val_accuracy: -8.4112\n",
      "🏃 View run Fold-0 at: http://127.0.0.1:5001/#/experiments/1/runs/2be22629c26d4656b1b245cedf0b3d45\n",
      "🧪 View experiment at: http://127.0.0.1:5001/#/experiments/1\n",
      "1 --> train_loss: 5.182 | train_accuracy: -8.9154 | val_loss: 4.5997 | val_accuracy: -7.7784\n",
      "🏃 View run Fold-1 at: http://127.0.0.1:5001/#/experiments/1/runs/96004cf094b24ce1bc0fc6496e8e540d\n",
      "🧪 View experiment at: http://127.0.0.1:5001/#/experiments/1\n",
      "2 --> train_loss: 5.022 | train_accuracy: -8.8133 | val_loss: 4.6542 | val_accuracy: -7.4937\n",
      "🏃 View run Fold-2 at: http://127.0.0.1:5001/#/experiments/1/runs/71227952ce534b1d91549b4b4df42bb7\n",
      "🧪 View experiment at: http://127.0.0.1:5001/#/experiments/1\n",
      "3 --> train_loss: 4.978 | train_accuracy: -8.7733 | val_loss: 4.9254 | val_accuracy: -7.9333\n",
      "🏃 View run Fold-3 at: http://127.0.0.1:5001/#/experiments/1/runs/7aab55f89e034458bc5a647e7797cf90\n",
      "🧪 View experiment at: http://127.0.0.1:5001/#/experiments/1\n"
     ]
    },
    {
     "name": "stderr",
     "output_type": "stream",
     "text": [
      "2025/02/03 04:47:43 WARNING mlflow.models.signature: Failed to infer schema for outputs. Setting schema to `Schema([ColSpec(type=AnyType())]` as default. To see the full traceback, set logging level to DEBUG.\n",
      "2025/02/03 04:47:43 WARNING mlflow.sklearn: Model was missing function: predict. Not logging python_function flavor!\n"
     ]
    },
    {
     "name": "stdout",
     "output_type": "stream",
     "text": [
      "4 --> train_loss: 4.982 | train_accuracy: -8.8291 | val_loss: 5.1695 | val_accuracy: -8.1615\n",
      "🏃 View run Fold-4 at: http://127.0.0.1:5001/#/experiments/1/runs/590e86960f894ae5895ce19bde52be56\n",
      "🧪 View experiment at: http://127.0.0.1:5001/#/experiments/1\n",
      "✅ Fold: mini_batch | Model: LassoRegression | MSE: 5.3129 | R²: -8.0906\n",
      "🏃 View run method-mini_batch-lr-0.01-reg-LassoRegression-poly-Linear-momentum-Momentum is not used-weight-zeros at: http://127.0.0.1:5001/#/experiments/1/runs/9b0f17de290c48ec9eef007080b987bd\n",
      "🧪 View experiment at: http://127.0.0.1:5001/#/experiments/1\n",
      " Running LassoRegression | mini_batch | Linear | zeros | Momentum is not used | LR: 0.001\n",
      "(5330,)\n",
      "torch.Size([5330, 12])\n",
      "0 --> train_loss: 7.958 | train_accuracy: -14.9181 | val_loss: 5.4979 | val_accuracy: -8.6117\n",
      "🏃 View run Fold-0 at: http://127.0.0.1:5001/#/experiments/1/runs/2bf4db3d910247bba4fe3e7c92a1ec92\n",
      "🧪 View experiment at: http://127.0.0.1:5001/#/experiments/1\n",
      "1 --> train_loss: 6.650 | train_accuracy: -12.0311 | val_loss: 4.7738 | val_accuracy: -8.1107\n",
      "🏃 View run Fold-1 at: http://127.0.0.1:5001/#/experiments/1/runs/2825d822aad847879cab6f0bbb5b92f4\n",
      "🧪 View experiment at: http://127.0.0.1:5001/#/experiments/1\n",
      "2 --> train_loss: 6.180 | train_accuracy: -11.0797 | val_loss: 5.0345 | val_accuracy: -8.1878\n",
      "🏃 View run Fold-2 at: http://127.0.0.1:5001/#/experiments/1/runs/40bad3a337b84bf2860fc0d7a95dd5e3\n",
      "🧪 View experiment at: http://127.0.0.1:5001/#/experiments/1\n",
      "3 --> train_loss: 6.007 | train_accuracy: -10.7364 | val_loss: 5.1505 | val_accuracy: -8.3417\n",
      "🏃 View run Fold-3 at: http://127.0.0.1:5001/#/experiments/1/runs/75c365c583564d98a9d447d59e32c091\n",
      "🧪 View experiment at: http://127.0.0.1:5001/#/experiments/1\n"
     ]
    },
    {
     "name": "stderr",
     "output_type": "stream",
     "text": [
      "2025/02/03 04:47:54 WARNING mlflow.models.signature: Failed to infer schema for outputs. Setting schema to `Schema([ColSpec(type=AnyType())]` as default. To see the full traceback, set logging level to DEBUG.\n",
      "2025/02/03 04:47:54 WARNING mlflow.sklearn: Model was missing function: predict. Not logging python_function flavor!\n"
     ]
    },
    {
     "name": "stdout",
     "output_type": "stream",
     "text": [
      "4 --> train_loss: 5.805 | train_accuracy: -10.3247 | val_loss: 5.4859 | val_accuracy: -8.7223\n",
      "🏃 View run Fold-4 at: http://127.0.0.1:5001/#/experiments/1/runs/e09bb5065282402e8932ac95f863b206\n",
      "🧪 View experiment at: http://127.0.0.1:5001/#/experiments/1\n",
      "✅ Fold: mini_batch | Model: LassoRegression | MSE: 5.5898 | R²: -8.5645\n",
      "🏃 View run method-mini_batch-lr-0.001-reg-LassoRegression-poly-Linear-momentum-Momentum is not used-weight-zeros at: http://127.0.0.1:5001/#/experiments/1/runs/299cc095b4e14cda88ce43c8ef9b46f4\n",
      "🧪 View experiment at: http://127.0.0.1:5001/#/experiments/1\n",
      " Running LassoRegression | mini_batch | Linear | zeros | Momentum is not used | LR: 0.0001\n",
      "(5330,)\n",
      "torch.Size([5330, 12])\n",
      "0 --> train_loss: 38.030 | train_accuracy: -75.8895 | val_loss: 8.1466 | val_accuracy: -13.2424\n",
      "🏃 View run Fold-0 at: http://127.0.0.1:5001/#/experiments/1/runs/b9e121dafb674319b95fd75195bc7399\n",
      "🧪 View experiment at: http://127.0.0.1:5001/#/experiments/1\n",
      "1 --> train_loss: 22.167 | train_accuracy: -43.3848 | val_loss: 5.0366 | val_accuracy: -8.6123\n",
      "🏃 View run Fold-1 at: http://127.0.0.1:5001/#/experiments/1/runs/810ab6d6555647d99bc03f7027aae59a\n",
      "🧪 View experiment at: http://127.0.0.1:5001/#/experiments/1\n",
      "2 --> train_loss: 16.545 | train_accuracy: -32.0118 | val_loss: 4.9344 | val_accuracy: -8.0051\n",
      "🏃 View run Fold-2 at: http://127.0.0.1:5001/#/experiments/1/runs/1687c40469e84ceb852187c0527288c5\n",
      "🧪 View experiment at: http://127.0.0.1:5001/#/experiments/1\n",
      "3 --> train_loss: 13.670 | train_accuracy: -26.1817 | val_loss: 4.7539 | val_accuracy: -7.6224\n",
      "🏃 View run Fold-3 at: http://127.0.0.1:5001/#/experiments/1/runs/10700110db89485c90ec7fd77742cd28\n",
      "🧪 View experiment at: http://127.0.0.1:5001/#/experiments/1\n"
     ]
    },
    {
     "name": "stderr",
     "output_type": "stream",
     "text": [
      "2025/02/03 04:48:04 WARNING mlflow.models.signature: Failed to infer schema for outputs. Setting schema to `Schema([ColSpec(type=AnyType())]` as default. To see the full traceback, set logging level to DEBUG.\n",
      "2025/02/03 04:48:04 WARNING mlflow.sklearn: Model was missing function: predict. Not logging python_function flavor!\n"
     ]
    },
    {
     "name": "stdout",
     "output_type": "stream",
     "text": [
      "4 --> train_loss: 11.892 | train_accuracy: -22.5712 | val_loss: 5.4260 | val_accuracy: -8.6160\n",
      "🏃 View run Fold-4 at: http://127.0.0.1:5001/#/experiments/1/runs/10516458454f497e9a98f0524d9665f2\n",
      "🧪 View experiment at: http://127.0.0.1:5001/#/experiments/1\n",
      "✅ Fold: mini_batch | Model: LassoRegression | MSE: 5.3785 | R²: -8.2029\n",
      "🏃 View run method-mini_batch-lr-0.0001-reg-LassoRegression-poly-Linear-momentum-Momentum is not used-weight-zeros at: http://127.0.0.1:5001/#/experiments/1/runs/f2607903979a461c98a4a9b659f6567c\n",
      "🧪 View experiment at: http://127.0.0.1:5001/#/experiments/1\n",
      " Running LassoRegression | mini_batch | Linear | zeros | Momentum is used | LR: 0.01\n",
      "(5330,)\n",
      "torch.Size([5330, 12])\n",
      "0 --> train_loss: 6.313 | train_accuracy: -10.8613 | val_loss: 5.6160 | val_accuracy: -8.8183\n",
      "🏃 View run Fold-0 at: http://127.0.0.1:5001/#/experiments/1/runs/bcc445c34cfc4c70abf0a063348cca18\n",
      "🧪 View experiment at: http://127.0.0.1:5001/#/experiments/1\n",
      "1 --> train_loss: 5.768 | train_accuracy: -9.8268 | val_loss: 4.7181 | val_accuracy: -8.0044\n",
      "🏃 View run Fold-1 at: http://127.0.0.1:5001/#/experiments/1/runs/af79cb22784045c5a46dadbf905ac719\n",
      "🧪 View experiment at: http://127.0.0.1:5001/#/experiments/1\n",
      "2 --> train_loss: 5.555 | train_accuracy: -9.4747 | val_loss: 4.8395 | val_accuracy: -7.8318\n",
      "🏃 View run Fold-2 at: http://127.0.0.1:5001/#/experiments/1/runs/4038aade833b4f229fb65e7f52ce4681\n",
      "🧪 View experiment at: http://127.0.0.1:5001/#/experiments/1\n",
      "3 --> train_loss: 5.445 | train_accuracy: -9.3964 | val_loss: 5.0478 | val_accuracy: -8.1554\n",
      "🏃 View run Fold-3 at: http://127.0.0.1:5001/#/experiments/1/runs/9e4c0aeb359f41c9b4758ef8ca097892\n",
      "🧪 View experiment at: http://127.0.0.1:5001/#/experiments/1\n"
     ]
    },
    {
     "name": "stderr",
     "output_type": "stream",
     "text": [
      "2025/02/03 04:48:14 WARNING mlflow.models.signature: Failed to infer schema for outputs. Setting schema to `Schema([ColSpec(type=AnyType())]` as default. To see the full traceback, set logging level to DEBUG.\n",
      "2025/02/03 04:48:14 WARNING mlflow.sklearn: Model was missing function: predict. Not logging python_function flavor!\n"
     ]
    },
    {
     "name": "stdout",
     "output_type": "stream",
     "text": [
      "4 --> train_loss: 5.306 | train_accuracy: -9.2117 | val_loss: 5.3745 | val_accuracy: -8.5248\n",
      "🏃 View run Fold-4 at: http://127.0.0.1:5001/#/experiments/1/runs/243fc17019d9478db14ac9238fe65070\n",
      "🧪 View experiment at: http://127.0.0.1:5001/#/experiments/1\n",
      "✅ Fold: mini_batch | Model: LassoRegression | MSE: 5.5084 | R²: -8.4252\n",
      "🏃 View run method-mini_batch-lr-0.01-reg-LassoRegression-poly-Linear-momentum-Momentum is used-weight-zeros at: http://127.0.0.1:5001/#/experiments/1/runs/0017859a2abc4384b3ad347774ea1b83\n",
      "🧪 View experiment at: http://127.0.0.1:5001/#/experiments/1\n",
      " Running LassoRegression | mini_batch | Linear | zeros | Momentum is used | LR: 0.001\n",
      "(5330,)\n",
      "torch.Size([5330, 12])\n",
      "0 --> train_loss: 21.838 | train_accuracy: -43.9354 | val_loss: 5.7180 | val_accuracy: -8.9966\n",
      "🏃 View run Fold-0 at: http://127.0.0.1:5001/#/experiments/1/runs/7b82430c01d549d99e28a45b2601571f\n",
      "🧪 View experiment at: http://127.0.0.1:5001/#/experiments/1\n",
      "1 --> train_loss: 13.646 | train_accuracy: -26.8379 | val_loss: 4.6944 | val_accuracy: -7.9593\n",
      "🏃 View run Fold-1 at: http://127.0.0.1:5001/#/experiments/1/runs/e1c565b9b14243fdaf8d41b87f1fcf48\n",
      "🧪 View experiment at: http://127.0.0.1:5001/#/experiments/1\n",
      "2 --> train_loss: 10.818 | train_accuracy: -21.0124 | val_loss: 4.8715 | val_accuracy: -7.8903\n",
      "🏃 View run Fold-2 at: http://127.0.0.1:5001/#/experiments/1/runs/b24df8b900c04931a9d411af28ca5a1c\n",
      "🧪 View experiment at: http://127.0.0.1:5001/#/experiments/1\n",
      "3 --> train_loss: 9.345 | train_accuracy: -17.9327 | val_loss: 4.8663 | val_accuracy: -7.8263\n",
      "🏃 View run Fold-3 at: http://127.0.0.1:5001/#/experiments/1/runs/e116d8fa3ca54bd897ba6e9fd228a303\n",
      "🧪 View experiment at: http://127.0.0.1:5001/#/experiments/1\n"
     ]
    },
    {
     "name": "stderr",
     "output_type": "stream",
     "text": [
      "2025/02/03 04:48:24 WARNING mlflow.models.signature: Failed to infer schema for outputs. Setting schema to `Schema([ColSpec(type=AnyType())]` as default. To see the full traceback, set logging level to DEBUG.\n",
      "2025/02/03 04:48:24 WARNING mlflow.sklearn: Model was missing function: predict. Not logging python_function flavor!\n"
     ]
    },
    {
     "name": "stdout",
     "output_type": "stream",
     "text": [
      "4 --> train_loss: 8.526 | train_accuracy: -16.2675 | val_loss: 5.5398 | val_accuracy: -8.8177\n",
      "🏃 View run Fold-4 at: http://127.0.0.1:5001/#/experiments/1/runs/ad2684c4a2d74a75a74bb60f3825621d\n",
      "🧪 View experiment at: http://127.0.0.1:5001/#/experiments/1\n",
      "✅ Fold: mini_batch | Model: LassoRegression | MSE: 5.5386 | R²: -8.4768\n",
      "🏃 View run method-mini_batch-lr-0.001-reg-LassoRegression-poly-Linear-momentum-Momentum is used-weight-zeros at: http://127.0.0.1:5001/#/experiments/1/runs/86bf27a185f1463fb083f2ec8c0b2869\n",
      "🧪 View experiment at: http://127.0.0.1:5001/#/experiments/1\n",
      " Running LassoRegression | mini_batch | Linear | zeros | Momentum is used | LR: 0.0001\n",
      "(5330,)\n",
      "torch.Size([5330, 12])\n",
      "0 --> train_loss: 107.600 | train_accuracy: -221.3331 | val_loss: 66.1988 | val_accuracy: -114.7327\n",
      "🏃 View run Fold-0 at: http://127.0.0.1:5001/#/experiments/1/runs/b7ca4cd3b1da450d9afebac57b25a652\n",
      "🧪 View experiment at: http://127.0.0.1:5001/#/experiments/1\n",
      "1 --> train_loss: 76.074 | train_accuracy: -153.6895 | val_loss: 28.9492 | val_accuracy: -54.2492\n",
      "🏃 View run Fold-1 at: http://127.0.0.1:5001/#/experiments/1/runs/3816119a9cd14a41991b462572d0b934\n",
      "🧪 View experiment at: http://127.0.0.1:5001/#/experiments/1\n",
      "2 --> train_loss: 57.697 | train_accuracy: -116.2894 | val_loss: 15.2430 | val_accuracy: -26.8176\n",
      "🏃 View run Fold-2 at: http://127.0.0.1:5001/#/experiments/1/runs/e7646014ad9846c7ad988b081760d0bb\n",
      "🧪 View experiment at: http://127.0.0.1:5001/#/experiments/1\n",
      "3 --> train_loss: 46.338 | train_accuracy: -93.0546 | val_loss: 9.4347 | val_accuracy: -16.1121\n",
      "🏃 View run Fold-3 at: http://127.0.0.1:5001/#/experiments/1/runs/2c3656ddf84f44718e6346f79356be77\n",
      "🧪 View experiment at: http://127.0.0.1:5001/#/experiments/1\n"
     ]
    },
    {
     "name": "stderr",
     "output_type": "stream",
     "text": [
      "2025/02/03 04:48:34 WARNING mlflow.models.signature: Failed to infer schema for outputs. Setting schema to `Schema([ColSpec(type=AnyType())]` as default. To see the full traceback, set logging level to DEBUG.\n",
      "2025/02/03 04:48:34 WARNING mlflow.sklearn: Model was missing function: predict. Not logging python_function flavor!\n"
     ]
    },
    {
     "name": "stdout",
     "output_type": "stream",
     "text": [
      "4 --> train_loss: 38.837 | train_accuracy: -77.6049 | val_loss: 8.2848 | val_accuracy: -13.6826\n",
      "🏃 View run Fold-4 at: http://127.0.0.1:5001/#/experiments/1/runs/808ee73c38c54c7ca1d57ede64d0f9a2\n",
      "🧪 View experiment at: http://127.0.0.1:5001/#/experiments/1\n",
      "✅ Fold: mini_batch | Model: LassoRegression | MSE: 7.9735 | R²: -12.6431\n",
      "🏃 View run method-mini_batch-lr-0.0001-reg-LassoRegression-poly-Linear-momentum-Momentum is used-weight-zeros at: http://127.0.0.1:5001/#/experiments/1/runs/74a137b75a2b4091a494b634cd127191\n",
      "🧪 View experiment at: http://127.0.0.1:5001/#/experiments/1\n",
      " Running LassoRegression | mini_batch | Linear | xavier | Momentum is not used | LR: 0.01\n",
      "(5330,)\n",
      "torch.Size([5330, 12])\n",
      "0 --> train_loss: 5.590 | train_accuracy: -9.4231 | val_loss: 5.3876 | val_accuracy: -8.4189\n",
      "🏃 View run Fold-0 at: http://127.0.0.1:5001/#/experiments/1/runs/d104ca52e9b74e40a9d75eb1aa4522db\n",
      "🧪 View experiment at: http://127.0.0.1:5001/#/experiments/1\n",
      "1 --> train_loss: 5.404 | train_accuracy: -9.2167 | val_loss: 4.5453 | val_accuracy: -7.6747\n",
      "🏃 View run Fold-1 at: http://127.0.0.1:5001/#/experiments/1/runs/aa732e795a8646fcac899d3f6de447c6\n",
      "🧪 View experiment at: http://127.0.0.1:5001/#/experiments/1\n",
      "2 --> train_loss: 5.299 | train_accuracy: -9.1557 | val_loss: 4.6794 | val_accuracy: -7.5396\n",
      "🏃 View run Fold-2 at: http://127.0.0.1:5001/#/experiments/1/runs/b5076919b3b248c5839c2d00765afd61\n",
      "🧪 View experiment at: http://127.0.0.1:5001/#/experiments/1\n",
      "3 --> train_loss: 5.159 | train_accuracy: -9.0058 | val_loss: 4.9047 | val_accuracy: -7.8958\n",
      "🏃 View run Fold-3 at: http://127.0.0.1:5001/#/experiments/1/runs/d7e7e8d3411241cdb1bdce9ecde7b08d\n",
      "🧪 View experiment at: http://127.0.0.1:5001/#/experiments/1\n"
     ]
    },
    {
     "name": "stderr",
     "output_type": "stream",
     "text": [
      "2025/02/03 04:48:43 WARNING mlflow.models.signature: Failed to infer schema for outputs. Setting schema to `Schema([ColSpec(type=AnyType())]` as default. To see the full traceback, set logging level to DEBUG.\n",
      "2025/02/03 04:48:43 WARNING mlflow.sklearn: Model was missing function: predict. Not logging python_function flavor!\n"
     ]
    },
    {
     "name": "stdout",
     "output_type": "stream",
     "text": [
      "4 --> train_loss: 5.049 | train_accuracy: -8.8196 | val_loss: 5.2143 | val_accuracy: -8.2408\n",
      "🏃 View run Fold-4 at: http://127.0.0.1:5001/#/experiments/1/runs/431001f594104b03b49497752316b6ea\n",
      "🧪 View experiment at: http://127.0.0.1:5001/#/experiments/1\n",
      "✅ Fold: mini_batch | Model: LassoRegression | MSE: 5.3594 | R²: -8.1702\n",
      "🏃 View run method-mini_batch-lr-0.01-reg-LassoRegression-poly-Linear-momentum-Momentum is not used-weight-xavier at: http://127.0.0.1:5001/#/experiments/1/runs/53c4eb99c1e5420d80166edb8d30bf0d\n",
      "🧪 View experiment at: http://127.0.0.1:5001/#/experiments/1\n",
      " Running LassoRegression | mini_batch | Linear | xavier | Momentum is not used | LR: 0.001\n",
      "(5330,)\n",
      "torch.Size([5330, 12])\n",
      "0 --> train_loss: 8.317 | train_accuracy: -14.2815 | val_loss: 5.7619 | val_accuracy: -9.0734\n",
      "🏃 View run Fold-0 at: http://127.0.0.1:5001/#/experiments/1/runs/ac71a72a5e6041c9bd718f8d15e6f74a\n",
      "🧪 View experiment at: http://127.0.0.1:5001/#/experiments/1\n",
      "1 --> train_loss: 6.928 | train_accuracy: -11.8845 | val_loss: 4.9029 | val_accuracy: -8.3571\n",
      "🏃 View run Fold-1 at: http://127.0.0.1:5001/#/experiments/1/runs/27bf05cb244b4f539535c63706511bdc\n",
      "🧪 View experiment at: http://127.0.0.1:5001/#/experiments/1\n",
      "2 --> train_loss: 6.414 | train_accuracy: -11.2148 | val_loss: 5.0691 | val_accuracy: -8.2509\n",
      "🏃 View run Fold-2 at: http://127.0.0.1:5001/#/experiments/1/runs/e84755ec9fd04efe971c0741a974c863\n",
      "🧪 View experiment at: http://127.0.0.1:5001/#/experiments/1\n",
      "3 --> train_loss: 6.147 | train_accuracy: -10.7425 | val_loss: 5.1710 | val_accuracy: -8.3789\n",
      "🏃 View run Fold-3 at: http://127.0.0.1:5001/#/experiments/1/runs/d903f1247d7b4202bdf3f00688aff093\n",
      "🧪 View experiment at: http://127.0.0.1:5001/#/experiments/1\n"
     ]
    },
    {
     "name": "stderr",
     "output_type": "stream",
     "text": [
      "2025/02/03 04:48:53 WARNING mlflow.models.signature: Failed to infer schema for outputs. Setting schema to `Schema([ColSpec(type=AnyType())]` as default. To see the full traceback, set logging level to DEBUG.\n",
      "2025/02/03 04:48:53 WARNING mlflow.sklearn: Model was missing function: predict. Not logging python_function flavor!\n"
     ]
    },
    {
     "name": "stdout",
     "output_type": "stream",
     "text": [
      "4 --> train_loss: 5.906 | train_accuracy: -10.3533 | val_loss: 5.5086 | val_accuracy: -8.7625\n",
      "🏃 View run Fold-4 at: http://127.0.0.1:5001/#/experiments/1/runs/c1306fa764b14311b8c7b3c152c49592\n",
      "🧪 View experiment at: http://127.0.0.1:5001/#/experiments/1\n",
      "✅ Fold: mini_batch | Model: LassoRegression | MSE: 5.6112 | R²: -8.6010\n",
      "🏃 View run method-mini_batch-lr-0.001-reg-LassoRegression-poly-Linear-momentum-Momentum is not used-weight-xavier at: http://127.0.0.1:5001/#/experiments/1/runs/8c9442946fdd4cd0827c14b552b64d20\n",
      "🧪 View experiment at: http://127.0.0.1:5001/#/experiments/1\n",
      " Running LassoRegression | mini_batch | Linear | xavier | Momentum is not used | LR: 0.0001\n",
      "(5330,)\n",
      "torch.Size([5330, 12])\n",
      "0 --> train_loss: 38.455 | train_accuracy: -71.5047 | val_loss: 8.1715 | val_accuracy: -13.2860\n",
      "🏃 View run Fold-0 at: http://127.0.0.1:5001/#/experiments/1/runs/85d098fb24c14fec991ccc53e785cf68\n",
      "🧪 View experiment at: http://127.0.0.1:5001/#/experiments/1\n",
      "1 --> train_loss: 22.373 | train_accuracy: -41.3789 | val_loss: 5.0088 | val_accuracy: -8.5592\n",
      "🏃 View run Fold-1 at: http://127.0.0.1:5001/#/experiments/1/runs/b77d85f6676b463d9ff28592e516e22c\n",
      "🧪 View experiment at: http://127.0.0.1:5001/#/experiments/1\n",
      "2 --> train_loss: 16.597 | train_accuracy: -30.5032 | val_loss: 4.8376 | val_accuracy: -7.8283\n",
      "🏃 View run Fold-2 at: http://127.0.0.1:5001/#/experiments/1/runs/14aef3bf12ec4eafb2455df5535e319c\n",
      "🧪 View experiment at: http://127.0.0.1:5001/#/experiments/1\n",
      "3 --> train_loss: 13.660 | train_accuracy: -24.9895 | val_loss: 4.6786 | val_accuracy: -7.4858\n",
      "🏃 View run Fold-3 at: http://127.0.0.1:5001/#/experiments/1/runs/087c530d608540c2a441495a0cf40171\n",
      "🧪 View experiment at: http://127.0.0.1:5001/#/experiments/1\n"
     ]
    },
    {
     "name": "stderr",
     "output_type": "stream",
     "text": [
      "2025/02/03 04:49:02 WARNING mlflow.models.signature: Failed to infer schema for outputs. Setting schema to `Schema([ColSpec(type=AnyType())]` as default. To see the full traceback, set logging level to DEBUG.\n",
      "2025/02/03 04:49:03 WARNING mlflow.sklearn: Model was missing function: predict. Not logging python_function flavor!\n"
     ]
    },
    {
     "name": "stdout",
     "output_type": "stream",
     "text": [
      "4 --> train_loss: 11.849 | train_accuracy: -21.6146 | val_loss: 5.2670 | val_accuracy: -8.3343\n",
      "🏃 View run Fold-4 at: http://127.0.0.1:5001/#/experiments/1/runs/ccb85c8dac2c4442ac378937838373d9\n",
      "🧪 View experiment at: http://127.0.0.1:5001/#/experiments/1\n",
      "✅ Fold: mini_batch | Model: LassoRegression | MSE: 5.2403 | R²: -7.9664\n",
      "🏃 View run method-mini_batch-lr-0.0001-reg-LassoRegression-poly-Linear-momentum-Momentum is not used-weight-xavier at: http://127.0.0.1:5001/#/experiments/1/runs/2bf8f361371d499eb53abed5ca690dbd\n",
      "🧪 View experiment at: http://127.0.0.1:5001/#/experiments/1\n",
      " Running LassoRegression | mini_batch | Linear | xavier | Momentum is used | LR: 0.01\n",
      "(5330,)\n",
      "torch.Size([5330, 12])\n",
      "0 --> train_loss: 5.964 | train_accuracy: -11.7583 | val_loss: 5.2749 | val_accuracy: -8.2219\n",
      "🏃 View run Fold-0 at: http://127.0.0.1:5001/#/experiments/1/runs/5589adf5128242efbde1bb5501c21acc\n",
      "🧪 View experiment at: http://127.0.0.1:5001/#/experiments/1\n",
      "1 --> train_loss: 5.738 | train_accuracy: -10.7171 | val_loss: 4.6524 | val_accuracy: -7.8790\n",
      "🏃 View run Fold-1 at: http://127.0.0.1:5001/#/experiments/1/runs/9e4b928ee5ef48efadeffcbfa975f5e8\n",
      "🧪 View experiment at: http://127.0.0.1:5001/#/experiments/1\n",
      "2 --> train_loss: 5.432 | train_accuracy: -10.0075 | val_loss: 4.7850 | val_accuracy: -7.7323\n",
      "🏃 View run Fold-2 at: http://127.0.0.1:5001/#/experiments/1/runs/65ab16a973234d34ac3291d3bd296ac6\n",
      "🧪 View experiment at: http://127.0.0.1:5001/#/experiments/1\n",
      "3 --> train_loss: 5.304 | train_accuracy: -9.6549 | val_loss: 5.0169 | val_accuracy: -8.0994\n",
      "🏃 View run Fold-3 at: http://127.0.0.1:5001/#/experiments/1/runs/5115188f0573453183c4947eb24541c5\n",
      "🧪 View experiment at: http://127.0.0.1:5001/#/experiments/1\n"
     ]
    },
    {
     "name": "stderr",
     "output_type": "stream",
     "text": [
      "2025/02/03 04:49:12 WARNING mlflow.models.signature: Failed to infer schema for outputs. Setting schema to `Schema([ColSpec(type=AnyType())]` as default. To see the full traceback, set logging level to DEBUG.\n",
      "2025/02/03 04:49:12 WARNING mlflow.sklearn: Model was missing function: predict. Not logging python_function flavor!\n"
     ]
    },
    {
     "name": "stdout",
     "output_type": "stream",
     "text": [
      "4 --> train_loss: 5.241 | train_accuracy: -9.4328 | val_loss: 5.3353 | val_accuracy: -8.4554\n",
      "🏃 View run Fold-4 at: http://127.0.0.1:5001/#/experiments/1/runs/4447a6d5b4564b279ecae678d334d2ad\n",
      "🧪 View experiment at: http://127.0.0.1:5001/#/experiments/1\n",
      "✅ Fold: mini_batch | Model: LassoRegression | MSE: 5.4720 | R²: -8.3630\n",
      "🏃 View run method-mini_batch-lr-0.01-reg-LassoRegression-poly-Linear-momentum-Momentum is used-weight-xavier at: http://127.0.0.1:5001/#/experiments/1/runs/c6aaf9926e9a41729e78f157f8c74b03\n",
      "🧪 View experiment at: http://127.0.0.1:5001/#/experiments/1\n",
      " Running LassoRegression | mini_batch | Linear | xavier | Momentum is used | LR: 0.001\n",
      "(5330,)\n",
      "torch.Size([5330, 12])\n",
      "0 --> train_loss: 24.456 | train_accuracy: -47.0518 | val_loss: 5.4912 | val_accuracy: -8.6001\n",
      "🏃 View run Fold-0 at: http://127.0.0.1:5001/#/experiments/1/runs/7765d674d4eb4cd6bf859faf0e27e067\n",
      "🧪 View experiment at: http://127.0.0.1:5001/#/experiments/1\n",
      "1 --> train_loss: 14.738 | train_accuracy: -27.8404 | val_loss: 4.6025 | val_accuracy: -7.7839\n",
      "🏃 View run Fold-1 at: http://127.0.0.1:5001/#/experiments/1/runs/4286cb1ee1014346aa66cb243a1f0c05\n",
      "🧪 View experiment at: http://127.0.0.1:5001/#/experiments/1\n",
      "2 --> train_loss: 11.345 | train_accuracy: -21.1974 | val_loss: 4.7054 | val_accuracy: -7.5870\n",
      "🏃 View run Fold-2 at: http://127.0.0.1:5001/#/experiments/1/runs/b93505ff41584dfeb96e6bcf8e703a20\n",
      "🧪 View experiment at: http://127.0.0.1:5001/#/experiments/1\n",
      "3 --> train_loss: 9.691 | train_accuracy: -17.9337 | val_loss: 4.7333 | val_accuracy: -7.5849\n",
      "🏃 View run Fold-3 at: http://127.0.0.1:5001/#/experiments/1/runs/1a90436a9049453f8384dcf2e61803e5\n",
      "🧪 View experiment at: http://127.0.0.1:5001/#/experiments/1\n"
     ]
    },
    {
     "name": "stderr",
     "output_type": "stream",
     "text": [
      "2025/02/03 04:49:22 WARNING mlflow.models.signature: Failed to infer schema for outputs. Setting schema to `Schema([ColSpec(type=AnyType())]` as default. To see the full traceback, set logging level to DEBUG.\n",
      "2025/02/03 04:49:22 WARNING mlflow.sklearn: Model was missing function: predict. Not logging python_function flavor!\n"
     ]
    },
    {
     "name": "stdout",
     "output_type": "stream",
     "text": [
      "4 --> train_loss: 8.773 | train_accuracy: -16.1088 | val_loss: 5.3687 | val_accuracy: -8.5146\n",
      "🏃 View run Fold-4 at: http://127.0.0.1:5001/#/experiments/1/runs/1db81e33bee94d189dcf7f4b8ca33853\n",
      "🧪 View experiment at: http://127.0.0.1:5001/#/experiments/1\n",
      "✅ Fold: mini_batch | Model: LassoRegression | MSE: 5.4053 | R²: -8.2489\n",
      "🏃 View run method-mini_batch-lr-0.001-reg-LassoRegression-poly-Linear-momentum-Momentum is used-weight-xavier at: http://127.0.0.1:5001/#/experiments/1/runs/b41ab53316824d2c9f283180518f6b01\n",
      "🧪 View experiment at: http://127.0.0.1:5001/#/experiments/1\n",
      " Running LassoRegression | mini_batch | Linear | xavier | Momentum is used | LR: 0.0001\n",
      "(5330,)\n",
      "torch.Size([5330, 12])\n",
      "0 --> train_loss: 116.539 | train_accuracy: -239.8135 | val_loss: 70.6489 | val_accuracy: -122.5128\n",
      "🏃 View run Fold-0 at: http://127.0.0.1:5001/#/experiments/1/runs/98b282ac51b74031b37c82e8b6c33845\n",
      "🧪 View experiment at: http://127.0.0.1:5001/#/experiments/1\n",
      "1 --> train_loss: 81.784 | train_accuracy: -167.4793 | val_loss: 30.4084 | val_accuracy: -57.0340\n",
      "🏃 View run Fold-1 at: http://127.0.0.1:5001/#/experiments/1/runs/84969e5baf62407bad32a108a6539221\n",
      "🧪 View experiment at: http://127.0.0.1:5001/#/experiments/1\n",
      "2 --> train_loss: 61.805 | train_accuracy: -125.8139 | val_loss: 15.5168 | val_accuracy: -27.3174\n",
      "🏃 View run Fold-2 at: http://127.0.0.1:5001/#/experiments/1/runs/90b8482e7ce44d98875180f1b546999f\n",
      "🧪 View experiment at: http://127.0.0.1:5001/#/experiments/1\n",
      "3 --> train_loss: 49.488 | train_accuracy: -100.3881 | val_loss: 9.1789 | val_accuracy: -15.6482\n",
      "🏃 View run Fold-3 at: http://127.0.0.1:5001/#/experiments/1/runs/b6caed1cfcf94b3a86b2a81ff660785c\n",
      "🧪 View experiment at: http://127.0.0.1:5001/#/experiments/1\n"
     ]
    },
    {
     "name": "stderr",
     "output_type": "stream",
     "text": [
      "2025/02/03 04:49:31 WARNING mlflow.models.signature: Failed to infer schema for outputs. Setting schema to `Schema([ColSpec(type=AnyType())]` as default. To see the full traceback, set logging level to DEBUG.\n",
      "2025/02/03 04:49:31 WARNING mlflow.sklearn: Model was missing function: predict. Not logging python_function flavor!\n"
     ]
    },
    {
     "name": "stdout",
     "output_type": "stream",
     "text": [
      "4 --> train_loss: 41.268 | train_accuracy: -83.4131 | val_loss: 8.1121 | val_accuracy: -13.3765\n",
      "🏃 View run Fold-4 at: http://127.0.0.1:5001/#/experiments/1/runs/af8c87c2a98c482a901fb8e8129a692c\n",
      "🧪 View experiment at: http://127.0.0.1:5001/#/experiments/1\n",
      "✅ Fold: mini_batch | Model: LassoRegression | MSE: 7.6845 | R²: -12.1486\n",
      "🏃 View run method-mini_batch-lr-0.0001-reg-LassoRegression-poly-Linear-momentum-Momentum is used-weight-xavier at: http://127.0.0.1:5001/#/experiments/1/runs/079586b8479b44b6ab4cbb210897f92e\n",
      "🧪 View experiment at: http://127.0.0.1:5001/#/experiments/1\n",
      " Running LassoRegression | mini_batch | Polynomial | zeros | Momentum is not used | LR: 0.01\n",
      "(5330,)\n",
      "torch.Size([5330, 90])\n",
      "0 --> train_loss: 6.010 | train_accuracy: -10.5828 | val_loss: 6.7476 | val_accuracy: -10.7965\n",
      "🏃 View run Fold-0 at: http://127.0.0.1:5001/#/experiments/1/runs/c2047d85164146acb3744b350540f0d0\n",
      "🧪 View experiment at: http://127.0.0.1:5001/#/experiments/1\n",
      "1 --> train_loss: 5.545 | train_accuracy: -9.7737 | val_loss: 3.8466 | val_accuracy: -6.3411\n",
      "🏃 View run Fold-1 at: http://127.0.0.1:5001/#/experiments/1/runs/e1cdd21b551849e9a6e145abde05d66f\n",
      "🧪 View experiment at: http://127.0.0.1:5001/#/experiments/1\n",
      "2 --> train_loss: 5.231 | train_accuracy: -9.2420 | val_loss: 4.8761 | val_accuracy: -7.8986\n",
      "🏃 View run Fold-2 at: http://127.0.0.1:5001/#/experiments/1/runs/b8fc0532015c4d7ab22bd69ff5b4ad72\n",
      "🧪 View experiment at: http://127.0.0.1:5001/#/experiments/1\n",
      "3 --> train_loss: 5.167 | train_accuracy: -9.0700 | val_loss: 6.9096 | val_accuracy: -11.5323\n",
      "🏃 View run Fold-3 at: http://127.0.0.1:5001/#/experiments/1/runs/b272c3ada5f3431eb1b7e631fccc9ead\n",
      "🧪 View experiment at: http://127.0.0.1:5001/#/experiments/1\n"
     ]
    },
    {
     "name": "stderr",
     "output_type": "stream",
     "text": [
      "2025/02/03 04:49:41 WARNING mlflow.models.signature: Failed to infer schema for outputs. Setting schema to `Schema([ColSpec(type=AnyType())]` as default. To see the full traceback, set logging level to DEBUG.\n",
      "2025/02/03 04:49:41 WARNING mlflow.sklearn: Model was missing function: predict. Not logging python_function flavor!\n"
     ]
    },
    {
     "name": "stdout",
     "output_type": "stream",
     "text": [
      "4 --> train_loss: 5.170 | train_accuracy: -9.0140 | val_loss: 6.3396 | val_accuracy: -10.2351\n",
      "🏃 View run Fold-4 at: http://127.0.0.1:5001/#/experiments/1/runs/7aeba4531d7c44569e32e1a64fc71cca\n",
      "🧪 View experiment at: http://127.0.0.1:5001/#/experiments/1\n",
      "✅ Fold: mini_batch | Model: LassoRegression | MSE: 4.8835 | R²: -7.3560\n",
      "🏃 View run method-mini_batch-lr-0.01-reg-LassoRegression-poly-Polynomial-momentum-Momentum is not used-weight-zeros at: http://127.0.0.1:5001/#/experiments/1/runs/8d5dffddf4014667be9ec7a1a414b7ac\n",
      "🧪 View experiment at: http://127.0.0.1:5001/#/experiments/1\n",
      " Running LassoRegression | mini_batch | Polynomial | zeros | Momentum is not used | LR: 0.001\n",
      "(5330,)\n",
      "torch.Size([5330, 90])\n",
      "0 --> train_loss: 7.112 | train_accuracy: -12.3674 | val_loss: 6.3410 | val_accuracy: -10.0857\n",
      "🏃 View run Fold-0 at: http://127.0.0.1:5001/#/experiments/1/runs/21d84721354842428fbc25a51fd8b3be\n",
      "🧪 View experiment at: http://127.0.0.1:5001/#/experiments/1\n",
      "1 --> train_loss: 6.414 | train_accuracy: -11.4185 | val_loss: 4.9207 | val_accuracy: -8.3912\n",
      "🏃 View run Fold-1 at: http://127.0.0.1:5001/#/experiments/1/runs/84e54d8b6b3c44a0a0fd481194560b1f\n",
      "🧪 View experiment at: http://127.0.0.1:5001/#/experiments/1\n",
      "2 --> train_loss: 6.151 | train_accuracy: -10.9787 | val_loss: 5.1410 | val_accuracy: -8.3820\n",
      "🏃 View run Fold-2 at: http://127.0.0.1:5001/#/experiments/1/runs/6fa0f10933ae4b249de538b10fa0e10e\n",
      "🧪 View experiment at: http://127.0.0.1:5001/#/experiments/1\n",
      "3 --> train_loss: 5.917 | train_accuracy: -10.4614 | val_loss: 5.6398 | val_accuracy: -9.2291\n",
      "🏃 View run Fold-3 at: http://127.0.0.1:5001/#/experiments/1/runs/a074de1cf0a44ca786f0e3bc499b5e99\n",
      "🧪 View experiment at: http://127.0.0.1:5001/#/experiments/1\n"
     ]
    },
    {
     "name": "stderr",
     "output_type": "stream",
     "text": [
      "2025/02/03 04:49:51 WARNING mlflow.models.signature: Failed to infer schema for outputs. Setting schema to `Schema([ColSpec(type=AnyType())]` as default. To see the full traceback, set logging level to DEBUG.\n",
      "2025/02/03 04:49:51 WARNING mlflow.sklearn: Model was missing function: predict. Not logging python_function flavor!\n"
     ]
    },
    {
     "name": "stdout",
     "output_type": "stream",
     "text": [
      "4 --> train_loss: 5.749 | train_accuracy: -10.1585 | val_loss: 6.0342 | val_accuracy: -9.6939\n",
      "🏃 View run Fold-4 at: http://127.0.0.1:5001/#/experiments/1/runs/bb274c2a46fd4f309aa13781ca6a225a\n",
      "🧪 View experiment at: http://127.0.0.1:5001/#/experiments/1\n",
      "✅ Fold: mini_batch | Model: LassoRegression | MSE: 5.6555 | R²: -8.6769\n",
      "🏃 View run method-mini_batch-lr-0.001-reg-LassoRegression-poly-Polynomial-momentum-Momentum is not used-weight-zeros at: http://127.0.0.1:5001/#/experiments/1/runs/27a183cb6f7a48c7b7f01546e364daa8\n",
      "🧪 View experiment at: http://127.0.0.1:5001/#/experiments/1\n",
      " Running LassoRegression | mini_batch | Polynomial | zeros | Momentum is not used | LR: 0.0001\n",
      "(5330,)\n",
      "torch.Size([5330, 90])\n",
      "0 --> train_loss: 16.908 | train_accuracy: -33.0338 | val_loss: 8.3513 | val_accuracy: -13.6003\n",
      "🏃 View run Fold-0 at: http://127.0.0.1:5001/#/experiments/1/runs/a32bf467950b437996e5ac33938b9c41\n",
      "🧪 View experiment at: http://127.0.0.1:5001/#/experiments/1\n",
      "1 --> train_loss: 12.377 | train_accuracy: -23.4256 | val_loss: 6.2696 | val_accuracy: -10.9655\n",
      "🏃 View run Fold-1 at: http://127.0.0.1:5001/#/experiments/1/runs/10190749fbdb45a990632c108c5bc4b3\n",
      "🧪 View experiment at: http://127.0.0.1:5001/#/experiments/1\n",
      "2 --> train_loss: 10.626 | train_accuracy: -20.0058 | val_loss: 6.3736 | val_accuracy: -10.6314\n",
      "🏃 View run Fold-2 at: http://127.0.0.1:5001/#/experiments/1/runs/da5319d2f97e439388a46fac2a758e27\n",
      "🧪 View experiment at: http://127.0.0.1:5001/#/experiments/1\n",
      "3 --> train_loss: 9.616 | train_accuracy: -18.0577 | val_loss: 6.3071 | val_accuracy: -10.4394\n",
      "🏃 View run Fold-3 at: http://127.0.0.1:5001/#/experiments/1/runs/6580621470634b25b293fcf0584611aa\n",
      "🧪 View experiment at: http://127.0.0.1:5001/#/experiments/1\n"
     ]
    },
    {
     "name": "stderr",
     "output_type": "stream",
     "text": [
      "2025/02/03 04:50:01 WARNING mlflow.models.signature: Failed to infer schema for outputs. Setting schema to `Schema([ColSpec(type=AnyType())]` as default. To see the full traceback, set logging level to DEBUG.\n",
      "2025/02/03 04:50:01 WARNING mlflow.sklearn: Model was missing function: predict. Not logging python_function flavor!\n"
     ]
    },
    {
     "name": "stdout",
     "output_type": "stream",
     "text": [
      "4 --> train_loss: 8.851 | train_accuracy: -16.5696 | val_loss: 7.3203 | val_accuracy: -11.9732\n",
      "🏃 View run Fold-4 at: http://127.0.0.1:5001/#/experiments/1/runs/67e555e301384f239bef403f28de27bd\n",
      "🧪 View experiment at: http://127.0.0.1:5001/#/experiments/1\n",
      "✅ Fold: mini_batch | Model: LassoRegression | MSE: 6.3526 | R²: -9.8697\n",
      "🏃 View run method-mini_batch-lr-0.0001-reg-LassoRegression-poly-Polynomial-momentum-Momentum is not used-weight-zeros at: http://127.0.0.1:5001/#/experiments/1/runs/cbe7cecc905c426a9ce62396ca85a571\n",
      "🧪 View experiment at: http://127.0.0.1:5001/#/experiments/1\n",
      " Running LassoRegression | mini_batch | Polynomial | zeros | Momentum is used | LR: 0.01\n",
      "(5330,)\n",
      "torch.Size([5330, 90])\n",
      "0 --> train_loss: 6.799 | train_accuracy: -12.3408 | val_loss: 6.1643 | val_accuracy: -9.7768\n",
      "🏃 View run Fold-0 at: http://127.0.0.1:5001/#/experiments/1/runs/a0fd97c649c143d0ba3a7280c0240495\n",
      "🧪 View experiment at: http://127.0.0.1:5001/#/experiments/1\n",
      "1 --> train_loss: 6.249 | train_accuracy: -11.2461 | val_loss: 4.4790 | val_accuracy: -7.5481\n",
      "🏃 View run Fold-1 at: http://127.0.0.1:5001/#/experiments/1/runs/1d4fc27003914fb0bea0614db3082adc\n",
      "🧪 View experiment at: http://127.0.0.1:5001/#/experiments/1\n",
      "2 --> train_loss: 6.143 | train_accuracy: -10.8773 | val_loss: 4.7952 | val_accuracy: -7.7509\n",
      "🏃 View run Fold-2 at: http://127.0.0.1:5001/#/experiments/1/runs/65024f39e09f479487d639124a19237b\n",
      "🧪 View experiment at: http://127.0.0.1:5001/#/experiments/1\n",
      "3 --> train_loss: 6.009 | train_accuracy: -10.6736 | val_loss: 6.8785 | val_accuracy: -11.4757\n",
      "🏃 View run Fold-3 at: http://127.0.0.1:5001/#/experiments/1/runs/a6bb72816524496c997019e5c700f73e\n",
      "🧪 View experiment at: http://127.0.0.1:5001/#/experiments/1\n"
     ]
    },
    {
     "name": "stderr",
     "output_type": "stream",
     "text": [
      "2025/02/03 04:50:13 WARNING mlflow.models.signature: Failed to infer schema for outputs. Setting schema to `Schema([ColSpec(type=AnyType())]` as default. To see the full traceback, set logging level to DEBUG.\n",
      "2025/02/03 04:50:13 WARNING mlflow.sklearn: Model was missing function: predict. Not logging python_function flavor!\n"
     ]
    },
    {
     "name": "stdout",
     "output_type": "stream",
     "text": [
      "4 --> train_loss: 5.831 | train_accuracy: -10.4353 | val_loss: 5.5389 | val_accuracy: -8.8161\n",
      "🏃 View run Fold-4 at: http://127.0.0.1:5001/#/experiments/1/runs/d776201495724c328e416f4c74fa956b\n",
      "🧪 View experiment at: http://127.0.0.1:5001/#/experiments/1\n",
      "✅ Fold: mini_batch | Model: LassoRegression | MSE: 5.1328 | R²: -7.7826\n",
      "🏃 View run method-mini_batch-lr-0.01-reg-LassoRegression-poly-Polynomial-momentum-Momentum is used-weight-zeros at: http://127.0.0.1:5001/#/experiments/1/runs/d28cb4fecdb8408194c493e0b161dcf6\n",
      "🧪 View experiment at: http://127.0.0.1:5001/#/experiments/1\n",
      " Running LassoRegression | mini_batch | Polynomial | zeros | Momentum is used | LR: 0.001\n",
      "(5330,)\n",
      "torch.Size([5330, 90])\n",
      "0 --> train_loss: 11.424 | train_accuracy: -21.7676 | val_loss: 7.6221 | val_accuracy: -12.3253\n",
      "🏃 View run Fold-0 at: http://127.0.0.1:5001/#/experiments/1/runs/5c46639bdf264421940e62df15433113\n",
      "🧪 View experiment at: http://127.0.0.1:5001/#/experiments/1\n",
      "1 --> train_loss: 9.062 | train_accuracy: -17.0148 | val_loss: 5.6423 | val_accuracy: -9.7683\n",
      "🏃 View run Fold-1 at: http://127.0.0.1:5001/#/experiments/1/runs/39df33f85564470b9517a79f80e19384\n",
      "🧪 View experiment at: http://127.0.0.1:5001/#/experiments/1\n",
      "2 --> train_loss: 8.125 | train_accuracy: -15.0153 | val_loss: 5.7355 | val_accuracy: -9.4670\n",
      "🏃 View run Fold-2 at: http://127.0.0.1:5001/#/experiments/1/runs/e6aff9d6eeb44ad08f693d195038b7a4\n",
      "🧪 View experiment at: http://127.0.0.1:5001/#/experiments/1\n",
      "3 --> train_loss: 7.556 | train_accuracy: -13.9420 | val_loss: 5.9103 | val_accuracy: -9.7198\n",
      "🏃 View run Fold-3 at: http://127.0.0.1:5001/#/experiments/1/runs/22f6ec451ba14bbf8d92342e0fe4f7c2\n",
      "🧪 View experiment at: http://127.0.0.1:5001/#/experiments/1\n"
     ]
    },
    {
     "name": "stderr",
     "output_type": "stream",
     "text": [
      "2025/02/03 04:50:23 WARNING mlflow.models.signature: Failed to infer schema for outputs. Setting schema to `Schema([ColSpec(type=AnyType())]` as default. To see the full traceback, set logging level to DEBUG.\n",
      "2025/02/03 04:50:23 WARNING mlflow.sklearn: Model was missing function: predict. Not logging python_function flavor!\n"
     ]
    },
    {
     "name": "stdout",
     "output_type": "stream",
     "text": [
      "4 --> train_loss: 7.157 | train_accuracy: -13.1661 | val_loss: 6.7491 | val_accuracy: -10.9610\n",
      "🏃 View run Fold-4 at: http://127.0.0.1:5001/#/experiments/1/runs/5be8e52df3e04a31bcc0e236bdb6fcb3\n",
      "🧪 View experiment at: http://127.0.0.1:5001/#/experiments/1\n",
      "✅ Fold: mini_batch | Model: LassoRegression | MSE: 6.0542 | R²: -9.3592\n",
      "🏃 View run method-mini_batch-lr-0.001-reg-LassoRegression-poly-Polynomial-momentum-Momentum is used-weight-zeros at: http://127.0.0.1:5001/#/experiments/1/runs/92c52ac888624cec8b088ba38d0c5545\n",
      "🧪 View experiment at: http://127.0.0.1:5001/#/experiments/1\n",
      " Running LassoRegression | mini_batch | Polynomial | zeros | Momentum is used | LR: 0.0001\n",
      "(5330,)\n",
      "torch.Size([5330, 90])\n",
      "0 --> train_loss: 50.116 | train_accuracy: -103.2406 | val_loss: 17.3851 | val_accuracy: -29.3936\n",
      "🏃 View run Fold-0 at: http://127.0.0.1:5001/#/experiments/1/runs/66107f6286f0457fbee42fa02a7eeebd\n",
      "🧪 View experiment at: http://127.0.0.1:5001/#/experiments/1\n",
      "1 --> train_loss: 31.689 | train_accuracy: -63.8415 | val_loss: 9.5222 | val_accuracy: -17.1730\n",
      "🏃 View run Fold-1 at: http://127.0.0.1:5001/#/experiments/1/runs/87037390681a49c18ead57022f6c016d\n",
      "🧪 View experiment at: http://127.0.0.1:5001/#/experiments/1\n",
      "2 --> train_loss: 24.376 | train_accuracy: -48.4811 | val_loss: 8.7053 | val_accuracy: -14.8867\n",
      "🏃 View run Fold-2 at: http://127.0.0.1:5001/#/experiments/1/runs/354fb4a7b19c43fb8b41b947795fab71\n",
      "🧪 View experiment at: http://127.0.0.1:5001/#/experiments/1\n",
      "3 --> train_loss: 20.517 | train_accuracy: -40.3888 | val_loss: 7.9320 | val_accuracy: -13.3867\n",
      "🏃 View run Fold-3 at: http://127.0.0.1:5001/#/experiments/1/runs/7455d2ac3d0b468e9f8939fb7fa8bd60\n",
      "🧪 View experiment at: http://127.0.0.1:5001/#/experiments/1\n"
     ]
    },
    {
     "name": "stderr",
     "output_type": "stream",
     "text": [
      "2025/02/03 04:50:33 WARNING mlflow.models.signature: Failed to infer schema for outputs. Setting schema to `Schema([ColSpec(type=AnyType())]` as default. To see the full traceback, set logging level to DEBUG.\n",
      "2025/02/03 04:50:33 WARNING mlflow.sklearn: Model was missing function: predict. Not logging python_function flavor!\n"
     ]
    },
    {
     "name": "stdout",
     "output_type": "stream",
     "text": [
      "4 --> train_loss: 17.873 | train_accuracy: -35.0692 | val_loss: 8.9924 | val_accuracy: -14.9366\n",
      "🏃 View run Fold-4 at: http://127.0.0.1:5001/#/experiments/1/runs/3c6aef58d23447d982847d6dfac93060\n",
      "🧪 View experiment at: http://127.0.0.1:5001/#/experiments/1\n",
      "✅ Fold: mini_batch | Model: LassoRegression | MSE: 7.9066 | R²: -12.5287\n",
      "🏃 View run method-mini_batch-lr-0.0001-reg-LassoRegression-poly-Polynomial-momentum-Momentum is used-weight-zeros at: http://127.0.0.1:5001/#/experiments/1/runs/a3187e47c067442d9aded7f692b5d78e\n",
      "🧪 View experiment at: http://127.0.0.1:5001/#/experiments/1\n",
      " Running LassoRegression | mini_batch | Polynomial | xavier | Momentum is not used | LR: 0.01\n",
      "(5330,)\n",
      "torch.Size([5330, 90])\n",
      "0 --> train_loss: 6.109 | train_accuracy: -10.6344 | val_loss: 5.1551 | val_accuracy: -8.0124\n",
      "🏃 View run Fold-0 at: http://127.0.0.1:5001/#/experiments/1/runs/b8944415e5e944a3883f3a3115783154\n",
      "🧪 View experiment at: http://127.0.0.1:5001/#/experiments/1\n",
      "1 --> train_loss: 5.851 | train_accuracy: -10.0723 | val_loss: 3.8435 | val_accuracy: -6.3353\n",
      "🏃 View run Fold-1 at: http://127.0.0.1:5001/#/experiments/1/runs/68102d1a9de840739a05b560fea9c51f\n",
      "🧪 View experiment at: http://127.0.0.1:5001/#/experiments/1\n",
      "2 --> train_loss: 5.782 | train_accuracy: -9.9098 | val_loss: 4.3523 | val_accuracy: -6.9428\n",
      "🏃 View run Fold-2 at: http://127.0.0.1:5001/#/experiments/1/runs/846fbd16699c46fd8829db425469b4b1\n",
      "🧪 View experiment at: http://127.0.0.1:5001/#/experiments/1\n",
      "3 --> train_loss: 5.601 | train_accuracy: -9.6383 | val_loss: 5.6025 | val_accuracy: -9.1615\n",
      "🏃 View run Fold-3 at: http://127.0.0.1:5001/#/experiments/1/runs/1a4dd0a57bf1411e8ba25bee16813124\n",
      "🧪 View experiment at: http://127.0.0.1:5001/#/experiments/1\n"
     ]
    },
    {
     "name": "stderr",
     "output_type": "stream",
     "text": [
      "2025/02/03 04:50:43 WARNING mlflow.models.signature: Failed to infer schema for outputs. Setting schema to `Schema([ColSpec(type=AnyType())]` as default. To see the full traceback, set logging level to DEBUG.\n",
      "2025/02/03 04:50:43 WARNING mlflow.sklearn: Model was missing function: predict. Not logging python_function flavor!\n"
     ]
    },
    {
     "name": "stdout",
     "output_type": "stream",
     "text": [
      "4 --> train_loss: 5.521 | train_accuracy: -9.6466 | val_loss: 6.8303 | val_accuracy: -11.1049\n",
      "🏃 View run Fold-4 at: http://127.0.0.1:5001/#/experiments/1/runs/8676e092572747139a1e13313cbde83a\n",
      "🧪 View experiment at: http://127.0.0.1:5001/#/experiments/1\n",
      "✅ Fold: mini_batch | Model: LassoRegression | MSE: 4.7810 | R²: -7.1805\n",
      "🏃 View run method-mini_batch-lr-0.01-reg-LassoRegression-poly-Polynomial-momentum-Momentum is not used-weight-xavier at: http://127.0.0.1:5001/#/experiments/1/runs/5040439809884147a2170e4af7c1f587\n",
      "🧪 View experiment at: http://127.0.0.1:5001/#/experiments/1\n",
      " Running LassoRegression | mini_batch | Polynomial | xavier | Momentum is not used | LR: 0.001\n",
      "(5330,)\n",
      "torch.Size([5330, 90])\n",
      "0 --> train_loss: 7.070 | train_accuracy: -12.9236 | val_loss: 6.2816 | val_accuracy: -9.9819\n",
      "🏃 View run Fold-0 at: http://127.0.0.1:5001/#/experiments/1/runs/f8c84b37dd2f4dadb7b98e7d490a19fc\n",
      "🧪 View experiment at: http://127.0.0.1:5001/#/experiments/1\n",
      "1 --> train_loss: 6.317 | train_accuracy: -11.1986 | val_loss: 4.9333 | val_accuracy: -8.4151\n",
      "🏃 View run Fold-1 at: http://127.0.0.1:5001/#/experiments/1/runs/029fa94c21724ca18ff88f2fab75402e\n",
      "🧪 View experiment at: http://127.0.0.1:5001/#/experiments/1\n",
      "2 --> train_loss: 6.020 | train_accuracy: -10.6802 | val_loss: 5.1236 | val_accuracy: -8.3503\n",
      "🏃 View run Fold-2 at: http://127.0.0.1:5001/#/experiments/1/runs/792341722c5e4d739f2da8413beb61da\n",
      "🧪 View experiment at: http://127.0.0.1:5001/#/experiments/1\n",
      "3 --> train_loss: 5.801 | train_accuracy: -10.4230 | val_loss: 5.6844 | val_accuracy: -9.3100\n",
      "🏃 View run Fold-3 at: http://127.0.0.1:5001/#/experiments/1/runs/76bd3945fe7d49e7abfe06058a590b9a\n",
      "🧪 View experiment at: http://127.0.0.1:5001/#/experiments/1\n"
     ]
    },
    {
     "name": "stderr",
     "output_type": "stream",
     "text": [
      "2025/02/03 04:50:55 WARNING mlflow.models.signature: Failed to infer schema for outputs. Setting schema to `Schema([ColSpec(type=AnyType())]` as default. To see the full traceback, set logging level to DEBUG.\n",
      "2025/02/03 04:50:55 WARNING mlflow.sklearn: Model was missing function: predict. Not logging python_function flavor!\n"
     ]
    },
    {
     "name": "stdout",
     "output_type": "stream",
     "text": [
      "4 --> train_loss: 5.690 | train_accuracy: -10.1379 | val_loss: 6.3466 | val_accuracy: -10.2476\n",
      "🏃 View run Fold-4 at: http://127.0.0.1:5001/#/experiments/1/runs/2a9fb644b25f4a7ba5e37479c3dad1e0\n",
      "🧪 View experiment at: http://127.0.0.1:5001/#/experiments/1\n",
      "✅ Fold: mini_batch | Model: LassoRegression | MSE: 5.4846 | R²: -8.3845\n",
      "🏃 View run method-mini_batch-lr-0.001-reg-LassoRegression-poly-Polynomial-momentum-Momentum is not used-weight-xavier at: http://127.0.0.1:5001/#/experiments/1/runs/853a049fee394dffa84e69d957e1ce53\n",
      "🧪 View experiment at: http://127.0.0.1:5001/#/experiments/1\n",
      " Running LassoRegression | mini_batch | Polynomial | xavier | Momentum is not used | LR: 0.0001\n",
      "(5330,)\n",
      "torch.Size([5330, 90])\n",
      "0 --> train_loss: 17.655 | train_accuracy: -33.9205 | val_loss: 8.9647 | val_accuracy: -14.6726\n",
      "🏃 View run Fold-0 at: http://127.0.0.1:5001/#/experiments/1/runs/c97c2a59ec1a4d37a80fcb3b501e236c\n",
      "🧪 View experiment at: http://127.0.0.1:5001/#/experiments/1\n",
      "1 --> train_loss: 12.933 | train_accuracy: -24.4765 | val_loss: 6.7438 | val_accuracy: -11.8705\n",
      "🏃 View run Fold-1 at: http://127.0.0.1:5001/#/experiments/1/runs/b3e8e9e5ec1848f186baf7134c1beb66\n",
      "🧪 View experiment at: http://127.0.0.1:5001/#/experiments/1\n",
      "2 --> train_loss: 11.060 | train_accuracy: -20.6833 | val_loss: 6.6379 | val_accuracy: -11.1137\n",
      "🏃 View run Fold-2 at: http://127.0.0.1:5001/#/experiments/1/runs/c155f8cf53ce4c88a26b7d7a949bc3f2\n",
      "🧪 View experiment at: http://127.0.0.1:5001/#/experiments/1\n",
      "3 --> train_loss: 9.902 | train_accuracy: -18.4382 | val_loss: 6.4353 | val_accuracy: -10.6720\n",
      "🏃 View run Fold-3 at: http://127.0.0.1:5001/#/experiments/1/runs/47675e301f364997b26ad99a4e625685\n",
      "🧪 View experiment at: http://127.0.0.1:5001/#/experiments/1\n"
     ]
    },
    {
     "name": "stderr",
     "output_type": "stream",
     "text": [
      "2025/02/03 04:51:06 WARNING mlflow.models.signature: Failed to infer schema for outputs. Setting schema to `Schema([ColSpec(type=AnyType())]` as default. To see the full traceback, set logging level to DEBUG.\n",
      "2025/02/03 04:51:06 WARNING mlflow.sklearn: Model was missing function: predict. Not logging python_function flavor!\n"
     ]
    },
    {
     "name": "stdout",
     "output_type": "stream",
     "text": [
      "4 --> train_loss: 9.226 | train_accuracy: -17.0432 | val_loss: 7.4581 | val_accuracy: -12.2175\n",
      "🏃 View run Fold-4 at: http://127.0.0.1:5001/#/experiments/1/runs/85053caf83764ea898feff587b920ef4\n",
      "🧪 View experiment at: http://127.0.0.1:5001/#/experiments/1\n",
      "✅ Fold: mini_batch | Model: LassoRegression | MSE: 6.5062 | R²: -10.1325\n",
      "🏃 View run method-mini_batch-lr-0.0001-reg-LassoRegression-poly-Polynomial-momentum-Momentum is not used-weight-xavier at: http://127.0.0.1:5001/#/experiments/1/runs/470bb9095bdc433d8e3da266b99d3247\n",
      "🧪 View experiment at: http://127.0.0.1:5001/#/experiments/1\n",
      " Running LassoRegression | mini_batch | Polynomial | xavier | Momentum is used | LR: 0.01\n",
      "(5330,)\n",
      "torch.Size([5330, 90])\n",
      "0 --> train_loss: 6.104 | train_accuracy: -10.9180 | val_loss: 6.1672 | val_accuracy: -9.7820\n",
      "🏃 View run Fold-0 at: http://127.0.0.1:5001/#/experiments/1/runs/9f220e10495a4bef81a252a83260cada\n",
      "🧪 View experiment at: http://127.0.0.1:5001/#/experiments/1\n",
      "1 --> train_loss: 6.079 | train_accuracy: -10.7914 | val_loss: 4.6619 | val_accuracy: -7.8971\n",
      "🏃 View run Fold-1 at: http://127.0.0.1:5001/#/experiments/1/runs/41befc4691f543ef9860cbd39a309595\n",
      "🧪 View experiment at: http://127.0.0.1:5001/#/experiments/1\n",
      "2 --> train_loss: 5.942 | train_accuracy: -10.5570 | val_loss: 5.0182 | val_accuracy: -8.1579\n",
      "🏃 View run Fold-2 at: http://127.0.0.1:5001/#/experiments/1/runs/447878af158b4247b92c710f976c177a\n",
      "🧪 View experiment at: http://127.0.0.1:5001/#/experiments/1\n",
      "3 --> train_loss: 5.685 | train_accuracy: -10.1546 | val_loss: 5.4566 | val_accuracy: -8.8969\n",
      "🏃 View run Fold-3 at: http://127.0.0.1:5001/#/experiments/1/runs/aa36131f2efb47b7b317eff53c768c91\n",
      "🧪 View experiment at: http://127.0.0.1:5001/#/experiments/1\n"
     ]
    },
    {
     "name": "stderr",
     "output_type": "stream",
     "text": [
      "2025/02/03 04:51:16 WARNING mlflow.models.signature: Failed to infer schema for outputs. Setting schema to `Schema([ColSpec(type=AnyType())]` as default. To see the full traceback, set logging level to DEBUG.\n",
      "2025/02/03 04:51:16 WARNING mlflow.sklearn: Model was missing function: predict. Not logging python_function flavor!\n"
     ]
    },
    {
     "name": "stdout",
     "output_type": "stream",
     "text": [
      "4 --> train_loss: 5.468 | train_accuracy: -9.7600 | val_loss: 5.4697 | val_accuracy: -8.6936\n",
      "🏃 View run Fold-4 at: http://127.0.0.1:5001/#/experiments/1/runs/8e5346d026d246a9917ef6f2157ae2cb\n",
      "🧪 View experiment at: http://127.0.0.1:5001/#/experiments/1\n",
      "✅ Fold: mini_batch | Model: LassoRegression | MSE: 5.2619 | R²: -8.0035\n",
      "🏃 View run method-mini_batch-lr-0.01-reg-LassoRegression-poly-Polynomial-momentum-Momentum is used-weight-xavier at: http://127.0.0.1:5001/#/experiments/1/runs/39a1fb45f18e4300a778b6787bf0ca36\n",
      "🧪 View experiment at: http://127.0.0.1:5001/#/experiments/1\n",
      " Running LassoRegression | mini_batch | Polynomial | xavier | Momentum is used | LR: 0.001\n",
      "(5330,)\n",
      "torch.Size([5330, 90])\n",
      "0 --> train_loss: 13.384 | train_accuracy: -24.0770 | val_loss: 7.5627 | val_accuracy: -12.2216\n",
      "🏃 View run Fold-0 at: http://127.0.0.1:5001/#/experiments/1/runs/88f362d6a3af4ec08b84271f31d9568c\n",
      "🧪 View experiment at: http://127.0.0.1:5001/#/experiments/1\n",
      "1 --> train_loss: 10.026 | train_accuracy: -18.0049 | val_loss: 5.6641 | val_accuracy: -9.8099\n",
      "🏃 View run Fold-1 at: http://127.0.0.1:5001/#/experiments/1/runs/e9a9fe4e14904ab692362ce82f6c815b\n",
      "🧪 View experiment at: http://127.0.0.1:5001/#/experiments/1\n",
      "2 --> train_loss: 8.737 | train_accuracy: -15.5874 | val_loss: 5.8245 | val_accuracy: -9.6293\n",
      "🏃 View run Fold-2 at: http://127.0.0.1:5001/#/experiments/1/runs/36cb7d9b6c3b491ca67183f6cc2df445\n",
      "🧪 View experiment at: http://127.0.0.1:5001/#/experiments/1\n",
      "3 --> train_loss: 8.039 | train_accuracy: -14.3685 | val_loss: 6.0839 | val_accuracy: -10.0346\n",
      "🏃 View run Fold-3 at: http://127.0.0.1:5001/#/experiments/1/runs/8bac78340d8444e7b40acc1b4346d117\n",
      "🧪 View experiment at: http://127.0.0.1:5001/#/experiments/1\n"
     ]
    },
    {
     "name": "stderr",
     "output_type": "stream",
     "text": [
      "2025/02/03 04:51:27 WARNING mlflow.models.signature: Failed to infer schema for outputs. Setting schema to `Schema([ColSpec(type=AnyType())]` as default. To see the full traceback, set logging level to DEBUG.\n",
      "2025/02/03 04:51:27 WARNING mlflow.sklearn: Model was missing function: predict. Not logging python_function flavor!\n"
     ]
    },
    {
     "name": "stdout",
     "output_type": "stream",
     "text": [
      "4 --> train_loss: 7.530 | train_accuracy: -13.5461 | val_loss: 6.9780 | val_accuracy: -11.3666\n",
      "🏃 View run Fold-4 at: http://127.0.0.1:5001/#/experiments/1/runs/1e415f0e3f99436b81166643a2a28394\n",
      "🧪 View experiment at: http://127.0.0.1:5001/#/experiments/1\n",
      "✅ Fold: mini_batch | Model: LassoRegression | MSE: 6.1949 | R²: -9.5998\n",
      "🏃 View run method-mini_batch-lr-0.001-reg-LassoRegression-poly-Polynomial-momentum-Momentum is used-weight-xavier at: http://127.0.0.1:5001/#/experiments/1/runs/acbb7a0423634a5cbcc985e48c807885\n",
      "🧪 View experiment at: http://127.0.0.1:5001/#/experiments/1\n",
      " Running LassoRegression | mini_batch | Polynomial | xavier | Momentum is used | LR: 0.0001\n",
      "(5330,)\n",
      "torch.Size([5330, 90])\n",
      "0 --> train_loss: 60.260 | train_accuracy: -123.2297 | val_loss: 19.5282 | val_accuracy: -33.1404\n",
      "🏃 View run Fold-0 at: http://127.0.0.1:5001/#/experiments/1/runs/79c29f3bdbf9436080154f1893b0a664\n",
      "🧪 View experiment at: http://127.0.0.1:5001/#/experiments/1\n",
      "1 --> train_loss: 38.034 | train_accuracy: -76.3888 | val_loss: 10.6560 | val_accuracy: -19.3368\n",
      "🏃 View run Fold-1 at: http://127.0.0.1:5001/#/experiments/1/runs/9089572afded4ff986ff8be60ac9a457\n",
      "🧪 View experiment at: http://127.0.0.1:5001/#/experiments/1\n",
      "2 --> train_loss: 28.948 | train_accuracy: -57.6414 | val_loss: 9.6932 | val_accuracy: -16.6896\n",
      "🏃 View run Fold-2 at: http://127.0.0.1:5001/#/experiments/1/runs/1b33d2c4e71344a09e8b1173ba220c15\n",
      "🧪 View experiment at: http://127.0.0.1:5001/#/experiments/1\n",
      "3 --> train_loss: 23.976 | train_accuracy: -47.6667 | val_loss: 8.6789 | val_accuracy: -14.7412\n",
      "🏃 View run Fold-3 at: http://127.0.0.1:5001/#/experiments/1/runs/462f3a80d62443edb73af4d9f6b61bd0\n",
      "🧪 View experiment at: http://127.0.0.1:5001/#/experiments/1\n"
     ]
    },
    {
     "name": "stderr",
     "output_type": "stream",
     "text": [
      "2025/02/03 04:51:38 WARNING mlflow.models.signature: Failed to infer schema for outputs. Setting schema to `Schema([ColSpec(type=AnyType())]` as default. To see the full traceback, set logging level to DEBUG.\n",
      "2025/02/03 04:51:38 WARNING mlflow.sklearn: Model was missing function: predict. Not logging python_function flavor!\n"
     ]
    },
    {
     "name": "stdout",
     "output_type": "stream",
     "text": [
      "4 --> train_loss: 20.891 | train_accuracy: -41.2791 | val_loss: 9.6428 | val_accuracy: -16.0893\n",
      "🏃 View run Fold-4 at: http://127.0.0.1:5001/#/experiments/1/runs/490f9dd368ee4e64a135e5f0f44bedcf\n",
      "🧪 View experiment at: http://127.0.0.1:5001/#/experiments/1\n",
      "✅ Fold: mini_batch | Model: LassoRegression | MSE: 8.4571 | R²: -13.4706\n",
      "🏃 View run method-mini_batch-lr-0.0001-reg-LassoRegression-poly-Polynomial-momentum-Momentum is used-weight-xavier at: http://127.0.0.1:5001/#/experiments/1/runs/1016525c4a974d33908ca6c017a36732\n",
      "🧪 View experiment at: http://127.0.0.1:5001/#/experiments/1\n",
      "Best Model by R² Score: <__main__.TorchRegression object at 0x310b385f0> with R² Score: 0.7567\n",
      "Best Model by MSE: <__main__.TorchRegression object at 0x310b385f0> with MSE: 0.1422\n"
     ]
    }
   ],
   "execution_count": 1209
  },
  {
   "metadata": {},
   "cell_type": "markdown",
   "source": [
    "## Findings \n",
    "#### The stochastic is the most toughest to train as single row of data is passed, a lot of energy is being wasted to train the model, also since the weights are being constantly updated there is high possibility of gradient explosion, so keeping the learning rate low as possible helps. The normal regression is seen to overfitting or at some times underfitting hence i feel regularization helps, as i kept the penalty = 0.5 too high so, while training in mlflow it was not justified."
   ],
   "id": "f6771823e460dc82"
  },
  {
   "metadata": {
    "ExecuteTime": {
     "end_time": "2025-02-02T18:25:55.870633Z",
     "start_time": "2025-02-02T18:25:55.865797Z"
    }
   },
   "cell_type": "code",
   "source": [
    "print(Xtrain_transformed.shape)\n",
    "print(ytrain.shape)"
   ],
   "id": "1d94cdfe4ff81cda",
   "outputs": [
    {
     "name": "stdout",
     "output_type": "stream",
     "text": [
      "(5330, 12)\n",
      "(5330,)\n"
     ]
    }
   ],
   "execution_count": 1174
  },
  {
   "metadata": {
    "ExecuteTime": {
     "end_time": "2025-02-04T16:43:13.384243Z",
     "start_time": "2025-02-04T16:43:13.376993Z"
    }
   },
   "cell_type": "code",
   "source": "finalmodel = LassoRegression(cv=10, weight_init='normal', lr=0.01, method='mini_batch', log_transform=True, use_gpu=False, use_mlflow=False,)",
   "id": "a1e41d8f6dd1e886",
   "outputs": [],
   "execution_count": 349
  },
  {
   "metadata": {
    "ExecuteTime": {
     "end_time": "2025-02-04T16:43:18.031955Z",
     "start_time": "2025-02-04T16:43:13.938464Z"
    }
   },
   "cell_type": "code",
   "source": "finalmodel.fit(Xtrain_transformed, ytrain)",
   "id": "17b3ece622f7791d",
   "outputs": [
    {
     "name": "stdout",
     "output_type": "stream",
     "text": [
      "(5330,)\n",
      "torch.Size([5330, 13])\n",
      "early stopping\n",
      "0 --> train_loss: 0.473 | train_accuracy: 0.0921 | val_loss: 0.1921 | val_accuracy: 0.6233\n",
      "1 --> train_loss: 0.466 | train_accuracy: 0.0944 | val_loss: 0.2209 | val_accuracy: 0.6509\n",
      "2 --> train_loss: 0.464 | train_accuracy: 0.1088 | val_loss: 0.1843 | val_accuracy: 0.6335\n",
      "3 --> train_loss: 0.460 | train_accuracy: 0.1215 | val_loss: 0.1981 | val_accuracy: 0.6365\n",
      "early stopping\n",
      "4 --> train_loss: 0.463 | train_accuracy: 0.1184 | val_loss: 0.2062 | val_accuracy: 0.6367\n",
      "5 --> train_loss: 0.465 | train_accuracy: 0.1138 | val_loss: 0.1788 | val_accuracy: 0.6603\n",
      "6 --> train_loss: 0.466 | train_accuracy: 0.1128 | val_loss: 0.2070 | val_accuracy: 0.6300\n",
      "early stopping\n",
      "7 --> train_loss: 0.470 | train_accuracy: 0.1092 | val_loss: 0.1879 | val_accuracy: 0.6542\n",
      "8 --> train_loss: 0.470 | train_accuracy: 0.1088 | val_loss: 0.2227 | val_accuracy: 0.6194\n",
      "9 --> train_loss: 0.471 | train_accuracy: 0.1071 | val_loss: 0.2165 | val_accuracy: 0.6017\n"
     ]
    }
   ],
   "execution_count": 350
  },
  {
   "metadata": {
    "ExecuteTime": {
     "end_time": "2025-02-04T15:49:37.502857Z",
     "start_time": "2025-02-04T15:49:37.499580Z"
    }
   },
   "cell_type": "code",
   "source": "finalmodel._predict(xtest_transformed)",
   "id": "fe0a8f6c82f72938",
   "outputs": [
    {
     "data": {
      "text/plain": [
       "tensor([11.9326, 13.3633, 13.5460,  ..., 14.2524, 12.9069, 12.8535])"
      ]
     },
     "execution_count": 344,
     "metadata": {},
     "output_type": "execute_result"
    }
   ],
   "execution_count": 344
  },
  {
   "metadata": {
    "ExecuteTime": {
     "end_time": "2025-02-04T15:49:40.138474Z",
     "start_time": "2025-02-04T15:49:40.063111Z"
    }
   },
   "cell_type": "code",
   "source": "finalmodel.plot_feature_importance(transformed_feature_names)",
   "id": "e5c93edaef704225",
   "outputs": [
    {
     "name": "stdout",
     "output_type": "stream",
     "text": [
      "                         Feature  Importance\n",
      "0                    fuel_Petrol    8.825034\n",
      "1                           year    2.504544\n",
      "2                         engine    2.415200\n",
      "3                      max_power    2.252403\n",
      "4         seller_type_Individual    0.658097\n",
      "5                        mileage    0.482854\n",
      "6                          seats    0.296866\n",
      "7            transmission_Manual    0.238706\n",
      "8                      km_driven    0.236463\n",
      "9   seller_type_Trustmark Dealer    0.108975\n",
      "10                 brand_encoded    0.066508\n",
      "11                         owner    0.015814\n"
     ]
    },
    {
     "name": "stderr",
     "output_type": "stream",
     "text": [
      "/var/folders/8j/ndxdwkv11mg2yfgyrfgqxrwr0000gn/T/ipykernel_62224/1045533620.py:251: FutureWarning: \n",
      "\n",
      "Passing `palette` without assigning `hue` is deprecated and will be removed in v0.14.0. Assign the `y` variable to `hue` and set `legend=False` for the same effect.\n",
      "\n",
      "  ax = sns.barplot(x=coefs_df[\"Importance\"], y=coefs_df[\"Feature\"], palette=colors,)\n"
     ]
    },
    {
     "data": {
      "text/plain": [
       "<Figure size 1200x600 with 1 Axes>"
      ],
      "image/png": "[encoded data removed]"
     },
     "metadata": {},
     "output_type": "display_data"
    }
   ],
   "execution_count": 345
  },
  {
   "metadata": {},
   "cell_type": "markdown",
   "source": "## Inference ",
   "id": "61bd78d232ea1ed"
  },
  {
   "metadata": {
    "ExecuteTime": {
     "end_time": "2025-02-04T11:16:02.554227Z",
     "start_time": "2025-02-04T11:16:02.546768Z"
    }
   },
   "cell_type": "code",
   "source": [
    "\n",
    "val = np.array(['audi',2010,51000,'Diesel','Individual','Automatic',1,20,800,40,4])\n",
    "# Convert input to a DataFrame\n",
    "columns = ['brand', 'year', 'km_driven', 'fuel', 'seller_type',\n",
    "           'transmission', 'owner', 'mileage', 'engine', 'max_power', 'seats']\n",
    "val = pd.DataFrame([val], columns=columns)\n",
    "\n",
    "val['brand_encoded'] = val['brand'].map(brand_means)\n",
    "if val['brand_encoded'].isnull().any():\n",
    "    val['brand_encoded'] = val['brand_encoded'].fillna(brand_means.mean())\n",
    "\n",
    "val = val.drop(columns=['brand'])\n",
    "    \n",
    "numeric_cols = ['year', 'km_driven', 'owner', 'mileage', 'engine', 'max_power', 'seats', 'brand_encoded']\n",
    "val[numeric_cols] = val[numeric_cols].apply(pd.to_numeric)\n",
    "\n",
    "val_transformed = preprocessor.transform(val)\n",
    "\n",
    "val_tensor = torch.tensor(val_transformed, dtype=torch.float32, device=finalmodel.device)\n",
    "predicted_price = torch.expm1(finalmodel._predict(val_tensor))\n",
    "\n",
    "print(f\"Predicted Price: {predicted_price.item():,.2f}\")"
   ],
   "id": "483c90e7030d5541",
   "outputs": [
    {
     "name": "stdout",
     "output_type": "stream",
     "text": [
      "Predicted Price: 11,000.00\n"
     ]
    }
   ],
   "execution_count": 272
  },
  {
   "metadata": {
    "ExecuteTime": {
     "end_time": "2025-02-03T11:33:00.787459Z",
     "start_time": "2025-02-03T11:33:00.782878Z"
    }
   },
   "cell_type": "code",
   "source": "joblib.dump(brand_means, 'brand_means.pkl')",
   "id": "178ba9b5330d3673",
   "outputs": [
    {
     "data": {
      "text/plain": [
       "['brand_means.pkl']"
      ]
     },
     "execution_count": 275,
     "metadata": {},
     "output_type": "execute_result"
    }
   ],
   "execution_count": 275
  },
  {
   "metadata": {
    "ExecuteTime": {
     "end_time": "2025-02-03T11:35:04.386190Z",
     "start_time": "2025-02-03T11:35:04.382123Z"
    }
   },
   "cell_type": "code",
   "source": "joblib.dump(preprocessor, 'preprocessor.pkl')",
   "id": "970fdfa2ed19f85d",
   "outputs": [
    {
     "data": {
      "text/plain": [
       "['preprocessor.pkl']"
      ]
     },
     "execution_count": 277,
     "metadata": {},
     "output_type": "execute_result"
    }
   ],
   "execution_count": 277
  },
  {
   "metadata": {
    "ExecuteTime": {
     "end_time": "2025-02-04T10:45:39.839196Z",
     "start_time": "2025-02-04T10:45:39.741605Z"
    }
   },
   "cell_type": "code",
   "source": "joblib.dump(finalmodel, 'TorchRegression.pkl')",
   "id": "f7c261d371ab59fe",
   "outputs": [
    {
     "data": {
      "text/plain": [
       "['TorchRegression.pkl']"
      ]
     },
     "execution_count": 196,
     "metadata": {},
     "output_type": "execute_result"
    }
   ],
   "execution_count": 196
  },
  {
   "metadata": {
    "ExecuteTime": {
     "end_time": "2025-02-04T10:58:57.799709Z",
     "start_time": "2025-02-04T10:58:57.793850Z"
    }
   },
   "cell_type": "code",
   "source": "Xtrain",
   "id": "e0c9b96c0375133b",
   "outputs": [
    {
     "data": {
      "text/plain": [
       "      year  km_driven    fuel seller_type transmission  owner  mileage  \\\n",
       "6469  2015      64800  Diesel  Individual       Manual      1    15.10   \n",
       "121   2010     162000  Petrol  Individual       Manual      2    19.00   \n",
       "3666  2016     100000  Diesel  Individual       Manual      1    25.32   \n",
       "418   2005     150000  Petrol  Individual       Manual      2    19.70   \n",
       "3221  2011      80000  Diesel  Individual       Manual      1    17.00   \n",
       "...    ...        ...     ...         ...          ...    ...      ...   \n",
       "3772  2019      21000  Petrol  Individual       Manual      1    25.17   \n",
       "5191  2013      69000  Diesel  Individual       Manual      2    22.90   \n",
       "5226  2013      57000  Diesel  Individual       Manual      1    22.90   \n",
       "5390  2015      25000  Petrol  Individual       Manual      1    20.40   \n",
       "860   2015     120000  Diesel  Individual       Manual      1    15.96   \n",
       "\n",
       "      engine  max_power  seats  brand_encoded  \n",
       "6469  2179.0      140.0    7.0  618594.786207  \n",
       "121    998.0       66.1    5.0  397330.078803  \n",
       "3666  1198.0       77.0    6.0  618594.786207  \n",
       "418    796.0       46.3    5.0  397330.078803  \n",
       "3221  1405.0       71.0    5.0  343239.822355  \n",
       "...      ...        ...    ...            ...  \n",
       "3772   799.0       53.3    5.0  448503.024540  \n",
       "5191  1248.0       74.0    5.0  397330.078803  \n",
       "5226  1248.0       74.0    5.0  397330.078803  \n",
       "5390  1197.0       81.8    5.0  397330.078803  \n",
       "860   2523.0       63.0    9.0  618594.786207  \n",
       "\n",
       "[5330 rows x 11 columns]"
      ],
      "text/html": [
       "<div>\n",
       "<style scoped>\n",
       "    .dataframe tbody tr th:only-of-type {\n",
       "        vertical-align: middle;\n",
       "    }\n",
       "\n",
       "    .dataframe tbody tr th {\n",
       "        vertical-align: top;\n",
       "    }\n",
       "\n",
       "    .dataframe thead th {\n",
       "        text-align: right;\n",
       "    }\n",
       "</style>\n",
       "<table border=\"1\" class=\"dataframe\">\n",
       "  <thead>\n",
       "    <tr style=\"text-align: right;\">\n",
       "      <th></th>\n",
       "      <th>year</th>\n",
       "      <th>km_driven</th>\n",
       "      <th>fuel</th>\n",
       "      <th>seller_type</th>\n",
       "      <th>transmission</th>\n",
       "      <th>owner</th>\n",
       "      <th>mileage</th>\n",
       "      <th>engine</th>\n",
       "      <th>max_power</th>\n",
       "      <th>seats</th>\n",
       "      <th>brand_encoded</th>\n",
       "    </tr>\n",
       "  </thead>\n",
       "  <tbody>\n",
       "    <tr>\n",
       "      <th>6469</th>\n",
       "      <td>2015</td>\n",
       "      <td>64800</td>\n",
       "      <td>Diesel</td>\n",
       "      <td>Individual</td>\n",
       "      <td>Manual</td>\n",
       "      <td>1</td>\n",
       "      <td>15.10</td>\n",
       "      <td>2179.0</td>\n",
       "      <td>140.0</td>\n",
       "      <td>7.0</td>\n",
       "      <td>618594.786207</td>\n",
       "    </tr>\n",
       "    <tr>\n",
       "      <th>121</th>\n",
       "      <td>2010</td>\n",
       "      <td>162000</td>\n",
       "      <td>Petrol</td>\n",
       "      <td>Individual</td>\n",
       "      <td>Manual</td>\n",
       "      <td>2</td>\n",
       "      <td>19.00</td>\n",
       "      <td>998.0</td>\n",
       "      <td>66.1</td>\n",
       "      <td>5.0</td>\n",
       "      <td>397330.078803</td>\n",
       "    </tr>\n",
       "    <tr>\n",
       "      <th>3666</th>\n",
       "      <td>2016</td>\n",
       "      <td>100000</td>\n",
       "      <td>Diesel</td>\n",
       "      <td>Individual</td>\n",
       "      <td>Manual</td>\n",
       "      <td>1</td>\n",
       "      <td>25.32</td>\n",
       "      <td>1198.0</td>\n",
       "      <td>77.0</td>\n",
       "      <td>6.0</td>\n",
       "      <td>618594.786207</td>\n",
       "    </tr>\n",
       "    <tr>\n",
       "      <th>418</th>\n",
       "      <td>2005</td>\n",
       "      <td>150000</td>\n",
       "      <td>Petrol</td>\n",
       "      <td>Individual</td>\n",
       "      <td>Manual</td>\n",
       "      <td>2</td>\n",
       "      <td>19.70</td>\n",
       "      <td>796.0</td>\n",
       "      <td>46.3</td>\n",
       "      <td>5.0</td>\n",
       "      <td>397330.078803</td>\n",
       "    </tr>\n",
       "    <tr>\n",
       "      <th>3221</th>\n",
       "      <td>2011</td>\n",
       "      <td>80000</td>\n",
       "      <td>Diesel</td>\n",
       "      <td>Individual</td>\n",
       "      <td>Manual</td>\n",
       "      <td>1</td>\n",
       "      <td>17.00</td>\n",
       "      <td>1405.0</td>\n",
       "      <td>71.0</td>\n",
       "      <td>5.0</td>\n",
       "      <td>343239.822355</td>\n",
       "    </tr>\n",
       "    <tr>\n",
       "      <th>...</th>\n",
       "      <td>...</td>\n",
       "      <td>...</td>\n",
       "      <td>...</td>\n",
       "      <td>...</td>\n",
       "      <td>...</td>\n",
       "      <td>...</td>\n",
       "      <td>...</td>\n",
       "      <td>...</td>\n",
       "      <td>...</td>\n",
       "      <td>...</td>\n",
       "      <td>...</td>\n",
       "    </tr>\n",
       "    <tr>\n",
       "      <th>3772</th>\n",
       "      <td>2019</td>\n",
       "      <td>21000</td>\n",
       "      <td>Petrol</td>\n",
       "      <td>Individual</td>\n",
       "      <td>Manual</td>\n",
       "      <td>1</td>\n",
       "      <td>25.17</td>\n",
       "      <td>799.0</td>\n",
       "      <td>53.3</td>\n",
       "      <td>5.0</td>\n",
       "      <td>448503.024540</td>\n",
       "    </tr>\n",
       "    <tr>\n",
       "      <th>5191</th>\n",
       "      <td>2013</td>\n",
       "      <td>69000</td>\n",
       "      <td>Diesel</td>\n",
       "      <td>Individual</td>\n",
       "      <td>Manual</td>\n",
       "      <td>2</td>\n",
       "      <td>22.90</td>\n",
       "      <td>1248.0</td>\n",
       "      <td>74.0</td>\n",
       "      <td>5.0</td>\n",
       "      <td>397330.078803</td>\n",
       "    </tr>\n",
       "    <tr>\n",
       "      <th>5226</th>\n",
       "      <td>2013</td>\n",
       "      <td>57000</td>\n",
       "      <td>Diesel</td>\n",
       "      <td>Individual</td>\n",
       "      <td>Manual</td>\n",
       "      <td>1</td>\n",
       "      <td>22.90</td>\n",
       "      <td>1248.0</td>\n",
       "      <td>74.0</td>\n",
       "      <td>5.0</td>\n",
       "      <td>397330.078803</td>\n",
       "    </tr>\n",
       "    <tr>\n",
       "      <th>5390</th>\n",
       "      <td>2015</td>\n",
       "      <td>25000</td>\n",
       "      <td>Petrol</td>\n",
       "      <td>Individual</td>\n",
       "      <td>Manual</td>\n",
       "      <td>1</td>\n",
       "      <td>20.40</td>\n",
       "      <td>1197.0</td>\n",
       "      <td>81.8</td>\n",
       "      <td>5.0</td>\n",
       "      <td>397330.078803</td>\n",
       "    </tr>\n",
       "    <tr>\n",
       "      <th>860</th>\n",
       "      <td>2015</td>\n",
       "      <td>120000</td>\n",
       "      <td>Diesel</td>\n",
       "      <td>Individual</td>\n",
       "      <td>Manual</td>\n",
       "      <td>1</td>\n",
       "      <td>15.96</td>\n",
       "      <td>2523.0</td>\n",
       "      <td>63.0</td>\n",
       "      <td>9.0</td>\n",
       "      <td>618594.786207</td>\n",
       "    </tr>\n",
       "  </tbody>\n",
       "</table>\n",
       "<p>5330 rows × 11 columns</p>\n",
       "</div>"
      ]
     },
     "execution_count": 255,
     "metadata": {},
     "output_type": "execute_result"
    }
   ],
   "execution_count": 255
  },
  {
   "metadata": {
    "ExecuteTime": {
     "end_time": "2025-02-04T11:36:30.376351Z",
     "start_time": "2025-02-04T11:36:30.363255Z"
    }
   },
   "cell_type": "code",
   "source": "df",
   "id": "9b92a700498f7a3e",
   "outputs": [
    {
     "data": {
      "text/plain": [
       "     brand  year  selling_price  km_driven    fuel seller_type transmission  \\\n",
       "0      BMW  2017        3200000      13663  Diesel      Dealer    Automatic   \n",
       "1      BMW  2012         900000     155000  Diesel  Individual    Automatic   \n",
       "2      BMW  2017        2950000      39000  Diesel      Dealer    Automatic   \n",
       "3      BMW  2009        1100000      60000  Diesel  Individual    Automatic   \n",
       "4      BMW  2012        1100000      80000  Diesel  Individual    Automatic   \n",
       "...    ...   ...            ...        ...     ...         ...          ...   \n",
       "6658  Tata  2018         459999      35000  Petrol  Individual       Manual   \n",
       "6659  Tata  2017         400000      53000  Petrol  Individual       Manual   \n",
       "6660  Tata  2015         450000      40000  Petrol  Individual       Manual   \n",
       "6661  Tata  2015         500000      20000  Petrol  Individual       Manual   \n",
       "6662  Tata  2019         620000     100000  Petrol  Individual       Manual   \n",
       "\n",
       "      owner  mileage  engine  max_power  seats  \n",
       "0         1    22.69  1995.0     190.00    5.0  \n",
       "1         2    16.07  1995.0     181.00    4.0  \n",
       "2         1    19.59  1995.0     187.74    5.0  \n",
       "3         2    16.07  1995.0     181.00    5.0  \n",
       "4         2    16.07  1995.0     181.00    5.0  \n",
       "...     ...      ...     ...        ...    ...  \n",
       "6658      1    17.57  1193.0      88.70    5.0  \n",
       "6659      1    17.57  1193.0      88.70    5.0  \n",
       "6660      1    17.57  1193.0      88.70    5.0  \n",
       "6661      1    17.57  1193.0      88.70    5.0  \n",
       "6662      1    17.57  1193.0      88.70    5.0  \n",
       "\n",
       "[6663 rows x 12 columns]"
      ],
      "text/html": [
       "<div>\n",
       "<style scoped>\n",
       "    .dataframe tbody tr th:only-of-type {\n",
       "        vertical-align: middle;\n",
       "    }\n",
       "\n",
       "    .dataframe tbody tr th {\n",
       "        vertical-align: top;\n",
       "    }\n",
       "\n",
       "    .dataframe thead th {\n",
       "        text-align: right;\n",
       "    }\n",
       "</style>\n",
       "<table border=\"1\" class=\"dataframe\">\n",
       "  <thead>\n",
       "    <tr style=\"text-align: right;\">\n",
       "      <th></th>\n",
       "      <th>brand</th>\n",
       "      <th>year</th>\n",
       "      <th>selling_price</th>\n",
       "      <th>km_driven</th>\n",
       "      <th>fuel</th>\n",
       "      <th>seller_type</th>\n",
       "      <th>transmission</th>\n",
       "      <th>owner</th>\n",
       "      <th>mileage</th>\n",
       "      <th>engine</th>\n",
       "      <th>max_power</th>\n",
       "      <th>seats</th>\n",
       "    </tr>\n",
       "  </thead>\n",
       "  <tbody>\n",
       "    <tr>\n",
       "      <th>0</th>\n",
       "      <td>BMW</td>\n",
       "      <td>2017</td>\n",
       "      <td>3200000</td>\n",
       "      <td>13663</td>\n",
       "      <td>Diesel</td>\n",
       "      <td>Dealer</td>\n",
       "      <td>Automatic</td>\n",
       "      <td>1</td>\n",
       "      <td>22.69</td>\n",
       "      <td>1995.0</td>\n",
       "      <td>190.00</td>\n",
       "      <td>5.0</td>\n",
       "    </tr>\n",
       "    <tr>\n",
       "      <th>1</th>\n",
       "      <td>BMW</td>\n",
       "      <td>2012</td>\n",
       "      <td>900000</td>\n",
       "      <td>155000</td>\n",
       "      <td>Diesel</td>\n",
       "      <td>Individual</td>\n",
       "      <td>Automatic</td>\n",
       "      <td>2</td>\n",
       "      <td>16.07</td>\n",
       "      <td>1995.0</td>\n",
       "      <td>181.00</td>\n",
       "      <td>4.0</td>\n",
       "    </tr>\n",
       "    <tr>\n",
       "      <th>2</th>\n",
       "      <td>BMW</td>\n",
       "      <td>2017</td>\n",
       "      <td>2950000</td>\n",
       "      <td>39000</td>\n",
       "      <td>Diesel</td>\n",
       "      <td>Dealer</td>\n",
       "      <td>Automatic</td>\n",
       "      <td>1</td>\n",
       "      <td>19.59</td>\n",
       "      <td>1995.0</td>\n",
       "      <td>187.74</td>\n",
       "      <td>5.0</td>\n",
       "    </tr>\n",
       "    <tr>\n",
       "      <th>3</th>\n",
       "      <td>BMW</td>\n",
       "      <td>2009</td>\n",
       "      <td>1100000</td>\n",
       "      <td>60000</td>\n",
       "      <td>Diesel</td>\n",
       "      <td>Individual</td>\n",
       "      <td>Automatic</td>\n",
       "      <td>2</td>\n",
       "      <td>16.07</td>\n",
       "      <td>1995.0</td>\n",
       "      <td>181.00</td>\n",
       "      <td>5.0</td>\n",
       "    </tr>\n",
       "    <tr>\n",
       "      <th>4</th>\n",
       "      <td>BMW</td>\n",
       "      <td>2012</td>\n",
       "      <td>1100000</td>\n",
       "      <td>80000</td>\n",
       "      <td>Diesel</td>\n",
       "      <td>Individual</td>\n",
       "      <td>Automatic</td>\n",
       "      <td>2</td>\n",
       "      <td>16.07</td>\n",
       "      <td>1995.0</td>\n",
       "      <td>181.00</td>\n",
       "      <td>5.0</td>\n",
       "    </tr>\n",
       "    <tr>\n",
       "      <th>...</th>\n",
       "      <td>...</td>\n",
       "      <td>...</td>\n",
       "      <td>...</td>\n",
       "      <td>...</td>\n",
       "      <td>...</td>\n",
       "      <td>...</td>\n",
       "      <td>...</td>\n",
       "      <td>...</td>\n",
       "      <td>...</td>\n",
       "      <td>...</td>\n",
       "      <td>...</td>\n",
       "      <td>...</td>\n",
       "    </tr>\n",
       "    <tr>\n",
       "      <th>6658</th>\n",
       "      <td>Tata</td>\n",
       "      <td>2018</td>\n",
       "      <td>459999</td>\n",
       "      <td>35000</td>\n",
       "      <td>Petrol</td>\n",
       "      <td>Individual</td>\n",
       "      <td>Manual</td>\n",
       "      <td>1</td>\n",
       "      <td>17.57</td>\n",
       "      <td>1193.0</td>\n",
       "      <td>88.70</td>\n",
       "      <td>5.0</td>\n",
       "    </tr>\n",
       "    <tr>\n",
       "      <th>6659</th>\n",
       "      <td>Tata</td>\n",
       "      <td>2017</td>\n",
       "      <td>400000</td>\n",
       "      <td>53000</td>\n",
       "      <td>Petrol</td>\n",
       "      <td>Individual</td>\n",
       "      <td>Manual</td>\n",
       "      <td>1</td>\n",
       "      <td>17.57</td>\n",
       "      <td>1193.0</td>\n",
       "      <td>88.70</td>\n",
       "      <td>5.0</td>\n",
       "    </tr>\n",
       "    <tr>\n",
       "      <th>6660</th>\n",
       "      <td>Tata</td>\n",
       "      <td>2015</td>\n",
       "      <td>450000</td>\n",
       "      <td>40000</td>\n",
       "      <td>Petrol</td>\n",
       "      <td>Individual</td>\n",
       "      <td>Manual</td>\n",
       "      <td>1</td>\n",
       "      <td>17.57</td>\n",
       "      <td>1193.0</td>\n",
       "      <td>88.70</td>\n",
       "      <td>5.0</td>\n",
       "    </tr>\n",
       "    <tr>\n",
       "      <th>6661</th>\n",
       "      <td>Tata</td>\n",
       "      <td>2015</td>\n",
       "      <td>500000</td>\n",
       "      <td>20000</td>\n",
       "      <td>Petrol</td>\n",
       "      <td>Individual</td>\n",
       "      <td>Manual</td>\n",
       "      <td>1</td>\n",
       "      <td>17.57</td>\n",
       "      <td>1193.0</td>\n",
       "      <td>88.70</td>\n",
       "      <td>5.0</td>\n",
       "    </tr>\n",
       "    <tr>\n",
       "      <th>6662</th>\n",
       "      <td>Tata</td>\n",
       "      <td>2019</td>\n",
       "      <td>620000</td>\n",
       "      <td>100000</td>\n",
       "      <td>Petrol</td>\n",
       "      <td>Individual</td>\n",
       "      <td>Manual</td>\n",
       "      <td>1</td>\n",
       "      <td>17.57</td>\n",
       "      <td>1193.0</td>\n",
       "      <td>88.70</td>\n",
       "      <td>5.0</td>\n",
       "    </tr>\n",
       "  </tbody>\n",
       "</table>\n",
       "<p>6663 rows × 12 columns</p>\n",
       "</div>"
      ]
     },
     "execution_count": 281,
     "metadata": {},
     "output_type": "execute_result"
    }
   ],
   "execution_count": 281
  },
  {
   "metadata": {},
   "cell_type": "markdown",
   "source": "## Feature Importance",
   "id": "f0adf1e1111a0dea"
  },
  {
   "metadata": {
    "ExecuteTime": {
     "end_time": "2025-02-04T15:09:18.034717Z",
     "start_time": "2025-02-04T15:09:17.970488Z"
    }
   },
   "cell_type": "code",
   "source": [
    "from sklearn.linear_model import Lasso\n",
    "from sklearn.feature_selection import SelectKBest, f_regression"
   ],
   "id": "fc4e62a8d96628bc",
   "outputs": [],
   "execution_count": 292
  },
  {
   "metadata": {
    "ExecuteTime": {
     "end_time": "2025-02-04T15:27:48.422758Z",
     "start_time": "2025-02-04T15:27:48.419320Z"
    }
   },
   "cell_type": "code",
   "source": [
    "## statistical test (F test)\n",
    "\n",
    "selector = SelectKBest(score_func=f_regression, k=10)  # select top 10 features\n",
    "X_new = selector.fit_transform(Xtrain_transformed, np.log1p(ytrain))\n",
    "selected_stats = selector.get_support(indices=True)\n",
    "print(\"Selected feature indices:\", selected_stats)"
   ],
   "id": "34ddccd90530464e",
   "outputs": [
    {
     "name": "stdout",
     "output_type": "stream",
     "text": [
      "Selected feature indices: [ 0  1  3  4  5  6  7  9 10 11]\n"
     ]
    }
   ],
   "execution_count": 322
  },
  {
   "metadata": {
    "ExecuteTime": {
     "end_time": "2025-02-04T15:19:18.595573Z",
     "start_time": "2025-02-04T15:19:18.589478Z"
    }
   },
   "cell_type": "code",
   "source": "Xtrain",
   "id": "eb2e7a699cb1c72b",
   "outputs": [
    {
     "data": {
      "text/plain": [
       "      year  km_driven    fuel seller_type transmission  owner  mileage  \\\n",
       "6469  2015      64800  Diesel  Individual       Manual      1    15.10   \n",
       "121   2010     162000  Petrol  Individual       Manual      2    19.00   \n",
       "3666  2016     100000  Diesel  Individual       Manual      1    25.32   \n",
       "418   2005     150000  Petrol  Individual       Manual      2    19.70   \n",
       "3221  2011      80000  Diesel  Individual       Manual      1    17.00   \n",
       "...    ...        ...     ...         ...          ...    ...      ...   \n",
       "3772  2019      21000  Petrol  Individual       Manual      1    25.17   \n",
       "5191  2013      69000  Diesel  Individual       Manual      2    22.90   \n",
       "5226  2013      57000  Diesel  Individual       Manual      1    22.90   \n",
       "5390  2015      25000  Petrol  Individual       Manual      1    20.40   \n",
       "860   2015     120000  Diesel  Individual       Manual      1    15.96   \n",
       "\n",
       "      engine  max_power  seats  brand_encoded  \n",
       "6469  2179.0      140.0    7.0  618594.786207  \n",
       "121    998.0       66.1    5.0  397330.078803  \n",
       "3666  1198.0       77.0    6.0  618594.786207  \n",
       "418    796.0       46.3    5.0  397330.078803  \n",
       "3221  1405.0       71.0    5.0  343239.822355  \n",
       "...      ...        ...    ...            ...  \n",
       "3772   799.0       53.3    5.0  448503.024540  \n",
       "5191  1248.0       74.0    5.0  397330.078803  \n",
       "5226  1248.0       74.0    5.0  397330.078803  \n",
       "5390  1197.0       81.8    5.0  397330.078803  \n",
       "860   2523.0       63.0    9.0  618594.786207  \n",
       "\n",
       "[5330 rows x 11 columns]"
      ],
      "text/html": [
       "<div>\n",
       "<style scoped>\n",
       "    .dataframe tbody tr th:only-of-type {\n",
       "        vertical-align: middle;\n",
       "    }\n",
       "\n",
       "    .dataframe tbody tr th {\n",
       "        vertical-align: top;\n",
       "    }\n",
       "\n",
       "    .dataframe thead th {\n",
       "        text-align: right;\n",
       "    }\n",
       "</style>\n",
       "<table border=\"1\" class=\"dataframe\">\n",
       "  <thead>\n",
       "    <tr style=\"text-align: right;\">\n",
       "      <th></th>\n",
       "      <th>year</th>\n",
       "      <th>km_driven</th>\n",
       "      <th>fuel</th>\n",
       "      <th>seller_type</th>\n",
       "      <th>transmission</th>\n",
       "      <th>owner</th>\n",
       "      <th>mileage</th>\n",
       "      <th>engine</th>\n",
       "      <th>max_power</th>\n",
       "      <th>seats</th>\n",
       "      <th>brand_encoded</th>\n",
       "    </tr>\n",
       "  </thead>\n",
       "  <tbody>\n",
       "    <tr>\n",
       "      <th>6469</th>\n",
       "      <td>2015</td>\n",
       "      <td>64800</td>\n",
       "      <td>Diesel</td>\n",
       "      <td>Individual</td>\n",
       "      <td>Manual</td>\n",
       "      <td>1</td>\n",
       "      <td>15.10</td>\n",
       "      <td>2179.0</td>\n",
       "      <td>140.0</td>\n",
       "      <td>7.0</td>\n",
       "      <td>618594.786207</td>\n",
       "    </tr>\n",
       "    <tr>\n",
       "      <th>121</th>\n",
       "      <td>2010</td>\n",
       "      <td>162000</td>\n",
       "      <td>Petrol</td>\n",
       "      <td>Individual</td>\n",
       "      <td>Manual</td>\n",
       "      <td>2</td>\n",
       "      <td>19.00</td>\n",
       "      <td>998.0</td>\n",
       "      <td>66.1</td>\n",
       "      <td>5.0</td>\n",
       "      <td>397330.078803</td>\n",
       "    </tr>\n",
       "    <tr>\n",
       "      <th>3666</th>\n",
       "      <td>2016</td>\n",
       "      <td>100000</td>\n",
       "      <td>Diesel</td>\n",
       "      <td>Individual</td>\n",
       "      <td>Manual</td>\n",
       "      <td>1</td>\n",
       "      <td>25.32</td>\n",
       "      <td>1198.0</td>\n",
       "      <td>77.0</td>\n",
       "      <td>6.0</td>\n",
       "      <td>618594.786207</td>\n",
       "    </tr>\n",
       "    <tr>\n",
       "      <th>418</th>\n",
       "      <td>2005</td>\n",
       "      <td>150000</td>\n",
       "      <td>Petrol</td>\n",
       "      <td>Individual</td>\n",
       "      <td>Manual</td>\n",
       "      <td>2</td>\n",
       "      <td>19.70</td>\n",
       "      <td>796.0</td>\n",
       "      <td>46.3</td>\n",
       "      <td>5.0</td>\n",
       "      <td>397330.078803</td>\n",
       "    </tr>\n",
       "    <tr>\n",
       "      <th>3221</th>\n",
       "      <td>2011</td>\n",
       "      <td>80000</td>\n",
       "      <td>Diesel</td>\n",
       "      <td>Individual</td>\n",
       "      <td>Manual</td>\n",
       "      <td>1</td>\n",
       "      <td>17.00</td>\n",
       "      <td>1405.0</td>\n",
       "      <td>71.0</td>\n",
       "      <td>5.0</td>\n",
       "      <td>343239.822355</td>\n",
       "    </tr>\n",
       "    <tr>\n",
       "      <th>...</th>\n",
       "      <td>...</td>\n",
       "      <td>...</td>\n",
       "      <td>...</td>\n",
       "      <td>...</td>\n",
       "      <td>...</td>\n",
       "      <td>...</td>\n",
       "      <td>...</td>\n",
       "      <td>...</td>\n",
       "      <td>...</td>\n",
       "      <td>...</td>\n",
       "      <td>...</td>\n",
       "    </tr>\n",
       "    <tr>\n",
       "      <th>3772</th>\n",
       "      <td>2019</td>\n",
       "      <td>21000</td>\n",
       "      <td>Petrol</td>\n",
       "      <td>Individual</td>\n",
       "      <td>Manual</td>\n",
       "      <td>1</td>\n",
       "      <td>25.17</td>\n",
       "      <td>799.0</td>\n",
       "      <td>53.3</td>\n",
       "      <td>5.0</td>\n",
       "      <td>448503.024540</td>\n",
       "    </tr>\n",
       "    <tr>\n",
       "      <th>5191</th>\n",
       "      <td>2013</td>\n",
       "      <td>69000</td>\n",
       "      <td>Diesel</td>\n",
       "      <td>Individual</td>\n",
       "      <td>Manual</td>\n",
       "      <td>2</td>\n",
       "      <td>22.90</td>\n",
       "      <td>1248.0</td>\n",
       "      <td>74.0</td>\n",
       "      <td>5.0</td>\n",
       "      <td>397330.078803</td>\n",
       "    </tr>\n",
       "    <tr>\n",
       "      <th>5226</th>\n",
       "      <td>2013</td>\n",
       "      <td>57000</td>\n",
       "      <td>Diesel</td>\n",
       "      <td>Individual</td>\n",
       "      <td>Manual</td>\n",
       "      <td>1</td>\n",
       "      <td>22.90</td>\n",
       "      <td>1248.0</td>\n",
       "      <td>74.0</td>\n",
       "      <td>5.0</td>\n",
       "      <td>397330.078803</td>\n",
       "    </tr>\n",
       "    <tr>\n",
       "      <th>5390</th>\n",
       "      <td>2015</td>\n",
       "      <td>25000</td>\n",
       "      <td>Petrol</td>\n",
       "      <td>Individual</td>\n",
       "      <td>Manual</td>\n",
       "      <td>1</td>\n",
       "      <td>20.40</td>\n",
       "      <td>1197.0</td>\n",
       "      <td>81.8</td>\n",
       "      <td>5.0</td>\n",
       "      <td>397330.078803</td>\n",
       "    </tr>\n",
       "    <tr>\n",
       "      <th>860</th>\n",
       "      <td>2015</td>\n",
       "      <td>120000</td>\n",
       "      <td>Diesel</td>\n",
       "      <td>Individual</td>\n",
       "      <td>Manual</td>\n",
       "      <td>1</td>\n",
       "      <td>15.96</td>\n",
       "      <td>2523.0</td>\n",
       "      <td>63.0</td>\n",
       "      <td>9.0</td>\n",
       "      <td>618594.786207</td>\n",
       "    </tr>\n",
       "  </tbody>\n",
       "</table>\n",
       "<p>5330 rows × 11 columns</p>\n",
       "</div>"
      ]
     },
     "execution_count": 314,
     "metadata": {},
     "output_type": "execute_result"
    }
   ],
   "execution_count": 314
  },
  {
   "metadata": {
    "ExecuteTime": {
     "end_time": "2025-02-04T15:11:48.678298Z",
     "start_time": "2025-02-04T15:11:48.675414Z"
    }
   },
   "cell_type": "code",
   "source": "Xtrain_transformed",
   "id": "2c7d64c08ac7b3d8",
   "outputs": [
    {
     "data": {
      "text/plain": [
       "array([[ 0.    ,  1.    ,  0.    , ...,  1.5474, -0.6824,  0.2682],\n",
       "       [ 1.    ,  1.    ,  0.    , ..., -0.4557,  0.6783, -0.371 ],\n",
       "       [ 0.    ,  1.    ,  0.    , ...,  0.5459, -0.6824,  0.2682],\n",
       "       ...,\n",
       "       [ 0.    ,  1.    ,  0.    , ..., -0.4557, -0.6824, -0.371 ],\n",
       "       [ 1.    ,  1.    ,  0.    , ..., -0.4557, -0.6824, -0.371 ],\n",
       "       [ 0.    ,  1.    ,  0.    , ...,  3.5505, -0.6824,  0.2682]],\n",
       "      shape=(5330, 12))"
      ]
     },
     "execution_count": 305,
     "metadata": {},
     "output_type": "execute_result"
    }
   ],
   "execution_count": 305
  },
  {
   "metadata": {
    "ExecuteTime": {
     "end_time": "2025-02-04T15:24:29.863659Z",
     "start_time": "2025-02-04T15:24:29.859747Z"
    }
   },
   "cell_type": "code",
   "source": [
    "## Embedded method \n",
    "lasso = Lasso(alpha=0.1)  # adjust alpha as needed\n",
    "lasso.fit(Xtrain_transformed, np.log1p(ytrain))\n",
    "# Coefficients that are exactly 0 indicate that the feature is not important.\n",
    "selected_indices = np.where(lasso.coef_ != 0)[0]\n",
    "print(\"Selected feature indices:\", selected_indices)"
   ],
   "id": "5f5abd3f723c3660",
   "outputs": [
    {
     "name": "stdout",
     "output_type": "stream",
     "text": [
      "Selected feature indices: [ 7  9 11]\n"
     ]
    }
   ],
   "execution_count": 319
  },
  {
   "metadata": {
    "ExecuteTime": {
     "end_time": "2025-02-04T15:21:41.919283Z",
     "start_time": "2025-02-04T15:21:41.916555Z"
    }
   },
   "cell_type": "code",
   "source": "lasso.coef_",
   "id": "883a8da3c04032cd",
   "outputs": [
    {
     "data": {
      "text/plain": [
       "array([-0.    , -0.    ,  0.    , -0.    , -0.    ,  0.    ,  0.    ,\n",
       "        0.4111, -0.    ,  0.0641, -0.    ,  0.2115])"
      ]
     },
     "execution_count": 316,
     "metadata": {},
     "output_type": "execute_result"
    }
   ],
   "execution_count": 316
  },
  {
   "metadata": {
    "ExecuteTime": {
     "end_time": "2025-02-04T15:50:38.421271Z",
     "start_time": "2025-02-04T15:50:38.069526Z"
    }
   },
   "cell_type": "code",
   "source": "finalmodel.fit(Xtrain_transformed[selected_stats], ytrain)",
   "id": "825b8eb935136e8d",
   "outputs": [
    {
     "name": "stdout",
     "output_type": "stream",
     "text": [
      "(5330,)\n",
      "torch.Size([10, 13])\n",
      "0 --> train_loss: 13.923 | train_accuracy: -29.0783 | val_loss: 57.9366 | val_accuracy: -inf\n",
      "early stopping\n",
      "1 --> train_loss: 14.364 | train_accuracy: -29.4894 | val_loss: 1.5623 | val_accuracy: -inf\n",
      "2 --> train_loss: 14.306 | train_accuracy: -28.6208 | val_loss: 2.4905 | val_accuracy: -inf\n",
      "3 --> train_loss: 13.970 | train_accuracy: -29.7874 | val_loss: 30.9077 | val_accuracy: -inf\n",
      "4 --> train_loss: 13.993 | train_accuracy: -28.8251 | val_loss: 2.4684 | val_accuracy: -inf\n",
      "early stopping\n",
      "5 --> train_loss: 14.628 | train_accuracy: -29.4558 | val_loss: 0.2726 | val_accuracy: -inf\n",
      "early stopping\n",
      "6 --> train_loss: 15.074 | train_accuracy: -30.6749 | val_loss: 0.0006 | val_accuracy: -inf\n",
      "7 --> train_loss: 14.987 | train_accuracy: -29.9970 | val_loss: 0.2502 | val_accuracy: -inf\n",
      "early stopping\n",
      "8 --> train_loss: 15.363 | train_accuracy: -31.7296 | val_loss: 0.0000 | val_accuracy: -inf\n",
      "9 --> train_loss: 15.211 | train_accuracy: -30.9835 | val_loss: 2.3818 | val_accuracy: -inf\n"
     ]
    }
   ],
   "execution_count": 348
  },
  {
   "metadata": {},
   "cell_type": "code",
   "outputs": [],
   "execution_count": null,
   "source": "",
   "id": "8945b7adf8475d59"
  }
 ],
 "metadata": {
  "kernelspec": {
   "display_name": "Python 3",
   "language": "python",
   "name": "python3"
  },
  "language_info": {
   "codemirror_mode": {
    "name": "ipython",
    "version": 2
   },
   "file_extension": ".py",
   "mimetype": "text/x-python",
   "name": "python",
   "nbconvert_exporter": "python",
   "pygments_lexer": "ipython2",
   "version": "2.7.6"
  }
 },
 "nbformat": 4,
 "nbformat_minor": 5
}
