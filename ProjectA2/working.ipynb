{
 "cells": [
  {
   "cell_type": "code",
   "id": "initial_id",
   "metadata": {
    "collapsed": true,
    "ExecuteTime": {
     "end_time": "2025-02-06T18:16:54.855142Z",
     "start_time": "2025-02-06T18:16:54.852056Z"
    }
   },
   "source": [
    "import numpy as np\n",
    "import pandas as pd\n",
    "\n",
    "import matplotlib.pyplot as plt\n",
    "import seaborn as sns\n",
    "import plotly.express as px\n",
    "\n",
    "from sklearn.model_selection import train_test_split, KFold\n",
    "from sklearn.preprocessing import StandardScaler, OneHotEncoder\n",
    "\n",
    "import joblib\n",
    "import os\n",
    "import sys\n",
    "import mlflow\n",
    "from itertools import combinations, product\n"
   ],
   "outputs": [],
   "execution_count": 20
  },
  {
   "metadata": {
    "ExecuteTime": {
     "end_time": "2025-02-06T17:44:06.684714Z",
     "start_time": "2025-02-06T17:44:06.682715Z"
    }
   },
   "cell_type": "code",
   "source": [
    "def str_to_class(classname):\n",
    "    return getattr(sys.modules[__name__], classname)"
   ],
   "id": "f0e6332d32489cf3",
   "outputs": [],
   "execution_count": 2
  },
  {
   "metadata": {
    "ExecuteTime": {
     "end_time": "2025-02-06T18:18:40.800352Z",
     "start_time": "2025-02-06T18:18:40.798306Z"
    }
   },
   "cell_type": "code",
   "source": "print(sns.__version__)",
   "id": "5d2c5541339a9d86",
   "outputs": [
    {
     "name": "stdout",
     "output_type": "stream",
     "text": [
      "0.13.2\n"
     ]
    }
   ],
   "execution_count": 21
  },
  {
   "metadata": {},
   "cell_type": "markdown",
   "source": "The data has been pulled from project A1, so we didn't had to clean, neither do EDA, however author has done some feature selection to training more robust",
   "id": "f8ac26d013b230ad"
  },
  {
   "metadata": {},
   "cell_type": "markdown",
   "source": "## Custom Model Building ",
   "id": "5fe9aed46b941819"
  },
  {
   "metadata": {
    "ExecuteTime": {
     "end_time": "2025-02-06T17:44:15.781885Z",
     "start_time": "2025-02-06T17:44:15.763649Z"
    }
   },
   "cell_type": "code",
   "source": [
    "class MyRegression:\n",
    "    \n",
    "    def __init__(self, regularization: float = None, lr: float = 0.01, method: str = 'mini_batch',\n",
    "                 weight_init: str = 'zeros', batch_size: int = 64, n_epochs: int = 100, momentum: float = None,\n",
    "                 poly_degree: int = None, cv: int = 5, log_transform: bool = False, use_mlflow: bool = False):\n",
    "        self.lr = lr  # learning rate\n",
    "        self.method = method  # optimization method\n",
    "        self.weight_init = weight_init  # weight initialization type\n",
    "        self.batch_size = batch_size\n",
    "        self.n_epochs = n_epochs\n",
    "        self.regularization = regularization  # Ridge or Lasso\n",
    "        self.momentum = momentum  # momentum coefficient\n",
    "        self.use_mlflow = use_mlflow\n",
    "        self.poly_degree = poly_degree\n",
    "        self.cv = cv  # K-fold validation\n",
    "        self.weight_decay = 1e-5  # L2 regularization\n",
    "        self.log_transform = log_transform\n",
    "\n",
    "        valid_method = ['mini_batch', 'stochastic', 'batch']\n",
    "        valid_weight = ['normal', 'xavier', 'zeros']\n",
    "        \n",
    "        if self.method not in valid_method:\n",
    "            raise ValueError(f'method must be in {valid_method}')\n",
    "        if self.weight_init not in valid_weight:\n",
    "            raise ValueError(f'weight_init must be in {valid_weight}')\n",
    "    \n",
    "    def fit(self, X, y):\n",
    "        if isinstance(X, pd.DataFrame) or isinstance(X, pd.Series): ## while deploying application if some error occurs, so to counter that \n",
    "            X = X.astype('float').values   \n",
    "        if isinstance(y, pd.DataFrame) or isinstance(y, pd.Series):\n",
    "            y = y.astype(float).values\n",
    "\n",
    "        X = np.array(X).astype('float') \n",
    "        y = np.array(y).astype('float')\n",
    "\n",
    "        if self.log_transform: ## transforming target (y) to log \n",
    "            y = np.log1p(y)\n",
    "\n",
    "        if self.poly_degree is not None:\n",
    "            X = self._polynomial_features(X)\n",
    "\n",
    "        intercept = np.ones((X.shape[0], 1)).astype('float') ## adding bias \n",
    "        X = np.concatenate((intercept, X), axis=1)\n",
    "\n",
    "        patience = 4 ## want to check before early stopping to prevent model for gradient problem\n",
    "        epoch_without_improvement = 0\n",
    "        self.kfold_train_accuracy_list = []\n",
    "        self.kfold_train_loss_list = []\n",
    "\n",
    "        cv = KFold(n_splits=self.cv, shuffle=True, random_state=42)\n",
    "\n",
    "        for fold, (train_idx, val_idx) in enumerate(cv.split(X)):\n",
    "            self.W = self.weight_initializer(X.shape[1])\n",
    "\n",
    "            x_train_cross = X[train_idx]\n",
    "            y_train_cross = y[train_idx]\n",
    "            x_val_cross = X[val_idx]\n",
    "            y_val_cross = y[val_idx]\n",
    "\n",
    "            self.old_loss = np.inf  \n",
    "\n",
    "            for epoch in range(self.n_epochs):\n",
    "                perm_idx = np.random.permutation(len(x_train_cross))\n",
    "                x_train_cross = x_train_cross[perm_idx]\n",
    "                y_train_cross = y_train_cross[perm_idx]\n",
    "\n",
    "                if self.method == 'mini_batch':\n",
    "                    for i in range(0, len(x_train_cross), self.batch_size):\n",
    "                        batch_X = x_train_cross[i:i+self.batch_size]\n",
    "                        batch_y = y_train_cross[i:i+self.batch_size]\n",
    "                        train_loss, train_accuracy = self._train(batch_X, batch_y)\n",
    "                elif self.method == 'stochastic':\n",
    "                    for i in range(x_train_cross.shape[0]):\n",
    "                        batch_X = x_train_cross[i:i+1]\n",
    "                        batch_y = y_train_cross[i:i+1]\n",
    "                        train_loss, train_accuracy = self._train(batch_X, batch_y)\n",
    "                else:\n",
    "                    train_loss, train_accuracy = self._train(x_train_cross, y_train_cross)\n",
    "\n",
    "                self.kfold_train_accuracy_list.append(train_accuracy)\n",
    "                self.kfold_train_loss_list.append(train_loss)\n",
    "\n",
    "                y_hat_val = self._predict(x_val_cross, is_train=True)\n",
    "                val_loss, val_accuracy = self.mse(y_val_cross, y_hat_val), self.r2_score(y_val_cross, y_hat_val)\n",
    "    \n",
    "                if np.isclose(self.old_loss, val_loss, atol=1e-3):\n",
    "                    epoch_without_improvement += 1 \n",
    "                    if epoch_without_improvement >= patience: \n",
    "                        print('early stopping')\n",
    "                        break\n",
    "                else: \n",
    "                    epoch_without_improvement = 0\n",
    "    \n",
    "                self.old_loss = val_loss\n",
    "\n",
    "            print(f\"{fold} --> train_loss: {np.mean(self.kfold_train_loss_list):.3f} | train_accuracy: {np.mean(self.kfold_train_accuracy_list):.4f} | val_loss: {val_loss:.4f} | val_accuracy: {val_accuracy:.4f}\")\n",
    "\n",
    "    def _predict(self, X, is_train=False):\n",
    "        if isinstance(X, (pd.DataFrame, pd.Series)): ## this are for xtest \n",
    "            X = X.astype('float').values\n",
    "        elif isinstance(X, np.ndarray):\n",
    "            X = np.array(X).astype('float')\n",
    "\n",
    "        if not is_train and self.poly_degree is not None:\n",
    "            X = self._polynomial_features(X)\n",
    "            \n",
    "        if X.shape[1] == self.W.shape[0] - 1:  # Check if bias is missing\n",
    "            intercept = np.ones((X.shape[0], 1)).astype('float')\n",
    "            X = np.concatenate((intercept, X), axis=1)\n",
    "        \n",
    "        return np.dot(X, self.W.reshape(-1, 1)).flatten()\n",
    "\n",
    "    def _train(self, X, y):\n",
    "        y_hat = self._predict(X, is_train=True)\n",
    "        \n",
    "        m = X.shape[0]\n",
    "\n",
    "        grad = (1 / m) * np.dot(X.T, (y_hat - y).reshape(-1, 1))\n",
    "\n",
    "        grad += self.weight_decay * self.W.reshape(-1, 1) \n",
    "        \n",
    "        grad = np.clip(grad, -5.0, 5.0) ## for gradient explosion\n",
    "\n",
    "        if self.momentum is not None:\n",
    "            if not hasattr(self, 'velocity'):\n",
    "                self.velocity = np.zeros_like(self.W)\n",
    "            self.velocity = self.momentum * self.velocity - self.lr * grad.flatten()  # Ensure 1D shape\n",
    "            self.W += self.velocity.flatten()\n",
    "        else:\n",
    "            self.W -= self.lr * grad.flatten() \n",
    "\n",
    "        if np.isnan(self.W).any() or np.isinf(self.W).any():\n",
    "            print(\"Warning: NaN or Inf detected in weights!\")\n",
    "            self.W = np.where(np.isnan(self.W) | np.isinf(self.W), np.random.randn(*self.W.shape) * 0.01, self.W)\n",
    "\n",
    "        return self.mse(y, y_hat), self.r2_score(y, y_hat)\n",
    "\n",
    "    def mse(self, ytrue, ypred):\n",
    "        return np.sum((ypred - ytrue) ** 2) / ytrue.shape[0]\n",
    "\n",
    "    def r2_score(self, ytrue, ypred):\n",
    "        rss = np.sum((ytrue - ypred) ** 2)\n",
    "        tss = np.sum((ytrue - np.mean(ytrue)) ** 2)\n",
    "        return 1 - (rss / tss)\n",
    "\n",
    "    def weight_initializer(self, num_features):\n",
    "        if self.weight_init == 'zeros':\n",
    "            return np.zeros(num_features).astype('float')\n",
    "        elif self.weight_init == 'xavier':\n",
    "            limit = 1 / np.sqrt(num_features)\n",
    "            return np.random.uniform(-limit, limit, size=num_features).astype('float')\n",
    "        else:\n",
    "            return np.random.randn(num_features).astype('float') * 0.01\n",
    "        \n",
    "    def _polynomial_features(self, X):  \n",
    "    \n",
    "        if self.poly_degree is None:\n",
    "            return X\n",
    "        \n",
    "        X = np.array(X, dtype='float')  # Ensure NumPy format\n",
    "        n_samples, n_features = X.shape\n",
    "        poly_features = [X]\n",
    "    \n",
    "        # Add higher-degree features (x^2, x^3, etc.)\n",
    "        for degree in range(2, self.poly_degree + 1):\n",
    "            poly_features.append(X ** degree)\n",
    "    \n",
    "        # Add interaction terms for degree = 2  ## tried combination but it was too much for weights, exploding everywhere ..!!\n",
    "        # if self.poly_degree == 2:\n",
    "        #     interaction_terms = [np.prod(X[:, np.array(combo)], axis=1) for combo in combinations(range(n_features), 2)]\n",
    "        #     return np.column_stack(poly_features + interaction_terms)\n",
    "    \n",
    "        return np.concatenate(poly_features, axis=1)\n",
    "   \n",
    "    def _coef(self):\n",
    "        \"\"\"Returns all weights except the intercept (bias).\"\"\"\n",
    "        return self.W[1:]  \n",
    "    \n",
    "    def _bias(self):\n",
    "        \"\"\"Returns the bias term.\"\"\"\n",
    "        return self.W[0]\n",
    "    \n",
    "    def plot_feature_importance(self, feature_names=None):\n",
    "        \n",
    "        # Ensure weights are NumPy arrays\n",
    "        feature_importance = np.array(self._coef())  \n",
    "    \n",
    "        # If feature names are not provided, generate default names\n",
    "        num_features = len(feature_importance)\n",
    "        if feature_names is None:\n",
    "            feature_names = [f'Feature {i+1}' for i in range(num_features)]\n",
    "    \n",
    "        # Adjust feature names for polynomial features (No interaction terms now)\n",
    "        expanded_feature_names = self.get_expanded_feature_names(feature_names)\n",
    "    \n",
    "        # Dictionary to sum importance across polynomial degrees\n",
    "        feature_weight_dict = {name: 0 for name in expanded_feature_names}\n",
    "    \n",
    "        # Aggregate absolute importance values for polynomial terms\n",
    "        for name, weight in zip(expanded_feature_names, feature_importance):\n",
    "            feature_weight_dict[name] += abs(weight)  # Sum absolute importance\n",
    "    \n",
    "        # Convert to DataFrame and sort by importance\n",
    "        sorted_features = sorted(feature_weight_dict.items(), key=lambda x: x[1], reverse=True)\n",
    "        coefs_df = pd.DataFrame(sorted_features, columns=[\"Feature\", \"Importance\"])\n",
    "    \n",
    "    \n",
    "        # Normalize feature importance for visualization\n",
    "        max_importance = coefs_df[\"Importance\"].max()\n",
    "        min_importance = coefs_df[\"Importance\"].min()\n",
    "        \n",
    "        if max_importance > min_importance:  \n",
    "            normalized_importance = (coefs_df[\"Importance\"] - min_importance) / (max_importance - min_importance)\n",
    "            color_indices = (normalized_importance * 255).astype(int)  # Convert to color scale (0-255)\n",
    "        else:\n",
    "            color_indices = np.full(len(coefs_df), 128)  # Default middle shade if importance is constant\n",
    "    \n",
    "        colors = [plt.cm.Greens(idx / 255) for idx in color_indices]\n",
    "    \n",
    "        # Plot feature importance\n",
    "        plt.figure(figsize=(12, 6))\n",
    "        ax = sns.barplot(x=coefs_df[\"Importance\"], y=coefs_df[\"Feature\"], palette=colors) \n",
    "    \n",
    "        max_importance = np.max(np.abs(coefs_df[\"Importance\"]))\n",
    "    \n",
    "        # Add data labels with proper positioning\n",
    "        for index, value in enumerate(coefs_df[\"Importance\"]):\n",
    "            label = f\"{value:.4f}\"\n",
    "            if abs(value) < 0.05 * max_importance:  # If bar is **too short**\n",
    "                ax.text(value + (0.05 * max_importance), index, label, \n",
    "                        va='center', ha='left', fontsize=12, color='black', fontweight='bold')  \n",
    "            else:\n",
    "                ax.text(value * 0.95, index, label, \n",
    "                        va='center', ha='right' if value > 0 else 'left', fontsize=9, color='white', fontweight='bold')  \n",
    "    \n",
    "        # Add labels and title\n",
    "        plt.xlabel('Feature Importance', fontsize=14)\n",
    "        plt.ylabel('Features', fontsize=14)\n",
    "        plt.title('Feature Importance Plot', fontsize=16)\n",
    "        plt.grid(axis='x', linestyle='--', alpha=0.6)\n",
    "    \n",
    "        # Show the plot\n",
    "        plt.show()\n",
    "        \n",
    "    def get_expanded_feature_names(self, feature_names):\n",
    "        \n",
    "        if self.poly_degree is None or self.poly_degree == 1:\n",
    "            return feature_names  # No transformation, return as is\n",
    "    \n",
    "        expanded_feature_names = []\n",
    "        \n",
    "        # Generate polynomial feature names (x, x^2, x^3, ...)\n",
    "        for degree in range(1, self.poly_degree + 1):\n",
    "            expanded_feature_names.extend([f\"{col}^{degree}\" for col in feature_names])\n",
    "    \n",
    "        return expanded_feature_names"
   ],
   "id": "52dabb5478f85466",
   "outputs": [],
   "execution_count": 3
  },
  {
   "metadata": {
    "ExecuteTime": {
     "end_time": "2025-02-06T17:44:16.207700Z",
     "start_time": "2025-02-06T17:44:16.204398Z"
    }
   },
   "cell_type": "code",
   "source": [
    "class L1Penalty:\n",
    "    \"\"\"\n",
    "    Implements L1 (Lasso) regularization.\n",
    "    \"\"\"\n",
    "    def __init__(self, l):\n",
    "        self.l = l \n",
    "\n",
    "    def __call__(self, W):\n",
    "        return self.l * np.sum(np.abs(W))\n",
    "    \n",
    "    def derivation(self, W):\n",
    "        return self.l * np.sign(W)\n",
    "\n",
    "\n",
    "class L2Penalty:\n",
    "    \"\"\"\n",
    "    Implements L2 (Ridge) regularization.\n",
    "    \"\"\"\n",
    "    def __init__(self, l):\n",
    "        self.l = l\n",
    "\n",
    "    def __call__(self, W):\n",
    "        return self.l * np.sum(np.square(W))\n",
    "\n",
    "    def derivation(self, W):\n",
    "        return self.l * 2 * W\n",
    "\n",
    "\n",
    "class LassoRegression(MyRegression):\n",
    "    \"\"\"\n",
    "    Implements Lasso Regression using L1 Regularization.\n",
    "    \"\"\"\n",
    "    def __init__(self, l=0.1, **kwargs):\n",
    "        super().__init__(regularization=L1Penalty(l=l), **kwargs)\n",
    "\n",
    "\n",
    "class RidgeRegression(MyRegression):\n",
    "    \"\"\"\n",
    "    Implements Ridge Regression using L2 Regularization.\n",
    "    \"\"\"\n",
    "    def __init__(self, l=0.1, **kwargs):\n",
    "        super().__init__(regularization=L2Penalty(l=l), **kwargs)"
   ],
   "id": "2fda4abfd8bc6de1",
   "outputs": [],
   "execution_count": 4
  },
  {
   "metadata": {},
   "cell_type": "markdown",
   "source": "## Data Preprocessing",
   "id": "275b50c66e77092f"
  },
  {
   "metadata": {
    "ExecuteTime": {
     "end_time": "2025-02-06T17:44:19.420762Z",
     "start_time": "2025-02-06T17:44:19.408648Z"
    }
   },
   "cell_type": "code",
   "source": "df = pd.read_csv('Out_287.csv')",
   "id": "fc330bd48cee7cc6",
   "outputs": [],
   "execution_count": 5
  },
  {
   "metadata": {
    "ExecuteTime": {
     "end_time": "2025-02-06T17:44:21.696974Z",
     "start_time": "2025-02-06T17:44:21.686311Z"
    }
   },
   "cell_type": "code",
   "source": "df",
   "id": "7d8b9626cfb06607",
   "outputs": [
    {
     "data": {
      "text/plain": [
       "      Unnamed: 0 brand  year  selling_price  km_driven    fuel seller_type  \\\n",
       "0              0   BMW  2017        3200000      13663  Diesel      Dealer   \n",
       "1              1   BMW  2012         900000     155000  Diesel  Individual   \n",
       "2              2   BMW  2017        2950000      39000  Diesel      Dealer   \n",
       "3              4   BMW  2009        1100000      60000  Diesel  Individual   \n",
       "4              5   BMW  2012        1100000      80000  Diesel  Individual   \n",
       "...          ...   ...   ...            ...        ...     ...         ...   \n",
       "6658        8023  Tata  2018         459999      35000  Petrol  Individual   \n",
       "6659        8024  Tata  2017         400000      53000  Petrol  Individual   \n",
       "6660        8025  Tata  2015         450000      40000  Petrol  Individual   \n",
       "6661        8026  Tata  2015         500000      20000  Petrol  Individual   \n",
       "6662        8027  Tata  2019         620000     100000  Petrol  Individual   \n",
       "\n",
       "     transmission  owner  mileage  engine  max_power  seats  \n",
       "0       Automatic      1    22.69  1995.0     190.00    5.0  \n",
       "1       Automatic      2    16.07  1995.0     181.00    4.0  \n",
       "2       Automatic      1    19.59  1995.0     187.74    5.0  \n",
       "3       Automatic      2    16.07  1995.0     181.00    5.0  \n",
       "4       Automatic      2    16.07  1995.0     181.00    5.0  \n",
       "...           ...    ...      ...     ...        ...    ...  \n",
       "6658       Manual      1    17.57  1193.0      88.70    5.0  \n",
       "6659       Manual      1    17.57  1193.0      88.70    5.0  \n",
       "6660       Manual      1    17.57  1193.0      88.70    5.0  \n",
       "6661       Manual      1    17.57  1193.0      88.70    5.0  \n",
       "6662       Manual      1    17.57  1193.0      88.70    5.0  \n",
       "\n",
       "[6663 rows x 13 columns]"
      ],
      "text/html": [
       "<div>\n",
       "<style scoped>\n",
       "    .dataframe tbody tr th:only-of-type {\n",
       "        vertical-align: middle;\n",
       "    }\n",
       "\n",
       "    .dataframe tbody tr th {\n",
       "        vertical-align: top;\n",
       "    }\n",
       "\n",
       "    .dataframe thead th {\n",
       "        text-align: right;\n",
       "    }\n",
       "</style>\n",
       "<table border=\"1\" class=\"dataframe\">\n",
       "  <thead>\n",
       "    <tr style=\"text-align: right;\">\n",
       "      <th></th>\n",
       "      <th>Unnamed: 0</th>\n",
       "      <th>brand</th>\n",
       "      <th>year</th>\n",
       "      <th>selling_price</th>\n",
       "      <th>km_driven</th>\n",
       "      <th>fuel</th>\n",
       "      <th>seller_type</th>\n",
       "      <th>transmission</th>\n",
       "      <th>owner</th>\n",
       "      <th>mileage</th>\n",
       "      <th>engine</th>\n",
       "      <th>max_power</th>\n",
       "      <th>seats</th>\n",
       "    </tr>\n",
       "  </thead>\n",
       "  <tbody>\n",
       "    <tr>\n",
       "      <th>0</th>\n",
       "      <td>0</td>\n",
       "      <td>BMW</td>\n",
       "      <td>2017</td>\n",
       "      <td>3200000</td>\n",
       "      <td>13663</td>\n",
       "      <td>Diesel</td>\n",
       "      <td>Dealer</td>\n",
       "      <td>Automatic</td>\n",
       "      <td>1</td>\n",
       "      <td>22.69</td>\n",
       "      <td>1995.0</td>\n",
       "      <td>190.00</td>\n",
       "      <td>5.0</td>\n",
       "    </tr>\n",
       "    <tr>\n",
       "      <th>1</th>\n",
       "      <td>1</td>\n",
       "      <td>BMW</td>\n",
       "      <td>2012</td>\n",
       "      <td>900000</td>\n",
       "      <td>155000</td>\n",
       "      <td>Diesel</td>\n",
       "      <td>Individual</td>\n",
       "      <td>Automatic</td>\n",
       "      <td>2</td>\n",
       "      <td>16.07</td>\n",
       "      <td>1995.0</td>\n",
       "      <td>181.00</td>\n",
       "      <td>4.0</td>\n",
       "    </tr>\n",
       "    <tr>\n",
       "      <th>2</th>\n",
       "      <td>2</td>\n",
       "      <td>BMW</td>\n",
       "      <td>2017</td>\n",
       "      <td>2950000</td>\n",
       "      <td>39000</td>\n",
       "      <td>Diesel</td>\n",
       "      <td>Dealer</td>\n",
       "      <td>Automatic</td>\n",
       "      <td>1</td>\n",
       "      <td>19.59</td>\n",
       "      <td>1995.0</td>\n",
       "      <td>187.74</td>\n",
       "      <td>5.0</td>\n",
       "    </tr>\n",
       "    <tr>\n",
       "      <th>3</th>\n",
       "      <td>4</td>\n",
       "      <td>BMW</td>\n",
       "      <td>2009</td>\n",
       "      <td>1100000</td>\n",
       "      <td>60000</td>\n",
       "      <td>Diesel</td>\n",
       "      <td>Individual</td>\n",
       "      <td>Automatic</td>\n",
       "      <td>2</td>\n",
       "      <td>16.07</td>\n",
       "      <td>1995.0</td>\n",
       "      <td>181.00</td>\n",
       "      <td>5.0</td>\n",
       "    </tr>\n",
       "    <tr>\n",
       "      <th>4</th>\n",
       "      <td>5</td>\n",
       "      <td>BMW</td>\n",
       "      <td>2012</td>\n",
       "      <td>1100000</td>\n",
       "      <td>80000</td>\n",
       "      <td>Diesel</td>\n",
       "      <td>Individual</td>\n",
       "      <td>Automatic</td>\n",
       "      <td>2</td>\n",
       "      <td>16.07</td>\n",
       "      <td>1995.0</td>\n",
       "      <td>181.00</td>\n",
       "      <td>5.0</td>\n",
       "    </tr>\n",
       "    <tr>\n",
       "      <th>...</th>\n",
       "      <td>...</td>\n",
       "      <td>...</td>\n",
       "      <td>...</td>\n",
       "      <td>...</td>\n",
       "      <td>...</td>\n",
       "      <td>...</td>\n",
       "      <td>...</td>\n",
       "      <td>...</td>\n",
       "      <td>...</td>\n",
       "      <td>...</td>\n",
       "      <td>...</td>\n",
       "      <td>...</td>\n",
       "      <td>...</td>\n",
       "    </tr>\n",
       "    <tr>\n",
       "      <th>6658</th>\n",
       "      <td>8023</td>\n",
       "      <td>Tata</td>\n",
       "      <td>2018</td>\n",
       "      <td>459999</td>\n",
       "      <td>35000</td>\n",
       "      <td>Petrol</td>\n",
       "      <td>Individual</td>\n",
       "      <td>Manual</td>\n",
       "      <td>1</td>\n",
       "      <td>17.57</td>\n",
       "      <td>1193.0</td>\n",
       "      <td>88.70</td>\n",
       "      <td>5.0</td>\n",
       "    </tr>\n",
       "    <tr>\n",
       "      <th>6659</th>\n",
       "      <td>8024</td>\n",
       "      <td>Tata</td>\n",
       "      <td>2017</td>\n",
       "      <td>400000</td>\n",
       "      <td>53000</td>\n",
       "      <td>Petrol</td>\n",
       "      <td>Individual</td>\n",
       "      <td>Manual</td>\n",
       "      <td>1</td>\n",
       "      <td>17.57</td>\n",
       "      <td>1193.0</td>\n",
       "      <td>88.70</td>\n",
       "      <td>5.0</td>\n",
       "    </tr>\n",
       "    <tr>\n",
       "      <th>6660</th>\n",
       "      <td>8025</td>\n",
       "      <td>Tata</td>\n",
       "      <td>2015</td>\n",
       "      <td>450000</td>\n",
       "      <td>40000</td>\n",
       "      <td>Petrol</td>\n",
       "      <td>Individual</td>\n",
       "      <td>Manual</td>\n",
       "      <td>1</td>\n",
       "      <td>17.57</td>\n",
       "      <td>1193.0</td>\n",
       "      <td>88.70</td>\n",
       "      <td>5.0</td>\n",
       "    </tr>\n",
       "    <tr>\n",
       "      <th>6661</th>\n",
       "      <td>8026</td>\n",
       "      <td>Tata</td>\n",
       "      <td>2015</td>\n",
       "      <td>500000</td>\n",
       "      <td>20000</td>\n",
       "      <td>Petrol</td>\n",
       "      <td>Individual</td>\n",
       "      <td>Manual</td>\n",
       "      <td>1</td>\n",
       "      <td>17.57</td>\n",
       "      <td>1193.0</td>\n",
       "      <td>88.70</td>\n",
       "      <td>5.0</td>\n",
       "    </tr>\n",
       "    <tr>\n",
       "      <th>6662</th>\n",
       "      <td>8027</td>\n",
       "      <td>Tata</td>\n",
       "      <td>2019</td>\n",
       "      <td>620000</td>\n",
       "      <td>100000</td>\n",
       "      <td>Petrol</td>\n",
       "      <td>Individual</td>\n",
       "      <td>Manual</td>\n",
       "      <td>1</td>\n",
       "      <td>17.57</td>\n",
       "      <td>1193.0</td>\n",
       "      <td>88.70</td>\n",
       "      <td>5.0</td>\n",
       "    </tr>\n",
       "  </tbody>\n",
       "</table>\n",
       "<p>6663 rows × 13 columns</p>\n",
       "</div>"
      ]
     },
     "execution_count": 6,
     "metadata": {},
     "output_type": "execute_result"
    }
   ],
   "execution_count": 6
  },
  {
   "metadata": {
    "ExecuteTime": {
     "end_time": "2025-02-06T17:44:26.656620Z",
     "start_time": "2025-02-06T17:44:26.628177Z"
    }
   },
   "cell_type": "code",
   "source": [
    "if 'Unnamed: 0' in df.columns:\n",
    "    df.drop('Unnamed: 0', axis=1, inplace=True)\n",
    "\n",
    "# Identify categorical and numerical features\n",
    "categorical_features = ['fuel', 'seller_type', 'transmission']\n",
    "numerical_features = ['year', 'km_driven', 'owner', 'mileage', 'engine', 'max_power', 'seats', 'brand_encoded']\n",
    "\n",
    "\n",
    "X = df.drop(columns=['selling_price'])\n",
    "y = df['selling_price']\n",
    "\n",
    "# Train-test split **AFTER dropping target**\n",
    "df_train, df_test, y_train, y_test = train_test_split(X, y, test_size=0.2, random_state=42)\n",
    "\n",
    "### Mean Encoding for `brand`\n",
    "brand_means = df_train.join(y_train).groupby('brand')['selling_price'].mean()\n",
    "\n",
    "df_train['brand_encoded'] = df_train['brand'].map(brand_means)\n",
    "df_test['brand_encoded'] = df_test['brand'].map(brand_means)\n",
    "\n",
    "# Fill NaN in test set (brands not seen in training)\n",
    "df_test['brand_encoded'] = df_test['brand_encoded'].fillna(brand_means.mean())\n",
    "\n",
    "# Drop the original `brand` column\n",
    "df_train.drop(columns=['brand'], inplace=True)\n",
    "df_test.drop(columns=['brand'], inplace=True)\n",
    "\n",
    "\n",
    "categorical_features = ['fuel', 'seller_type', 'transmission']\n",
    "numerical_features = ['year', 'km_driven', 'owner', 'mileage', 'engine', 'max_power', 'seats', 'brand_encoded']\n",
    "encoder = OneHotEncoder(sparse_output=False, drop='first', handle_unknown='ignore')  # Drop first to avoid multicollinearity\n",
    "df_train_encoded = encoder.fit_transform(df_train[categorical_features])\n",
    "df_test_encoded = encoder.transform(df_test[categorical_features])\n",
    "\n",
    "# Convert to DataFrame\n",
    "train_encoded_df = pd.DataFrame(df_train_encoded, columns=encoder.get_feature_names_out(categorical_features))\n",
    "test_encoded_df = pd.DataFrame(df_test_encoded, columns=encoder.get_feature_names_out(categorical_features))\n",
    "\n",
    "# Drop original categorical columns and replace with encoded\n",
    "df_train.drop(columns=categorical_features, inplace=True)\n",
    "df_test.drop(columns=categorical_features, inplace=True)\n",
    "\n",
    "df_train = pd.concat([df_train.reset_index(drop=True), train_encoded_df.reset_index(drop=True)], axis=1)\n",
    "df_test = pd.concat([df_test.reset_index(drop=True), test_encoded_df.reset_index(drop=True)], axis=1)\n",
    "\n",
    "###Scaling for Numerical Features\n",
    "scaler = StandardScaler()\n",
    "df_train[numerical_features] = scaler.fit_transform(df_train[numerical_features])\n",
    "df_test[numerical_features] = scaler.transform(df_test[numerical_features])  # Use the same scaler!\n",
    "\n",
    "# Final processed features\n",
    "X_train = df_train.values\n",
    "X_test = df_test.values\n",
    "\n",
    "###  Apply Log Transformation to `y`\n",
    "y_train = np.log1p(y_train)\n",
    "y_test = np.log1p(y_test)\n",
    "\n",
    "X_train.shape, X_test.shape, y_train.shape, y_test.shape"
   ],
   "id": "f4057c1de2d153c7",
   "outputs": [
    {
     "data": {
      "text/plain": [
       "((5330, 12), (1333, 12), (5330,), (1333,))"
      ]
     },
     "execution_count": 7,
     "metadata": {},
     "output_type": "execute_result"
    }
   ],
   "execution_count": 7
  },
  {
   "metadata": {
    "ExecuteTime": {
     "end_time": "2025-02-06T17:44:47.420884Z",
     "start_time": "2025-02-06T17:44:47.417146Z"
    }
   },
   "cell_type": "code",
   "source": "X_train",
   "id": "2e3c58f93e5511b8",
   "outputs": [
    {
     "data": {
      "text/plain": [
       "array([[ 0.35871623, -0.17436282, -0.68242219, ...,  1.        ,\n",
       "         0.        ,  1.        ],\n",
       "       [-0.93192608,  1.81913291,  0.67833736, ...,  1.        ,\n",
       "         0.        ,  1.        ],\n",
       "       [ 0.6168447 ,  0.54756156, -0.68242219, ...,  1.        ,\n",
       "         0.        ,  1.        ],\n",
       "       ...,\n",
       "       [-0.15754069, -0.3343347 , -0.68242219, ...,  1.        ,\n",
       "         0.        ,  1.        ],\n",
       "       [ 0.35871623, -0.99062959, -0.68242219, ...,  1.        ,\n",
       "         0.        ,  1.        ],\n",
       "       [ 0.35871623,  0.95774587, -0.68242219, ...,  1.        ,\n",
       "         0.        ,  1.        ]], shape=(5330, 12))"
      ]
     },
     "execution_count": 8,
     "metadata": {},
     "output_type": "execute_result"
    }
   ],
   "execution_count": 8
  },
  {
   "metadata": {
    "ExecuteTime": {
     "end_time": "2025-02-05T08:46:19.981488Z",
     "start_time": "2025-02-05T08:46:19.979165Z"
    }
   },
   "cell_type": "code",
   "source": "os.environ[\"LOGNAME\"] = \"st124783_darth_binit\"",
   "id": "911d4295f9d286c7",
   "outputs": [],
   "execution_count": 12
  },
  {
   "metadata": {},
   "cell_type": "markdown",
   "source": "## Grid Search and registering in Ml Flow",
   "id": "8d0a72a8b212734a"
  },
  {
   "metadata": {
    "ExecuteTime": {
     "end_time": "2025-02-05T08:47:27.032269Z",
     "start_time": "2025-02-05T08:47:27.017515Z"
    }
   },
   "cell_type": "code",
   "source": [
    "mlflow.set_tracking_uri(\"http://127.0.0.1:5001\")\n",
    "mlflow.set_experiment(\"A2_st124783_Chaky_car\")"
   ],
   "id": "ebea346c8d3ad615",
   "outputs": [
    {
     "data": {
      "text/plain": [
       "<Experiment: artifact_location='mlflow-artifacts:/1', creation_time=1738745213449, experiment_id='1', last_update_time=1738745213449, lifecycle_stage='active', name='A2_st124783_Chaky_car', tags={}>"
      ]
     },
     "execution_count": 14,
     "metadata": {},
     "output_type": "execute_result"
    }
   ],
   "execution_count": 14
  },
  {
   "metadata": {},
   "cell_type": "code",
   "source": [
    "regs = [\"MyRegression\", \"RidgeRegression\", \"LassoRegression\"]\n",
    "lr = [0.01, 0.001, 0.0001]\n",
    "weights = ['zeros', 'xavier', 'normal']\n",
    "methods = [\"batch\",\"mini_batch\", \"stochastic\"]\n",
    "momentum = [None, 0.8]\n",
    "degrees = [None, 2]  # Polynomial degrees\n",
    "\n",
    "# Initialize best models for tracking\n",
    "best_model_r2, best_r2, best_params_r2 = None, float('-inf'), None\n",
    "best_model_mse, best_mse, best_params_mse = None, float('inf'), None\n",
    "\n",
    "def run_experiment(reg, method, poly_degree, weight, momentum, lr, cv, use_mlflow):\n",
    "    \"\"\"Runs an ML experiment, logs results in MLflow, and tracks best models.\"\"\"\n",
    "    global best_model_r2, best_r2, best_model_mse, best_mse,  best_params_r2, best_params_mse# Track best models\n",
    "\n",
    "    poly_msg = \"Polynomial\" if poly_degree is not None else \"Linear\"\n",
    "    momentum_msg = \"Momentum is used\" if momentum is not None else \"Momentum is not used\"\n",
    "\n",
    "    params = {\n",
    "        \"method\": method, \"lr\": lr, \"weight_init\": weight, \"poly_degree\": poly_degree,\n",
    "        \"momentum\": momentum, \"cv\": cv, \"use_mlflow\": use_mlflow}\n",
    "\n",
    "    print(f\" Running {reg} | {method} | {poly_msg} | {weight} | {momentum_msg} | LR: {lr}\")\n",
    "\n",
    "    # Get Model Class\n",
    "    type_of_regression = str_to_class(reg)    \n",
    "    model = type_of_regression(**params)\n",
    "\n",
    "    with mlflow.start_run(run_name=f\"method-{method}-lr-{lr}-reg-{reg}-poly-{poly_msg}-momentum-{momentum_msg}-weight-{weight}\", nested=True):\n",
    "\n",
    "        # Train model\n",
    "        model.fit(X_train, y_train)\n",
    "\n",
    "        # Predictions\n",
    "        y_pred = model._predict(X_test)\n",
    "        \n",
    "        test_loss = model.mse(y_test, y_pred)\n",
    "        test_r2 = model.r2_score(y_test, y_pred)\n",
    "\n",
    "        # Log hyperparameters & metrics\n",
    "        mlflow.log_params(params)  \n",
    "        mlflow.log_metrics({\"test_mse\": test_loss, \"test_r2\": test_r2})\n",
    "\n",
    "        # Save Model Signature\n",
    "        signature = mlflow.models.infer_signature(X_train, model._predict(X_train))\n",
    "        mlflow.sklearn.log_model(model, artifact_path='model', signature=signature)\n",
    "\n",
    "        print(f\"✅ Fold: {method} | Model: {reg} | MSE: {test_loss:.4f} | R²: {test_r2:.4f}\")\n",
    "\n",
    "        # Track the Best Model Based on MSE (LOWER IS BETTER)\n",
    "        if test_loss < best_mse:\n",
    "            best_mse = test_loss\n",
    "            best_model_mse = model\n",
    "            best_params_mse = params \n",
    "\n",
    "        # Track the Best Model Based on R² Score (HIGHER IS BETTER)\n",
    "        if test_r2 > best_r2:\n",
    "            best_r2 = test_r2\n",
    "            best_model_r2 = model\n",
    "            best_params_r2 = params  # Save best hyperparameters for R²\n",
    "\n",
    "\n",
    "# Iterate over all hyperparameter combinations\n",
    "combinations_ = product(regs, methods, degrees, weights, momentum, lr)\n",
    "\n",
    "# Run all experiments\n",
    "for reg, method, poly_degree, weight, momentum, lr in combinations_:\n",
    "    run_experiment(reg, method, poly_degree, weight, momentum, lr, cv=5, use_mlflow=True)\n",
    "\n",
    "#Final Results: Best Models Based on MSE & R² Score\n",
    "print(f\"Best Model by R² Score: {best_model_r2} with R² Score: {best_r2:.4f}\")\n",
    "print(f\"Best Model by MSE: {best_model_mse} with MSE: {best_mse:.4f}\")\n",
    "\n",
    "mlflow.end_run()"
   ],
   "id": "492ed9c43f80a974",
   "outputs": [],
   "execution_count": null
  },
  {
   "metadata": {
    "ExecuteTime": {
     "end_time": "2025-02-05T10:10:05.718300Z",
     "start_time": "2025-02-05T10:10:05.715406Z"
    }
   },
   "cell_type": "code",
   "source": [
    "print('best model r2: ', best_model_r2)\n",
    "print('='*100)\n",
    "print('best model ms2: ', best_model_mse)\n",
    "print('='*100)\n",
    "print('best_mse_loss: ', best_params_r2)\n",
    "print('='*130)\n",
    "print('best_param_mse: ', best_params_mse)"
   ],
   "id": "209de7fc608f4e92",
   "outputs": [
    {
     "name": "stdout",
     "output_type": "stream",
     "text": [
      "best model r2:  <__main__.RidgeRegression object at 0x13fa6cc80>\n",
      "====================================================================================================\n",
      "best model ms2:  <__main__.RidgeRegression object at 0x13fa6cc80>\n",
      "====================================================================================================\n",
      "best_mse_loss:  {'method': 'mini_batch', 'lr': 0.01, 'weight_init': 'xavier', 'poly_degree': 2, 'momentum': 0.8, 'cv': 5, 'use_mlflow': True}\n",
      "==================================================================================================================================\n",
      "best_param_mse:  {'method': 'mini_batch', 'lr': 0.01, 'weight_init': 'xavier', 'poly_degree': 2, 'momentum': 0.8, 'cv': 5, 'use_mlflow': True}\n"
     ]
    }
   ],
   "execution_count": 55
  },
  {
   "metadata": {
    "ExecuteTime": {
     "end_time": "2025-02-06T17:46:05.547369Z",
     "start_time": "2025-02-06T17:46:05.544640Z"
    }
   },
   "cell_type": "code",
   "source": "model_R = RidgeRegression(cv=7, weight_init='xavier', lr=0.01,  method='mini_batch', poly_degree=2, momentum=0.8)",
   "id": "9f6a8db92f7e2a31",
   "outputs": [],
   "execution_count": 12
  },
  {
   "metadata": {
    "ExecuteTime": {
     "end_time": "2025-02-06T17:48:24.199411Z",
     "start_time": "2025-02-06T17:48:23.108119Z"
    }
   },
   "cell_type": "code",
   "source": "model_R.fit(X_train, y_train)",
   "id": "6a0c438a069f1cee",
   "outputs": [
    {
     "name": "stdout",
     "output_type": "stream",
     "text": [
      "0 --> train_loss: 0.667 | train_accuracy: -0.1085 | val_loss: 0.0931 | val_accuracy: 0.8297\n",
      "1 --> train_loss: 0.512 | train_accuracy: 0.0631 | val_loss: 0.5314 | val_accuracy: 0.0481\n",
      "2 --> train_loss: 0.511 | train_accuracy: 0.0306 | val_loss: 0.0856 | val_accuracy: 0.8420\n",
      "3 --> train_loss: 0.488 | train_accuracy: 0.0432 | val_loss: 0.0944 | val_accuracy: 0.8320\n",
      "4 --> train_loss: 0.454 | train_accuracy: 0.1088 | val_loss: 0.0862 | val_accuracy: 0.8417\n",
      "5 --> train_loss: 0.444 | train_accuracy: 0.1454 | val_loss: 0.0766 | val_accuracy: 0.8617\n",
      "6 --> train_loss: 0.426 | train_accuracy: 0.1821 | val_loss: 0.0819 | val_accuracy: 0.8526\n"
     ]
    }
   ],
   "execution_count": 19
  },
  {
   "metadata": {
    "ExecuteTime": {
     "end_time": "2025-02-06T17:47:37.127869Z",
     "start_time": "2025-02-06T17:47:37.126189Z"
    }
   },
   "cell_type": "code",
   "source": "",
   "id": "8cc4d4e2102ca0b2",
   "outputs": [],
   "execution_count": 15
  },
  {
   "metadata": {},
   "cell_type": "markdown",
   "source": "#### Ridge looks more stable in terms of loss reduction and also in terms of accuracy in both training and validation ",
   "id": "b05c46a3acf82107"
  },
  {
   "metadata": {
    "ExecuteTime": {
     "end_time": "2025-02-05T13:55:34.840238Z",
     "start_time": "2025-02-05T13:55:33.741703Z"
    }
   },
   "cell_type": "code",
   "source": [
    "model_L = LassoRegression(cv=7, weight_init='xavier', lr=0.01,  method='mini_batch', poly_degree=2, momentum=0.8)\n",
    "model_L.fit(X_train, y_train)"
   ],
   "id": "ebd5722d83102a7b",
   "outputs": [
    {
     "name": "stdout",
     "output_type": "stream",
     "text": [
      "0 --> train_loss: 0.348 | train_accuracy: 0.3634 | val_loss: 0.0798 | val_accuracy: 0.8539\n",
      "1 --> train_loss: 0.368 | train_accuracy: 0.2854 | val_loss: 0.0829 | val_accuracy: 0.8515\n",
      "2 --> train_loss: 0.426 | train_accuracy: 0.1560 | val_loss: 0.0827 | val_accuracy: 0.8473\n",
      "3 --> train_loss: 0.416 | train_accuracy: 0.1733 | val_loss: 0.0956 | val_accuracy: 0.8300\n",
      "4 --> train_loss: 0.396 | train_accuracy: 0.2117 | val_loss: 0.3382 | val_accuracy: 0.3792\n",
      "5 --> train_loss: 0.402 | train_accuracy: 0.2065 | val_loss: 0.2441 | val_accuracy: 0.5595\n",
      "6 --> train_loss: 0.389 | train_accuracy: 0.2081 | val_loss: 0.1383 | val_accuracy: 0.7510\n"
     ]
    }
   ],
   "execution_count": 18
  },
  {
   "metadata": {
    "ExecuteTime": {
     "end_time": "2025-02-05T13:58:35.148376Z",
     "start_time": "2025-02-05T13:58:35.145674Z"
    }
   },
   "cell_type": "code",
   "source": [
    "print('model_L: Coef', model_R._coef())\n",
    "print('='*100)\n",
    "print('model_R: Coef', model_L._coef())"
   ],
   "id": "31b443b19485cc1b",
   "outputs": [
    {
     "name": "stdout",
     "output_type": "stream",
     "text": [
      "model_L: Coef [ 0.40863739 -0.04156177 -0.04281289  0.07035221  0.05547425  0.33683872\n",
      "  0.09458995  0.22265857  0.00648576 -0.1379079   0.07093793  0.08612269\n",
      "  0.0245084   0.01121755  0.00540981 -0.00984661  0.01297824 -0.06302001\n",
      " -0.02220666 -0.05055066 -0.16112152  0.09332943  0.18660732 -0.19209473]\n",
      "====================================================================================================\n",
      "model_R: Coef [ 0.40444856 -0.03686537 -0.03746032  0.06791344  0.05985427  0.33512169\n",
      "  0.09035153  0.23459641 -0.14091792 -0.15569431  0.15447293 -0.22372469\n",
      "  0.00655812  0.05484538 -0.00667611 -0.03182224 -0.00386638 -0.04803368\n",
      " -0.02532472 -0.02684442  0.00077207  0.09624501  0.06210705  0.10080709]\n"
     ]
    }
   ],
   "execution_count": 28
  },
  {
   "metadata": {
    "ExecuteTime": {
     "end_time": "2025-02-05T13:58:46.660713Z",
     "start_time": "2025-02-05T13:58:46.540127Z"
    }
   },
   "cell_type": "code",
   "source": "model_L.plot_feature_importance(df_train.columns)",
   "id": "ea90d95d380d7f68",
   "outputs": [
    {
     "name": "stderr",
     "output_type": "stream",
     "text": [
      "/var/folders/8j/ndxdwkv11mg2yfgyrfgqxrwr0000gn/T/ipykernel_5602/4265555425.py:223: FutureWarning: \n",
      "\n",
      "Passing `palette` without assigning `hue` is deprecated and will be removed in v0.14.0. Assign the `y` variable to `hue` and set `legend=False` for the same effect.\n",
      "\n",
      "  ax = sns.barplot(x=coefs_df[\"Importance\"], y=coefs_df[\"Feature\"], palette=colors)\n"
     ]
    },
    {
     "data": {
      "text/plain": [
       "<Figure size 1200x600 with 1 Axes>"
      ],
      "image/png": "[encoded data removed]"
     },
     "metadata": {},
     "output_type": "display_data"
    }
   ],
   "execution_count": 29
  },
  {
   "metadata": {
    "ExecuteTime": {
     "end_time": "2025-02-05T18:20:00.778808Z",
     "start_time": "2025-02-05T18:20:00.777332Z"
    }
   },
   "cell_type": "code",
   "source": "",
   "id": "b757baa5caf948ef",
   "outputs": [],
   "execution_count": 3
  },
  {
   "metadata": {},
   "cell_type": "markdown",
   "source": "## Inference",
   "id": "c0238beb49593789"
  },
  {
   "metadata": {},
   "cell_type": "code",
   "source": [
    "val = np.array(['Audi', 2015, 51000, 'Diesel', 'Trustmark Dealer', 'Automatic', 1, 20, 2000, 160, 7])\n",
    "# Convert input to a DataFrame\n",
    "columns = ['brand', 'year', 'km_driven', 'fuel', 'seller_type',\n",
    "           'transmission', 'owner', 'mileage', 'engine', 'max_power', 'seats']\n",
    "val = pd.DataFrame([val], columns=columns)\n",
    "print(val)\n",
    "# Mean Encoding for 'brand'\n",
    "val['brand_encoded'] = val['brand'].map(brand_means)\n",
    "\n",
    "# Handle unseen brands\n",
    "if val['brand_encoded'].isnull().any():\n",
    "    val['brand_encoded'] = val['brand_encoded'].fillna(brand_means.mean())\n",
    "\n",
    "# Drop original 'brand' column\n",
    "val.drop(columns=['brand'], inplace=True)\n",
    "\n",
    "# One-Hot Encoding for Categorical Features\n",
    "val_encoded = encoder.transform(val[categorical_features])\n",
    "val_encoded_df = pd.DataFrame(val_encoded, columns=encoder.get_feature_names_out(categorical_features))\n",
    "\n",
    "# Drop categorical columns from `val`\n",
    "val.drop(columns=categorical_features, inplace=True)\n",
    "\n",
    "#  Merge Encoded Categorical Features Back\n",
    "val = pd.concat([val.reset_index(drop=True), val_encoded_df.reset_index(drop=True)], axis=1)\n",
    "print(val)\n",
    "# Scale Numerical Features Without Overwriting `val`\n",
    "val[numerical_features] = scaler.transform(val[numerical_features])\n",
    "\n",
    "print(val)\n",
    "# Get Final Processed Features\n",
    "val_final = val.values\n",
    "\n",
    "\n",
    "predicted_price = np.expm1(model_L._predict(val_final))\n",
    "\n",
    "print(f\"Predicted Price: {predicted_price.item():,.2f}\")"
   ],
   "id": "7aadc97b5b12f9c6",
   "outputs": [],
   "execution_count": null
  },
  {
   "metadata": {},
   "cell_type": "markdown",
   "source": "## Pickle to transfer the model ",
   "id": "4f665898847da4a"
  },
  {
   "metadata": {
    "ExecuteTime": {
     "end_time": "2025-02-05T14:01:58.669097Z",
     "start_time": "2025-02-05T14:01:58.665129Z"
    }
   },
   "cell_type": "code",
   "source": "joblib.dump(encoder, 'encoder.pkl')",
   "id": "fb7122caf9430206",
   "outputs": [
    {
     "data": {
      "text/plain": [
       "['encoder.pkl']"
      ]
     },
     "execution_count": 36,
     "metadata": {},
     "output_type": "execute_result"
    }
   ],
   "execution_count": 36
  },
  {
   "metadata": {
    "ExecuteTime": {
     "end_time": "2025-02-05T14:18:38.961557Z",
     "start_time": "2025-02-05T14:18:38.947554Z"
    }
   },
   "cell_type": "code",
   "source": "joblib.dump(model_L , 'myregression_lasso.pkl' )",
   "id": "f84aab5ec8e5b59e",
   "outputs": [
    {
     "data": {
      "text/plain": [
       "['myregression_lasso.pkl']"
      ]
     },
     "execution_count": 37,
     "metadata": {},
     "output_type": "execute_result"
    }
   ],
   "execution_count": 37
  },
  {
   "metadata": {
    "ExecuteTime": {
     "end_time": "2025-02-05T15:35:50.521781Z",
     "start_time": "2025-02-05T15:35:50.517980Z"
    }
   },
   "cell_type": "code",
   "source": "joblib.dump(scaler, 'scaler1.pkl')",
   "id": "abab92dd0e858f8e",
   "outputs": [
    {
     "data": {
      "text/plain": [
       "['scaler1.pkl']"
      ]
     },
     "execution_count": 46,
     "metadata": {},
     "output_type": "execute_result"
    }
   ],
   "execution_count": 46
  },
  {
   "metadata": {},
   "cell_type": "markdown",
   "source": [
    "# Findings\n",
    "\n",
    "#### 1. First, the author has created two version of working file, one using torch tensor and other numpy. Since author used 32 float default as a precision point in torch, numpy has an edge here with 64 floating precision. Basically idea was to use torch so that we can access gpu of arm based m3 chip. Later author found out too tedious but learned many thing in process, in  a smaller dataset like our Car, cpu performs way better..!! \n",
    "#### 2. Author checked the statistical features of data with km being right skewed --> applied log transform | and kms and max_driven being slightly left skewed so in tensor file author did seperate log transform and used minmax scaler for not so normal dist. data. But since we are using polynomial in our case raising to power of 2, author feels non linearity can be captured. So in this working file he didn't seperately transform any data.\n",
    "#### 3. About the feature selection, author used two method one is Embedded method where author used sklearn regression model to see which are the important features so only [7,9,11] were shown and other he used statistical F test to determine feature importance where only 3rd and 9th feature were excluded. Author tried to train model excluding those features but got no improved performance.\n",
    "#### 4. Author found out, there is gradient exploding problem in stochastic, as weights are updated per sample/row so it created a lot of problem while training the data, even in batch, mini_batch, we had some explosion so author decided to use clipping mechanism to limit the range of the wieght and also add weight decay. A better solution later author found out could be using some other mechanism of adam, rmsprop which are yet be learnt. \n",
    "#### 5. Regularization definetly hepls in stabilizing the model, the overfitting is largely reduced, model starts to generalize the data points, also with smaller learning rates it the training happens much slower as weights are updated accordingly. So in stochastic having higher learning rate does helps to prevent weights from explosion.\n",
    "#### 6. The xavier and normal weight intialization definetly helped in terms of vanishing gradients problem and slow convergence to optimal weights. \n",
    "#### 7. The momentum just speeds up the convergence process we can see that while training model too, normally within 2 folds there was a big drop in mse  \n",
    "#### 8. Want to ask Professor... why does loss and r2_score suddenly get spiked after 5 or 6 fold, is it overfitting and not generalizing the data points  "
   ],
   "id": "836004938a4e663b"
  },
  {
   "metadata": {
    "ExecuteTime": {
     "end_time": "2025-02-05T17:57:05.610772Z",
     "start_time": "2025-02-05T17:57:05.608872Z"
    }
   },
   "cell_type": "code",
   "source": "",
   "id": "ab61fdf2c8a0cec4",
   "outputs": [],
   "execution_count": 2
  },
  {
   "metadata": {},
   "cell_type": "code",
   "outputs": [],
   "execution_count": null,
   "source": "",
   "id": "e5fe8e361c6713fe"
  }
 ],
 "metadata": {
  "kernelspec": {
   "display_name": "Python 3",
   "language": "python",
   "name": "python3"
  },
  "language_info": {
   "codemirror_mode": {
    "name": "ipython",
    "version": 2
   },
   "file_extension": ".py",
   "mimetype": "text/x-python",
   "name": "python",
   "nbconvert_exporter": "python",
   "pygments_lexer": "ipython2",
   "version": "2.7.6"
  }
 },
 "nbformat": 4,
 "nbformat_minor": 5
}
